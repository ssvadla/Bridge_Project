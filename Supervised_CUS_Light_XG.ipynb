{
  "nbformat": 4,
  "nbformat_minor": 0,
  "metadata": {
    "colab": {
      "name": "Supervised_CUS_Light_XG.ipynb",
      "provenance": [],
      "collapsed_sections": [],
      "authorship_tag": "ABX9TyNvW8PlHqxMqbnAC1NN1w3z",
      "include_colab_link": true
    },
    "kernelspec": {
      "name": "python3",
      "display_name": "Python 3"
    },
    "language_info": {
      "name": "python"
    }
  },
  "cells": [
    {
      "cell_type": "markdown",
      "metadata": {
        "id": "view-in-github",
        "colab_type": "text"
      },
      "source": [
        "<a href=\"https://colab.research.google.com/github/ssvadla/Bridge_Project/blob/main/Supervised_CUS_Light_XG.ipynb\" target=\"_parent\"><img src=\"https://colab.research.google.com/assets/colab-badge.svg\" alt=\"Open In Colab\"/></a>"
      ]
    },
    {
      "cell_type": "code",
      "metadata": {
        "colab": {
          "base_uri": "https://localhost:8080/"
        },
        "id": "SA-WFO4jN_FT",
        "outputId": "0c777eb0-6620-4f7d-8ffa-6b84979e74be"
      },
      "source": [
        "import pandas as pd\n",
        "import time\n",
        "import numpy as np\n",
        "from google.colab import drive\n",
        "\n",
        "drive.mount('/content/drive')"
      ],
      "execution_count": null,
      "outputs": [
        {
          "output_type": "stream",
          "name": "stdout",
          "text": [
            "Mounted at /content/drive\n"
          ]
        }
      ]
    },
    {
      "cell_type": "code",
      "metadata": {
        "id": "6ko57kYHOEP5"
      },
      "source": [
        "train = pd.read_csv('/content/drive/My Drive/Bridge_Project/ConterminousUS/ConterminousUSPre.csv')"
      ],
      "execution_count": null,
      "outputs": []
    },
    {
      "cell_type": "code",
      "metadata": {
        "colab": {
          "base_uri": "https://localhost:8080/"
        },
        "id": "2g-X-u_5OL0L",
        "outputId": "ece7f046-279d-493b-9aaa-c59df88d09d8"
      },
      "source": [
        "train.columns"
      ],
      "execution_count": null,
      "outputs": [
        {
          "output_type": "execute_result",
          "data": {
            "text/plain": [
              "Index(['Unnamed: 0', 'Skew', 'Number_Spans', 'Length_Max_Span',\n",
              "       'Main_Design_Type', 'Deck_Design_Type', 'Wearing_Surface',\n",
              "       'Deck_Protection', 'ADT', 'ADTT', 'State', 'Structure_Number',\n",
              "       'Latitude', 'Longitude', 'Deck_Condition', 'Superstructure_Condition',\n",
              "       'Substructure_Condition', 'Freq_Shake_GT4', 'Max_Shake',\n",
              "       'Days_MinLT_0F', 'Days_MinLT_32F', 'Days_MaxGT_70F', 'Days_MaxGT_90F',\n",
              "       'Avg_Wind_Speed', 'Peak_Wind_Speed', 'Precipitation', 'Temp_Max',\n",
              "       'Temp_Mean', 'Temp_Min', 'Reconstructed', 'Age', 'Deck_Area'],\n",
              "      dtype='object')"
            ]
          },
          "metadata": {},
          "execution_count": 3
        }
      ]
    },
    {
      "cell_type": "code",
      "metadata": {
        "id": "36dwEyP2ONO3"
      },
      "source": [
        "Excluded_columns = ['Unnamed: 0','State', 'Structure_Number', 'Latitude', 'Longitude', 'Superstructure_Condition', 'Substructure_Condition']"
      ],
      "execution_count": null,
      "outputs": []
    },
    {
      "cell_type": "code",
      "metadata": {
        "id": "LFyr9XbZO7pV"
      },
      "source": [
        "train = train.drop(columns = Excluded_columns)"
      ],
      "execution_count": null,
      "outputs": []
    },
    {
      "cell_type": "code",
      "metadata": {
        "colab": {
          "base_uri": "https://localhost:8080/"
        },
        "id": "z_rXnq0KPA9A",
        "outputId": "0f45a567-46d6-4d97-a359-f0fddb8f2825"
      },
      "source": [
        "train.shape"
      ],
      "execution_count": null,
      "outputs": [
        {
          "output_type": "execute_result",
          "data": {
            "text/plain": [
              "(409546, 25)"
            ]
          },
          "metadata": {},
          "execution_count": 6
        }
      ]
    },
    {
      "cell_type": "code",
      "metadata": {
        "id": "v-fjzZ_cQMHm"
      },
      "source": [
        "from sklearn import preprocessing\n",
        "le = preprocessing.LabelEncoder()\n",
        "train['Main_Design_Type_Encoded'] = le.fit_transform(train['Main_Design_Type'])\n",
        "train['Deck_Design_Type_Encoded'] = le.fit_transform(train['Deck_Design_Type'])\n",
        "train['Wearing_Surface_Encoded'] = le.fit_transform(train['Wearing_Surface'])\n",
        "train['Deck_Protection_Encoded'] = le.fit_transform(train['Deck_Protection'])"
      ],
      "execution_count": null,
      "outputs": []
    },
    {
      "cell_type": "code",
      "metadata": {
        "id": "enYZo-ONPCqC"
      },
      "source": [
        "import lightgbm as lgb\n",
        "classifier_lgb = lgb.LGBMClassifier()"
      ],
      "execution_count": null,
      "outputs": []
    },
    {
      "cell_type": "code",
      "metadata": {
        "id": "-4KWHctoQczx"
      },
      "source": [
        "X = train.drop(columns=['Deck_Condition','Main_Design_Type','Deck_Design_Type','Wearing_Surface','Deck_Protection']) \n"
      ],
      "execution_count": null,
      "outputs": []
    },
    {
      "cell_type": "code",
      "metadata": {
        "id": "DyfHOb3uQvEH"
      },
      "source": [
        "y = train['Deck_Condition']"
      ],
      "execution_count": null,
      "outputs": []
    },
    {
      "cell_type": "code",
      "metadata": {
        "colab": {
          "base_uri": "https://localhost:8080/"
        },
        "id": "9_sVtbkNQ6qp",
        "outputId": "cdbf0e2c-3ee9-4253-d51d-db76262a5c1d"
      },
      "source": [
        "X.shape"
      ],
      "execution_count": null,
      "outputs": [
        {
          "output_type": "execute_result",
          "data": {
            "text/plain": [
              "(409546, 24)"
            ]
          },
          "metadata": {},
          "execution_count": 11
        }
      ]
    },
    {
      "cell_type": "code",
      "metadata": {
        "id": "851f6KMAACgh"
      },
      "source": [
        ""
      ],
      "execution_count": null,
      "outputs": []
    },
    {
      "cell_type": "code",
      "metadata": {
        "id": "n-HPi8M4xOMU"
      },
      "source": [
        "Extra_Excluded = ['Freq_Shake_GT4','Max_Shake','Days_MinLT_32F','Days_MaxGT_70F','Temp_Max','Temp_Mean','Temp_Min']"
      ],
      "execution_count": null,
      "outputs": []
    },
    {
      "cell_type": "code",
      "metadata": {
        "id": "2JK6wWGNyCTj"
      },
      "source": [
        "X = X.drop(columns = Extra_Excluded)"
      ],
      "execution_count": null,
      "outputs": []
    },
    {
      "cell_type": "code",
      "metadata": {
        "colab": {
          "base_uri": "https://localhost:8080/"
        },
        "id": "5dvxQseMxW1x",
        "outputId": "f721e3f7-4139-4f8f-fc98-bcb64b378a51"
      },
      "source": [
        "X.shape"
      ],
      "execution_count": null,
      "outputs": [
        {
          "output_type": "execute_result",
          "data": {
            "text/plain": [
              "(409546, 17)"
            ]
          },
          "metadata": {},
          "execution_count": 14
        }
      ]
    },
    {
      "cell_type": "code",
      "metadata": {
        "id": "se7RkDx2yT3j"
      },
      "source": [
        "from sklearn.model_selection import train_test_split\n",
        "X_train, x_test, Y_train, y_test = train_test_split(X,y,test_size=0.20,random_state=42)\n"
      ],
      "execution_count": null,
      "outputs": []
    },
    {
      "cell_type": "code",
      "metadata": {
        "colab": {
          "base_uri": "https://localhost:8080/"
        },
        "id": "Z5B3wHrNQy4-",
        "outputId": "9c1e1280-d4a4-4b72-9b13-1581469fee25"
      },
      "source": [
        "start = time.time()\n",
        "classifier_lgb.fit(X_train, Y_train)\n",
        "end = time.time()\n",
        "print(f\"Runtime of the program is {end - start}\")"
      ],
      "execution_count": null,
      "outputs": [
        {
          "output_type": "stream",
          "name": "stdout",
          "text": [
            "Runtime of the program is 46.0567090511322\n"
          ]
        }
      ]
    },
    {
      "cell_type": "code",
      "metadata": {
        "id": "0vQC9TqGQ5OW"
      },
      "source": [
        "# test = pd.read_csv('/content/drive/My Drive/Bridge_Project/Dataset_1/ConterminousUSPre5StatesKnownTest.csv')"
      ],
      "execution_count": null,
      "outputs": []
    },
    {
      "cell_type": "code",
      "metadata": {
        "id": "CCGbvx_yRbJS"
      },
      "source": [
        "# test = test.drop(columns = Excluded_columns)"
      ],
      "execution_count": null,
      "outputs": []
    },
    {
      "cell_type": "code",
      "metadata": {
        "id": "snu51WwPRFni"
      },
      "source": [
        "# test['Main_Design_Type_Encoded'] = le.fit_transform(test['Main_Design_Type'])\n",
        "# test['Deck_Design_Type_Encoded'] = le.fit_transform(test['Deck_Design_Type'])\n",
        "# test['Wearing_Surface_Encoded'] = le.fit_transform(test['Wearing_Surface'])\n",
        "# test['Deck_Protection_Encoded'] = le.fit_transform(test['Deck_Protection'])"
      ],
      "execution_count": null,
      "outputs": []
    },
    {
      "cell_type": "code",
      "metadata": {
        "id": "_sxZ56AaRLKA"
      },
      "source": [
        "# X_test = test.drop(columns=['Deck_Condition','Main_Design_Type','Deck_Design_Type','Wearing_Surface','Deck_Protection']) \n"
      ],
      "execution_count": null,
      "outputs": []
    },
    {
      "cell_type": "code",
      "metadata": {
        "id": "qAACRiVwRRP9"
      },
      "source": [
        "# y_test = test['Deck_Condition']"
      ],
      "execution_count": null,
      "outputs": []
    },
    {
      "cell_type": "code",
      "metadata": {
        "id": "6jwhp_QKRUXu"
      },
      "source": [
        "# X_test.shape"
      ],
      "execution_count": null,
      "outputs": []
    },
    {
      "cell_type": "code",
      "metadata": {
        "id": "znDPaZoyRWJt"
      },
      "source": [
        "test_pred = classifier_lgb.predict(x_test)"
      ],
      "execution_count": null,
      "outputs": []
    },
    {
      "cell_type": "code",
      "metadata": {
        "id": "3UQjabf-RlRi"
      },
      "source": [
        "from sklearn.metrics import classification_report\n",
        "classification_report = classification_report(y_test,test_pred, digits=4)"
      ],
      "execution_count": null,
      "outputs": []
    },
    {
      "cell_type": "code",
      "metadata": {
        "colab": {
          "base_uri": "https://localhost:8080/"
        },
        "id": "lYERvKmERr3t",
        "outputId": "02fcf149-6d6e-4b08-d1f3-43aa67680d73"
      },
      "source": [
        "print(classification_report)"
      ],
      "execution_count": null,
      "outputs": [
        {
          "output_type": "stream",
          "name": "stdout",
          "text": [
            "              precision    recall  f1-score   support\n",
            "\n",
            "           0     0.0000    0.0000    0.0000        46\n",
            "           1     0.0000    0.0000    0.0000         4\n",
            "           2     0.0041    0.0476    0.0076        21\n",
            "           3     0.2672    0.0957    0.1409       324\n",
            "           4     0.3673    0.0096    0.0188      1866\n",
            "           5     0.4188    0.1812    0.2530      8924\n",
            "           6     0.4456    0.4481    0.4469     19429\n",
            "           7     0.5871    0.7670    0.6651     33882\n",
            "           8     0.5706    0.3818    0.4575     10470\n",
            "           9     0.5865    0.4162    0.4869      1646\n",
            "           N     0.9180    0.9219    0.9199      5298\n",
            "\n",
            "    accuracy                         0.5607     81910\n",
            "   macro avg     0.3787    0.2972    0.3088     81910\n",
            "weighted avg     0.5477    0.5607    0.5374     81910\n",
            "\n"
          ]
        }
      ]
    },
    {
      "cell_type": "code",
      "metadata": {
        "colab": {
          "base_uri": "https://localhost:8080/"
        },
        "id": "tX-JErzURtvc",
        "outputId": "f164fd94-22f3-4ee9-c865-c89cc24de07f"
      },
      "source": [
        "from xgboost import XGBClassifier\n",
        "\n",
        "from sklearn.metrics import classification_report\n",
        "classifier_xg = XGBClassifier()\n",
        "start = time.time()\n",
        "classifier_xg.fit(X_train, Y_train)\n",
        "end = time.time()\n",
        "test_pred_xg = classifier_xg.predict(x_test)\n",
        "classification_report_xg = classification_report(y_test,test_pred_xg, digits=4)\n",
        "print(f\"Runtime of the program is {end - start}\")\n",
        "print(classification_report_xg)"
      ],
      "execution_count": null,
      "outputs": [
        {
          "output_type": "stream",
          "name": "stderr",
          "text": [
            "/usr/local/lib/python3.7/dist-packages/sklearn/metrics/_classification.py:1272: UndefinedMetricWarning: Precision and F-score are ill-defined and being set to 0.0 in labels with no predicted samples. Use `zero_division` parameter to control this behavior.\n",
            "  _warn_prf(average, modifier, msg_start, len(result))\n"
          ]
        },
        {
          "output_type": "stream",
          "name": "stdout",
          "text": [
            "Runtime of the program is 273.0328462123871\n",
            "              precision    recall  f1-score   support\n",
            "\n",
            "           0     0.0000    0.0000    0.0000        46\n",
            "           1     0.0000    0.0000    0.0000         4\n",
            "           2     0.0000    0.0000    0.0000        21\n",
            "           3     0.0000    0.0000    0.0000       324\n",
            "           4     0.0000    0.0000    0.0000      1866\n",
            "           5     0.3955    0.1022    0.1624      8924\n",
            "           6     0.4206    0.3904    0.4050     19429\n",
            "           7     0.5525    0.8099    0.6569     33882\n",
            "           8     0.5469    0.2938    0.3823     10470\n",
            "           9     0.6103    0.2369    0.3414      1646\n",
            "           N     0.8630    0.9190    0.8901      5298\n",
            "\n",
            "    accuracy                         0.5405     81910\n",
            "   macro avg     0.3081    0.2502    0.2580     81910\n",
            "weighted avg     0.5094    0.5405    0.4988     81910\n",
            "\n"
          ]
        }
      ]
    },
    {
      "cell_type": "code",
      "metadata": {
        "colab": {
          "base_uri": "https://localhost:8080/"
        },
        "id": "CIFbL12bSjRP",
        "outputId": "16873efe-0de9-40d3-bee4-751c5fdd97a0"
      },
      "source": [
        "from sklearn.ensemble import RandomForestClassifier\n",
        "classifier_rf = RandomForestClassifier(n_estimators = 350, criterion = 'gini', max_features = 'auto', random_state = 42)\n",
        "start = time.time()\n",
        "classifier_rf.fit(X_train, Y_train)\n",
        "end = time.time()\n",
        "test_pred_rf = classifier_rf.predict(x_test)\n",
        "classification_report_rf = classification_report(y_test,test_pred_rf, digits=4)\n",
        "print(f\"Runtime of the program is {end - start}\")\n",
        "print(classification_report_rf)"
      ],
      "execution_count": null,
      "outputs": [
        {
          "output_type": "stream",
          "name": "stderr",
          "text": [
            "/usr/local/lib/python3.7/dist-packages/sklearn/metrics/_classification.py:1272: UndefinedMetricWarning: Precision and F-score are ill-defined and being set to 0.0 in labels with no predicted samples. Use `zero_division` parameter to control this behavior.\n",
            "  _warn_prf(average, modifier, msg_start, len(result))\n"
          ]
        },
        {
          "output_type": "stream",
          "name": "stdout",
          "text": [
            "Runtime of the program is 422.67723536491394\n",
            "              precision    recall  f1-score   support\n",
            "\n",
            "           0     1.0000    0.0217    0.0426        46\n",
            "           1     0.0000    0.0000    0.0000         4\n",
            "           2     0.0000    0.0000    0.0000        21\n",
            "           3     0.6818    0.0926    0.1630       324\n",
            "           4     0.5027    0.0991    0.1656      1866\n",
            "           5     0.4879    0.3384    0.3996      8924\n",
            "           6     0.5273    0.5290    0.5281     19429\n",
            "           7     0.6492    0.7885    0.7121     33882\n",
            "           8     0.6468    0.5184    0.5755     10470\n",
            "           9     0.7333    0.4544    0.5611      1646\n",
            "           N     0.9444    0.9362    0.9403      5298\n",
            "\n",
            "    accuracy                         0.6271     81910\n",
            "   macro avg     0.5612    0.3435    0.3716     81910\n",
            "weighted avg     0.6200    0.6271    0.6135     81910\n",
            "\n"
          ]
        }
      ]
    },
    {
      "cell_type": "code",
      "metadata": {
        "id": "jSCesGgJXP8N"
      },
      "source": [
        "from sklearn import svm\n",
        "classifier_svm = svm.SVC(decision_function_shape='ovo')\n",
        "start = time.time()\n",
        "classifier_svm.fit(X_train, Y_train)\n",
        "end = time.time()\n",
        "test_pred_svm = classifier_svm.predict(x_test)\n",
        "classification_report_svm = classification_report(y_test,test_pred_svm, digits=4)\n",
        "print(f\"Runtime of the program is {end - start}\")\n",
        "print(classification_report_svm)"
      ],
      "execution_count": null,
      "outputs": []
    },
    {
      "cell_type": "code",
      "metadata": {
        "id": "OQwr5LcuX0O5"
      },
      "source": [
        ""
      ],
      "execution_count": null,
      "outputs": []
    }
  ]
}