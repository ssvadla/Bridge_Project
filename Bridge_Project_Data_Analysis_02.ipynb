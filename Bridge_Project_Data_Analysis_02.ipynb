{
  "nbformat": 4,
  "nbformat_minor": 0,
  "metadata": {
    "colab": {
      "name": "Bridge_Project_Data_Analysis_02.ipynb",
      "provenance": [],
      "collapsed_sections": [],
      "authorship_tag": "ABX9TyNtS30/7hwIxo/UmhjKc2Jp",
      "include_colab_link": true
    },
    "kernelspec": {
      "name": "python3",
      "display_name": "Python 3"
    },
    "language_info": {
      "name": "python"
    }
  },
  "cells": [
    {
      "cell_type": "markdown",
      "metadata": {
        "id": "view-in-github",
        "colab_type": "text"
      },
      "source": [
        "<a href=\"https://colab.research.google.com/github/ssvadla/Bridge_Project/blob/main/Bridge_Project_Data_Analysis_02.ipynb\" target=\"_parent\"><img src=\"https://colab.research.google.com/assets/colab-badge.svg\" alt=\"Open In Colab\"/></a>"
      ]
    },
    {
      "cell_type": "code",
      "metadata": {
        "colab": {
          "base_uri": "https://localhost:8080/"
        },
        "id": "4e2FQOMmC70C",
        "outputId": "82aaa80e-c184-44cc-8d75-c8d7bbbcbc8f"
      },
      "source": [
        "!pip install geopandas\n",
        "import geopandas as gpd\n",
        "import os\n",
        "import pandas as pd\n",
        "import numpy as np \n",
        "\n",
        "from google.colab import drive\n",
        "drive.mount('/content/drive')\n",
        "\n",
        "shape_files = []\n",
        "\n",
        "data_frames_list = []\n",
        "data_frames_shape_list = []\n",
        "data_frames_rows_list = []\n",
        "data_frames_cols_list = []\n",
        "state_name_dict_cols = { }\n",
        "root_path = '/content/drive/My Drive/Bridge_Project/Bridge_Data/'\n",
        "\n",
        "content_list = os.listdir(root_path)\n",
        "print(\"content_list = \",len(content_list))\n",
        "\n",
        "\n",
        "\n",
        "for i in content_list:\n",
        "  split = i.split(\".\")\n",
        "  if split[1] == 'shp' and len(split) == 2:\n",
        "    shape_files.append(i)\n",
        "\n",
        "shape_files.sort()\n",
        "print(\"shape_files = \",len(shape_files))\n",
        "\n",
        "for i in shape_files:\n",
        "\n",
        "  shp_file_path = root_path + i\n",
        "  print(shp_file_path)\n",
        "  df = gpd.read_file(shp_file_path)  \n",
        "  data_frames_list.append(df)\n",
        "  state_name_dict_cols[i] = [ df.shape[0], df.shape[1] ] #write to file\n",
        "  data_frames_shape_list.append(df.shape) #file\n",
        "  data_frames_rows_list.append(df.shape[0]) # file\n",
        "  data_frames_cols_list.append(df.shape[1]) #file\n",
        "\n",
        "if np.unique(data_frames_cols_list) != 138:\n",
        "  print(\"columns are not the same for all states\")\n",
        "  check_cols_same = 'columns are not the same for all states' \n",
        "else :\n",
        "  check_cols_same = 'olumns are same for all states'# file\n",
        "\n",
        "if sum(data_frames_rows_list) != 612388:\n",
        "  check_tot_rows = \"Total number of rows does not match\"\n",
        "  print(\"Total number of rows does not match\") \n",
        "else:\n",
        "  check_tot_rows = \"Total number of rows match to 612388\" #file\n",
        "\n"
      ],
      "execution_count": 1,
      "outputs": [
        {
          "output_type": "stream",
          "text": [
            "Collecting geopandas\n",
            "  Downloading geopandas-0.9.0-py2.py3-none-any.whl (994 kB)\n",
            "\u001b[K     |████████████████████████████████| 994 kB 4.7 MB/s \n",
            "\u001b[?25hCollecting pyproj>=2.2.0\n",
            "  Downloading pyproj-3.2.0-cp37-cp37m-manylinux_2_24_x86_64.whl (6.3 MB)\n",
            "\u001b[K     |████████████████████████████████| 6.3 MB 20.5 MB/s \n",
            "\u001b[?25hRequirement already satisfied: shapely>=1.6 in /usr/local/lib/python3.7/dist-packages (from geopandas) (1.7.1)\n",
            "Collecting fiona>=1.8\n",
            "  Downloading Fiona-1.8.20-cp37-cp37m-manylinux1_x86_64.whl (15.4 MB)\n",
            "\u001b[K     |████████████████████████████████| 15.4 MB 37 kB/s \n",
            "\u001b[?25hRequirement already satisfied: pandas>=0.24.0 in /usr/local/lib/python3.7/dist-packages (from geopandas) (1.1.5)\n",
            "Requirement already satisfied: attrs>=17 in /usr/local/lib/python3.7/dist-packages (from fiona>=1.8->geopandas) (21.2.0)\n",
            "Requirement already satisfied: click>=4.0 in /usr/local/lib/python3.7/dist-packages (from fiona>=1.8->geopandas) (7.1.2)\n",
            "Requirement already satisfied: setuptools in /usr/local/lib/python3.7/dist-packages (from fiona>=1.8->geopandas) (57.4.0)\n",
            "Collecting click-plugins>=1.0\n",
            "  Downloading click_plugins-1.1.1-py2.py3-none-any.whl (7.5 kB)\n",
            "Collecting cligj>=0.5\n",
            "  Downloading cligj-0.7.2-py3-none-any.whl (7.1 kB)\n",
            "Requirement already satisfied: certifi in /usr/local/lib/python3.7/dist-packages (from fiona>=1.8->geopandas) (2021.5.30)\n",
            "Requirement already satisfied: six>=1.7 in /usr/local/lib/python3.7/dist-packages (from fiona>=1.8->geopandas) (1.15.0)\n",
            "Collecting munch\n",
            "  Downloading munch-2.5.0-py2.py3-none-any.whl (10 kB)\n",
            "Requirement already satisfied: python-dateutil>=2.7.3 in /usr/local/lib/python3.7/dist-packages (from pandas>=0.24.0->geopandas) (2.8.2)\n",
            "Requirement already satisfied: pytz>=2017.2 in /usr/local/lib/python3.7/dist-packages (from pandas>=0.24.0->geopandas) (2018.9)\n",
            "Requirement already satisfied: numpy>=1.15.4 in /usr/local/lib/python3.7/dist-packages (from pandas>=0.24.0->geopandas) (1.19.5)\n",
            "Installing collected packages: munch, cligj, click-plugins, pyproj, fiona, geopandas\n",
            "Successfully installed click-plugins-1.1.1 cligj-0.7.2 fiona-1.8.20 geopandas-0.9.0 munch-2.5.0 pyproj-3.2.0\n",
            "Mounted at /content/drive\n",
            "content_list =  440\n",
            "shape_files =  49\n",
            "/content/drive/My Drive/Bridge_Project/Bridge_Data/Alabama.shp\n",
            "/content/drive/My Drive/Bridge_Project/Bridge_Data/Arizona.shp\n",
            "/content/drive/My Drive/Bridge_Project/Bridge_Data/Arkansas.shp\n",
            "/content/drive/My Drive/Bridge_Project/Bridge_Data/California.shp\n",
            "/content/drive/My Drive/Bridge_Project/Bridge_Data/Colorado.shp\n",
            "/content/drive/My Drive/Bridge_Project/Bridge_Data/Connecticut.shp\n",
            "/content/drive/My Drive/Bridge_Project/Bridge_Data/Delaware.shp\n",
            "/content/drive/My Drive/Bridge_Project/Bridge_Data/District_of_Columbia.shp\n",
            "/content/drive/My Drive/Bridge_Project/Bridge_Data/Florida.shp\n",
            "/content/drive/My Drive/Bridge_Project/Bridge_Data/Georgia.shp\n",
            "/content/drive/My Drive/Bridge_Project/Bridge_Data/Idaho.shp\n",
            "/content/drive/My Drive/Bridge_Project/Bridge_Data/Illinois.shp\n",
            "/content/drive/My Drive/Bridge_Project/Bridge_Data/Indiana.shp\n",
            "/content/drive/My Drive/Bridge_Project/Bridge_Data/Iowa.shp\n",
            "/content/drive/My Drive/Bridge_Project/Bridge_Data/Kansas.shp\n",
            "/content/drive/My Drive/Bridge_Project/Bridge_Data/Kentucky.shp\n",
            "/content/drive/My Drive/Bridge_Project/Bridge_Data/Louisiana.shp\n",
            "/content/drive/My Drive/Bridge_Project/Bridge_Data/Maine.shp\n",
            "/content/drive/My Drive/Bridge_Project/Bridge_Data/Maryland.shp\n",
            "/content/drive/My Drive/Bridge_Project/Bridge_Data/Massachusetts.shp\n",
            "/content/drive/My Drive/Bridge_Project/Bridge_Data/Michigan.shp\n",
            "/content/drive/My Drive/Bridge_Project/Bridge_Data/Minnesota.shp\n",
            "/content/drive/My Drive/Bridge_Project/Bridge_Data/Mississippi.shp\n",
            "/content/drive/My Drive/Bridge_Project/Bridge_Data/Missouri.shp\n",
            "/content/drive/My Drive/Bridge_Project/Bridge_Data/Montana.shp\n",
            "/content/drive/My Drive/Bridge_Project/Bridge_Data/Nebraska.shp\n",
            "/content/drive/My Drive/Bridge_Project/Bridge_Data/Nevada.shp\n",
            "/content/drive/My Drive/Bridge_Project/Bridge_Data/New_Hampshire.shp\n",
            "/content/drive/My Drive/Bridge_Project/Bridge_Data/New_Jersey.shp\n",
            "/content/drive/My Drive/Bridge_Project/Bridge_Data/New_Mexico.shp\n",
            "/content/drive/My Drive/Bridge_Project/Bridge_Data/New_York.shp\n",
            "/content/drive/My Drive/Bridge_Project/Bridge_Data/North_Carolina.shp\n",
            "/content/drive/My Drive/Bridge_Project/Bridge_Data/North_Dakota.shp\n",
            "/content/drive/My Drive/Bridge_Project/Bridge_Data/Ohio.shp\n",
            "/content/drive/My Drive/Bridge_Project/Bridge_Data/Oklahoma.shp\n",
            "/content/drive/My Drive/Bridge_Project/Bridge_Data/Oregon.shp\n",
            "/content/drive/My Drive/Bridge_Project/Bridge_Data/Pennsylvania.shp\n",
            "/content/drive/My Drive/Bridge_Project/Bridge_Data/Rhode_Island.shp\n",
            "/content/drive/My Drive/Bridge_Project/Bridge_Data/South_Carolina.shp\n",
            "/content/drive/My Drive/Bridge_Project/Bridge_Data/South_Dakota.shp\n",
            "/content/drive/My Drive/Bridge_Project/Bridge_Data/Tennessee.shp\n",
            "/content/drive/My Drive/Bridge_Project/Bridge_Data/Texas.shp\n",
            "/content/drive/My Drive/Bridge_Project/Bridge_Data/Utah.shp\n",
            "/content/drive/My Drive/Bridge_Project/Bridge_Data/Vermont.shp\n",
            "/content/drive/My Drive/Bridge_Project/Bridge_Data/Virginia.shp\n",
            "/content/drive/My Drive/Bridge_Project/Bridge_Data/Washington.shp\n",
            "/content/drive/My Drive/Bridge_Project/Bridge_Data/West_Virginia.shp\n",
            "/content/drive/My Drive/Bridge_Project/Bridge_Data/Wisconsin.shp\n",
            "/content/drive/My Drive/Bridge_Project/Bridge_Data/Wyoming.shp\n"
          ],
          "name": "stdout"
        }
      ]
    },
    {
      "cell_type": "code",
      "metadata": {
        "id": "2-z9YIapHoPa"
      },
      "source": [
        "data_frames_rows_list"
      ],
      "execution_count": null,
      "outputs": []
    },
    {
      "cell_type": "code",
      "metadata": {
        "colab": {
          "base_uri": "https://localhost:8080/"
        },
        "id": "av7BwhfRIg8o",
        "outputId": "ebc513d1-d12d-4876-bd6c-05ddb3c1538c"
      },
      "source": [
        "sum(data_frames_rows_list)"
      ],
      "execution_count": 2,
      "outputs": [
        {
          "output_type": "execute_result",
          "data": {
            "text/plain": [
              "612388"
            ]
          },
          "metadata": {},
          "execution_count": 2
        }
      ]
    },
    {
      "cell_type": "code",
      "metadata": {
        "colab": {
          "base_uri": "https://localhost:8080/"
        },
        "id": "-ZyvV2kfT25g",
        "outputId": "1c04c0fe-857b-44f4-9bb6-02907f67d534"
      },
      "source": [
        "22962 + 16117 + 8424"
      ],
      "execution_count": 3,
      "outputs": [
        {
          "output_type": "execute_result",
          "data": {
            "text/plain": [
              "47503"
            ]
          },
          "metadata": {},
          "execution_count": 3
        }
      ]
    },
    {
      "cell_type": "code",
      "metadata": {
        "colab": {
          "base_uri": "https://localhost:8080/"
        },
        "id": "M0W9x9aNCwED",
        "outputId": "0205c8b7-778a-48dd-9753-300534d85e46"
      },
      "source": [
        "import numpy as np\n",
        "np.unique(data_frames_cols_list) \n"
      ],
      "execution_count": 4,
      "outputs": [
        {
          "output_type": "execute_result",
          "data": {
            "text/plain": [
              "array([138])"
            ]
          },
          "metadata": {},
          "execution_count": 4
        }
      ]
    },
    {
      "cell_type": "code",
      "metadata": {
        "id": "_Xx4iqzjFgW6"
      },
      "source": [
        "# city = 'Michigan.shp'\n",
        "# path = root_path+city\n",
        "# mach_df = gpd.read_file(path)\n"
      ],
      "execution_count": 6,
      "outputs": []
    },
    {
      "cell_type": "code",
      "metadata": {
        "id": "Eg1F31uvFlIu"
      },
      "source": [
        "# print(mach_df.columns)"
      ],
      "execution_count": 7,
      "outputs": []
    },
    {
      "cell_type": "code",
      "metadata": {
        "id": "yzOgw3pNGVCM"
      },
      "source": [
        "# city = 'New_Mexico.shp'\n",
        "# path = root_path+city\n",
        "# mach_df = gpd.read_file(path)\n"
      ],
      "execution_count": 8,
      "outputs": []
    },
    {
      "cell_type": "code",
      "metadata": {
        "id": "UU8om8lCGr_K"
      },
      "source": [
        "# mach_df.shape"
      ],
      "execution_count": 9,
      "outputs": []
    },
    {
      "cell_type": "code",
      "metadata": {
        "id": "RFU5KsoeEzhO"
      },
      "source": [
        "# for i in range(len(data_frames_cols_list)):\n",
        "#   if data_frames_cols_list[i] == 139:\n",
        "#     print(i)\n",
        "#     print(\"hello\")"
      ],
      "execution_count": 10,
      "outputs": []
    },
    {
      "cell_type": "code",
      "metadata": {
        "id": "CV32Ba5jdzxG"
      },
      "source": [
        ""
      ],
      "execution_count": 10,
      "outputs": []
    },
    {
      "cell_type": "code",
      "metadata": {
        "id": "ym65fdGnpTn1"
      },
      "source": [
        "#all_cols = ConterminousUS.columns"
      ],
      "execution_count": 11,
      "outputs": []
    },
    {
      "cell_type": "code",
      "metadata": {
        "id": "HQpdvBaGS4dV"
      },
      "source": [
        "Initial_Col_Name_list = ['YEAR_B', 'STRUCTUR_4', 'DECK_W', 'DEGRE', 'MAIN_', 'MAX_S', 'STRUCTUR_2', 'DECK_S', 'SURFA', 'DECK_P', 'ADT_0', 'PERCE', 'YEAR_R', 'Shape *', 'STATE', 'STRUCTURE_', 'lattd', 'lngtd', 'DECK_C', 'SUPER', 'SUBST', 'Frequency_', 'Max_Quake', 'DT00', 'DX32', 'DX70', 'DX90', 'AWND', 'WSF5', 'PRECIPITAT', 'TEMP_MAX', 'TEMP_MEAN', 'TEMP_MIN', 'FREQUENCY_','MAX_QUAKE','DATE_'] #file"
      ],
      "execution_count": 5,
      "outputs": []
    },
    {
      "cell_type": "code",
      "metadata": {
        "colab": {
          "base_uri": "https://localhost:8080/"
        },
        "id": "NW1zODktr9DD",
        "outputId": "e4be9758-247c-4e1c-8c08-e4b18a4a311f"
      },
      "source": [
        "len(Initial_Col_Name_list)"
      ],
      "execution_count": 6,
      "outputs": [
        {
          "output_type": "execute_result",
          "data": {
            "text/plain": [
              "36"
            ]
          },
          "metadata": {},
          "execution_count": 6
        }
      ]
    },
    {
      "cell_type": "code",
      "metadata": {
        "id": "3qbNtG85KaYs"
      },
      "source": [
        "# len(Final_Column_Name)"
      ],
      "execution_count": 14,
      "outputs": []
    },
    {
      "cell_type": "code",
      "metadata": {
        "id": "GTwDVI1TqlVu"
      },
      "source": [
        "# attributes = []\n",
        "# for att in all_cols:\n",
        "#   if att not in Initial_Col_Name_list:\n",
        "#     del ConterminousUS[att]\n",
        "#     #print(\"not same\")\n",
        "#   else:\n",
        "#     #print(\"same\")\n",
        "#     attributes.append(att)\n",
        "\n",
        "# print(ConterminousUS.shape)\n",
        "# #attributes to the file"
      ],
      "execution_count": 15,
      "outputs": []
    },
    {
      "cell_type": "code",
      "metadata": {
        "id": "Ea8XNdQhrOSn"
      },
      "source": [
        "# missing_attr = []\n",
        "# for i in Initial_Col_Name_list:\n",
        "#   if i not in all_cols:\n",
        "#     print(i)\n",
        "#     missing_attr.append(i)"
      ],
      "execution_count": 16,
      "outputs": []
    },
    {
      "cell_type": "code",
      "metadata": {
        "id": "YYmuwFyLsQGg"
      },
      "source": [
        "# for i in all_cols:\n",
        "#   if i == 'Max_Quake':\n",
        "#     print(\"der\")"
      ],
      "execution_count": 17,
      "outputs": []
    },
    {
      "cell_type": "code",
      "metadata": {
        "id": "gNByKgpys_A6"
      },
      "source": [
        "# all_cols.sort_values"
      ],
      "execution_count": 18,
      "outputs": []
    },
    {
      "cell_type": "code",
      "metadata": {
        "id": "XkgKLfUWkr3G"
      },
      "source": [
        ""
      ],
      "execution_count": 18,
      "outputs": []
    },
    {
      "cell_type": "code",
      "metadata": {
        "id": "YKHWMJp2UjoP"
      },
      "source": [
        "Final_Column_Name = ['Year_Built', 'Deck_Length', 'Deck_Width', 'Skew', 'Number_Spans', 'Length_Max_Span', 'Main_Design_Type', 'Deck_Design_Type', 'Wearing_Surface', 'Deck_Protection', 'ADT', 'ADTT', 'Reconstructed_Year', 'Shape *', 'State_Code', 'Structure_Number', 'Latitude', 'Longitude', 'Deck_Condition', 'Superstructure_Condition', 'Substructure_Condition', 'Freq_Shake_GT4', 'Max_Shake', 'Days_MinLT_0F', 'Days_MinLT_32F', 'Days_MaxGT_70F', 'Days_MaxGT_90F', 'Avg_Wind_Speed', 'Peak_Wind_Speed', 'Precipitation', 'Temp_Max', 'Temp_Mean', 'Temp_Min','Freq_Shake_GT4','Max_Shake','Inspection_Date']  #file"
      ],
      "execution_count": 7,
      "outputs": []
    },
    {
      "cell_type": "code",
      "metadata": {
        "colab": {
          "base_uri": "https://localhost:8080/"
        },
        "id": "kRgxYzIkWBWY",
        "outputId": "129737c7-1552-4910-977a-8d6a2ccdfc23"
      },
      "source": [
        "len(Final_Column_Name)"
      ],
      "execution_count": 8,
      "outputs": [
        {
          "output_type": "execute_result",
          "data": {
            "text/plain": [
              "36"
            ]
          },
          "metadata": {},
          "execution_count": 8
        }
      ]
    },
    {
      "cell_type": "code",
      "metadata": {
        "id": "gxGA_afRXTdI"
      },
      "source": [
        "#creating a dictionary to rename the column names of each dataframe\n",
        "rename_cols = { } #file\n",
        "for idx in range(len(Initial_Col_Name_list)):\n",
        "  rename_cols[Initial_Col_Name_list[idx]] = Final_Column_Name[idx]\n"
      ],
      "execution_count": 9,
      "outputs": []
    },
    {
      "cell_type": "code",
      "metadata": {
        "id": "BUlwdTF2Oumy"
      },
      "source": [
        ""
      ],
      "execution_count": 21,
      "outputs": []
    },
    {
      "cell_type": "code",
      "metadata": {
        "colab": {
          "base_uri": "https://localhost:8080/"
        },
        "id": "x1ReQ5pfY_BM",
        "outputId": "88dd68e6-e854-42d4-8403-54e0ee529dfd"
      },
      "source": [
        "rename_cols"
      ],
      "execution_count": 10,
      "outputs": [
        {
          "output_type": "execute_result",
          "data": {
            "text/plain": [
              "{'ADT_0': 'ADT',\n",
              " 'AWND': 'Avg_Wind_Speed',\n",
              " 'DATE_': 'Inspection_Date',\n",
              " 'DECK_C': 'Deck_Condition',\n",
              " 'DECK_P': 'Deck_Protection',\n",
              " 'DECK_S': 'Deck_Design_Type',\n",
              " 'DECK_W': 'Deck_Width',\n",
              " 'DEGRE': 'Skew',\n",
              " 'DT00': 'Days_MinLT_0F',\n",
              " 'DX32': 'Days_MinLT_32F',\n",
              " 'DX70': 'Days_MaxGT_70F',\n",
              " 'DX90': 'Days_MaxGT_90F',\n",
              " 'FREQUENCY_': 'Freq_Shake_GT4',\n",
              " 'Frequency_': 'Freq_Shake_GT4',\n",
              " 'MAIN_': 'Number_Spans',\n",
              " 'MAX_QUAKE': 'Max_Shake',\n",
              " 'MAX_S': 'Length_Max_Span',\n",
              " 'Max_Quake': 'Max_Shake',\n",
              " 'PERCE': 'ADTT',\n",
              " 'PRECIPITAT': 'Precipitation',\n",
              " 'STATE': 'State_Code',\n",
              " 'STRUCTURE_': 'Structure_Number',\n",
              " 'STRUCTUR_2': 'Main_Design_Type',\n",
              " 'STRUCTUR_4': 'Deck_Length',\n",
              " 'SUBST': 'Substructure_Condition',\n",
              " 'SUPER': 'Superstructure_Condition',\n",
              " 'SURFA': 'Wearing_Surface',\n",
              " 'Shape *': 'Shape *',\n",
              " 'TEMP_MAX': 'Temp_Max',\n",
              " 'TEMP_MEAN': 'Temp_Mean',\n",
              " 'TEMP_MIN': 'Temp_Min',\n",
              " 'WSF5': 'Peak_Wind_Speed',\n",
              " 'YEAR_B': 'Year_Built',\n",
              " 'YEAR_R': 'Reconstructed_Year',\n",
              " 'lattd': 'Latitude',\n",
              " 'lngtd': 'Longitude'}"
            ]
          },
          "metadata": {},
          "execution_count": 10
        }
      ]
    },
    {
      "cell_type": "code",
      "metadata": {
        "id": "raqMq73NcNce"
      },
      "source": [
        "# ConterminousUS.head()"
      ],
      "execution_count": 23,
      "outputs": []
    },
    {
      "cell_type": "code",
      "metadata": {
        "id": "3GE3dNwfKvN9"
      },
      "source": [
        "#Rename the columns of each dataframe \n",
        "for dataframe in data_frames_list:\n",
        "  dataframe.rename(columns=rename_cols, inplace=True)"
      ],
      "execution_count": 11,
      "outputs": []
    },
    {
      "cell_type": "code",
      "metadata": {
        "id": "DrqaV95VLFW4"
      },
      "source": [
        "#get all the columns names from all dataframes to check if they are correctly renamed\n",
        "column_list = []\n",
        "for frame in data_frames_list:\n",
        "  column_list.append(frame.columns)"
      ],
      "execution_count": 12,
      "outputs": []
    },
    {
      "cell_type": "code",
      "metadata": {
        "id": "1JcHCqqTMfa0"
      },
      "source": [
        "# type(column_list)"
      ],
      "execution_count": 26,
      "outputs": []
    },
    {
      "cell_type": "code",
      "metadata": {
        "colab": {
          "base_uri": "https://localhost:8080/"
        },
        "id": "DNzpr3x8LY4i",
        "outputId": "a474f750-34a9-4336-b3c1-565ca82f7eca"
      },
      "source": [
        "#check if all dataframes have same column names as taken from the table final column name after renaming\n",
        "for j in range(len(column_list)-1):\n",
        "  if column_list[j].all() != column_list[j+1].all():\n",
        "    print(\"All the renamed columns are not same\")\n",
        "    attribute_check = \"All the renamed columns are not same\"\n",
        "  else: \n",
        "    print(\"All the renamed columns are same\")\n",
        "    attribute_check = \"All the renamed columns are same\"\n"
      ],
      "execution_count": 13,
      "outputs": [
        {
          "output_type": "stream",
          "text": [
            "All the renamed columns are same\n",
            "All the renamed columns are same\n",
            "All the renamed columns are same\n",
            "All the renamed columns are same\n",
            "All the renamed columns are same\n",
            "All the renamed columns are same\n",
            "All the renamed columns are same\n",
            "All the renamed columns are same\n",
            "All the renamed columns are same\n",
            "All the renamed columns are same\n",
            "All the renamed columns are same\n",
            "All the renamed columns are same\n",
            "All the renamed columns are same\n",
            "All the renamed columns are same\n",
            "All the renamed columns are same\n",
            "All the renamed columns are same\n",
            "All the renamed columns are same\n",
            "All the renamed columns are same\n",
            "All the renamed columns are same\n",
            "All the renamed columns are same\n",
            "All the renamed columns are same\n",
            "All the renamed columns are same\n",
            "All the renamed columns are same\n",
            "All the renamed columns are same\n",
            "All the renamed columns are same\n",
            "All the renamed columns are same\n",
            "All the renamed columns are same\n",
            "All the renamed columns are same\n",
            "All the renamed columns are same\n",
            "All the renamed columns are same\n",
            "All the renamed columns are same\n",
            "All the renamed columns are same\n",
            "All the renamed columns are same\n",
            "All the renamed columns are same\n",
            "All the renamed columns are same\n",
            "All the renamed columns are same\n",
            "All the renamed columns are same\n",
            "All the renamed columns are same\n",
            "All the renamed columns are same\n",
            "All the renamed columns are same\n",
            "All the renamed columns are same\n",
            "All the renamed columns are same\n",
            "All the renamed columns are same\n",
            "All the renamed columns are same\n",
            "All the renamed columns are same\n",
            "All the renamed columns are same\n",
            "All the renamed columns are same\n",
            "All the renamed columns are same\n"
          ],
          "name": "stdout"
        }
      ]
    },
    {
      "cell_type": "code",
      "metadata": {
        "id": "39Ph4Ik8OKx3"
      },
      "source": [
        "#concatenate all the dataframes into single dataframe\n",
        "ConterminousUS = pd.concat(data_frames_list)"
      ],
      "execution_count": 14,
      "outputs": []
    },
    {
      "cell_type": "code",
      "metadata": {
        "id": "BOe_x3rCSiRT"
      },
      "source": [
        "ConterminousUS_length = len(ConterminousUS) #file"
      ],
      "execution_count": 15,
      "outputs": []
    },
    {
      "cell_type": "code",
      "metadata": {
        "colab": {
          "base_uri": "https://localhost:8080/"
        },
        "id": "9OW65u-4IprL",
        "outputId": "bd4187c7-ccb4-4941-e2dd-31e45a239940"
      },
      "source": [
        "ConterminousUS_length"
      ],
      "execution_count": 16,
      "outputs": [
        {
          "output_type": "execute_result",
          "data": {
            "text/plain": [
              "612388"
            ]
          },
          "metadata": {},
          "execution_count": 16
        }
      ]
    },
    {
      "cell_type": "code",
      "metadata": {
        "id": "9sNECODztJXz"
      },
      "source": [
        "#ConterminousUS.rename(columns=rename_cols, inplace=True)"
      ],
      "execution_count": 31,
      "outputs": []
    },
    {
      "cell_type": "code",
      "metadata": {
        "colab": {
          "base_uri": "https://localhost:8080/",
          "height": 514
        },
        "id": "gb_eW9yfb6XZ",
        "outputId": "c25670eb-a5a0-4317-bbe1-22dd8c0dbbb0"
      },
      "source": [
        "ConterminousUS.head()"
      ],
      "execution_count": 32,
      "outputs": [
        {
          "output_type": "execute_result",
          "data": {
            "text/html": [
              "<div>\n",
              "<style scoped>\n",
              "    .dataframe tbody tr th:only-of-type {\n",
              "        vertical-align: middle;\n",
              "    }\n",
              "\n",
              "    .dataframe tbody tr th {\n",
              "        vertical-align: top;\n",
              "    }\n",
              "\n",
              "    .dataframe thead th {\n",
              "        text-align: right;\n",
              "    }\n",
              "</style>\n",
              "<table border=\"1\" class=\"dataframe\">\n",
              "  <thead>\n",
              "    <tr style=\"text-align: right;\">\n",
              "      <th></th>\n",
              "      <th>State_Code</th>\n",
              "      <th>Structure_Number</th>\n",
              "      <th>RECOR</th>\n",
              "      <th>ROUTE_P</th>\n",
              "      <th>SERVICE_L</th>\n",
              "      <th>ROUTE_N</th>\n",
              "      <th>DIREC</th>\n",
              "      <th>HIGHWAY_D</th>\n",
              "      <th>COUNT</th>\n",
              "      <th>PLACE</th>\n",
              "      <th>FEATU</th>\n",
              "      <th>CRITI</th>\n",
              "      <th>FACIL</th>\n",
              "      <th>LOCAT</th>\n",
              "      <th>MIN_V</th>\n",
              "      <th>KILOP</th>\n",
              "      <th>BASE_</th>\n",
              "      <th>LRS_I</th>\n",
              "      <th>SUBRO</th>\n",
              "      <th>LAT_0</th>\n",
              "      <th>LONG_</th>\n",
              "      <th>DETOU</th>\n",
              "      <th>TOLL_</th>\n",
              "      <th>MAINT</th>\n",
              "      <th>OWNER</th>\n",
              "      <th>FUNCT</th>\n",
              "      <th>Year_Built</th>\n",
              "      <th>TRAFFIC_LA</th>\n",
              "      <th>TRAFFIC__1</th>\n",
              "      <th>ADT</th>\n",
              "      <th>YEAR_A</th>\n",
              "      <th>DESIG</th>\n",
              "      <th>APPR_W</th>\n",
              "      <th>MEDIA</th>\n",
              "      <th>Skew</th>\n",
              "      <th>STRUCTUR_1</th>\n",
              "      <th>RAILI</th>\n",
              "      <th>TRANS</th>\n",
              "      <th>APPR_RAIL_</th>\n",
              "      <th>APPR_RAI_1</th>\n",
              "      <th>...</th>\n",
              "      <th>STRAH</th>\n",
              "      <th>PARAL</th>\n",
              "      <th>TRAFFIC_D</th>\n",
              "      <th>TEMP_</th>\n",
              "      <th>HIGHWAY_S</th>\n",
              "      <th>FEDER</th>\n",
              "      <th>Reconstructed_Year</th>\n",
              "      <th>Deck_Design_Type</th>\n",
              "      <th>Wearing_Surface</th>\n",
              "      <th>MEMBR</th>\n",
              "      <th>Deck_Protection</th>\n",
              "      <th>ADTT</th>\n",
              "      <th>NATIO</th>\n",
              "      <th>PIER_</th>\n",
              "      <th>BRIDGE_L</th>\n",
              "      <th>SCOUR</th>\n",
              "      <th>FUTUR</th>\n",
              "      <th>YEAR_OF_F</th>\n",
              "      <th>MIN_N</th>\n",
              "      <th>FED_A</th>\n",
              "      <th>SUBMI</th>\n",
              "      <th>BRIDGE_C</th>\n",
              "      <th>LOWES</th>\n",
              "      <th>DECK_A</th>\n",
              "      <th>Latitude</th>\n",
              "      <th>Longitude</th>\n",
              "      <th>Freq_Shake_GT4</th>\n",
              "      <th>Max_Shake</th>\n",
              "      <th>Days_MinLT_0F</th>\n",
              "      <th>Days_MinLT_32F</th>\n",
              "      <th>Days_MaxGT_70F</th>\n",
              "      <th>Days_MaxGT_90F</th>\n",
              "      <th>Avg_Wind_Speed</th>\n",
              "      <th>Peak_Wind_Speed</th>\n",
              "      <th>Precipitation</th>\n",
              "      <th>Temp_Max</th>\n",
              "      <th>Temp_Mean</th>\n",
              "      <th>Temp_Min</th>\n",
              "      <th>geometry</th>\n",
              "      <th>MAX_Quake</th>\n",
              "    </tr>\n",
              "  </thead>\n",
              "  <tbody>\n",
              "    <tr>\n",
              "      <th>0</th>\n",
              "      <td>01</td>\n",
              "      <td>00000000000S702</td>\n",
              "      <td>1.0</td>\n",
              "      <td>6.0</td>\n",
              "      <td>1.0</td>\n",
              "      <td>04007</td>\n",
              "      <td>0.0</td>\n",
              "      <td>09</td>\n",
              "      <td>053</td>\n",
              "      <td>00000</td>\n",
              "      <td>'PERDIDO CREEK'</td>\n",
              "      <td>0</td>\n",
              "      <td>'IRR BIA RTE 4007'</td>\n",
              "      <td>'11.4KM NW OF ATMORE  AL'</td>\n",
              "      <td>99.99</td>\n",
              "      <td>1.500</td>\n",
              "      <td>0.0</td>\n",
              "      <td>0000000000</td>\n",
              "      <td>0.0</td>\n",
              "      <td>31061094.0</td>\n",
              "      <td>87341348.0</td>\n",
              "      <td>3.0</td>\n",
              "      <td>3.0</td>\n",
              "      <td>62</td>\n",
              "      <td>62</td>\n",
              "      <td>09</td>\n",
              "      <td>1999.0</td>\n",
              "      <td>2.0</td>\n",
              "      <td>0.0</td>\n",
              "      <td>50.0</td>\n",
              "      <td>2019.0</td>\n",
              "      <td>5</td>\n",
              "      <td>9.7</td>\n",
              "      <td>0.0</td>\n",
              "      <td>30.0</td>\n",
              "      <td>0.0</td>\n",
              "      <td>1</td>\n",
              "      <td>1</td>\n",
              "      <td>1</td>\n",
              "      <td>1</td>\n",
              "      <td>...</td>\n",
              "      <td>0.0</td>\n",
              "      <td>N</td>\n",
              "      <td>2.0</td>\n",
              "      <td>0</td>\n",
              "      <td>0.0</td>\n",
              "      <td>1.0</td>\n",
              "      <td>0.0</td>\n",
              "      <td>2</td>\n",
              "      <td>6</td>\n",
              "      <td>0</td>\n",
              "      <td>1</td>\n",
              "      <td>1.0</td>\n",
              "      <td>0.0</td>\n",
              "      <td>0.0</td>\n",
              "      <td>Y</td>\n",
              "      <td>8</td>\n",
              "      <td>59.0</td>\n",
              "      <td>2039.0</td>\n",
              "      <td>0.0</td>\n",
              "      <td>Y</td>\n",
              "      <td>62</td>\n",
              "      <td>G</td>\n",
              "      <td>7.0</td>\n",
              "      <td>145.50</td>\n",
              "      <td>31.103039</td>\n",
              "      <td>-87.570411</td>\n",
              "      <td>0</td>\n",
              "      <td>0.0</td>\n",
              "      <td>0</td>\n",
              "      <td>0</td>\n",
              "      <td>288</td>\n",
              "      <td>98</td>\n",
              "      <td>7.2</td>\n",
              "      <td>74.9</td>\n",
              "      <td>64.3871</td>\n",
              "      <td>79.1591</td>\n",
              "      <td>69.1455</td>\n",
              "      <td>59.1323</td>\n",
              "      <td>POINT Z (-87.57041 31.10304 0.00000)</td>\n",
              "      <td>NaN</td>\n",
              "    </tr>\n",
              "    <tr>\n",
              "      <th>1</th>\n",
              "      <td>01</td>\n",
              "      <td>00000000000S703</td>\n",
              "      <td>1.0</td>\n",
              "      <td>6.0</td>\n",
              "      <td>1.0</td>\n",
              "      <td>04003</td>\n",
              "      <td>0.0</td>\n",
              "      <td>09</td>\n",
              "      <td>053</td>\n",
              "      <td>03004</td>\n",
              "      <td>'PERDIDO CREEK'</td>\n",
              "      <td>0</td>\n",
              "      <td>'IRR BIA RTE 4003'</td>\n",
              "      <td>'ON LYNN MCGEE ROAD'</td>\n",
              "      <td>99.99</td>\n",
              "      <td>1.100</td>\n",
              "      <td>0.0</td>\n",
              "      <td>0000000000</td>\n",
              "      <td>0.0</td>\n",
              "      <td>31062020.0</td>\n",
              "      <td>87340890.0</td>\n",
              "      <td>3.0</td>\n",
              "      <td>3.0</td>\n",
              "      <td>62</td>\n",
              "      <td>62</td>\n",
              "      <td>09</td>\n",
              "      <td>2002.0</td>\n",
              "      <td>2.0</td>\n",
              "      <td>0.0</td>\n",
              "      <td>159.0</td>\n",
              "      <td>2019.0</td>\n",
              "      <td>5</td>\n",
              "      <td>6.5</td>\n",
              "      <td>0.0</td>\n",
              "      <td>0.0</td>\n",
              "      <td>0.0</td>\n",
              "      <td>1</td>\n",
              "      <td>1</td>\n",
              "      <td>1</td>\n",
              "      <td>1</td>\n",
              "      <td>...</td>\n",
              "      <td>0.0</td>\n",
              "      <td>N</td>\n",
              "      <td>2.0</td>\n",
              "      <td>0</td>\n",
              "      <td>0.0</td>\n",
              "      <td>1.0</td>\n",
              "      <td>0.0</td>\n",
              "      <td>2</td>\n",
              "      <td>6</td>\n",
              "      <td>0</td>\n",
              "      <td>8</td>\n",
              "      <td>1.0</td>\n",
              "      <td>0.0</td>\n",
              "      <td>0.0</td>\n",
              "      <td>Y</td>\n",
              "      <td>8</td>\n",
              "      <td>200.0</td>\n",
              "      <td>2039.0</td>\n",
              "      <td>0.0</td>\n",
              "      <td>Y</td>\n",
              "      <td>62</td>\n",
              "      <td>G</td>\n",
              "      <td>7.0</td>\n",
              "      <td>133.28</td>\n",
              "      <td>31.105611</td>\n",
              "      <td>-87.569139</td>\n",
              "      <td>0</td>\n",
              "      <td>0.0</td>\n",
              "      <td>0</td>\n",
              "      <td>0</td>\n",
              "      <td>288</td>\n",
              "      <td>98</td>\n",
              "      <td>7.2</td>\n",
              "      <td>74.9</td>\n",
              "      <td>60.9316</td>\n",
              "      <td>79.3499</td>\n",
              "      <td>69.3045</td>\n",
              "      <td>59.2592</td>\n",
              "      <td>POINT Z (-87.56914 31.10561 0.00000)</td>\n",
              "      <td>NaN</td>\n",
              "    </tr>\n",
              "    <tr>\n",
              "      <th>2</th>\n",
              "      <td>01</td>\n",
              "      <td>000071</td>\n",
              "      <td>1.0</td>\n",
              "      <td>4.0</td>\n",
              "      <td>1.0</td>\n",
              "      <td>00000</td>\n",
              "      <td>0.0</td>\n",
              "      <td>07</td>\n",
              "      <td>061</td>\n",
              "      <td>00000</td>\n",
              "      <td>'DOUBLE BRIDGES CREEK'</td>\n",
              "      <td>0</td>\n",
              "      <td>'SPEARS HILL ROAD'</td>\n",
              "      <td>'4 MI NE OF SAMSON'</td>\n",
              "      <td>99.99</td>\n",
              "      <td>0.010</td>\n",
              "      <td>0.0</td>\n",
              "      <td>000CO00000</td>\n",
              "      <td>0.0</td>\n",
              "      <td>31084101.0</td>\n",
              "      <td>85591709.0</td>\n",
              "      <td>13.0</td>\n",
              "      <td>3.0</td>\n",
              "      <td>02</td>\n",
              "      <td>02</td>\n",
              "      <td>09</td>\n",
              "      <td>1913.0</td>\n",
              "      <td>1.0</td>\n",
              "      <td>0.0</td>\n",
              "      <td>45.0</td>\n",
              "      <td>2018.0</td>\n",
              "      <td>2</td>\n",
              "      <td>6.1</td>\n",
              "      <td>0.0</td>\n",
              "      <td>0.0</td>\n",
              "      <td>0.0</td>\n",
              "      <td>0</td>\n",
              "      <td>0</td>\n",
              "      <td>0</td>\n",
              "      <td>0</td>\n",
              "      <td>...</td>\n",
              "      <td>0.0</td>\n",
              "      <td>N</td>\n",
              "      <td>3.0</td>\n",
              "      <td>0</td>\n",
              "      <td>0.0</td>\n",
              "      <td>0.0</td>\n",
              "      <td>1992.0</td>\n",
              "      <td>8</td>\n",
              "      <td>7</td>\n",
              "      <td>0</td>\n",
              "      <td>0</td>\n",
              "      <td>0.0</td>\n",
              "      <td>0.0</td>\n",
              "      <td>0.0</td>\n",
              "      <td>Y</td>\n",
              "      <td>8</td>\n",
              "      <td>105.0</td>\n",
              "      <td>2038.0</td>\n",
              "      <td>0.0</td>\n",
              "      <td>N</td>\n",
              "      <td>01</td>\n",
              "      <td>F</td>\n",
              "      <td>5.0</td>\n",
              "      <td>122.00</td>\n",
              "      <td>31.144725</td>\n",
              "      <td>-85.988081</td>\n",
              "      <td>0</td>\n",
              "      <td>0.0</td>\n",
              "      <td>0</td>\n",
              "      <td>0</td>\n",
              "      <td>307</td>\n",
              "      <td>125</td>\n",
              "      <td>5.1</td>\n",
              "      <td>59.1</td>\n",
              "      <td>70.2148</td>\n",
              "      <td>78.8630</td>\n",
              "      <td>67.8229</td>\n",
              "      <td>56.7833</td>\n",
              "      <td>POINT Z (-85.98808 31.14473 0.00000)</td>\n",
              "      <td>NaN</td>\n",
              "    </tr>\n",
              "    <tr>\n",
              "      <th>3</th>\n",
              "      <td>01</td>\n",
              "      <td>000175</td>\n",
              "      <td>1.0</td>\n",
              "      <td>3.0</td>\n",
              "      <td>1.0</td>\n",
              "      <td>00087</td>\n",
              "      <td>0.0</td>\n",
              "      <td>07</td>\n",
              "      <td>031</td>\n",
              "      <td>00000</td>\n",
              "      <td>'BIG CREEK'</td>\n",
              "      <td>0</td>\n",
              "      <td>'SR  87 MP 38.735'</td>\n",
              "      <td>'5.2 MI.N.SR 189'</td>\n",
              "      <td>99.99</td>\n",
              "      <td>62.338</td>\n",
              "      <td>0.0</td>\n",
              "      <td>000AL00870</td>\n",
              "      <td>0.0</td>\n",
              "      <td>31291968.0</td>\n",
              "      <td>86031122.0</td>\n",
              "      <td>13.0</td>\n",
              "      <td>3.0</td>\n",
              "      <td>01</td>\n",
              "      <td>01</td>\n",
              "      <td>06</td>\n",
              "      <td>1921.0</td>\n",
              "      <td>2.0</td>\n",
              "      <td>0.0</td>\n",
              "      <td>2130.0</td>\n",
              "      <td>2013.0</td>\n",
              "      <td>2</td>\n",
              "      <td>9.8</td>\n",
              "      <td>0.0</td>\n",
              "      <td>0.0</td>\n",
              "      <td>0.0</td>\n",
              "      <td>0</td>\n",
              "      <td>0</td>\n",
              "      <td>0</td>\n",
              "      <td>1</td>\n",
              "      <td>...</td>\n",
              "      <td>0.0</td>\n",
              "      <td>N</td>\n",
              "      <td>2.0</td>\n",
              "      <td>0</td>\n",
              "      <td>0.0</td>\n",
              "      <td>0.0</td>\n",
              "      <td>1935.0</td>\n",
              "      <td>1</td>\n",
              "      <td>0</td>\n",
              "      <td>0</td>\n",
              "      <td>0</td>\n",
              "      <td>8.0</td>\n",
              "      <td>0.0</td>\n",
              "      <td>0.0</td>\n",
              "      <td>Y</td>\n",
              "      <td>5</td>\n",
              "      <td>3061.0</td>\n",
              "      <td>2033.0</td>\n",
              "      <td>0.0</td>\n",
              "      <td>N</td>\n",
              "      <td>01</td>\n",
              "      <td>F</td>\n",
              "      <td>5.0</td>\n",
              "      <td>312.00</td>\n",
              "      <td>31.488800</td>\n",
              "      <td>-86.053117</td>\n",
              "      <td>0</td>\n",
              "      <td>0.0</td>\n",
              "      <td>0</td>\n",
              "      <td>0</td>\n",
              "      <td>307</td>\n",
              "      <td>125</td>\n",
              "      <td>5.1</td>\n",
              "      <td>59.1</td>\n",
              "      <td>64.6249</td>\n",
              "      <td>78.9593</td>\n",
              "      <td>67.7732</td>\n",
              "      <td>56.5875</td>\n",
              "      <td>POINT Z (-86.05312 31.48880 0.00000)</td>\n",
              "      <td>NaN</td>\n",
              "    </tr>\n",
              "    <tr>\n",
              "      <th>4</th>\n",
              "      <td>01</td>\n",
              "      <td>000207</td>\n",
              "      <td>1.0</td>\n",
              "      <td>2.0</td>\n",
              "      <td>1.0</td>\n",
              "      <td>00231</td>\n",
              "      <td>0.0</td>\n",
              "      <td>07</td>\n",
              "      <td>069</td>\n",
              "      <td>21184</td>\n",
              "      <td>'CENTRAL OF GEORGIA R. R.'</td>\n",
              "      <td>0</td>\n",
              "      <td>'US 231 MP 15.643'</td>\n",
              "      <td>'0.2 MI. S. JCT. U.S. 84'</td>\n",
              "      <td>99.99</td>\n",
              "      <td>25.175</td>\n",
              "      <td>1.0</td>\n",
              "      <td>000AL00010</td>\n",
              "      <td>0.0</td>\n",
              "      <td>31132071.0</td>\n",
              "      <td>85233568.0</td>\n",
              "      <td>2.0</td>\n",
              "      <td>3.0</td>\n",
              "      <td>01</td>\n",
              "      <td>01</td>\n",
              "      <td>14</td>\n",
              "      <td>1923.0</td>\n",
              "      <td>3.0</td>\n",
              "      <td>0.0</td>\n",
              "      <td>14820.0</td>\n",
              "      <td>2013.0</td>\n",
              "      <td>2</td>\n",
              "      <td>16.8</td>\n",
              "      <td>0.0</td>\n",
              "      <td>0.0</td>\n",
              "      <td>0.0</td>\n",
              "      <td>0</td>\n",
              "      <td>0</td>\n",
              "      <td>0</td>\n",
              "      <td>0</td>\n",
              "      <td>...</td>\n",
              "      <td>0.0</td>\n",
              "      <td>N</td>\n",
              "      <td>2.0</td>\n",
              "      <td>0</td>\n",
              "      <td>1.0</td>\n",
              "      <td>0.0</td>\n",
              "      <td>0.0</td>\n",
              "      <td>1</td>\n",
              "      <td>6</td>\n",
              "      <td>0</td>\n",
              "      <td>0</td>\n",
              "      <td>3.0</td>\n",
              "      <td>1.0</td>\n",
              "      <td>0.0</td>\n",
              "      <td>Y</td>\n",
              "      <td>N</td>\n",
              "      <td>19188.0</td>\n",
              "      <td>2033.0</td>\n",
              "      <td>0.0</td>\n",
              "      <td>N</td>\n",
              "      <td>01</td>\n",
              "      <td>F</td>\n",
              "      <td>5.0</td>\n",
              "      <td>321.78</td>\n",
              "      <td>31.222419</td>\n",
              "      <td>-85.393244</td>\n",
              "      <td>0</td>\n",
              "      <td>0.0</td>\n",
              "      <td>0</td>\n",
              "      <td>0</td>\n",
              "      <td>297</td>\n",
              "      <td>96</td>\n",
              "      <td>7.2</td>\n",
              "      <td>64.0</td>\n",
              "      <td>62.4064</td>\n",
              "      <td>78.7996</td>\n",
              "      <td>68.4901</td>\n",
              "      <td>58.1810</td>\n",
              "      <td>POINT Z (-85.39324 31.22242 0.00000)</td>\n",
              "      <td>NaN</td>\n",
              "    </tr>\n",
              "  </tbody>\n",
              "</table>\n",
              "<p>5 rows × 139 columns</p>\n",
              "</div>"
            ],
            "text/plain": [
              "  State_Code Structure_Number  ...                              geometry  MAX_Quake\n",
              "0         01  00000000000S702  ...  POINT Z (-87.57041 31.10304 0.00000)        NaN\n",
              "1         01  00000000000S703  ...  POINT Z (-87.56914 31.10561 0.00000)        NaN\n",
              "2         01           000071  ...  POINT Z (-85.98808 31.14473 0.00000)        NaN\n",
              "3         01           000175  ...  POINT Z (-86.05312 31.48880 0.00000)        NaN\n",
              "4         01           000207  ...  POINT Z (-85.39324 31.22242 0.00000)        NaN\n",
              "\n",
              "[5 rows x 139 columns]"
            ]
          },
          "metadata": {},
          "execution_count": 32
        }
      ]
    },
    {
      "cell_type": "code",
      "metadata": {
        "id": "FNIDGgb4XgCM"
      },
      "source": [
        "# all_cols = ConterminousUS.columns\n",
        "# column_list_total = []\n",
        "# for frame in all_cols:\n",
        "#   column_list_total.append(frame.columns)\n",
        "\n",
        "# for j in range(len(all_cols)-1):\n",
        "#   if column_list_total[j].all() != column_list_total[j+1].all():\n",
        "#     print(\"Not equal\")\n"
      ],
      "execution_count": 33,
      "outputs": []
    },
    {
      "cell_type": "code",
      "metadata": {
        "id": "wQjg-c71S2sB"
      },
      "source": [
        "all_cols = ConterminousUS.columns"
      ],
      "execution_count": 17,
      "outputs": []
    },
    {
      "cell_type": "code",
      "metadata": {
        "colab": {
          "base_uri": "https://localhost:8080/"
        },
        "id": "RBCHPXU6S9DS",
        "outputId": "f635139b-b679-47b5-e152-d389633779b1"
      },
      "source": [
        "len(ConterminousUS.columns)"
      ],
      "execution_count": 18,
      "outputs": [
        {
          "output_type": "execute_result",
          "data": {
            "text/plain": [
              "139"
            ]
          },
          "metadata": {},
          "execution_count": 18
        }
      ]
    },
    {
      "cell_type": "code",
      "metadata": {
        "colab": {
          "base_uri": "https://localhost:8080/"
        },
        "id": "renepqsfb8Dq",
        "outputId": "362db5e7-8e6d-4c94-9f10-92c2c5f26071"
      },
      "source": [
        "attributes = []\n",
        "for att in all_cols:\n",
        "  if att not in Final_Column_Name:\n",
        "    del ConterminousUS[att]\n",
        "    #print(\"not same\")\n",
        "  else:\n",
        "    #print(\"same\")\n",
        "    attributes.append(att)\n",
        "\n",
        "print(ConterminousUS.shape)\n",
        "#attributes to the file"
      ],
      "execution_count": 19,
      "outputs": [
        {
          "output_type": "stream",
          "text": [
            "(612388, 33)\n"
          ],
          "name": "stdout"
        }
      ]
    },
    {
      "cell_type": "code",
      "metadata": {
        "colab": {
          "base_uri": "https://localhost:8080/"
        },
        "id": "pwv3Hiz7TBPO",
        "outputId": "a33c3b78-7231-4a84-ad3f-12b8df13990c"
      },
      "source": [
        "ConterminousUS.columns"
      ],
      "execution_count": 20,
      "outputs": [
        {
          "output_type": "execute_result",
          "data": {
            "text/plain": [
              "Index(['State_Code', 'Structure_Number', 'Year_Built', 'ADT', 'Skew',\n",
              "       'Main_Design_Type', 'Number_Spans', 'Length_Max_Span', 'Deck_Length',\n",
              "       'Deck_Width', 'Deck_Condition', 'Superstructure_Condition',\n",
              "       'Substructure_Condition', 'Inspection_Date', 'Reconstructed_Year',\n",
              "       'Deck_Design_Type', 'Wearing_Surface', 'Deck_Protection', 'ADTT',\n",
              "       'Latitude', 'Longitude', 'Freq_Shake_GT4', 'Max_Shake', 'Days_MinLT_0F',\n",
              "       'Days_MinLT_32F', 'Days_MaxGT_70F', 'Days_MaxGT_90F', 'Avg_Wind_Speed',\n",
              "       'Peak_Wind_Speed', 'Precipitation', 'Temp_Max', 'Temp_Mean',\n",
              "       'Temp_Min'],\n",
              "      dtype='object')"
            ]
          },
          "metadata": {},
          "execution_count": 20
        }
      ]
    },
    {
      "cell_type": "code",
      "metadata": {
        "id": "uMQxhWiilrps"
      },
      "source": [
        "# to check if all the renamed columns are from Final column name\n",
        "\n",
        "concat_col = ConterminousUS.columns\n",
        "\n",
        "for cols in concat_col:\n",
        "  if cols not in Final_Column_Name:\n",
        "    print(\"Not existing\", cols)"
      ],
      "execution_count": 21,
      "outputs": []
    },
    {
      "cell_type": "code",
      "metadata": {
        "id": "dGecGsK-l3XZ"
      },
      "source": [
        "statistics = ConterminousUS.describe() #file"
      ],
      "execution_count": 22,
      "outputs": []
    },
    {
      "cell_type": "code",
      "metadata": {
        "colab": {
          "base_uri": "https://localhost:8080/",
          "height": 319
        },
        "id": "3KN1QCmxEXb5",
        "outputId": "91cce846-4718-4aeb-f0c7-7c53a885c282"
      },
      "source": [
        "statistics"
      ],
      "execution_count": 23,
      "outputs": [
        {
          "output_type": "execute_result",
          "data": {
            "text/html": [
              "<div>\n",
              "<style scoped>\n",
              "    .dataframe tbody tr th:only-of-type {\n",
              "        vertical-align: middle;\n",
              "    }\n",
              "\n",
              "    .dataframe tbody tr th {\n",
              "        vertical-align: top;\n",
              "    }\n",
              "\n",
              "    .dataframe thead th {\n",
              "        text-align: right;\n",
              "    }\n",
              "</style>\n",
              "<table border=\"1\" class=\"dataframe\">\n",
              "  <thead>\n",
              "    <tr style=\"text-align: right;\">\n",
              "      <th></th>\n",
              "      <th>Year_Built</th>\n",
              "      <th>ADT</th>\n",
              "      <th>Skew</th>\n",
              "      <th>Main_Design_Type</th>\n",
              "      <th>Number_Spans</th>\n",
              "      <th>Length_Max_Span</th>\n",
              "      <th>Deck_Length</th>\n",
              "      <th>Deck_Width</th>\n",
              "      <th>Inspection_Date</th>\n",
              "      <th>Reconstructed_Year</th>\n",
              "      <th>ADTT</th>\n",
              "      <th>Latitude</th>\n",
              "      <th>Longitude</th>\n",
              "      <th>Freq_Shake_GT4</th>\n",
              "      <th>Max_Shake</th>\n",
              "      <th>Days_MinLT_0F</th>\n",
              "      <th>Days_MinLT_32F</th>\n",
              "      <th>Days_MaxGT_70F</th>\n",
              "      <th>Days_MaxGT_90F</th>\n",
              "      <th>Avg_Wind_Speed</th>\n",
              "      <th>Peak_Wind_Speed</th>\n",
              "      <th>Precipitation</th>\n",
              "      <th>Temp_Max</th>\n",
              "      <th>Temp_Mean</th>\n",
              "      <th>Temp_Min</th>\n",
              "    </tr>\n",
              "  </thead>\n",
              "  <tbody>\n",
              "    <tr>\n",
              "      <th>count</th>\n",
              "      <td>612388.000000</td>\n",
              "      <td>612388.000000</td>\n",
              "      <td>612388.000000</td>\n",
              "      <td>612388.000000</td>\n",
              "      <td>612388.000000</td>\n",
              "      <td>612388.000000</td>\n",
              "      <td>612388.000000</td>\n",
              "      <td>612388.000000</td>\n",
              "      <td>612388.000000</td>\n",
              "      <td>612388.000000</td>\n",
              "      <td>612388.000000</td>\n",
              "      <td>612388.000000</td>\n",
              "      <td>612388.000000</td>\n",
              "      <td>612388.000000</td>\n",
              "      <td>602907.000000</td>\n",
              "      <td>612388.000000</td>\n",
              "      <td>612388.000000</td>\n",
              "      <td>612388.000000</td>\n",
              "      <td>612388.000000</td>\n",
              "      <td>612388.000000</td>\n",
              "      <td>612388.000000</td>\n",
              "      <td>612388.000000</td>\n",
              "      <td>612388.000000</td>\n",
              "      <td>612388.000000</td>\n",
              "      <td>612388.000000</td>\n",
              "    </tr>\n",
              "    <tr>\n",
              "      <th>mean</th>\n",
              "      <td>1975.126557</td>\n",
              "      <td>7825.235411</td>\n",
              "      <td>12.204909</td>\n",
              "      <td>3.099768</td>\n",
              "      <td>2.744195</td>\n",
              "      <td>15.080013</td>\n",
              "      <td>45.053254</td>\n",
              "      <td>10.486138</td>\n",
              "      <td>679.117494</td>\n",
              "      <td>296.068228</td>\n",
              "      <td>7.764324</td>\n",
              "      <td>37.989135</td>\n",
              "      <td>-91.651225</td>\n",
              "      <td>0.018733</td>\n",
              "      <td>0.063686</td>\n",
              "      <td>2.502894</td>\n",
              "      <td>14.632929</td>\n",
              "      <td>188.896242</td>\n",
              "      <td>46.780151</td>\n",
              "      <td>7.494970</td>\n",
              "      <td>60.582089</td>\n",
              "      <td>43.498355</td>\n",
              "      <td>67.568579</td>\n",
              "      <td>56.905952</td>\n",
              "      <td>46.243547</td>\n",
              "    </tr>\n",
              "    <tr>\n",
              "      <th>std</th>\n",
              "      <td>26.143444</td>\n",
              "      <td>21105.676986</td>\n",
              "      <td>18.658078</td>\n",
              "      <td>1.811587</td>\n",
              "      <td>4.589285</td>\n",
              "      <td>15.984414</td>\n",
              "      <td>155.673995</td>\n",
              "      <td>9.737806</td>\n",
              "      <td>332.387140</td>\n",
              "      <td>708.402057</td>\n",
              "      <td>8.437291</td>\n",
              "      <td>4.624413</td>\n",
              "      <td>12.028212</td>\n",
              "      <td>0.208982</td>\n",
              "      <td>0.529125</td>\n",
              "      <td>6.280429</td>\n",
              "      <td>20.485023</td>\n",
              "      <td>58.878925</td>\n",
              "      <td>39.714662</td>\n",
              "      <td>2.174175</td>\n",
              "      <td>10.185342</td>\n",
              "      <td>20.225815</td>\n",
              "      <td>8.096740</td>\n",
              "      <td>7.875541</td>\n",
              "      <td>8.020886</td>\n",
              "    </tr>\n",
              "    <tr>\n",
              "      <th>min</th>\n",
              "      <td>1697.000000</td>\n",
              "      <td>0.000000</td>\n",
              "      <td>-2.000000</td>\n",
              "      <td>0.000000</td>\n",
              "      <td>-1.000000</td>\n",
              "      <td>0.000000</td>\n",
              "      <td>6.100000</td>\n",
              "      <td>0.000000</td>\n",
              "      <td>100.000000</td>\n",
              "      <td>0.000000</td>\n",
              "      <td>0.000000</td>\n",
              "      <td>24.560972</td>\n",
              "      <td>-124.668750</td>\n",
              "      <td>0.000000</td>\n",
              "      <td>0.000000</td>\n",
              "      <td>0.000000</td>\n",
              "      <td>0.000000</td>\n",
              "      <td>0.000000</td>\n",
              "      <td>0.000000</td>\n",
              "      <td>0.000000</td>\n",
              "      <td>34.000000</td>\n",
              "      <td>1.501460</td>\n",
              "      <td>39.929900</td>\n",
              "      <td>29.282200</td>\n",
              "      <td>16.279700</td>\n",
              "    </tr>\n",
              "    <tr>\n",
              "      <th>25%</th>\n",
              "      <td>1959.000000</td>\n",
              "      <td>120.000000</td>\n",
              "      <td>0.000000</td>\n",
              "      <td>1.000000</td>\n",
              "      <td>1.000000</td>\n",
              "      <td>6.100000</td>\n",
              "      <td>10.100000</td>\n",
              "      <td>6.900000</td>\n",
              "      <td>418.000000</td>\n",
              "      <td>0.000000</td>\n",
              "      <td>1.000000</td>\n",
              "      <td>34.520201</td>\n",
              "      <td>-97.102274</td>\n",
              "      <td>0.000000</td>\n",
              "      <td>0.000000</td>\n",
              "      <td>0.000000</td>\n",
              "      <td>0.000000</td>\n",
              "      <td>147.000000</td>\n",
              "      <td>16.000000</td>\n",
              "      <td>6.000000</td>\n",
              "      <td>53.900000</td>\n",
              "      <td>31.103300</td>\n",
              "      <td>61.453900</td>\n",
              "      <td>51.424000</td>\n",
              "      <td>41.011150</td>\n",
              "    </tr>\n",
              "    <tr>\n",
              "      <th>50%</th>\n",
              "      <td>1976.000000</td>\n",
              "      <td>904.000000</td>\n",
              "      <td>0.000000</td>\n",
              "      <td>3.000000</td>\n",
              "      <td>2.000000</td>\n",
              "      <td>11.400000</td>\n",
              "      <td>19.800000</td>\n",
              "      <td>9.100000</td>\n",
              "      <td>718.000000</td>\n",
              "      <td>0.000000</td>\n",
              "      <td>6.000000</td>\n",
              "      <td>38.528318</td>\n",
              "      <td>-90.229350</td>\n",
              "      <td>0.000000</td>\n",
              "      <td>0.000000</td>\n",
              "      <td>0.000000</td>\n",
              "      <td>5.000000</td>\n",
              "      <td>173.000000</td>\n",
              "      <td>34.000000</td>\n",
              "      <td>7.400000</td>\n",
              "      <td>59.900000</td>\n",
              "      <td>43.221900</td>\n",
              "      <td>66.434400</td>\n",
              "      <td>55.820500</td>\n",
              "      <td>45.495000</td>\n",
              "    </tr>\n",
              "    <tr>\n",
              "      <th>75%</th>\n",
              "      <td>1996.000000</td>\n",
              "      <td>6191.000000</td>\n",
              "      <td>22.000000</td>\n",
              "      <td>5.000000</td>\n",
              "      <td>3.000000</td>\n",
              "      <td>20.400000</td>\n",
              "      <td>46.400000</td>\n",
              "      <td>13.000000</td>\n",
              "      <td>1017.000000</td>\n",
              "      <td>0.000000</td>\n",
              "      <td>10.000000</td>\n",
              "      <td>41.315258</td>\n",
              "      <td>-83.078827</td>\n",
              "      <td>0.000000</td>\n",
              "      <td>0.000000</td>\n",
              "      <td>1.000000</td>\n",
              "      <td>22.000000</td>\n",
              "      <td>226.000000</td>\n",
              "      <td>71.000000</td>\n",
              "      <td>8.900000</td>\n",
              "      <td>66.000000</td>\n",
              "      <td>57.967625</td>\n",
              "      <td>73.664600</td>\n",
              "      <td>62.667500</td>\n",
              "      <td>51.629700</td>\n",
              "    </tr>\n",
              "    <tr>\n",
              "      <th>max</th>\n",
              "      <td>2021.000000</td>\n",
              "      <td>919000.000000</td>\n",
              "      <td>99.000000</td>\n",
              "      <td>9.000000</td>\n",
              "      <td>771.000000</td>\n",
              "      <td>2327.100000</td>\n",
              "      <td>38791.600000</td>\n",
              "      <td>999.900000</td>\n",
              "      <td>1292.000000</td>\n",
              "      <td>2100.000000</td>\n",
              "      <td>99.000000</td>\n",
              "      <td>49.351986</td>\n",
              "      <td>-66.980050</td>\n",
              "      <td>26.000000</td>\n",
              "      <td>7.800000</td>\n",
              "      <td>104.000000</td>\n",
              "      <td>171.000000</td>\n",
              "      <td>358.000000</td>\n",
              "      <td>209.000000</td>\n",
              "      <td>36.900000</td>\n",
              "      <td>150.100000</td>\n",
              "      <td>210.503000</td>\n",
              "      <td>91.083000</td>\n",
              "      <td>80.811100</td>\n",
              "      <td>76.035700</td>\n",
              "    </tr>\n",
              "  </tbody>\n",
              "</table>\n",
              "</div>"
            ],
            "text/plain": [
              "          Year_Built            ADT  ...      Temp_Mean       Temp_Min\n",
              "count  612388.000000  612388.000000  ...  612388.000000  612388.000000\n",
              "mean     1975.126557    7825.235411  ...      56.905952      46.243547\n",
              "std        26.143444   21105.676986  ...       7.875541       8.020886\n",
              "min      1697.000000       0.000000  ...      29.282200      16.279700\n",
              "25%      1959.000000     120.000000  ...      51.424000      41.011150\n",
              "50%      1976.000000     904.000000  ...      55.820500      45.495000\n",
              "75%      1996.000000    6191.000000  ...      62.667500      51.629700\n",
              "max      2021.000000  919000.000000  ...      80.811100      76.035700\n",
              "\n",
              "[8 rows x 25 columns]"
            ]
          },
          "metadata": {},
          "execution_count": 23
        }
      ]
    },
    {
      "cell_type": "code",
      "metadata": {
        "id": "eSjKgYm-qqHb"
      },
      "source": [
        "Null_exist = ConterminousUS.isnull()"
      ],
      "execution_count": 24,
      "outputs": []
    },
    {
      "cell_type": "code",
      "metadata": {
        "colab": {
          "base_uri": "https://localhost:8080/"
        },
        "id": "safiMpmhq512",
        "outputId": "48591a03-76b2-4a80-c258-26065934c83f"
      },
      "source": [
        "if Null_exist.any == 'True':\n",
        "  Null_exist = \"Null exist\"\n",
        "  print(\"True\")\n",
        "else : \n",
        "  Null_exist = \"Null does not exist\"\n",
        "  print(\"Null does not exist\") #file"
      ],
      "execution_count": 25,
      "outputs": [
        {
          "output_type": "stream",
          "text": [
            "Null does not exist\n"
          ],
          "name": "stdout"
        }
      ]
    },
    {
      "cell_type": "code",
      "metadata": {
        "id": "Vqy_y2DArMdd"
      },
      "source": [
        "with open(r'/content/drive/My Drive/Bridge_Project/Results/Result.txt', 'a') as writefile:\n",
        "        writefile.write(\"\\n\")\n",
        "        writefile.write(\" Bridge Project Results \")\n",
        "        writefile.write(\"\\n\")\n",
        "        writefile.write(\" state_name_dict_cols \")\n",
        "        writefile.write(\"\\n\")\n",
        "        writefile.write(str(state_name_dict_cols))\n",
        "        writefile.write(\"\\n\")\n",
        "        writefile.write(\" data_frames_rows_list = \")\n",
        "        writefile.write(str(data_frames_rows_list))\n",
        "        writefile.write(\"\\n\")\n",
        "        writefile.write(\"\\n\")\n",
        "        writefile.write(\" data_frames_cols_list \")\n",
        "        writefile.write(str(data_frames_cols_list))\n",
        "        writefile.write(\"\\n\")\n",
        "        writefile.write(\"\\n\")\n",
        "        writefile.write(\" check_cols_same\")\n",
        "        writefile.write(check_cols_same)\n",
        "        writefile.write(\"\\n\")\n",
        "        writefile.write(\"\\n\")\n",
        "        writefile.write(\" check_tot_rows  \")\n",
        "        writefile.write(\"\\n\")\n",
        "        writefile.write(\"\\n\")\n",
        "        writefile.write(check_tot_rows)\n",
        "        writefile.write(\"\\n\")\n",
        "        writefile.write(\"\\n\")\n",
        "        writefile.write(\" Initial_Col_Name_list = \")\n",
        "        writefile.write(\"\\n\")\n",
        "        writefile.write(str(Initial_Col_Name_list))\n",
        "        writefile.write(\"\\n\")\n",
        "        writefile.write(\" Final_Column_Name = \")\n",
        "        writefile.write(\"\\n\")\n",
        "        writefile.write(str(Final_Column_Name))\n",
        "        writefile.write(\"\\n\")\n",
        "        writefile.write(\"\\n\")\n",
        "        writefile.write(\" rename_cols \")\n",
        "        writefile.write(str(rename_cols))\n",
        "        writefile.write(\"\\n\")\n",
        "        writefile.write(\" attribute_check\")\n",
        "        writefile.write(str(attribute_check))\n",
        "        writefile.write(\"\\n\")\n",
        "        writefile.write(\" ConterminousUS_length = \")\n",
        "        writefile.write(\"\\n\")\n",
        "        writefile.write(str(ConterminousUS_length))\n",
        "        writefile.write(\"\\n\")\n",
        "        writefile.write(\" statistics = \")\n",
        "        writefile.write(\"\\n\")\n",
        "        writefile.write(str(statistics))\n",
        "        writefile.write(\"\\n\")\n",
        "        writefile.write(\" Null_exist = \")\n",
        "        writefile.write(\"\\n\")\n",
        "        writefile.write(Null_exist)\n",
        "        writefile.write(\"\\n\")"
      ],
      "execution_count": 26,
      "outputs": []
    },
    {
      "cell_type": "code",
      "metadata": {
        "id": "W4ar85aPld1v"
      },
      "source": [
        "shape_files_names_list = []\n",
        "for i in shape_files:\n",
        "  shape_files_names_list.append(i.split('.')[0]) \n"
      ],
      "execution_count": 27,
      "outputs": []
    },
    {
      "cell_type": "code",
      "metadata": {
        "colab": {
          "base_uri": "https://localhost:8080/"
        },
        "id": "pBayt5kHlyI9",
        "outputId": "7915e6b4-e9d9-4f29-cb67-aaf462c4b00e"
      },
      "source": [
        "len(shape_files_names_list)"
      ],
      "execution_count": 28,
      "outputs": [
        {
          "output_type": "execute_result",
          "data": {
            "text/plain": [
              "49"
            ]
          },
          "metadata": {},
          "execution_count": 28
        }
      ]
    },
    {
      "cell_type": "code",
      "metadata": {
        "id": "wyiMN4_rk6MF"
      },
      "source": [
        "# state_code_key = list(range(1,57))\n",
        "# len(state_code_key)"
      ],
      "execution_count": 46,
      "outputs": []
    },
    {
      "cell_type": "code",
      "metadata": {
        "id": "LFNetUo4mH5C"
      },
      "source": [
        "# keys_deleted = [2,3,7,14,15,43,52]\n",
        "# len(keys_deleted)"
      ],
      "execution_count": 47,
      "outputs": []
    },
    {
      "cell_type": "code",
      "metadata": {
        "id": "9Dm31O8Fm3L2"
      },
      "source": [
        "# for item in keys_deleted:\n",
        "#   state_code_key.remove(item)\n",
        "\n",
        "# len(state_code_key)"
      ],
      "execution_count": 48,
      "outputs": []
    },
    {
      "cell_type": "code",
      "metadata": {
        "id": "EFC3PmzrNjFI"
      },
      "source": [
        ""
      ],
      "execution_count": 48,
      "outputs": []
    },
    {
      "cell_type": "code",
      "metadata": {
        "id": "Th7PiQVSIAHl"
      },
      "source": [
        "state_code_key = np.unique(ConterminousUS['State_Code'].to_list())\n"
      ],
      "execution_count": 29,
      "outputs": []
    },
    {
      "cell_type": "code",
      "metadata": {
        "colab": {
          "base_uri": "https://localhost:8080/"
        },
        "id": "TufLLNVyc6Qv",
        "outputId": "85a55328-0a3c-4425-d287-6495dab1dd2b"
      },
      "source": [
        "state_code_key_conv = []\n",
        "for i in range(0,len(state_code_key)):\n",
        "  print(i)\n",
        "  if i < 6:\n",
        "    state_code_key_conv.append(state_code_key[i])\n",
        "  else:\n",
        "    \n",
        "    state_code_key_conv.append(float(state_code_key[i]))\n",
        "  \n"
      ],
      "execution_count": 30,
      "outputs": [
        {
          "output_type": "stream",
          "text": [
            "0\n",
            "1\n",
            "2\n",
            "3\n",
            "4\n",
            "5\n",
            "6\n",
            "7\n",
            "8\n",
            "9\n",
            "10\n",
            "11\n",
            "12\n",
            "13\n",
            "14\n",
            "15\n",
            "16\n",
            "17\n",
            "18\n",
            "19\n",
            "20\n",
            "21\n",
            "22\n",
            "23\n",
            "24\n",
            "25\n",
            "26\n",
            "27\n",
            "28\n",
            "29\n",
            "30\n",
            "31\n",
            "32\n",
            "33\n",
            "34\n",
            "35\n",
            "36\n",
            "37\n",
            "38\n",
            "39\n",
            "40\n",
            "41\n",
            "42\n",
            "43\n",
            "44\n",
            "45\n",
            "46\n",
            "47\n",
            "48\n"
          ],
          "name": "stdout"
        }
      ]
    },
    {
      "cell_type": "code",
      "metadata": {
        "id": "emPJiGLdlCCh"
      },
      "source": [
        "state_code_value = shape_files_names_list"
      ],
      "execution_count": 31,
      "outputs": []
    },
    {
      "cell_type": "code",
      "metadata": {
        "id": "sn86SR51mx3S"
      },
      "source": [
        "State_code_dict = { }\n",
        "for code in range(len(state_code_key)):\n",
        "  State_code_dict[(state_code_key_conv[code])] = state_code_value[code]"
      ],
      "execution_count": 32,
      "outputs": []
    },
    {
      "cell_type": "code",
      "metadata": {
        "colab": {
          "base_uri": "https://localhost:8080/"
        },
        "id": "7Q21v-oIY5MM",
        "outputId": "c59bbb9a-d378-4da1-8353-61e67e1126ba"
      },
      "source": [
        "State_code_dict"
      ],
      "execution_count": 33,
      "outputs": [
        {
          "output_type": "execute_result",
          "data": {
            "text/plain": [
              "{'01': 'Alabama',\n",
              " '04': 'Arizona',\n",
              " '05': 'Arkansas',\n",
              " '06': 'California',\n",
              " '08': 'Colorado',\n",
              " '09': 'Connecticut',\n",
              " 10.0: 'Delaware',\n",
              " 11.0: 'District_of_Columbia',\n",
              " 12.0: 'Florida',\n",
              " 13.0: 'Georgia',\n",
              " 16.0: 'Idaho',\n",
              " 17.0: 'Illinois',\n",
              " 18.0: 'Indiana',\n",
              " 19.0: 'Iowa',\n",
              " 20.0: 'Kansas',\n",
              " 21.0: 'Kentucky',\n",
              " 22.0: 'Louisiana',\n",
              " 23.0: 'Maine',\n",
              " 24.0: 'Maryland',\n",
              " 25.0: 'Massachusetts',\n",
              " 26.0: 'Michigan',\n",
              " 27.0: 'Minnesota',\n",
              " 28.0: 'Mississippi',\n",
              " 29.0: 'Missouri',\n",
              " 30.0: 'Montana',\n",
              " 31.0: 'Nebraska',\n",
              " 32.0: 'Nevada',\n",
              " 33.0: 'New_Hampshire',\n",
              " 34.0: 'New_Jersey',\n",
              " 35.0: 'New_Mexico',\n",
              " 36.0: 'New_York',\n",
              " 37.0: 'North_Carolina',\n",
              " 38.0: 'North_Dakota',\n",
              " 39.0: 'Ohio',\n",
              " 40.0: 'Oklahoma',\n",
              " 41.0: 'Oregon',\n",
              " 42.0: 'Pennsylvania',\n",
              " 44.0: 'Rhode_Island',\n",
              " 45.0: 'South_Carolina',\n",
              " 46.0: 'South_Dakota',\n",
              " 47.0: 'Tennessee',\n",
              " 48.0: 'Texas',\n",
              " 49.0: 'Utah',\n",
              " 50.0: 'Vermont',\n",
              " 51.0: 'Virginia',\n",
              " 53.0: 'Washington',\n",
              " 54.0: 'West_Virginia',\n",
              " 55.0: 'Wisconsin',\n",
              " 56.0: 'Wyoming'}"
            ]
          },
          "metadata": {},
          "execution_count": 33
        }
      ]
    },
    {
      "cell_type": "code",
      "metadata": {
        "id": "7j8vrRG6Vj6s"
      },
      "source": [
        ""
      ],
      "execution_count": 53,
      "outputs": []
    },
    {
      "cell_type": "code",
      "metadata": {
        "id": "jvGiaS8ruUPy"
      },
      "source": [
        "#create a new column State by replacing the numbers with their respective state names\n",
        "ConterminousUS['State'] = ConterminousUS['State_Code']\n",
        "ConterminousUS['State'].replace(State_code_dict, inplace=True)"
      ],
      "execution_count": 34,
      "outputs": []
    },
    {
      "cell_type": "code",
      "metadata": {
        "id": "BRn-d-tJDpWO"
      },
      "source": [
        ""
      ],
      "execution_count": 54,
      "outputs": []
    },
    {
      "cell_type": "code",
      "metadata": {
        "colab": {
          "base_uri": "https://localhost:8080/",
          "height": 225
        },
        "id": "BAlL_J9gIqr4",
        "outputId": "82f9bc88-c0b3-4fe2-db1d-4630fd99c2d4"
      },
      "source": [
        "ConterminousUS.head()"
      ],
      "execution_count": 55,
      "outputs": [
        {
          "output_type": "execute_result",
          "data": {
            "text/html": [
              "<div>\n",
              "<style scoped>\n",
              "    .dataframe tbody tr th:only-of-type {\n",
              "        vertical-align: middle;\n",
              "    }\n",
              "\n",
              "    .dataframe tbody tr th {\n",
              "        vertical-align: top;\n",
              "    }\n",
              "\n",
              "    .dataframe thead th {\n",
              "        text-align: right;\n",
              "    }\n",
              "</style>\n",
              "<table border=\"1\" class=\"dataframe\">\n",
              "  <thead>\n",
              "    <tr style=\"text-align: right;\">\n",
              "      <th></th>\n",
              "      <th>State_Code</th>\n",
              "      <th>Structure_Number</th>\n",
              "      <th>Year_Built</th>\n",
              "      <th>ADT</th>\n",
              "      <th>Skew</th>\n",
              "      <th>Main_Design_Type</th>\n",
              "      <th>Number_Spans</th>\n",
              "      <th>Length_Max_Span</th>\n",
              "      <th>Deck_Length</th>\n",
              "      <th>Deck_Width</th>\n",
              "      <th>Deck_Condition</th>\n",
              "      <th>Superstructure_Condition</th>\n",
              "      <th>Substructure_Condition</th>\n",
              "      <th>Reconstructed_Year</th>\n",
              "      <th>Deck_Design_Type</th>\n",
              "      <th>Wearing_Surface</th>\n",
              "      <th>Deck_Protection</th>\n",
              "      <th>ADTT</th>\n",
              "      <th>Latitude</th>\n",
              "      <th>Longitude</th>\n",
              "      <th>Freq_Shake_GT4</th>\n",
              "      <th>Max_Shake</th>\n",
              "      <th>Days_MinLT_0F</th>\n",
              "      <th>Days_MinLT_32F</th>\n",
              "      <th>Days_MaxGT_70F</th>\n",
              "      <th>Days_MaxGT_90F</th>\n",
              "      <th>Avg_Wind_Speed</th>\n",
              "      <th>Peak_Wind_Speed</th>\n",
              "      <th>Precipitation</th>\n",
              "      <th>Temp_Max</th>\n",
              "      <th>Temp_Mean</th>\n",
              "      <th>Temp_Min</th>\n",
              "      <th>State</th>\n",
              "    </tr>\n",
              "  </thead>\n",
              "  <tbody>\n",
              "    <tr>\n",
              "      <th>0</th>\n",
              "      <td>01</td>\n",
              "      <td>00000000000S702</td>\n",
              "      <td>1999.0</td>\n",
              "      <td>50.0</td>\n",
              "      <td>30.0</td>\n",
              "      <td>5.0</td>\n",
              "      <td>1.0</td>\n",
              "      <td>14.7</td>\n",
              "      <td>15.0</td>\n",
              "      <td>9.7</td>\n",
              "      <td>8</td>\n",
              "      <td>8</td>\n",
              "      <td>7</td>\n",
              "      <td>0.0</td>\n",
              "      <td>2</td>\n",
              "      <td>6</td>\n",
              "      <td>1</td>\n",
              "      <td>1.0</td>\n",
              "      <td>31.103039</td>\n",
              "      <td>-87.570411</td>\n",
              "      <td>0</td>\n",
              "      <td>0.0</td>\n",
              "      <td>0</td>\n",
              "      <td>0</td>\n",
              "      <td>288</td>\n",
              "      <td>98</td>\n",
              "      <td>7.2</td>\n",
              "      <td>74.9</td>\n",
              "      <td>64.3871</td>\n",
              "      <td>79.1591</td>\n",
              "      <td>69.1455</td>\n",
              "      <td>59.1323</td>\n",
              "      <td>Alabama</td>\n",
              "    </tr>\n",
              "    <tr>\n",
              "      <th>1</th>\n",
              "      <td>01</td>\n",
              "      <td>00000000000S703</td>\n",
              "      <td>2002.0</td>\n",
              "      <td>159.0</td>\n",
              "      <td>0.0</td>\n",
              "      <td>5.0</td>\n",
              "      <td>1.0</td>\n",
              "      <td>12.9</td>\n",
              "      <td>13.6</td>\n",
              "      <td>9.8</td>\n",
              "      <td>8</td>\n",
              "      <td>8</td>\n",
              "      <td>7</td>\n",
              "      <td>0.0</td>\n",
              "      <td>2</td>\n",
              "      <td>6</td>\n",
              "      <td>8</td>\n",
              "      <td>1.0</td>\n",
              "      <td>31.105611</td>\n",
              "      <td>-87.569139</td>\n",
              "      <td>0</td>\n",
              "      <td>0.0</td>\n",
              "      <td>0</td>\n",
              "      <td>0</td>\n",
              "      <td>288</td>\n",
              "      <td>98</td>\n",
              "      <td>7.2</td>\n",
              "      <td>74.9</td>\n",
              "      <td>60.9316</td>\n",
              "      <td>79.3499</td>\n",
              "      <td>69.3045</td>\n",
              "      <td>59.2592</td>\n",
              "      <td>Alabama</td>\n",
              "    </tr>\n",
              "    <tr>\n",
              "      <th>2</th>\n",
              "      <td>01</td>\n",
              "      <td>000071</td>\n",
              "      <td>1913.0</td>\n",
              "      <td>45.0</td>\n",
              "      <td>0.0</td>\n",
              "      <td>3.0</td>\n",
              "      <td>1.0</td>\n",
              "      <td>9.4</td>\n",
              "      <td>24.4</td>\n",
              "      <td>5.0</td>\n",
              "      <td>5</td>\n",
              "      <td>6</td>\n",
              "      <td>5</td>\n",
              "      <td>1992.0</td>\n",
              "      <td>8</td>\n",
              "      <td>7</td>\n",
              "      <td>0</td>\n",
              "      <td>0.0</td>\n",
              "      <td>31.144725</td>\n",
              "      <td>-85.988081</td>\n",
              "      <td>0</td>\n",
              "      <td>0.0</td>\n",
              "      <td>0</td>\n",
              "      <td>0</td>\n",
              "      <td>307</td>\n",
              "      <td>125</td>\n",
              "      <td>5.1</td>\n",
              "      <td>59.1</td>\n",
              "      <td>70.2148</td>\n",
              "      <td>78.8630</td>\n",
              "      <td>67.8229</td>\n",
              "      <td>56.7833</td>\n",
              "      <td>Alabama</td>\n",
              "    </tr>\n",
              "    <tr>\n",
              "      <th>3</th>\n",
              "      <td>01</td>\n",
              "      <td>000175</td>\n",
              "      <td>1921.0</td>\n",
              "      <td>2130.0</td>\n",
              "      <td>0.0</td>\n",
              "      <td>1.0</td>\n",
              "      <td>3.0</td>\n",
              "      <td>13.1</td>\n",
              "      <td>39.0</td>\n",
              "      <td>8.0</td>\n",
              "      <td>5</td>\n",
              "      <td>5</td>\n",
              "      <td>5</td>\n",
              "      <td>1935.0</td>\n",
              "      <td>1</td>\n",
              "      <td>0</td>\n",
              "      <td>0</td>\n",
              "      <td>8.0</td>\n",
              "      <td>31.488800</td>\n",
              "      <td>-86.053117</td>\n",
              "      <td>0</td>\n",
              "      <td>0.0</td>\n",
              "      <td>0</td>\n",
              "      <td>0</td>\n",
              "      <td>307</td>\n",
              "      <td>125</td>\n",
              "      <td>5.1</td>\n",
              "      <td>59.1</td>\n",
              "      <td>64.6249</td>\n",
              "      <td>78.9593</td>\n",
              "      <td>67.7732</td>\n",
              "      <td>56.5875</td>\n",
              "      <td>Alabama</td>\n",
              "    </tr>\n",
              "    <tr>\n",
              "      <th>4</th>\n",
              "      <td>01</td>\n",
              "      <td>000207</td>\n",
              "      <td>1923.0</td>\n",
              "      <td>14820.0</td>\n",
              "      <td>0.0</td>\n",
              "      <td>1.0</td>\n",
              "      <td>3.0</td>\n",
              "      <td>6.7</td>\n",
              "      <td>18.6</td>\n",
              "      <td>17.3</td>\n",
              "      <td>5</td>\n",
              "      <td>5</td>\n",
              "      <td>5</td>\n",
              "      <td>0.0</td>\n",
              "      <td>1</td>\n",
              "      <td>6</td>\n",
              "      <td>0</td>\n",
              "      <td>3.0</td>\n",
              "      <td>31.222419</td>\n",
              "      <td>-85.393244</td>\n",
              "      <td>0</td>\n",
              "      <td>0.0</td>\n",
              "      <td>0</td>\n",
              "      <td>0</td>\n",
              "      <td>297</td>\n",
              "      <td>96</td>\n",
              "      <td>7.2</td>\n",
              "      <td>64.0</td>\n",
              "      <td>62.4064</td>\n",
              "      <td>78.7996</td>\n",
              "      <td>68.4901</td>\n",
              "      <td>58.1810</td>\n",
              "      <td>Alabama</td>\n",
              "    </tr>\n",
              "  </tbody>\n",
              "</table>\n",
              "</div>"
            ],
            "text/plain": [
              "  State_Code Structure_Number  Year_Built  ...  Temp_Mean  Temp_Min    State\n",
              "0         01  00000000000S702      1999.0  ...    69.1455   59.1323  Alabama\n",
              "1         01  00000000000S703      2002.0  ...    69.3045   59.2592  Alabama\n",
              "2         01           000071      1913.0  ...    67.8229   56.7833  Alabama\n",
              "3         01           000175      1921.0  ...    67.7732   56.5875  Alabama\n",
              "4         01           000207      1923.0  ...    68.4901   58.1810  Alabama\n",
              "\n",
              "[5 rows x 33 columns]"
            ]
          },
          "metadata": {},
          "execution_count": 55
        }
      ]
    },
    {
      "cell_type": "code",
      "metadata": {
        "colab": {
          "base_uri": "https://localhost:8080/"
        },
        "id": "FE0lkipbHkDP",
        "outputId": "7e5226ee-e025-4a04-85fa-769dfe2df390"
      },
      "source": [
        "list2 = ConterminousUS['State_Code'].to_list()\n",
        "len(np.unique(list2))"
      ],
      "execution_count": 35,
      "outputs": [
        {
          "output_type": "execute_result",
          "data": {
            "text/plain": [
              "49"
            ]
          },
          "metadata": {},
          "execution_count": 35
        }
      ]
    },
    {
      "cell_type": "code",
      "metadata": {
        "colab": {
          "base_uri": "https://localhost:8080/"
        },
        "id": "3gl8OstZHoC6",
        "outputId": "6c51ecce-b1e3-4838-8a1d-6ed5257b105d"
      },
      "source": [
        "np.unique(list2)"
      ],
      "execution_count": 36,
      "outputs": [
        {
          "output_type": "execute_result",
          "data": {
            "text/plain": [
              "array(['01', '04', '05', '06', '08', '09', '10.0', '11.0', '12.0', '13.0',\n",
              "       '16.0', '17.0', '18.0', '19.0', '20.0', '21.0', '22.0', '23.0',\n",
              "       '24.0', '25.0', '26.0', '27.0', '28.0', '29.0', '30.0', '31.0',\n",
              "       '32.0', '33.0', '34.0', '35.0', '36.0', '37.0', '38.0', '39.0',\n",
              "       '40.0', '41.0', '42.0', '44.0', '45.0', '46.0', '47.0', '48.0',\n",
              "       '49.0', '50.0', '51.0', '53.0', '54.0', '55.0', '56.0'],\n",
              "      dtype='<U4')"
            ]
          },
          "metadata": {},
          "execution_count": 36
        }
      ]
    },
    {
      "cell_type": "code",
      "metadata": {
        "colab": {
          "base_uri": "https://localhost:8080/"
        },
        "id": "f8mjAHZ8sC2Y",
        "outputId": "6fd1f27b-7d94-4161-d42b-15cc5c50f0c8"
      },
      "source": [
        "list3 = ConterminousUS['State'].to_list()\n",
        "np.unique(list3)"
      ],
      "execution_count": 37,
      "outputs": [
        {
          "output_type": "execute_result",
          "data": {
            "text/plain": [
              "array(['Alabama', 'Arizona', 'Arkansas', 'California', 'Colorado',\n",
              "       'Connecticut', 'Delaware', 'District_of_Columbia', 'Florida',\n",
              "       'Georgia', 'Idaho', 'Illinois', 'Indiana', 'Iowa', 'Kansas',\n",
              "       'Kentucky', 'Louisiana', 'Maine', 'Maryland', 'Massachusetts',\n",
              "       'Michigan', 'Minnesota', 'Mississippi', 'Missouri', 'Montana',\n",
              "       'Nebraska', 'Nevada', 'New_Hampshire', 'New_Jersey', 'New_Mexico',\n",
              "       'New_York', 'North_Carolina', 'North_Dakota', 'Ohio', 'Oklahoma',\n",
              "       'Oregon', 'Pennsylvania', 'Rhode_Island', 'South_Carolina',\n",
              "       'South_Dakota', 'Tennessee', 'Texas', 'Utah', 'Vermont',\n",
              "       'Virginia', 'Washington', 'West_Virginia', 'Wisconsin', 'Wyoming'],\n",
              "      dtype='<U20')"
            ]
          },
          "metadata": {},
          "execution_count": 37
        }
      ]
    },
    {
      "cell_type": "code",
      "metadata": {
        "colab": {
          "base_uri": "https://localhost:8080/"
        },
        "id": "1mJIt9YounDd",
        "outputId": "d81f6e37-2a0f-4ee0-e52b-69f184ac4a2d"
      },
      "source": [
        "#check if the datatype is consistent after changing the state name.\n",
        "type(ConterminousUS['State'].values[0])"
      ],
      "execution_count": 38,
      "outputs": [
        {
          "output_type": "execute_result",
          "data": {
            "text/plain": [
              "str"
            ]
          },
          "metadata": {},
          "execution_count": 38
        }
      ]
    },
    {
      "cell_type": "code",
      "metadata": {
        "colab": {
          "base_uri": "https://localhost:8080/"
        },
        "id": "KBdf1pDbvdmg",
        "outputId": "a05dfb02-c671-49ba-b235-2b6d1cdff710"
      },
      "source": [
        "ConterminousUS.columns"
      ],
      "execution_count": 39,
      "outputs": [
        {
          "output_type": "execute_result",
          "data": {
            "text/plain": [
              "Index(['State_Code', 'Structure_Number', 'Year_Built', 'ADT', 'Skew',\n",
              "       'Main_Design_Type', 'Number_Spans', 'Length_Max_Span', 'Deck_Length',\n",
              "       'Deck_Width', 'Deck_Condition', 'Superstructure_Condition',\n",
              "       'Substructure_Condition', 'Inspection_Date', 'Reconstructed_Year',\n",
              "       'Deck_Design_Type', 'Wearing_Surface', 'Deck_Protection', 'ADTT',\n",
              "       'Latitude', 'Longitude', 'Freq_Shake_GT4', 'Max_Shake', 'Days_MinLT_0F',\n",
              "       'Days_MinLT_32F', 'Days_MaxGT_70F', 'Days_MaxGT_90F', 'Avg_Wind_Speed',\n",
              "       'Peak_Wind_Speed', 'Precipitation', 'Temp_Max', 'Temp_Mean', 'Temp_Min',\n",
              "       'State'],\n",
              "      dtype='object')"
            ]
          },
          "metadata": {},
          "execution_count": 39
        }
      ]
    },
    {
      "cell_type": "code",
      "metadata": {
        "colab": {
          "base_uri": "https://localhost:8080/"
        },
        "id": "tgOKxiZ2vxZ5",
        "outputId": "c254912c-1f62-429a-ff6c-55c7105e4dbc"
      },
      "source": [
        "#range of the years \n",
        "year_range = np.unique(ConterminousUS['Year_Built'].values)\n",
        "year_range.sort"
      ],
      "execution_count": 40,
      "outputs": [
        {
          "output_type": "execute_result",
          "data": {
            "text/plain": [
              "<function ndarray.sort>"
            ]
          },
          "metadata": {},
          "execution_count": 40
        }
      ]
    },
    {
      "cell_type": "code",
      "metadata": {
        "colab": {
          "base_uri": "https://localhost:8080/"
        },
        "id": "rGs-ezlhlEKW",
        "outputId": "360944d3-7f46-4af1-8bd6-47c9deb1463c"
      },
      "source": [
        "type(year_range)"
      ],
      "execution_count": 41,
      "outputs": [
        {
          "output_type": "execute_result",
          "data": {
            "text/plain": [
              "numpy.ndarray"
            ]
          },
          "metadata": {},
          "execution_count": 41
        }
      ]
    },
    {
      "cell_type": "code",
      "metadata": {
        "colab": {
          "base_uri": "https://localhost:8080/"
        },
        "id": "PdriXPTwlYtP",
        "outputId": "ced15337-0881-43ef-a09a-554822fa0e6a"
      },
      "source": [
        "year_range"
      ],
      "execution_count": 42,
      "outputs": [
        {
          "output_type": "execute_result",
          "data": {
            "text/plain": [
              "array([1697., 1764., 1765., 1777., 1789., 1792., 1796., 1798., 1800.,\n",
              "       1801., 1804., 1807., 1809., 1810., 1812., 1817., 1820., 1822.,\n",
              "       1823., 1824., 1825., 1826., 1827., 1828., 1829., 1830., 1831.,\n",
              "       1832., 1833., 1834., 1835., 1836., 1837., 1838., 1839., 1840.,\n",
              "       1841., 1842., 1844., 1845., 1846., 1847., 1848., 1849., 1850.,\n",
              "       1851., 1852., 1853., 1854., 1855., 1856., 1857., 1858., 1859.,\n",
              "       1860., 1861., 1862., 1863., 1864., 1865., 1866., 1867., 1868.,\n",
              "       1869., 1870., 1871., 1872., 1873., 1874., 1875., 1876., 1877.,\n",
              "       1878., 1879., 1880., 1881., 1882., 1883., 1884., 1885., 1886.,\n",
              "       1887., 1888., 1889., 1890., 1891., 1892., 1893., 1894., 1895.,\n",
              "       1896., 1897., 1898., 1899., 1900., 1901., 1902., 1903., 1904.,\n",
              "       1905., 1906., 1907., 1908., 1909., 1910., 1911., 1912., 1913.,\n",
              "       1914., 1915., 1916., 1917., 1918., 1919., 1920., 1921., 1922.,\n",
              "       1923., 1924., 1925., 1926., 1927., 1928., 1929., 1930., 1931.,\n",
              "       1932., 1933., 1934., 1935., 1936., 1937., 1938., 1939., 1940.,\n",
              "       1941., 1942., 1943., 1944., 1945., 1946., 1947., 1948., 1949.,\n",
              "       1950., 1951., 1952., 1953., 1954., 1955., 1956., 1957., 1958.,\n",
              "       1959., 1960., 1961., 1962., 1963., 1964., 1965., 1966., 1967.,\n",
              "       1968., 1969., 1970., 1971., 1972., 1973., 1974., 1975., 1976.,\n",
              "       1977., 1978., 1979., 1980., 1981., 1982., 1983., 1984., 1985.,\n",
              "       1986., 1987., 1988., 1989., 1990., 1991., 1992., 1993., 1994.,\n",
              "       1995., 1996., 1997., 1998., 1999., 2000., 2001., 2002., 2003.,\n",
              "       2004., 2005., 2006., 2007., 2008., 2009., 2010., 2011., 2012.,\n",
              "       2013., 2014., 2015., 2016., 2017., 2018., 2019., 2020., 2021.])"
            ]
          },
          "metadata": {},
          "execution_count": 42
        }
      ]
    },
    {
      "cell_type": "code",
      "metadata": {
        "colab": {
          "base_uri": "https://localhost:8080/"
        },
        "id": "Zqoe8_bjZeYJ",
        "outputId": "c30e01f2-0b15-4c7e-f449-091e4529bd3b"
      },
      "source": [
        "Inspection_range = np.unique(ConterminousUS['Inspection_Date'].values)\n",
        "Inspection_range"
      ],
      "execution_count": 44,
      "outputs": [
        {
          "output_type": "execute_result",
          "data": {
            "text/plain": [
              "array([ 100.,  101.,  105.,  108.,  109.,  110.,  111.,  112.,  113.,\n",
              "        115.,  116.,  117.,  118.,  119.,  120.,  197.,  199.,  203.,\n",
              "        207.,  210.,  215.,  216.,  217.,  218.,  219.,  220.,  292.,\n",
              "        295.,  299.,  303.,  304.,  305.,  307.,  308.,  309.,  310.,\n",
              "        312.,  313.,  314.,  315.,  316.,  317.,  318.,  319.,  320.,\n",
              "        406.,  408.,  410.,  411.,  412.,  413.,  414.,  415.,  416.,\n",
              "        417.,  418.,  419.,  420.,  430.,  493.,  504.,  507.,  509.,\n",
              "        511.,  513.,  514.,  515.,  516.,  517.,  518.,  519.,  520.,\n",
              "        593.,  606.,  607.,  608.,  611.,  614.,  615.,  616.,  617.,\n",
              "        618.,  619.,  620.,  695.,  701.,  707.,  708.,  709.,  710.,\n",
              "        711.,  712.,  714.,  715.,  716.,  717.,  718.,  719.,  720.,\n",
              "        794.,  798.,  805.,  806.,  808.,  809.,  810.,  811.,  812.,\n",
              "        813.,  814.,  815.,  816.,  817.,  818.,  819.,  820.,  824.,\n",
              "        898.,  900.,  905.,  906.,  909.,  910.,  911.,  912.,  913.,\n",
              "        914.,  915.,  916.,  917.,  918.,  919.,  920.,  921., 1001.,\n",
              "       1006., 1008., 1009., 1011., 1012., 1013., 1014., 1015., 1016.,\n",
              "       1017., 1018., 1019., 1020., 1100., 1106., 1107., 1108., 1109.,\n",
              "       1110., 1111., 1112., 1113., 1114., 1115., 1116., 1117., 1118.,\n",
              "       1119., 1120., 1192., 1203., 1205., 1208., 1209., 1210., 1211.,\n",
              "       1213., 1214., 1215., 1216., 1217., 1218., 1219., 1220., 1288.,\n",
              "       1292.])"
            ]
          },
          "metadata": {},
          "execution_count": 44
        }
      ]
    },
    {
      "cell_type": "code",
      "metadata": {
        "id": "jzAVZq_ZSEJD"
      },
      "source": [
        "digit = []\n",
        "for num in Inspection_range:\n",
        "  #print(num)\n",
        "  #print(type(num))\n",
        "  digit.append(int(str(int(num))[-2:]))"
      ],
      "execution_count": 45,
      "outputs": []
    },
    {
      "cell_type": "code",
      "metadata": {
        "colab": {
          "base_uri": "https://localhost:8080/"
        },
        "id": "-yX3mS9NdQma",
        "outputId": "1bf5c88b-7b4e-4a1a-8ee7-103f7e21e085"
      },
      "source": [
        "#unique last 2 digits of the Inpection Year\n",
        "np.unique(digit)"
      ],
      "execution_count": 46,
      "outputs": [
        {
          "output_type": "execute_result",
          "data": {
            "text/plain": [
              "array([ 0,  1,  3,  4,  5,  6,  7,  8,  9, 10, 11, 12, 13, 14, 15, 16, 17,\n",
              "       18, 19, 20, 21, 24, 30, 88, 92, 93, 94, 95, 97, 98, 99])"
            ]
          },
          "metadata": {},
          "execution_count": 46
        }
      ]
    },
    {
      "cell_type": "code",
      "metadata": {
        "id": "xd8Kr_-WUn0F"
      },
      "source": [
        "year_list = []\n",
        "for i in digit:\n",
        "  if i < 10:\n",
        "    year_list.append(int('20' + '0' + str(i)))\n",
        "  elif i < 21:\n",
        "    year_list.append(int('20' + str(i)))\n",
        "  else:\n",
        "    year_list.append(int('19' + str(i)))\n",
        "\n"
      ],
      "execution_count": 47,
      "outputs": []
    },
    {
      "cell_type": "code",
      "metadata": {
        "colab": {
          "base_uri": "https://localhost:8080/",
          "height": 200
        },
        "id": "gjsv9f4fcElO",
        "outputId": "16c7821b-c9e9-4b07-c922-1f76a48c97d4"
      },
      "source": [
        "year_dict = { } \n",
        "for year in range(len(year_range)):\n",
        "  year_dict[year_range[year]] = year_list[year]\n"
      ],
      "execution_count": 50,
      "outputs": [
        {
          "output_type": "error",
          "ename": "IndexError",
          "evalue": "ignored",
          "traceback": [
            "\u001b[0;31m---------------------------------------------------------------------------\u001b[0m",
            "\u001b[0;31mIndexError\u001b[0m                                Traceback (most recent call last)",
            "\u001b[0;32m<ipython-input-50-34a1c6fef52c>\u001b[0m in \u001b[0;36m<module>\u001b[0;34m()\u001b[0m\n\u001b[1;32m      1\u001b[0m \u001b[0myear_dict\u001b[0m \u001b[0;34m=\u001b[0m \u001b[0;34m{\u001b[0m \u001b[0;34m}\u001b[0m\u001b[0;34m\u001b[0m\u001b[0;34m\u001b[0m\u001b[0m\n\u001b[1;32m      2\u001b[0m \u001b[0;32mfor\u001b[0m \u001b[0myear\u001b[0m \u001b[0;32min\u001b[0m \u001b[0mrange\u001b[0m\u001b[0;34m(\u001b[0m\u001b[0mlen\u001b[0m\u001b[0;34m(\u001b[0m\u001b[0myear_range\u001b[0m\u001b[0;34m)\u001b[0m\u001b[0;34m)\u001b[0m\u001b[0;34m:\u001b[0m\u001b[0;34m\u001b[0m\u001b[0;34m\u001b[0m\u001b[0m\n\u001b[0;32m----> 3\u001b[0;31m   \u001b[0myear_dict\u001b[0m\u001b[0;34m[\u001b[0m\u001b[0myear_range\u001b[0m\u001b[0;34m[\u001b[0m\u001b[0myear\u001b[0m\u001b[0;34m]\u001b[0m\u001b[0;34m]\u001b[0m \u001b[0;34m=\u001b[0m \u001b[0myear_list\u001b[0m\u001b[0;34m[\u001b[0m\u001b[0myear\u001b[0m\u001b[0;34m]\u001b[0m\u001b[0;34m\u001b[0m\u001b[0;34m\u001b[0m\u001b[0m\n\u001b[0m",
            "\u001b[0;31mIndexError\u001b[0m: list index out of range"
          ]
        }
      ]
    },
    {
      "cell_type": "code",
      "metadata": {
        "id": "J8zsXKbwcmub"
      },
      "source": [
        "year_dict"
      ],
      "execution_count": null,
      "outputs": []
    },
    {
      "cell_type": "code",
      "metadata": {
        "id": "0DWD7vdWVDlU"
      },
      "source": [
        "ConterminousUS['Inspection_Year'] = ConterminousUS['Year_Built']\n",
        "ConterminousUS['Inspection_Year'].replace(year_dict, inplace=True)"
      ],
      "execution_count": 70,
      "outputs": []
    },
    {
      "cell_type": "code",
      "metadata": {
        "colab": {
          "base_uri": "https://localhost:8080/"
        },
        "id": "mfkrgCyxSnLa",
        "outputId": "f048d9a4-5cd8-4302-9c3a-29bbe126cad8"
      },
      "source": [
        "np.unique(ConterminousUS['Inspection_Year'].values)"
      ],
      "execution_count": 71,
      "outputs": [
        {
          "output_type": "execute_result",
          "data": {
            "text/plain": [
              "array([1921., 1922., 1923., 1924., 1925., 1926., 1927., 1928., 1929.,\n",
              "       1930., 1931., 1932., 1933., 1934., 1935., 1936., 1937., 1938.,\n",
              "       1939., 1940., 1941., 1942., 1943., 1944., 1945., 1946., 1947.,\n",
              "       1948., 1949., 1950., 1951., 1952., 1953., 1954., 1955., 1956.,\n",
              "       1957., 1958., 1959., 1960., 1961., 1962., 1963., 1964., 1965.,\n",
              "       1966., 1967., 1968., 1969., 1970., 1971., 1972., 1973., 1974.,\n",
              "       1975., 1976., 1977., 1978., 1979., 1980., 1981., 1982., 1983.,\n",
              "       1984., 1985., 1986., 1987., 1988., 1989., 1990., 1991., 1992.,\n",
              "       1993., 1994., 1995., 1996., 1997., 1998., 1999., 2000., 2001.,\n",
              "       2002., 2003., 2004., 2005., 2006., 2007., 2008., 2009., 2010.,\n",
              "       2011., 2012., 2013., 2014., 2015., 2016., 2017., 2018., 2019.,\n",
              "       2020.])"
            ]
          },
          "metadata": {},
          "execution_count": 71
        }
      ]
    },
    {
      "cell_type": "code",
      "metadata": {
        "colab": {
          "base_uri": "https://localhost:8080/"
        },
        "id": "MlWL0QNId5Hq",
        "outputId": "18b8593c-728b-45b3-982a-2e360d066e34"
      },
      "source": [
        "type(np.unique(ConterminousUS['Inspection_Year'].values)[0])"
      ],
      "execution_count": 72,
      "outputs": [
        {
          "output_type": "execute_result",
          "data": {
            "text/plain": [
              "numpy.float64"
            ]
          },
          "metadata": {},
          "execution_count": 72
        }
      ]
    },
    {
      "cell_type": "code",
      "metadata": {
        "id": "GLYA2hoKStPX"
      },
      "source": [
        "\n",
        "# ConterminousUS['Inspection_Year'] = ConterminousUS['Year_Built']\n",
        "# for num in ConterminousUS['Year_Built']:\n",
        "#   digits = int(str(int(num))[-2:])\n",
        "#   print(digits)\n",
        "#   if digits < 10:\n",
        "#     ConterminousUS['Inspection_Year'].replace((int('20' + '0' + str(digits))), inplace=True)\n",
        "#   elif digits < 21:\n",
        "#     ConterminousUS['Inspection_Year'].replace((int('20' + str(digits))), inplace=True)\n",
        "#   else:\n",
        "#     ConterminousUS['Inspection_Year'].replace((int('19' + str(digits))), inplace=True)\n",
        "  "
      ],
      "execution_count": 73,
      "outputs": []
    },
    {
      "cell_type": "code",
      "metadata": {
        "colab": {
          "base_uri": "https://localhost:8080/"
        },
        "id": "wAmqblKPqV6b",
        "outputId": "e700533f-334c-4c53-ff3c-c4f29fe053ed"
      },
      "source": [
        "ConterminousUS.columns"
      ],
      "execution_count": 74,
      "outputs": [
        {
          "output_type": "execute_result",
          "data": {
            "text/plain": [
              "Index(['State_Code', 'Structure_Number', 'Year_Built', 'ADT', 'Skew',\n",
              "       'Main_Design_Type', 'Number_Spans', 'Length_Max_Span', 'Deck_Length',\n",
              "       'Deck_Width', 'Deck_Condition', 'Superstructure_Condition',\n",
              "       'Substructure_Condition', 'Reconstructed_Year', 'Deck_Design_Type',\n",
              "       'Wearing_Surface', 'Deck_Protection', 'ADTT', 'Latitude', 'Longitude',\n",
              "       'Freq_Shake_GT4', 'Max_Shake', 'Days_MinLT_0F', 'Days_MinLT_32F',\n",
              "       'Days_MaxGT_70F', 'Days_MaxGT_90F', 'Avg_Wind_Speed', 'Peak_Wind_Speed',\n",
              "       'Precipitation', 'Temp_Max', 'Temp_Mean', 'Temp_Min', 'State',\n",
              "       'Inspection_Year'],\n",
              "      dtype='object')"
            ]
          },
          "metadata": {},
          "execution_count": 74
        }
      ]
    },
    {
      "cell_type": "code",
      "metadata": {
        "id": "h8Ap8IcwrIGC"
      },
      "source": [
        "np.unique(ConterminousUS['Reconstructed_Year'].values)"
      ],
      "execution_count": null,
      "outputs": []
    },
    {
      "cell_type": "code",
      "metadata": {
        "id": "wQGNICOOwBT-"
      },
      "source": [
        "# ConterminousUS['Reconstructed'] = ConterminousUS['Reconstructed_Year']\n",
        "\n",
        "# for entry in ConterminousUS['Reconstructed']:\n",
        "#   #print(type(entry))\n",
        "#   if entry == 0:\n",
        "#     ConterminousUS['Reconstructed'] = 0\n",
        "#   else:\n",
        "#     ConterminousUS['Reconstructed'] = 1"
      ],
      "execution_count": null,
      "outputs": []
    },
    {
      "cell_type": "code",
      "metadata": {
        "id": "dwrZtdr25GVN"
      },
      "source": [
        "ConterminousUS['Reconstructed'] = ConterminousUS['Reconstructed_Year']"
      ],
      "execution_count": 93,
      "outputs": []
    },
    {
      "cell_type": "code",
      "metadata": {
        "id": "JLY95ZRe30HJ"
      },
      "source": [
        "reconstructed_values_list = ConterminousUS['Reconstructed'].values"
      ],
      "execution_count": 94,
      "outputs": []
    },
    {
      "cell_type": "code",
      "metadata": {
        "id": "-7WO5kQo5BEg"
      },
      "source": [
        "np.unique(reconstructed_values_list)"
      ],
      "execution_count": null,
      "outputs": []
    },
    {
      "cell_type": "code",
      "metadata": {
        "id": "whNps48y4c45"
      },
      "source": [
        "for i in range(0,len(reconstructed_values_list)):\n",
        "  if reconstructed_values_list[i] == 0:\n",
        "    reconstructed_values_list[i] = 0\n",
        "  else:\n",
        "    reconstructed_values_list[i] = 1"
      ],
      "execution_count": 96,
      "outputs": []
    },
    {
      "cell_type": "code",
      "metadata": {
        "colab": {
          "base_uri": "https://localhost:8080/"
        },
        "id": "uRqb8WPz44PL",
        "outputId": "5ca99385-196a-4af9-b9c4-a6d77789417d"
      },
      "source": [
        "np.unique(reconstructed_values_list)"
      ],
      "execution_count": 97,
      "outputs": [
        {
          "output_type": "execute_result",
          "data": {
            "text/plain": [
              "array([0., 1.])"
            ]
          },
          "metadata": {},
          "execution_count": 97
        }
      ]
    },
    {
      "cell_type": "code",
      "metadata": {
        "id": "shjScmCz42DV"
      },
      "source": [
        "ConterminousUS['Reconstructed'] = reconstructed_values_list"
      ],
      "execution_count": 98,
      "outputs": []
    },
    {
      "cell_type": "code",
      "metadata": {
        "id": "N3WEQPoK5Mw_"
      },
      "source": [
        "ConterminousUS[['Reconstructed_Year','Reconstructed']][10000:10020]"
      ],
      "execution_count": null,
      "outputs": []
    },
    {
      "cell_type": "code",
      "metadata": {
        "colab": {
          "base_uri": "https://localhost:8080/"
        },
        "id": "vVsBHgCl6GMO",
        "outputId": "c0c06c46-415e-4095-ed10-d6e86369d39f"
      },
      "source": [
        "#check the datatype of the reconstructed column entries\n",
        "type(ConterminousUS['Reconstructed'].values[0])"
      ],
      "execution_count": 106,
      "outputs": [
        {
          "output_type": "execute_result",
          "data": {
            "text/plain": [
              "numpy.float64"
            ]
          },
          "metadata": {},
          "execution_count": 106
        }
      ]
    },
    {
      "cell_type": "code",
      "metadata": {
        "id": "BEwWRRcXs1W5"
      },
      "source": [
        "Age_list = [] \n",
        "Inspection_list = []\n",
        "Year_Built_list = []\n",
        "Reconstructed_list = []\n",
        "\n",
        "Inspection_list = (ConterminousUS['Inspection_Year'].values)\n",
        "Year_Built_list = (ConterminousUS['Year_Built'].values)\n",
        "Reconstructed_list = (ConterminousUS['Reconstructed'].values)\n",
        "Reconstructed_Year_list = (ConterminousUS['Reconstructed_Year'].values)"
      ],
      "execution_count": 107,
      "outputs": []
    },
    {
      "cell_type": "code",
      "metadata": {
        "id": "bPc9EqqMuKdS"
      },
      "source": [
        "for index in range(0,len(Reconstructed_list)):\n",
        "  if Reconstructed_list[index] == 0:\n",
        "    Age_list.append(Inspection_list[index] - Year_Built_list[index])\n",
        "  else:\n",
        "    Age_list.append(Inspection_list[index] - Reconstructed_Year_list[index])"
      ],
      "execution_count": 108,
      "outputs": []
    },
    {
      "cell_type": "code",
      "metadata": {
        "colab": {
          "base_uri": "https://localhost:8080/"
        },
        "id": "HeqFV7ckvNY1",
        "outputId": "e04b29fd-a3f8-48f9-d00e-953158a4d87b"
      },
      "source": [
        "len(Age_list)"
      ],
      "execution_count": 109,
      "outputs": [
        {
          "output_type": "execute_result",
          "data": {
            "text/plain": [
              "612388"
            ]
          },
          "metadata": {},
          "execution_count": 109
        }
      ]
    },
    {
      "cell_type": "code",
      "metadata": {
        "colab": {
          "base_uri": "https://localhost:8080/"
        },
        "id": "36QB-TWwvQrg",
        "outputId": "b090e3bf-02ed-4685-ad1c-e9776f527fe4"
      },
      "source": [
        "type(Age_list[0])"
      ],
      "execution_count": 110,
      "outputs": [
        {
          "output_type": "execute_result",
          "data": {
            "text/plain": [
              "numpy.float64"
            ]
          },
          "metadata": {},
          "execution_count": 110
        }
      ]
    },
    {
      "cell_type": "code",
      "metadata": {
        "colab": {
          "base_uri": "https://localhost:8080/"
        },
        "id": "EEpwAr-TvZCf",
        "outputId": "c366b3f7-39d1-4512-c780-89eff86ca132"
      },
      "source": [
        "print(np.unique(Age_list))"
      ],
      "execution_count": 112,
      "outputs": [
        {
          "output_type": "stream",
          "text": [
            "[-1.250e+02 -1.060e+02 -1.000e+02 -9.700e+01 -9.600e+01 -9.500e+01\n",
            " -9.400e+01 -9.300e+01 -9.200e+01 -9.100e+01 -9.000e+01 -8.900e+01\n",
            " -8.800e+01 -8.700e+01 -8.600e+01 -8.500e+01 -8.400e+01 -8.300e+01\n",
            " -8.200e+01 -8.100e+01 -8.000e+01 -7.900e+01 -7.800e+01 -7.700e+01\n",
            " -7.600e+01 -7.500e+01 -7.400e+01 -7.300e+01 -7.200e+01 -7.100e+01\n",
            " -7.000e+01 -6.900e+01 -6.800e+01 -6.700e+01 -6.600e+01 -6.500e+01\n",
            " -6.400e+01 -6.300e+01 -6.200e+01 -6.100e+01 -6.000e+01 -5.900e+01\n",
            " -5.800e+01 -5.700e+01 -5.600e+01 -5.500e+01 -5.400e+01 -5.300e+01\n",
            " -5.200e+01 -5.100e+01 -5.000e+01 -4.900e+01 -4.800e+01 -4.700e+01\n",
            " -4.600e+01 -4.500e+01 -4.400e+01 -4.300e+01 -4.200e+01 -4.100e+01\n",
            " -4.000e+01 -3.900e+01 -3.800e+01 -3.700e+01 -3.600e+01 -3.500e+01\n",
            " -3.400e+01 -3.300e+01 -3.200e+01 -3.100e+01 -3.000e+01 -2.900e+01\n",
            " -2.800e+01 -2.700e+01 -2.600e+01 -2.500e+01 -2.400e+01 -2.300e+01\n",
            " -2.200e+01 -2.100e+01 -2.000e+01 -1.900e+01 -1.800e+01 -1.700e+01\n",
            " -1.600e+01 -1.500e+01 -1.400e+01 -1.300e+01 -1.200e+01 -1.100e+01\n",
            " -1.000e+01 -9.000e+00 -8.000e+00 -7.000e+00 -6.000e+00 -5.000e+00\n",
            " -4.000e+00 -3.000e+00 -2.000e+00 -1.000e+00  0.000e+00  1.000e+00\n",
            "  2.000e+00  3.000e+00  4.000e+00  5.000e+00  6.000e+00  7.000e+00\n",
            "  8.000e+00  9.000e+00  1.000e+01  1.100e+01  1.200e+01  1.300e+01\n",
            "  1.400e+01  1.500e+01  1.600e+01  1.700e+01  1.800e+01  1.900e+01\n",
            "  2.000e+01  2.100e+01  2.200e+01  2.300e+01  2.400e+01  2.500e+01\n",
            "  2.600e+01  2.700e+01  2.800e+01  2.900e+01  3.000e+01  3.100e+01\n",
            "  3.200e+01  3.300e+01  3.400e+01  3.500e+01  3.600e+01  3.700e+01\n",
            "  3.800e+01  3.900e+01  4.000e+01  4.100e+01  4.200e+01  4.300e+01\n",
            "  4.400e+01  4.500e+01  4.600e+01  4.700e+01  4.800e+01  4.900e+01\n",
            "  5.000e+01  5.100e+01  5.200e+01  5.300e+01  5.400e+01  5.500e+01\n",
            "  5.600e+01  5.700e+01  5.800e+01  5.900e+01  6.000e+01  6.100e+01\n",
            "  6.200e+01  6.300e+01  6.400e+01  6.500e+01  6.600e+01  6.700e+01\n",
            "  6.800e+01  6.900e+01  7.000e+01  7.100e+01  7.200e+01  7.300e+01\n",
            "  7.400e+01  7.500e+01  7.600e+01  7.700e+01  7.800e+01  7.900e+01\n",
            "  8.000e+01  8.100e+01  8.200e+01  8.300e+01  8.400e+01  8.500e+01\n",
            "  8.600e+01  8.700e+01  8.800e+01  8.900e+01  9.000e+01  9.100e+01\n",
            "  9.200e+01  9.300e+01  9.400e+01  9.500e+01  9.600e+01  9.700e+01\n",
            "  9.900e+01  1.000e+02  1.210e+02  1.250e+02  2.000e+02  1.967e+03\n",
            "  1.982e+03  1.988e+03  2.001e+03]\n"
          ],
          "name": "stdout"
        }
      ]
    },
    {
      "cell_type": "code",
      "metadata": {
        "colab": {
          "base_uri": "https://localhost:8080/",
          "height": 225
        },
        "id": "IFFYlVmAvhRq",
        "outputId": "92cc73f6-259d-4456-b5ca-63eaff298abc"
      },
      "source": [
        "ConterminousUS.head()"
      ],
      "execution_count": 113,
      "outputs": [
        {
          "output_type": "execute_result",
          "data": {
            "text/html": [
              "<div>\n",
              "<style scoped>\n",
              "    .dataframe tbody tr th:only-of-type {\n",
              "        vertical-align: middle;\n",
              "    }\n",
              "\n",
              "    .dataframe tbody tr th {\n",
              "        vertical-align: top;\n",
              "    }\n",
              "\n",
              "    .dataframe thead th {\n",
              "        text-align: right;\n",
              "    }\n",
              "</style>\n",
              "<table border=\"1\" class=\"dataframe\">\n",
              "  <thead>\n",
              "    <tr style=\"text-align: right;\">\n",
              "      <th></th>\n",
              "      <th>State_Code</th>\n",
              "      <th>Structure_Number</th>\n",
              "      <th>Year_Built</th>\n",
              "      <th>ADT</th>\n",
              "      <th>Skew</th>\n",
              "      <th>Main_Design_Type</th>\n",
              "      <th>Number_Spans</th>\n",
              "      <th>Length_Max_Span</th>\n",
              "      <th>Deck_Length</th>\n",
              "      <th>Deck_Width</th>\n",
              "      <th>Deck_Condition</th>\n",
              "      <th>Superstructure_Condition</th>\n",
              "      <th>Substructure_Condition</th>\n",
              "      <th>Reconstructed_Year</th>\n",
              "      <th>Deck_Design_Type</th>\n",
              "      <th>Wearing_Surface</th>\n",
              "      <th>Deck_Protection</th>\n",
              "      <th>ADTT</th>\n",
              "      <th>Latitude</th>\n",
              "      <th>Longitude</th>\n",
              "      <th>Freq_Shake_GT4</th>\n",
              "      <th>Max_Shake</th>\n",
              "      <th>Days_MinLT_0F</th>\n",
              "      <th>Days_MinLT_32F</th>\n",
              "      <th>Days_MaxGT_70F</th>\n",
              "      <th>Days_MaxGT_90F</th>\n",
              "      <th>Avg_Wind_Speed</th>\n",
              "      <th>Peak_Wind_Speed</th>\n",
              "      <th>Precipitation</th>\n",
              "      <th>Temp_Max</th>\n",
              "      <th>Temp_Mean</th>\n",
              "      <th>Temp_Min</th>\n",
              "      <th>State</th>\n",
              "      <th>Inspection_Year</th>\n",
              "      <th>Reconstructed</th>\n",
              "    </tr>\n",
              "  </thead>\n",
              "  <tbody>\n",
              "    <tr>\n",
              "      <th>0</th>\n",
              "      <td>01</td>\n",
              "      <td>00000000000S702</td>\n",
              "      <td>1999.0</td>\n",
              "      <td>50.0</td>\n",
              "      <td>30.0</td>\n",
              "      <td>5.0</td>\n",
              "      <td>1.0</td>\n",
              "      <td>14.7</td>\n",
              "      <td>15.0</td>\n",
              "      <td>9.7</td>\n",
              "      <td>8</td>\n",
              "      <td>8</td>\n",
              "      <td>7</td>\n",
              "      <td>0.0</td>\n",
              "      <td>2</td>\n",
              "      <td>6</td>\n",
              "      <td>1</td>\n",
              "      <td>1.0</td>\n",
              "      <td>31.103039</td>\n",
              "      <td>-87.570411</td>\n",
              "      <td>0</td>\n",
              "      <td>0.0</td>\n",
              "      <td>0</td>\n",
              "      <td>0</td>\n",
              "      <td>288</td>\n",
              "      <td>98</td>\n",
              "      <td>7.2</td>\n",
              "      <td>74.9</td>\n",
              "      <td>64.3871</td>\n",
              "      <td>79.1591</td>\n",
              "      <td>69.1455</td>\n",
              "      <td>59.1323</td>\n",
              "      <td>Alabama</td>\n",
              "      <td>1999.0</td>\n",
              "      <td>0.0</td>\n",
              "    </tr>\n",
              "    <tr>\n",
              "      <th>1</th>\n",
              "      <td>01</td>\n",
              "      <td>00000000000S703</td>\n",
              "      <td>2002.0</td>\n",
              "      <td>159.0</td>\n",
              "      <td>0.0</td>\n",
              "      <td>5.0</td>\n",
              "      <td>1.0</td>\n",
              "      <td>12.9</td>\n",
              "      <td>13.6</td>\n",
              "      <td>9.8</td>\n",
              "      <td>8</td>\n",
              "      <td>8</td>\n",
              "      <td>7</td>\n",
              "      <td>0.0</td>\n",
              "      <td>2</td>\n",
              "      <td>6</td>\n",
              "      <td>8</td>\n",
              "      <td>1.0</td>\n",
              "      <td>31.105611</td>\n",
              "      <td>-87.569139</td>\n",
              "      <td>0</td>\n",
              "      <td>0.0</td>\n",
              "      <td>0</td>\n",
              "      <td>0</td>\n",
              "      <td>288</td>\n",
              "      <td>98</td>\n",
              "      <td>7.2</td>\n",
              "      <td>74.9</td>\n",
              "      <td>60.9316</td>\n",
              "      <td>79.3499</td>\n",
              "      <td>69.3045</td>\n",
              "      <td>59.2592</td>\n",
              "      <td>Alabama</td>\n",
              "      <td>2002.0</td>\n",
              "      <td>0.0</td>\n",
              "    </tr>\n",
              "    <tr>\n",
              "      <th>2</th>\n",
              "      <td>01</td>\n",
              "      <td>000071</td>\n",
              "      <td>1913.0</td>\n",
              "      <td>45.0</td>\n",
              "      <td>0.0</td>\n",
              "      <td>3.0</td>\n",
              "      <td>1.0</td>\n",
              "      <td>9.4</td>\n",
              "      <td>24.4</td>\n",
              "      <td>5.0</td>\n",
              "      <td>5</td>\n",
              "      <td>6</td>\n",
              "      <td>5</td>\n",
              "      <td>1992.0</td>\n",
              "      <td>8</td>\n",
              "      <td>7</td>\n",
              "      <td>0</td>\n",
              "      <td>0.0</td>\n",
              "      <td>31.144725</td>\n",
              "      <td>-85.988081</td>\n",
              "      <td>0</td>\n",
              "      <td>0.0</td>\n",
              "      <td>0</td>\n",
              "      <td>0</td>\n",
              "      <td>307</td>\n",
              "      <td>125</td>\n",
              "      <td>5.1</td>\n",
              "      <td>59.1</td>\n",
              "      <td>70.2148</td>\n",
              "      <td>78.8630</td>\n",
              "      <td>67.8229</td>\n",
              "      <td>56.7833</td>\n",
              "      <td>Alabama</td>\n",
              "      <td>2013.0</td>\n",
              "      <td>1.0</td>\n",
              "    </tr>\n",
              "    <tr>\n",
              "      <th>3</th>\n",
              "      <td>01</td>\n",
              "      <td>000175</td>\n",
              "      <td>1921.0</td>\n",
              "      <td>2130.0</td>\n",
              "      <td>0.0</td>\n",
              "      <td>1.0</td>\n",
              "      <td>3.0</td>\n",
              "      <td>13.1</td>\n",
              "      <td>39.0</td>\n",
              "      <td>8.0</td>\n",
              "      <td>5</td>\n",
              "      <td>5</td>\n",
              "      <td>5</td>\n",
              "      <td>1935.0</td>\n",
              "      <td>1</td>\n",
              "      <td>0</td>\n",
              "      <td>0</td>\n",
              "      <td>8.0</td>\n",
              "      <td>31.488800</td>\n",
              "      <td>-86.053117</td>\n",
              "      <td>0</td>\n",
              "      <td>0.0</td>\n",
              "      <td>0</td>\n",
              "      <td>0</td>\n",
              "      <td>307</td>\n",
              "      <td>125</td>\n",
              "      <td>5.1</td>\n",
              "      <td>59.1</td>\n",
              "      <td>64.6249</td>\n",
              "      <td>78.9593</td>\n",
              "      <td>67.7732</td>\n",
              "      <td>56.5875</td>\n",
              "      <td>Alabama</td>\n",
              "      <td>1921.0</td>\n",
              "      <td>1.0</td>\n",
              "    </tr>\n",
              "    <tr>\n",
              "      <th>4</th>\n",
              "      <td>01</td>\n",
              "      <td>000207</td>\n",
              "      <td>1923.0</td>\n",
              "      <td>14820.0</td>\n",
              "      <td>0.0</td>\n",
              "      <td>1.0</td>\n",
              "      <td>3.0</td>\n",
              "      <td>6.7</td>\n",
              "      <td>18.6</td>\n",
              "      <td>17.3</td>\n",
              "      <td>5</td>\n",
              "      <td>5</td>\n",
              "      <td>5</td>\n",
              "      <td>0.0</td>\n",
              "      <td>1</td>\n",
              "      <td>6</td>\n",
              "      <td>0</td>\n",
              "      <td>3.0</td>\n",
              "      <td>31.222419</td>\n",
              "      <td>-85.393244</td>\n",
              "      <td>0</td>\n",
              "      <td>0.0</td>\n",
              "      <td>0</td>\n",
              "      <td>0</td>\n",
              "      <td>297</td>\n",
              "      <td>96</td>\n",
              "      <td>7.2</td>\n",
              "      <td>64.0</td>\n",
              "      <td>62.4064</td>\n",
              "      <td>78.7996</td>\n",
              "      <td>68.4901</td>\n",
              "      <td>58.1810</td>\n",
              "      <td>Alabama</td>\n",
              "      <td>1923.0</td>\n",
              "      <td>0.0</td>\n",
              "    </tr>\n",
              "  </tbody>\n",
              "</table>\n",
              "</div>"
            ],
            "text/plain": [
              "  State_Code Structure_Number  ...  Inspection_Year  Reconstructed\n",
              "0         01  00000000000S702  ...           1999.0            0.0\n",
              "1         01  00000000000S703  ...           2002.0            0.0\n",
              "2         01           000071  ...           2013.0            1.0\n",
              "3         01           000175  ...           1921.0            1.0\n",
              "4         01           000207  ...           1923.0            0.0\n",
              "\n",
              "[5 rows x 35 columns]"
            ]
          },
          "metadata": {},
          "execution_count": 113
        }
      ]
    },
    {
      "cell_type": "code",
      "metadata": {
        "colab": {
          "base_uri": "https://localhost:8080/",
          "height": 569
        },
        "id": "oG_ArTTD7_Kj",
        "outputId": "611bf343-3abd-4d22-e0e9-c4b6790559d6"
      },
      "source": [
        "ConterminousUS['Inspection_Date']"
      ],
      "execution_count": 114,
      "outputs": [
        {
          "output_type": "error",
          "ename": "KeyError",
          "evalue": "ignored",
          "traceback": [
            "\u001b[0;31m---------------------------------------------------------------------------\u001b[0m",
            "\u001b[0;31mKeyError\u001b[0m                                  Traceback (most recent call last)",
            "\u001b[0;32m/usr/local/lib/python3.7/dist-packages/pandas/core/indexes/base.py\u001b[0m in \u001b[0;36mget_loc\u001b[0;34m(self, key, method, tolerance)\u001b[0m\n\u001b[1;32m   2897\u001b[0m             \u001b[0;32mtry\u001b[0m\u001b[0;34m:\u001b[0m\u001b[0;34m\u001b[0m\u001b[0;34m\u001b[0m\u001b[0m\n\u001b[0;32m-> 2898\u001b[0;31m                 \u001b[0;32mreturn\u001b[0m \u001b[0mself\u001b[0m\u001b[0;34m.\u001b[0m\u001b[0m_engine\u001b[0m\u001b[0;34m.\u001b[0m\u001b[0mget_loc\u001b[0m\u001b[0;34m(\u001b[0m\u001b[0mcasted_key\u001b[0m\u001b[0;34m)\u001b[0m\u001b[0;34m\u001b[0m\u001b[0;34m\u001b[0m\u001b[0m\n\u001b[0m\u001b[1;32m   2899\u001b[0m             \u001b[0;32mexcept\u001b[0m \u001b[0mKeyError\u001b[0m \u001b[0;32mas\u001b[0m \u001b[0merr\u001b[0m\u001b[0;34m:\u001b[0m\u001b[0;34m\u001b[0m\u001b[0;34m\u001b[0m\u001b[0m\n",
            "\u001b[0;32mpandas/_libs/index.pyx\u001b[0m in \u001b[0;36mpandas._libs.index.IndexEngine.get_loc\u001b[0;34m()\u001b[0m\n",
            "\u001b[0;32mpandas/_libs/index.pyx\u001b[0m in \u001b[0;36mpandas._libs.index.IndexEngine.get_loc\u001b[0;34m()\u001b[0m\n",
            "\u001b[0;32mpandas/_libs/hashtable_class_helper.pxi\u001b[0m in \u001b[0;36mpandas._libs.hashtable.PyObjectHashTable.get_item\u001b[0;34m()\u001b[0m\n",
            "\u001b[0;32mpandas/_libs/hashtable_class_helper.pxi\u001b[0m in \u001b[0;36mpandas._libs.hashtable.PyObjectHashTable.get_item\u001b[0;34m()\u001b[0m\n",
            "\u001b[0;31mKeyError\u001b[0m: 'Inspection_Date'",
            "\nThe above exception was the direct cause of the following exception:\n",
            "\u001b[0;31mKeyError\u001b[0m                                  Traceback (most recent call last)",
            "\u001b[0;32m<ipython-input-114-6b5384b882a4>\u001b[0m in \u001b[0;36m<module>\u001b[0;34m()\u001b[0m\n\u001b[0;32m----> 1\u001b[0;31m \u001b[0mConterminousUS\u001b[0m\u001b[0;34m[\u001b[0m\u001b[0;34m'Inspection_Date'\u001b[0m\u001b[0;34m]\u001b[0m\u001b[0;34m\u001b[0m\u001b[0;34m\u001b[0m\u001b[0m\n\u001b[0m",
            "\u001b[0;32m/usr/local/lib/python3.7/dist-packages/geopandas/geodataframe.py\u001b[0m in \u001b[0;36m__getitem__\u001b[0;34m(self, key)\u001b[0m\n\u001b[1;32m   1297\u001b[0m         \u001b[0mGeoDataFrame\u001b[0m\u001b[0;34m.\u001b[0m\u001b[0;34m\u001b[0m\u001b[0;34m\u001b[0m\u001b[0m\n\u001b[1;32m   1298\u001b[0m         \"\"\"\n\u001b[0;32m-> 1299\u001b[0;31m         \u001b[0mresult\u001b[0m \u001b[0;34m=\u001b[0m \u001b[0msuper\u001b[0m\u001b[0;34m(\u001b[0m\u001b[0mGeoDataFrame\u001b[0m\u001b[0;34m,\u001b[0m \u001b[0mself\u001b[0m\u001b[0;34m)\u001b[0m\u001b[0;34m.\u001b[0m\u001b[0m__getitem__\u001b[0m\u001b[0;34m(\u001b[0m\u001b[0mkey\u001b[0m\u001b[0;34m)\u001b[0m\u001b[0;34m\u001b[0m\u001b[0;34m\u001b[0m\u001b[0m\n\u001b[0m\u001b[1;32m   1300\u001b[0m         \u001b[0mgeo_col\u001b[0m \u001b[0;34m=\u001b[0m \u001b[0mself\u001b[0m\u001b[0;34m.\u001b[0m\u001b[0m_geometry_column_name\u001b[0m\u001b[0;34m\u001b[0m\u001b[0;34m\u001b[0m\u001b[0m\n\u001b[1;32m   1301\u001b[0m         \u001b[0;32mif\u001b[0m \u001b[0misinstance\u001b[0m\u001b[0;34m(\u001b[0m\u001b[0mresult\u001b[0m\u001b[0;34m,\u001b[0m \u001b[0mSeries\u001b[0m\u001b[0;34m)\u001b[0m \u001b[0;32mand\u001b[0m \u001b[0misinstance\u001b[0m\u001b[0;34m(\u001b[0m\u001b[0mresult\u001b[0m\u001b[0;34m.\u001b[0m\u001b[0mdtype\u001b[0m\u001b[0;34m,\u001b[0m \u001b[0mGeometryDtype\u001b[0m\u001b[0;34m)\u001b[0m\u001b[0;34m:\u001b[0m\u001b[0;34m\u001b[0m\u001b[0;34m\u001b[0m\u001b[0m\n",
            "\u001b[0;32m/usr/local/lib/python3.7/dist-packages/pandas/core/frame.py\u001b[0m in \u001b[0;36m__getitem__\u001b[0;34m(self, key)\u001b[0m\n\u001b[1;32m   2904\u001b[0m             \u001b[0;32mif\u001b[0m \u001b[0mself\u001b[0m\u001b[0;34m.\u001b[0m\u001b[0mcolumns\u001b[0m\u001b[0;34m.\u001b[0m\u001b[0mnlevels\u001b[0m \u001b[0;34m>\u001b[0m \u001b[0;36m1\u001b[0m\u001b[0;34m:\u001b[0m\u001b[0;34m\u001b[0m\u001b[0;34m\u001b[0m\u001b[0m\n\u001b[1;32m   2905\u001b[0m                 \u001b[0;32mreturn\u001b[0m \u001b[0mself\u001b[0m\u001b[0;34m.\u001b[0m\u001b[0m_getitem_multilevel\u001b[0m\u001b[0;34m(\u001b[0m\u001b[0mkey\u001b[0m\u001b[0;34m)\u001b[0m\u001b[0;34m\u001b[0m\u001b[0;34m\u001b[0m\u001b[0m\n\u001b[0;32m-> 2906\u001b[0;31m             \u001b[0mindexer\u001b[0m \u001b[0;34m=\u001b[0m \u001b[0mself\u001b[0m\u001b[0;34m.\u001b[0m\u001b[0mcolumns\u001b[0m\u001b[0;34m.\u001b[0m\u001b[0mget_loc\u001b[0m\u001b[0;34m(\u001b[0m\u001b[0mkey\u001b[0m\u001b[0;34m)\u001b[0m\u001b[0;34m\u001b[0m\u001b[0;34m\u001b[0m\u001b[0m\n\u001b[0m\u001b[1;32m   2907\u001b[0m             \u001b[0;32mif\u001b[0m \u001b[0mis_integer\u001b[0m\u001b[0;34m(\u001b[0m\u001b[0mindexer\u001b[0m\u001b[0;34m)\u001b[0m\u001b[0;34m:\u001b[0m\u001b[0;34m\u001b[0m\u001b[0;34m\u001b[0m\u001b[0m\n\u001b[1;32m   2908\u001b[0m                 \u001b[0mindexer\u001b[0m \u001b[0;34m=\u001b[0m \u001b[0;34m[\u001b[0m\u001b[0mindexer\u001b[0m\u001b[0;34m]\u001b[0m\u001b[0;34m\u001b[0m\u001b[0;34m\u001b[0m\u001b[0m\n",
            "\u001b[0;32m/usr/local/lib/python3.7/dist-packages/pandas/core/indexes/base.py\u001b[0m in \u001b[0;36mget_loc\u001b[0;34m(self, key, method, tolerance)\u001b[0m\n\u001b[1;32m   2898\u001b[0m                 \u001b[0;32mreturn\u001b[0m \u001b[0mself\u001b[0m\u001b[0;34m.\u001b[0m\u001b[0m_engine\u001b[0m\u001b[0;34m.\u001b[0m\u001b[0mget_loc\u001b[0m\u001b[0;34m(\u001b[0m\u001b[0mcasted_key\u001b[0m\u001b[0;34m)\u001b[0m\u001b[0;34m\u001b[0m\u001b[0;34m\u001b[0m\u001b[0m\n\u001b[1;32m   2899\u001b[0m             \u001b[0;32mexcept\u001b[0m \u001b[0mKeyError\u001b[0m \u001b[0;32mas\u001b[0m \u001b[0merr\u001b[0m\u001b[0;34m:\u001b[0m\u001b[0;34m\u001b[0m\u001b[0;34m\u001b[0m\u001b[0m\n\u001b[0;32m-> 2900\u001b[0;31m                 \u001b[0;32mraise\u001b[0m \u001b[0mKeyError\u001b[0m\u001b[0;34m(\u001b[0m\u001b[0mkey\u001b[0m\u001b[0;34m)\u001b[0m \u001b[0;32mfrom\u001b[0m \u001b[0merr\u001b[0m\u001b[0;34m\u001b[0m\u001b[0;34m\u001b[0m\u001b[0m\n\u001b[0m\u001b[1;32m   2901\u001b[0m \u001b[0;34m\u001b[0m\u001b[0m\n\u001b[1;32m   2902\u001b[0m         \u001b[0;32mif\u001b[0m \u001b[0mtolerance\u001b[0m \u001b[0;32mis\u001b[0m \u001b[0;32mnot\u001b[0m \u001b[0;32mNone\u001b[0m\u001b[0;34m:\u001b[0m\u001b[0;34m\u001b[0m\u001b[0;34m\u001b[0m\u001b[0m\n",
            "\u001b[0;31mKeyError\u001b[0m: 'Inspection_Date'"
          ]
        }
      ]
    },
    {
      "cell_type": "code",
      "metadata": {
        "id": "Os_TONP18ZkX"
      },
      "source": [
        ""
      ],
      "execution_count": null,
      "outputs": []
    }
  ]
}