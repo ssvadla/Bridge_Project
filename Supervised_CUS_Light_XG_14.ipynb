{
  "nbformat": 4,
  "nbformat_minor": 0,
  "metadata": {
    "colab": {
      "name": "Supervised_CUS_Light_XG_14.ipynb",
      "provenance": [],
      "collapsed_sections": [],
      "authorship_tag": "ABX9TyO8wjSfSJyTPC3XoGrTIi2k",
      "include_colab_link": true
    },
    "kernelspec": {
      "name": "python3",
      "display_name": "Python 3"
    },
    "language_info": {
      "name": "python"
    }
  },
  "cells": [
    {
      "cell_type": "markdown",
      "metadata": {
        "id": "view-in-github",
        "colab_type": "text"
      },
      "source": [
        "<a href=\"https://colab.research.google.com/github/ssvadla/Bridge_Project/blob/main/Supervised_CUS_Light_XG_14.ipynb\" target=\"_parent\"><img src=\"https://colab.research.google.com/assets/colab-badge.svg\" alt=\"Open In Colab\"/></a>"
      ]
    },
    {
      "cell_type": "code",
      "metadata": {
        "colab": {
          "base_uri": "https://localhost:8080/"
        },
        "id": "SA-WFO4jN_FT",
        "outputId": "fbd0e7c7-194f-4bde-dca4-30e1e0da34f3"
      },
      "source": [
        "import pandas as pd\n",
        "import time\n",
        "import numpy as np\n",
        "from google.colab import drive\n",
        "\n",
        "drive.mount('/content/drive')"
      ],
      "execution_count": 56,
      "outputs": [
        {
          "output_type": "stream",
          "name": "stdout",
          "text": [
            "Drive already mounted at /content/drive; to attempt to forcibly remount, call drive.mount(\"/content/drive\", force_remount=True).\n"
          ]
        }
      ]
    },
    {
      "cell_type": "code",
      "metadata": {
        "id": "6ko57kYHOEP5"
      },
      "source": [
        "train = pd.read_csv('/content/drive/My Drive/Bridge_Project/ConterminousUS/ConterminousUSPre.csv')\n",
        "#train = pd.read_csv('/content/drive/My Drive/Bridge_Project/Dataset_1/ConterminousUSPre5StatesKnownTrain.csv')"
      ],
      "execution_count": 57,
      "outputs": []
    },
    {
      "cell_type": "code",
      "metadata": {
        "colab": {
          "base_uri": "https://localhost:8080/"
        },
        "id": "2g-X-u_5OL0L",
        "outputId": "0159625e-d1ca-4429-acc3-0b36039c39be"
      },
      "source": [
        "train.columns"
      ],
      "execution_count": 58,
      "outputs": [
        {
          "output_type": "execute_result",
          "data": {
            "text/plain": [
              "Index(['Unnamed: 0', 'Skew', 'Number_Spans', 'Length_Max_Span',\n",
              "       'Main_Design_Type', 'Deck_Design_Type', 'Wearing_Surface',\n",
              "       'Deck_Protection', 'ADT', 'ADTT', 'State', 'Structure_Number',\n",
              "       'Latitude', 'Longitude', 'Deck_Condition', 'Superstructure_Condition',\n",
              "       'Substructure_Condition', 'Freq_Shake_GT4', 'Max_Shake',\n",
              "       'Days_MinLT_0F', 'Days_MinLT_32F', 'Days_MaxGT_70F', 'Days_MaxGT_90F',\n",
              "       'Avg_Wind_Speed', 'Peak_Wind_Speed', 'Precipitation', 'Temp_Max',\n",
              "       'Temp_Mean', 'Temp_Min', 'Reconstructed', 'Age', 'Deck_Area'],\n",
              "      dtype='object')"
            ]
          },
          "metadata": {},
          "execution_count": 58
        }
      ]
    },
    {
      "cell_type": "code",
      "metadata": {
        "id": "36dwEyP2ONO3"
      },
      "source": [
        "#Excluded_columns = ['Unnamed: 0','State', 'Structure_Number', 'Latitude', 'Longitude', 'Superstructure_Condition', 'Substructure_Condition']\n",
        "#Excluded_columns = ['Unnamed: 0','State', 'Structure_Number', 'Latitude', 'Longitude']\n",
        "Excluded_columns = ['Unnamed: 0','State', 'Structure_Number', 'Latitude', 'Longitude','Days_MinLT_0F','Days_MaxGT_90F','Avg_Wind_Speed','Peak_Wind_Speed','Peak_Wind_Speed','Precipitation']"
      ],
      "execution_count": 59,
      "outputs": []
    },
    {
      "cell_type": "code",
      "metadata": {
        "id": "LFyr9XbZO7pV"
      },
      "source": [
        "train = train.drop(columns = Excluded_columns)"
      ],
      "execution_count": 60,
      "outputs": []
    },
    {
      "cell_type": "code",
      "metadata": {
        "colab": {
          "base_uri": "https://localhost:8080/"
        },
        "id": "fm9gTgD5tV_V",
        "outputId": "c49e1b2e-787d-4f25-e715-1e8ddbcd1aa2"
      },
      "source": [
        "train.columns"
      ],
      "execution_count": 61,
      "outputs": [
        {
          "output_type": "execute_result",
          "data": {
            "text/plain": [
              "Index(['Skew', 'Number_Spans', 'Length_Max_Span', 'Main_Design_Type',\n",
              "       'Deck_Design_Type', 'Wearing_Surface', 'Deck_Protection', 'ADT', 'ADTT',\n",
              "       'Deck_Condition', 'Superstructure_Condition', 'Substructure_Condition',\n",
              "       'Freq_Shake_GT4', 'Max_Shake', 'Days_MinLT_32F', 'Days_MaxGT_70F',\n",
              "       'Temp_Max', 'Temp_Mean', 'Temp_Min', 'Reconstructed', 'Age',\n",
              "       'Deck_Area'],\n",
              "      dtype='object')"
            ]
          },
          "metadata": {},
          "execution_count": 61
        }
      ]
    },
    {
      "cell_type": "code",
      "metadata": {
        "colab": {
          "base_uri": "https://localhost:8080/"
        },
        "id": "z_rXnq0KPA9A",
        "outputId": "d04ebab6-979b-4ac2-ad31-e73a76701019"
      },
      "source": [
        "train.shape"
      ],
      "execution_count": 63,
      "outputs": [
        {
          "output_type": "execute_result",
          "data": {
            "text/plain": [
              "(409546, 22)"
            ]
          },
          "metadata": {},
          "execution_count": 63
        }
      ]
    },
    {
      "cell_type": "code",
      "metadata": {
        "colab": {
          "base_uri": "https://localhost:8080/"
        },
        "id": "b_81fUoR-mZY",
        "outputId": "b82e278f-9a53-4a5e-bd65-412f5e07d2e3"
      },
      "source": [
        "(np.unique(train['Superstructure_Condition'].values))"
      ],
      "execution_count": 64,
      "outputs": [
        {
          "output_type": "execute_result",
          "data": {
            "text/plain": [
              "array(['0', '1', '2', '3', '4', '5', '6', '7', '8', '9', 'N'],\n",
              "      dtype=object)"
            ]
          },
          "metadata": {},
          "execution_count": 64
        }
      ]
    },
    {
      "cell_type": "code",
      "metadata": {
        "id": "v-fjzZ_cQMHm"
      },
      "source": [
        "from sklearn import preprocessing\n",
        "le = preprocessing.LabelEncoder()\n",
        "train['Main_Design_Type_Encoded'] = le.fit_transform(train['Main_Design_Type'])\n",
        "train['Deck_Design_Type_Encoded'] = le.fit_transform(train['Deck_Design_Type'])\n",
        "train['Wearing_Surface_Encoded'] = le.fit_transform(train['Wearing_Surface'])\n",
        "train['Deck_Protection_Encoded'] = le.fit_transform(train['Deck_Protection'])\n",
        "#train['Superstructure_Condition_Encoded'] = le.fit_transform(train['Superstructure_Condition'])\n"
      ],
      "execution_count": 65,
      "outputs": []
    },
    {
      "cell_type": "code",
      "metadata": {
        "id": "dUXIIeiNa3za"
      },
      "source": [
        " count = 0\n",
        " for value in train['Substructure_Condition']:\n",
        "   #print(value)\n",
        "   if value == 'N':\n",
        "     print(\"Yes\")\n",
        "     count = count + 1"
      ],
      "execution_count": null,
      "outputs": []
    },
    {
      "cell_type": "code",
      "metadata": {
        "colab": {
          "base_uri": "https://localhost:8080/"
        },
        "id": "YGBt83xixN03",
        "outputId": "599d263a-fc05-4f22-d740-450864f52352"
      },
      "source": [
        "count"
      ],
      "execution_count": 67,
      "outputs": [
        {
          "output_type": "execute_result",
          "data": {
            "text/plain": [
              "26562"
            ]
          },
          "metadata": {},
          "execution_count": 67
        }
      ]
    },
    {
      "cell_type": "code",
      "metadata": {
        "id": "12oTTKVybXn6"
      },
      "source": [
        "indexNames = train[ train['Substructure_Condition'] == 'N' ].index"
      ],
      "execution_count": 68,
      "outputs": []
    },
    {
      "cell_type": "code",
      "metadata": {
        "colab": {
          "base_uri": "https://localhost:8080/"
        },
        "id": "EL9TJCcib0ZT",
        "outputId": "68a88af4-fe8e-49b5-f1ed-447cbc8235b3"
      },
      "source": [
        "indexNames"
      ],
      "execution_count": 69,
      "outputs": [
        {
          "output_type": "execute_result",
          "data": {
            "text/plain": [
              "Int64Index([    19,     28,     73,    114,    148,    181,    193,    220,\n",
              "               223,    257,\n",
              "            ...\n",
              "            408879, 408892, 408900, 408920, 409055, 409118, 409149, 409208,\n",
              "            409278, 409377],\n",
              "           dtype='int64', length=26562)"
            ]
          },
          "metadata": {},
          "execution_count": 69
        }
      ]
    },
    {
      "cell_type": "code",
      "metadata": {
        "colab": {
          "base_uri": "https://localhost:8080/"
        },
        "id": "-_hm5MYSlPcX",
        "outputId": "f00d2f02-f3a6-4ca6-a40d-1675849b71ed"
      },
      "source": [
        "train.shape"
      ],
      "execution_count": 70,
      "outputs": [
        {
          "output_type": "execute_result",
          "data": {
            "text/plain": [
              "(409546, 26)"
            ]
          },
          "metadata": {},
          "execution_count": 70
        }
      ]
    },
    {
      "cell_type": "code",
      "metadata": {
        "id": "2iJBIeTSlMjH"
      },
      "source": [
        "train.drop(indexNames , inplace=True)"
      ],
      "execution_count": 71,
      "outputs": []
    },
    {
      "cell_type": "code",
      "metadata": {
        "colab": {
          "base_uri": "https://localhost:8080/"
        },
        "id": "wl9zD_RjlSDE",
        "outputId": "d557b1a6-9ea2-45c2-d800-9f44fd95a395"
      },
      "source": [
        "train.shape"
      ],
      "execution_count": 72,
      "outputs": [
        {
          "output_type": "execute_result",
          "data": {
            "text/plain": [
              "(382984, 26)"
            ]
          },
          "metadata": {},
          "execution_count": 72
        }
      ]
    },
    {
      "cell_type": "code",
      "metadata": {
        "id": "4HjlSJ5calmP"
      },
      "source": [
        "train['Substructure_Condition_typed']= pd.to_numeric(train['Substructure_Condition'])"
      ],
      "execution_count": 73,
      "outputs": []
    },
    {
      "cell_type": "code",
      "metadata": {
        "colab": {
          "base_uri": "https://localhost:8080/"
        },
        "id": "vsynVarhaC1T",
        "outputId": "40b16d71-42bd-4d05-98a5-da0fe56aee8a"
      },
      "source": [
        "np.unique(train['Substructure_Condition_typed'].values)"
      ],
      "execution_count": 74,
      "outputs": [
        {
          "output_type": "execute_result",
          "data": {
            "text/plain": [
              "array([0, 1, 2, 3, 4, 5, 6, 7, 8, 9])"
            ]
          },
          "metadata": {},
          "execution_count": 74
        }
      ]
    },
    {
      "cell_type": "code",
      "metadata": {
        "colab": {
          "base_uri": "https://localhost:8080/"
        },
        "id": "WDgH2EvOjVNS",
        "outputId": "420ba375-4b42-4185-c84d-6402c6b55f65"
      },
      "source": [
        " count = 0\n",
        " for value in train['Superstructure_Condition']:\n",
        "   #print(value)\n",
        "   if value == 'N':\n",
        "     print(\"Yes\")\n",
        "     count = count + 1"
      ],
      "execution_count": 75,
      "outputs": [
        {
          "output_type": "stream",
          "name": "stdout",
          "text": [
            "Yes\n",
            "Yes\n",
            "Yes\n",
            "Yes\n",
            "Yes\n",
            "Yes\n",
            "Yes\n",
            "Yes\n",
            "Yes\n",
            "Yes\n",
            "Yes\n",
            "Yes\n",
            "Yes\n",
            "Yes\n",
            "Yes\n",
            "Yes\n",
            "Yes\n",
            "Yes\n",
            "Yes\n"
          ]
        }
      ]
    },
    {
      "cell_type": "code",
      "metadata": {
        "colab": {
          "base_uri": "https://localhost:8080/"
        },
        "id": "qLaCNl2xjevZ",
        "outputId": "c3bdb599-c71f-4a5d-dfb1-7754f80de39b"
      },
      "source": [
        "count"
      ],
      "execution_count": 76,
      "outputs": [
        {
          "output_type": "execute_result",
          "data": {
            "text/plain": [
              "19"
            ]
          },
          "metadata": {},
          "execution_count": 76
        }
      ]
    },
    {
      "cell_type": "code",
      "metadata": {
        "id": "mt29IQMHjgsy"
      },
      "source": [
        "indexNames_super = train[ train['Superstructure_Condition'] == 'N' ].index"
      ],
      "execution_count": 77,
      "outputs": []
    },
    {
      "cell_type": "code",
      "metadata": {
        "id": "dWOnDRExj76N"
      },
      "source": [
        "train.drop(indexNames_super , inplace=True)"
      ],
      "execution_count": 78,
      "outputs": []
    },
    {
      "cell_type": "code",
      "metadata": {
        "colab": {
          "base_uri": "https://localhost:8080/"
        },
        "id": "1U7kLvpWkBKH",
        "outputId": "cbdd37ad-24a2-48a3-bc49-8a40704dc650"
      },
      "source": [
        "train.shape"
      ],
      "execution_count": 79,
      "outputs": [
        {
          "output_type": "execute_result",
          "data": {
            "text/plain": [
              "(382965, 27)"
            ]
          },
          "metadata": {},
          "execution_count": 79
        }
      ]
    },
    {
      "cell_type": "code",
      "metadata": {
        "id": "oGi_ZSo5kOv1"
      },
      "source": [
        "train['Superstructure_Condition_typed']= pd.to_numeric(train['Superstructure_Condition'])"
      ],
      "execution_count": 80,
      "outputs": []
    },
    {
      "cell_type": "code",
      "metadata": {
        "id": "irpeYZM2lY1u"
      },
      "source": [
        "train['Substructure_Condition_Encoded'] = le.fit_transform(train['Substructure_Condition_typed'])\n",
        "train['Superstructure_Condition_Encoded'] = le.fit_transform(train['Superstructure_Condition_typed'])"
      ],
      "execution_count": 81,
      "outputs": []
    },
    {
      "cell_type": "code",
      "metadata": {
        "id": "enYZo-ONPCqC"
      },
      "source": [
        "import lightgbm as lgb\n",
        "classifier_lgb = lgb.LGBMClassifier()"
      ],
      "execution_count": 82,
      "outputs": []
    },
    {
      "cell_type": "code",
      "metadata": {
        "id": "-4KWHctoQczx"
      },
      "source": [
        "X = train.drop(columns=['Deck_Condition','Main_Design_Type','Deck_Design_Type','Wearing_Surface','Deck_Protection','Substructure_Condition_typed','Substructure_Condition','Superstructure_Condition_typed','Superstructure_Condition']) \n"
      ],
      "execution_count": 83,
      "outputs": []
    },
    {
      "cell_type": "code",
      "metadata": {
        "id": "DyfHOb3uQvEH"
      },
      "source": [
        "y = train['Deck_Condition']"
      ],
      "execution_count": 84,
      "outputs": []
    },
    {
      "cell_type": "code",
      "metadata": {
        "id": "Nee7rTDvm3Xn"
      },
      "source": [
        ""
      ],
      "execution_count": 85,
      "outputs": []
    },
    {
      "cell_type": "code",
      "metadata": {
        "colab": {
          "base_uri": "https://localhost:8080/"
        },
        "id": "9_sVtbkNQ6qp",
        "outputId": "efbfc7da-93ec-4839-a9b7-1a3db351bc54"
      },
      "source": [
        "X.shape"
      ],
      "execution_count": 86,
      "outputs": [
        {
          "output_type": "execute_result",
          "data": {
            "text/plain": [
              "(382965, 21)"
            ]
          },
          "metadata": {},
          "execution_count": 86
        }
      ]
    },
    {
      "cell_type": "code",
      "metadata": {
        "colab": {
          "base_uri": "https://localhost:8080/"
        },
        "id": "MC64H7NJt6uK",
        "outputId": "228fba45-a0cf-4860-9924-6cfbb889b4ca"
      },
      "source": [
        "X.columns"
      ],
      "execution_count": 87,
      "outputs": [
        {
          "output_type": "execute_result",
          "data": {
            "text/plain": [
              "Index(['Skew', 'Number_Spans', 'Length_Max_Span', 'ADT', 'ADTT',\n",
              "       'Freq_Shake_GT4', 'Max_Shake', 'Days_MinLT_32F', 'Days_MaxGT_70F',\n",
              "       'Temp_Max', 'Temp_Mean', 'Temp_Min', 'Reconstructed', 'Age',\n",
              "       'Deck_Area', 'Main_Design_Type_Encoded', 'Deck_Design_Type_Encoded',\n",
              "       'Wearing_Surface_Encoded', 'Deck_Protection_Encoded',\n",
              "       'Substructure_Condition_Encoded', 'Superstructure_Condition_Encoded'],\n",
              "      dtype='object')"
            ]
          },
          "metadata": {},
          "execution_count": 87
        }
      ]
    },
    {
      "cell_type": "code",
      "metadata": {
        "id": "n-HPi8M4xOMU"
      },
      "source": [
        "Extra_Excluded = ['Freq_Shake_GT4','Max_Shake','Days_MinLT_32F','Days_MaxGT_70F','Temp_Max','Temp_Mean','Temp_Min']"
      ],
      "execution_count": 89,
      "outputs": []
    },
    {
      "cell_type": "code",
      "metadata": {
        "id": "2JK6wWGNyCTj"
      },
      "source": [
        "X = X.drop(columns = Extra_Excluded)"
      ],
      "execution_count": 90,
      "outputs": []
    },
    {
      "cell_type": "code",
      "metadata": {
        "colab": {
          "base_uri": "https://localhost:8080/"
        },
        "id": "5dvxQseMxW1x",
        "outputId": "01065634-1c6c-4f8c-e9c1-a224e5a3f04b"
      },
      "source": [
        "X.shape"
      ],
      "execution_count": 91,
      "outputs": [
        {
          "output_type": "execute_result",
          "data": {
            "text/plain": [
              "(382965, 14)"
            ]
          },
          "metadata": {},
          "execution_count": 91
        }
      ]
    },
    {
      "cell_type": "code",
      "metadata": {
        "id": "se7RkDx2yT3j"
      },
      "source": [
        "from sklearn.model_selection import train_test_split\n",
        "X_train, x_test, Y_train, y_test = train_test_split(X,y,test_size=0.20,random_state=42)\n"
      ],
      "execution_count": 92,
      "outputs": []
    },
    {
      "cell_type": "code",
      "metadata": {
        "colab": {
          "base_uri": "https://localhost:8080/"
        },
        "id": "Z5B3wHrNQy4-",
        "outputId": "25f9dbeb-9a87-448a-aa88-f25abcea2a5a"
      },
      "source": [
        "start = time.time()\n",
        "classifier_lgb.fit(X_train, Y_train)\n",
        "end = time.time()\n",
        "print(f\"Runtime of the program is {end - start}\")"
      ],
      "execution_count": 93,
      "outputs": [
        {
          "output_type": "stream",
          "name": "stdout",
          "text": [
            "Runtime of the program is 37.138875246047974\n"
          ]
        }
      ]
    },
    {
      "cell_type": "code",
      "metadata": {
        "id": "0vQC9TqGQ5OW"
      },
      "source": [
        "# test = pd.read_csv('/content/drive/My Drive/Bridge_Project/Dataset_1/ConterminousUSPre5StatesKnownTest.csv')"
      ],
      "execution_count": 40,
      "outputs": []
    },
    {
      "cell_type": "code",
      "metadata": {
        "id": "CCGbvx_yRbJS"
      },
      "source": [
        "# test = test.drop(columns = Excluded_columns)"
      ],
      "execution_count": 41,
      "outputs": []
    },
    {
      "cell_type": "code",
      "metadata": {
        "id": "snu51WwPRFni"
      },
      "source": [
        "# test['Main_Design_Type_Encoded'] = le.fit_transform(test['Main_Design_Type'])\n",
        "# test['Deck_Design_Type_Encoded'] = le.fit_transform(test['Deck_Design_Type'])\n",
        "# test['Wearing_Surface_Encoded'] = le.fit_transform(test['Wearing_Surface'])\n",
        "# test['Deck_Protection_Encoded'] = le.fit_transform(test['Deck_Protection'])"
      ],
      "execution_count": 42,
      "outputs": []
    },
    {
      "cell_type": "code",
      "metadata": {
        "id": "EJlgX8Jrl3o6"
      },
      "source": [
        "# #train['Substructure_Condition_typed']= pd.to_numeric(train['Substructure_Condition'])\n",
        "# test['Substructure_Condition_Encoded'] = le.fit_transform(test['Substructure_Condition'])"
      ],
      "execution_count": 43,
      "outputs": []
    },
    {
      "cell_type": "code",
      "metadata": {
        "id": "3QheV6n0mBZ7"
      },
      "source": [
        ""
      ],
      "execution_count": 28,
      "outputs": []
    },
    {
      "cell_type": "code",
      "metadata": {
        "id": "_sxZ56AaRLKA"
      },
      "source": [
        "# X_test = test.drop(columns=['Deck_Condition','Main_Design_Type','Deck_Design_Type','Wearing_Surface','Deck_Protection','Substructure_Condition']) \n"
      ],
      "execution_count": 44,
      "outputs": []
    },
    {
      "cell_type": "code",
      "metadata": {
        "id": "qAACRiVwRRP9"
      },
      "source": [
        "# y_test = test['Deck_Condition']"
      ],
      "execution_count": 45,
      "outputs": []
    },
    {
      "cell_type": "code",
      "metadata": {
        "colab": {
          "base_uri": "https://localhost:8080/"
        },
        "id": "zWuFl6jbnFCX",
        "outputId": "f9b5f3f9-7612-4b9e-a1a5-445c55922121"
      },
      "source": [
        "# np.unique(train['Deck_Condition'].values)"
      ],
      "execution_count": 46,
      "outputs": [
        {
          "output_type": "execute_result",
          "data": {
            "text/plain": [
              "array(['0', '1', '2', '3', '4', '5', '6', '7', '8', '9', 'N'],\n",
              "      dtype=object)"
            ]
          },
          "metadata": {},
          "execution_count": 46
        }
      ]
    },
    {
      "cell_type": "code",
      "metadata": {
        "colab": {
          "base_uri": "https://localhost:8080/"
        },
        "id": "7arSh9q2m-7K",
        "outputId": "1d49ef5a-4471-455a-cb86-4927017574f1"
      },
      "source": [
        "# np.unique(test['Deck_Condition'].values)"
      ],
      "execution_count": 47,
      "outputs": [
        {
          "output_type": "execute_result",
          "data": {
            "text/plain": [
              "array([ 6,  7, 45, 89])"
            ]
          },
          "metadata": {},
          "execution_count": 47
        }
      ]
    },
    {
      "cell_type": "code",
      "metadata": {
        "colab": {
          "base_uri": "https://localhost:8080/"
        },
        "id": "6jwhp_QKRUXu",
        "outputId": "d2890e29-f31b-46fe-c15d-ce42b333566b"
      },
      "source": [
        "# X_test.shape"
      ],
      "execution_count": 33,
      "outputs": [
        {
          "output_type": "execute_result",
          "data": {
            "text/plain": [
              "(13970, 14)"
            ]
          },
          "metadata": {},
          "execution_count": 33
        }
      ]
    },
    {
      "cell_type": "code",
      "metadata": {
        "id": "znDPaZoyRWJt"
      },
      "source": [
        "test_pred = classifier_lgb.predict(x_test)"
      ],
      "execution_count": 94,
      "outputs": []
    },
    {
      "cell_type": "code",
      "metadata": {
        "id": "3UQjabf-RlRi"
      },
      "source": [
        "from sklearn.metrics import classification_report\n",
        "classification_report = classification_report(y_test,test_pred, digits=4)"
      ],
      "execution_count": 95,
      "outputs": []
    },
    {
      "cell_type": "code",
      "metadata": {
        "colab": {
          "base_uri": "https://localhost:8080/"
        },
        "id": "lYERvKmERr3t",
        "outputId": "e253c8b2-c655-4b25-ee61-dc27362c7e1c"
      },
      "source": [
        "print(classification_report)"
      ],
      "execution_count": 96,
      "outputs": [
        {
          "output_type": "stream",
          "name": "stdout",
          "text": [
            "              precision    recall  f1-score   support\n",
            "\n",
            "           0     0.3100    0.8857    0.4593        35\n",
            "           1     0.0000    0.0000    0.0000         5\n",
            "           2     0.0435    0.3750    0.0779        24\n",
            "           3     0.3904    0.2979    0.3379       329\n",
            "           4     0.5060    0.3612    0.4215      1869\n",
            "           5     0.5501    0.4639    0.5033      9005\n",
            "           6     0.5960    0.5725    0.5840     19392\n",
            "           7     0.6968    0.7680    0.7307     33765\n",
            "           8     0.6735    0.5965    0.6326     10455\n",
            "           9     0.7094    0.7520    0.7301      1633\n",
            "           N     0.0407    0.0864    0.0553        81\n",
            "\n",
            "    accuracy                         0.6462     76593\n",
            "   macro avg     0.4106    0.4690    0.4121     76593\n",
            "weighted avg     0.6440    0.6462    0.6431     76593\n",
            "\n"
          ]
        }
      ]
    },
    {
      "cell_type": "code",
      "metadata": {
        "colab": {
          "base_uri": "https://localhost:8080/"
        },
        "id": "tX-JErzURtvc",
        "outputId": "87a4bf05-781a-41fb-dd9c-60db214f10c1"
      },
      "source": [
        "from xgboost import XGBClassifier\n",
        "\n",
        "from sklearn.metrics import classification_report\n",
        "classifier_xg = XGBClassifier()\n",
        "start = time.time()\n",
        "classifier_xg.fit(X_train, Y_train)\n",
        "end = time.time()\n",
        "test_pred_xg = classifier_xg.predict(x_test)\n",
        "classification_report_xg = classification_report(y_test,test_pred_xg, digits=4)\n",
        "print(f\"Runtime of the program is {end - start}\")\n",
        "print(classification_report_xg)"
      ],
      "execution_count": 98,
      "outputs": [
        {
          "output_type": "stream",
          "name": "stderr",
          "text": [
            "/usr/local/lib/python3.7/dist-packages/sklearn/metrics/_classification.py:1272: UndefinedMetricWarning: Precision and F-score are ill-defined and being set to 0.0 in labels with no predicted samples. Use `zero_division` parameter to control this behavior.\n",
            "  _warn_prf(average, modifier, msg_start, len(result))\n"
          ]
        },
        {
          "output_type": "stream",
          "name": "stdout",
          "text": [
            "Runtime of the program is 198.90410709381104\n",
            "              precision    recall  f1-score   support\n",
            "\n",
            "           0     0.9118    0.8857    0.8986        35\n",
            "           1     0.0000    0.0000    0.0000         5\n",
            "           2     0.6296    0.7083    0.6667        24\n",
            "           3     0.6080    0.3678    0.4583       329\n",
            "           4     0.5414    0.4056    0.4638      1869\n",
            "           5     0.5545    0.4830    0.5163      9005\n",
            "           6     0.6180    0.5743    0.5953     19392\n",
            "           7     0.7019    0.7881    0.7425     33765\n",
            "           8     0.6989    0.6242    0.6594     10455\n",
            "           9     0.7237    0.8053    0.7623      1633\n",
            "           N     0.0000    0.0000    0.0000        81\n",
            "\n",
            "    accuracy                         0.6641     76593\n",
            "   macro avg     0.5444    0.5129    0.5239     76593\n",
            "weighted avg     0.6583    0.6641    0.6589     76593\n",
            "\n"
          ]
        }
      ]
    },
    {
      "cell_type": "code",
      "metadata": {
        "colab": {
          "base_uri": "https://localhost:8080/"
        },
        "id": "CIFbL12bSjRP",
        "outputId": "05bf75df-6500-41e3-9b4c-ea4ec936ec71"
      },
      "source": [
        "from sklearn.ensemble import RandomForestClassifier\n",
        "classifier_rf = RandomForestClassifier(n_estimators = 350, criterion = 'gini', max_features = 'auto', random_state = 42)\n",
        "start = time.time()\n",
        "classifier_rf.fit(X_train, Y_train)\n",
        "end = time.time()\n",
        "test_pred_rf = classifier_rf.predict(x_test)\n",
        "classification_report_rf = classification_report(y_test,test_pred_rf, digits=4)\n",
        "print(f\"Runtime of the program is {end - start}\")\n",
        "print(classification_report_rf)"
      ],
      "execution_count": 99,
      "outputs": [
        {
          "output_type": "stream",
          "name": "stderr",
          "text": [
            "/usr/local/lib/python3.7/dist-packages/sklearn/metrics/_classification.py:1272: UndefinedMetricWarning: Precision and F-score are ill-defined and being set to 0.0 in labels with no predicted samples. Use `zero_division` parameter to control this behavior.\n",
            "  _warn_prf(average, modifier, msg_start, len(result))\n"
          ]
        },
        {
          "output_type": "stream",
          "name": "stdout",
          "text": [
            "Runtime of the program is 263.2430157661438\n",
            "              precision    recall  f1-score   support\n",
            "\n",
            "           0     0.9688    0.8857    0.9254        35\n",
            "           1     0.0000    0.0000    0.0000         5\n",
            "           2     1.0000    0.1250    0.2222        24\n",
            "           3     0.5987    0.2766    0.3784       329\n",
            "           4     0.5953    0.3943    0.4744      1869\n",
            "           5     0.6052    0.5260    0.5629      9005\n",
            "           6     0.6399    0.6170    0.6282     19392\n",
            "           7     0.7295    0.8175    0.7710     33765\n",
            "           8     0.7427    0.6528    0.6948     10455\n",
            "           9     0.7928    0.7826    0.7877      1633\n",
            "           N     1.0000    0.0123    0.0244        81\n",
            "\n",
            "    accuracy                         0.6955     76593\n",
            "   macro avg     0.6975    0.4627    0.4972     76593\n",
            "weighted avg     0.6919    0.6955    0.6905     76593\n",
            "\n"
          ]
        }
      ]
    },
    {
      "cell_type": "code",
      "metadata": {
        "id": "jSCesGgJXP8N"
      },
      "source": [
        "from sklearn import svm\n",
        "classifier_svm = svm.SVC(decision_function_shape='ovo')\n",
        "start = time.time()\n",
        "classifier_svm.fit(X_train, Y_train)\n",
        "end = time.time()\n",
        "test_pred_svm = classifier_svm.predict(x_test)\n",
        "classification_report_svm = classification_report(y_test,test_pred_svm, digits=4)\n",
        "print(f\"Runtime of the program is {end - start}\")\n",
        "print(classification_report_svm)"
      ],
      "execution_count": null,
      "outputs": []
    },
    {
      "cell_type": "code",
      "metadata": {
        "id": "OQwr5LcuX0O5"
      },
      "source": [
        ""
      ],
      "execution_count": null,
      "outputs": []
    }
  ]
}