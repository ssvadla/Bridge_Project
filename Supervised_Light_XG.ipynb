{
  "nbformat": 4,
  "nbformat_minor": 0,
  "metadata": {
    "colab": {
      "name": "Supervised_Light_XG.ipynb",
      "provenance": [],
      "collapsed_sections": [],
      "authorship_tag": "ABX9TyMEhDGGn/Ib//xrwO+jz6Be",
      "include_colab_link": true
    },
    "kernelspec": {
      "name": "python3",
      "display_name": "Python 3"
    },
    "language_info": {
      "name": "python"
    }
  },
  "cells": [
    {
      "cell_type": "markdown",
      "metadata": {
        "id": "view-in-github",
        "colab_type": "text"
      },
      "source": [
        "<a href=\"https://colab.research.google.com/github/ssvadla/Bridge_Project/blob/main/Supervised_Light_XG.ipynb\" target=\"_parent\"><img src=\"https://colab.research.google.com/assets/colab-badge.svg\" alt=\"Open In Colab\"/></a>"
      ]
    },
    {
      "cell_type": "code",
      "metadata": {
        "colab": {
          "base_uri": "https://localhost:8080/"
        },
        "id": "SA-WFO4jN_FT",
        "outputId": "4525891c-0056-4fa3-e530-de9b5e6e84fd"
      },
      "source": [
        "import pandas as pd\n",
        "from google.colab import drive\n",
        "\n",
        "drive.mount('/content/drive')"
      ],
      "execution_count": 1,
      "outputs": [
        {
          "output_type": "stream",
          "name": "stdout",
          "text": [
            "Mounted at /content/drive\n"
          ]
        }
      ]
    },
    {
      "cell_type": "code",
      "metadata": {
        "colab": {
          "base_uri": "https://localhost:8080/"
        },
        "id": "6ko57kYHOEP5",
        "outputId": "8b84696f-b305-4bbf-d172-bb7935aa48bc"
      },
      "source": [
        "train = pd.read_csv('/content/drive/My Drive/Bridge_Project/Dataset_1/ConterminousUSPre5StatesKnownTrain.csv')"
      ],
      "execution_count": 2,
      "outputs": [
        {
          "output_type": "stream",
          "name": "stderr",
          "text": [
            "/usr/local/lib/python3.7/dist-packages/IPython/core/interactiveshell.py:2718: DtypeWarning: Columns (16) have mixed types.Specify dtype option on import or set low_memory=False.\n",
            "  interactivity=interactivity, compiler=compiler, result=result)\n"
          ]
        }
      ]
    },
    {
      "cell_type": "code",
      "metadata": {
        "colab": {
          "base_uri": "https://localhost:8080/"
        },
        "id": "2g-X-u_5OL0L",
        "outputId": "1f6843ae-e312-4601-ed4f-2b54e095d535"
      },
      "source": [
        "train.columns"
      ],
      "execution_count": 3,
      "outputs": [
        {
          "output_type": "execute_result",
          "data": {
            "text/plain": [
              "Index(['Unnamed: 0', 'Skew', 'Number_Spans', 'Length_Max_Span',\n",
              "       'Main_Design_Type', 'Deck_Design_Type', 'Wearing_Surface',\n",
              "       'Deck_Protection', 'ADT', 'ADTT', 'State', 'Structure_Number',\n",
              "       'Latitude', 'Longitude', 'Deck_Condition', 'Superstructure_Condition',\n",
              "       'Substructure_Condition', 'Days_MinLT_0F', 'Days_MaxGT_90F',\n",
              "       'Avg_Wind_Speed', 'Peak_Wind_Speed', 'Precipitation', 'Reconstructed',\n",
              "       'Age', 'Deck_Area'],\n",
              "      dtype='object')"
            ]
          },
          "metadata": {},
          "execution_count": 3
        }
      ]
    },
    {
      "cell_type": "code",
      "metadata": {
        "id": "36dwEyP2ONO3"
      },
      "source": [
        "Excluded_columns = ['State', 'Structure_Number', 'Latitude', 'Longitude', 'Superstructure_Condition', 'Substructure_Condition']"
      ],
      "execution_count": 4,
      "outputs": []
    },
    {
      "cell_type": "code",
      "metadata": {
        "id": "LFyr9XbZO7pV"
      },
      "source": [
        "train = train.drop(columns = Excluded_columns)"
      ],
      "execution_count": 5,
      "outputs": []
    },
    {
      "cell_type": "code",
      "metadata": {
        "colab": {
          "base_uri": "https://localhost:8080/"
        },
        "id": "z_rXnq0KPA9A",
        "outputId": "d428c99d-c06a-4cde-f206-3be8ac62eff1"
      },
      "source": [
        "train.shape"
      ],
      "execution_count": 7,
      "outputs": [
        {
          "output_type": "execute_result",
          "data": {
            "text/plain": [
              "(41902, 19)"
            ]
          },
          "metadata": {},
          "execution_count": 7
        }
      ]
    },
    {
      "cell_type": "code",
      "metadata": {
        "id": "v-fjzZ_cQMHm"
      },
      "source": [
        "from sklearn import preprocessing\n",
        "le = preprocessing.LabelEncoder()\n",
        "train['Main_Design_Type_Encoded'] = le.fit_transform(train['Main_Design_Type'])\n",
        "train['Deck_Design_Type_Encoded'] = le.fit_transform(train['Deck_Design_Type'])\n",
        "train['Wearing_Surface_Encoded'] = le.fit_transform(train['Wearing_Surface'])\n",
        "train['Deck_Protection_Encoded'] = le.fit_transform(train['Deck_Protection'])"
      ],
      "execution_count": 8,
      "outputs": []
    },
    {
      "cell_type": "code",
      "metadata": {
        "id": "enYZo-ONPCqC"
      },
      "source": [
        "import lightgbm as lgb\n",
        "classifier_lgb = lgb.LGBMClassifier()"
      ],
      "execution_count": 9,
      "outputs": []
    },
    {
      "cell_type": "code",
      "metadata": {
        "id": "-4KWHctoQczx"
      },
      "source": [
        "X = train.drop(columns=['Deck_Condition','Main_Design_Type','Deck_Design_Type','Wearing_Surface','Deck_Protection']) \n"
      ],
      "execution_count": 10,
      "outputs": []
    },
    {
      "cell_type": "code",
      "metadata": {
        "id": "DyfHOb3uQvEH"
      },
      "source": [
        "y = train['Deck_Condition']"
      ],
      "execution_count": 11,
      "outputs": []
    },
    {
      "cell_type": "code",
      "metadata": {
        "colab": {
          "base_uri": "https://localhost:8080/"
        },
        "id": "9_sVtbkNQ6qp",
        "outputId": "d3ac394a-c079-47a7-dd2c-e55f025a9a3a"
      },
      "source": [
        "X.shape"
      ],
      "execution_count": 13,
      "outputs": [
        {
          "output_type": "execute_result",
          "data": {
            "text/plain": [
              "(41902, 18)"
            ]
          },
          "metadata": {},
          "execution_count": 13
        }
      ]
    },
    {
      "cell_type": "code",
      "metadata": {
        "colab": {
          "base_uri": "https://localhost:8080/"
        },
        "id": "Z5B3wHrNQy4-",
        "outputId": "740a9efb-2499-40e6-81c1-43ec22f4b92e"
      },
      "source": [
        "classifier_lgb.fit(X, y)"
      ],
      "execution_count": 12,
      "outputs": [
        {
          "output_type": "execute_result",
          "data": {
            "text/plain": [
              "LGBMClassifier(boosting_type='gbdt', class_weight=None, colsample_bytree=1.0,\n",
              "               importance_type='split', learning_rate=0.1, max_depth=-1,\n",
              "               min_child_samples=20, min_child_weight=0.001, min_split_gain=0.0,\n",
              "               n_estimators=100, n_jobs=-1, num_leaves=31, objective=None,\n",
              "               random_state=None, reg_alpha=0.0, reg_lambda=0.0, silent=True,\n",
              "               subsample=1.0, subsample_for_bin=200000, subsample_freq=0)"
            ]
          },
          "metadata": {},
          "execution_count": 12
        }
      ]
    },
    {
      "cell_type": "code",
      "metadata": {
        "id": "0vQC9TqGQ5OW"
      },
      "source": [
        "test = pd.read_csv('/content/drive/My Drive/Bridge_Project/Dataset_1/ConterminousUSPre5StatesKnownTest.csv')"
      ],
      "execution_count": 14,
      "outputs": []
    },
    {
      "cell_type": "code",
      "metadata": {
        "id": "CCGbvx_yRbJS"
      },
      "source": [
        "test = test.drop(columns = Excluded_columns)"
      ],
      "execution_count": 19,
      "outputs": []
    },
    {
      "cell_type": "code",
      "metadata": {
        "id": "snu51WwPRFni"
      },
      "source": [
        "test['Main_Design_Type_Encoded'] = le.fit_transform(test['Main_Design_Type'])\n",
        "test['Deck_Design_Type_Encoded'] = le.fit_transform(test['Deck_Design_Type'])\n",
        "test['Wearing_Surface_Encoded'] = le.fit_transform(test['Wearing_Surface'])\n",
        "test['Deck_Protection_Encoded'] = le.fit_transform(test['Deck_Protection'])"
      ],
      "execution_count": 20,
      "outputs": []
    },
    {
      "cell_type": "code",
      "metadata": {
        "id": "_sxZ56AaRLKA"
      },
      "source": [
        "X_test = test.drop(columns=['Deck_Condition','Main_Design_Type','Deck_Design_Type','Wearing_Surface','Deck_Protection']) \n"
      ],
      "execution_count": 21,
      "outputs": []
    },
    {
      "cell_type": "code",
      "metadata": {
        "id": "qAACRiVwRRP9"
      },
      "source": [
        "y_test = test['Deck_Condition']"
      ],
      "execution_count": 22,
      "outputs": []
    },
    {
      "cell_type": "code",
      "metadata": {
        "colab": {
          "base_uri": "https://localhost:8080/"
        },
        "id": "6jwhp_QKRUXu",
        "outputId": "e5b5b708-3af5-4683-d75c-99ec40d434e5"
      },
      "source": [
        "X_test.shape"
      ],
      "execution_count": 23,
      "outputs": [
        {
          "output_type": "execute_result",
          "data": {
            "text/plain": [
              "(13970, 18)"
            ]
          },
          "metadata": {},
          "execution_count": 23
        }
      ]
    },
    {
      "cell_type": "code",
      "metadata": {
        "id": "znDPaZoyRWJt"
      },
      "source": [
        "test_pred = classifier_lgb.predict(X_test)"
      ],
      "execution_count": 24,
      "outputs": []
    },
    {
      "cell_type": "code",
      "metadata": {
        "id": "3UQjabf-RlRi"
      },
      "source": [
        "from sklearn.metrics import classification_report\n",
        "classification_report = classification_report(y_test,test_pred, digits=4)"
      ],
      "execution_count": 25,
      "outputs": []
    },
    {
      "cell_type": "code",
      "metadata": {
        "colab": {
          "base_uri": "https://localhost:8080/"
        },
        "id": "lYERvKmERr3t",
        "outputId": "2237fa66-6462-424a-d1cd-c3d1c9b07001"
      },
      "source": [
        "print(classification_report)"
      ],
      "execution_count": 26,
      "outputs": [
        {
          "output_type": "stream",
          "name": "stdout",
          "text": [
            "              precision    recall  f1-score   support\n",
            "\n",
            "           6     0.5091    0.5097    0.5094      3861\n",
            "           7     0.5818    0.6115    0.5963      4453\n",
            "          45     0.5990    0.5830    0.5909      2746\n",
            "          89     0.7528    0.7117    0.7317      2910\n",
            "\n",
            "    accuracy                         0.5986     13970\n",
            "   macro avg     0.6107    0.6040    0.6071     13970\n",
            "weighted avg     0.6007    0.5986    0.5994     13970\n",
            "\n"
          ]
        }
      ]
    },
    {
      "cell_type": "code",
      "metadata": {
        "colab": {
          "base_uri": "https://localhost:8080/"
        },
        "id": "tX-JErzURtvc",
        "outputId": "869e5ec2-c4ac-45b6-b97c-db6bfd4b33f2"
      },
      "source": [
        "from xgboost import XGBClassifier\n",
        "from sklearn.metrics import classification_report\n",
        "classifier_xg = XGBClassifier()\n",
        "classifier_xg.fit(X, y)\n",
        "test_pred_xg = classifier_xg.predict(X_test)\n",
        "classification_report_xg = classification_report(y_test,test_pred_xg, digits=4)\n",
        "print(classification_report_xg)"
      ],
      "execution_count": 28,
      "outputs": [
        {
          "output_type": "stream",
          "name": "stdout",
          "text": [
            "              precision    recall  f1-score   support\n",
            "\n",
            "           6     0.4727    0.5183    0.4944      3861\n",
            "           7     0.5652    0.5774    0.5712      4453\n",
            "          45     0.5731    0.5124    0.5410      2746\n",
            "          89     0.7263    0.6821    0.7035      2910\n",
            "\n",
            "    accuracy                         0.5701     13970\n",
            "   macro avg     0.5843    0.5725    0.5776     13970\n",
            "weighted avg     0.5747    0.5701    0.5716     13970\n",
            "\n"
          ]
        }
      ]
    },
    {
      "cell_type": "code",
      "metadata": {
        "id": "CIFbL12bSjRP"
      },
      "source": [
        ""
      ],
      "execution_count": null,
      "outputs": []
    }
  ]
}