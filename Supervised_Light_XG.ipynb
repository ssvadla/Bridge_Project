{
  "nbformat": 4,
  "nbformat_minor": 0,
  "metadata": {
    "colab": {
      "name": "Supervised_Light_XG.ipynb",
      "provenance": [],
      "collapsed_sections": [],
      "authorship_tag": "ABX9TyNQaZroRKkCk7LJJRoepGRB",
      "include_colab_link": true
    },
    "kernelspec": {
      "name": "python3",
      "display_name": "Python 3"
    },
    "language_info": {
      "name": "python"
    }
  },
  "cells": [
    {
      "cell_type": "markdown",
      "metadata": {
        "id": "view-in-github",
        "colab_type": "text"
      },
      "source": [
        "<a href=\"https://colab.research.google.com/github/ssvadla/Bridge_Project/blob/main/Supervised_Light_XG.ipynb\" target=\"_parent\"><img src=\"https://colab.research.google.com/assets/colab-badge.svg\" alt=\"Open In Colab\"/></a>"
      ]
    },
    {
      "cell_type": "code",
      "metadata": {
        "colab": {
          "base_uri": "https://localhost:8080/"
        },
        "id": "SA-WFO4jN_FT",
        "outputId": "49efd454-a1c9-4ab6-f2aa-de1a03012b08"
      },
      "source": [
        "import pandas as pd\n",
        "import time\n",
        "import numpy as np\n",
        "from google.colab import drive\n",
        "\n",
        "drive.mount('/content/drive')"
      ],
      "execution_count": 1,
      "outputs": [
        {
          "output_type": "stream",
          "name": "stdout",
          "text": [
            "Drive already mounted at /content/drive; to attempt to forcibly remount, call drive.mount(\"/content/drive\", force_remount=True).\n"
          ]
        }
      ]
    },
    {
      "cell_type": "code",
      "metadata": {
        "colab": {
          "base_uri": "https://localhost:8080/"
        },
        "id": "6ko57kYHOEP5",
        "outputId": "993a506e-a4be-40c0-c3be-3fcbdc1b7539"
      },
      "source": [
        "train = pd.read_csv('/content/drive/My Drive/Bridge_Project/Dataset_1/ConterminousUSPre5StatesKnownTrain.csv')"
      ],
      "execution_count": 2,
      "outputs": [
        {
          "output_type": "stream",
          "name": "stderr",
          "text": [
            "/usr/local/lib/python3.7/dist-packages/IPython/core/interactiveshell.py:2718: DtypeWarning: Columns (16) have mixed types.Specify dtype option on import or set low_memory=False.\n",
            "  interactivity=interactivity, compiler=compiler, result=result)\n"
          ]
        }
      ]
    },
    {
      "cell_type": "code",
      "metadata": {
        "colab": {
          "base_uri": "https://localhost:8080/"
        },
        "id": "2g-X-u_5OL0L",
        "outputId": "a1314099-0c3b-46d9-f310-93c94b4c7782"
      },
      "source": [
        "train.columns"
      ],
      "execution_count": 3,
      "outputs": [
        {
          "output_type": "execute_result",
          "data": {
            "text/plain": [
              "Index(['Unnamed: 0', 'Skew', 'Number_Spans', 'Length_Max_Span',\n",
              "       'Main_Design_Type', 'Deck_Design_Type', 'Wearing_Surface',\n",
              "       'Deck_Protection', 'ADT', 'ADTT', 'State', 'Structure_Number',\n",
              "       'Latitude', 'Longitude', 'Deck_Condition', 'Superstructure_Condition',\n",
              "       'Substructure_Condition', 'Days_MinLT_0F', 'Days_MaxGT_90F',\n",
              "       'Avg_Wind_Speed', 'Peak_Wind_Speed', 'Precipitation', 'Reconstructed',\n",
              "       'Age', 'Deck_Area'],\n",
              "      dtype='object')"
            ]
          },
          "metadata": {},
          "execution_count": 3
        }
      ]
    },
    {
      "cell_type": "code",
      "metadata": {
        "id": "36dwEyP2ONO3"
      },
      "source": [
        "Excluded_columns = ['Unnamed: 0','State', 'Structure_Number', 'Latitude', 'Longitude', 'Superstructure_Condition', 'Substructure_Condition']"
      ],
      "execution_count": 4,
      "outputs": []
    },
    {
      "cell_type": "code",
      "metadata": {
        "id": "LFyr9XbZO7pV"
      },
      "source": [
        "train = train.drop(columns = Excluded_columns)"
      ],
      "execution_count": 5,
      "outputs": []
    },
    {
      "cell_type": "code",
      "metadata": {
        "colab": {
          "base_uri": "https://localhost:8080/"
        },
        "id": "z_rXnq0KPA9A",
        "outputId": "abce8846-8462-4bf6-b93f-eec71d6870bd"
      },
      "source": [
        "train.shape"
      ],
      "execution_count": 6,
      "outputs": [
        {
          "output_type": "execute_result",
          "data": {
            "text/plain": [
              "(41902, 18)"
            ]
          },
          "metadata": {},
          "execution_count": 6
        }
      ]
    },
    {
      "cell_type": "code",
      "metadata": {
        "id": "v-fjzZ_cQMHm"
      },
      "source": [
        "from sklearn import preprocessing\n",
        "le = preprocessing.LabelEncoder()\n",
        "train['Main_Design_Type_Encoded'] = le.fit_transform(train['Main_Design_Type'])\n",
        "train['Deck_Design_Type_Encoded'] = le.fit_transform(train['Deck_Design_Type'])\n",
        "train['Wearing_Surface_Encoded'] = le.fit_transform(train['Wearing_Surface'])\n",
        "train['Deck_Protection_Encoded'] = le.fit_transform(train['Deck_Protection'])"
      ],
      "execution_count": 7,
      "outputs": []
    },
    {
      "cell_type": "code",
      "metadata": {
        "id": "enYZo-ONPCqC"
      },
      "source": [
        "import lightgbm as lgb\n",
        "classifier_lgb = lgb.LGBMClassifier()"
      ],
      "execution_count": 8,
      "outputs": []
    },
    {
      "cell_type": "code",
      "metadata": {
        "id": "-4KWHctoQczx"
      },
      "source": [
        "X = train.drop(columns=['Deck_Condition','Main_Design_Type','Deck_Design_Type','Wearing_Surface','Deck_Protection']) \n"
      ],
      "execution_count": 9,
      "outputs": []
    },
    {
      "cell_type": "code",
      "metadata": {
        "id": "DyfHOb3uQvEH"
      },
      "source": [
        "y = train['Deck_Condition']"
      ],
      "execution_count": 10,
      "outputs": []
    },
    {
      "cell_type": "code",
      "metadata": {
        "colab": {
          "base_uri": "https://localhost:8080/"
        },
        "id": "9_sVtbkNQ6qp",
        "outputId": "7d29e735-b19d-45e3-a5dc-bf126782ae31"
      },
      "source": [
        "X.shape"
      ],
      "execution_count": 11,
      "outputs": [
        {
          "output_type": "execute_result",
          "data": {
            "text/plain": [
              "(41902, 17)"
            ]
          },
          "metadata": {},
          "execution_count": 11
        }
      ]
    },
    {
      "cell_type": "code",
      "metadata": {
        "colab": {
          "base_uri": "https://localhost:8080/"
        },
        "id": "Z5B3wHrNQy4-",
        "outputId": "ad43a8b6-2bbc-440d-ee4f-ba0077262275"
      },
      "source": [
        "start = time.time()\n",
        "classifier_lgb.fit(X, y)\n",
        "end = time.time()\n",
        "print(f\"Runtime of the program is {end - start}\")"
      ],
      "execution_count": 12,
      "outputs": [
        {
          "output_type": "stream",
          "name": "stdout",
          "text": [
            "Runtime of the program is 2.700289487838745\n"
          ]
        }
      ]
    },
    {
      "cell_type": "code",
      "metadata": {
        "id": "0vQC9TqGQ5OW"
      },
      "source": [
        "test = pd.read_csv('/content/drive/My Drive/Bridge_Project/Dataset_1/ConterminousUSPre5StatesKnownTest.csv')"
      ],
      "execution_count": 13,
      "outputs": []
    },
    {
      "cell_type": "code",
      "metadata": {
        "id": "CCGbvx_yRbJS"
      },
      "source": [
        "test = test.drop(columns = Excluded_columns)"
      ],
      "execution_count": 14,
      "outputs": []
    },
    {
      "cell_type": "code",
      "metadata": {
        "id": "snu51WwPRFni"
      },
      "source": [
        "test['Main_Design_Type_Encoded'] = le.fit_transform(test['Main_Design_Type'])\n",
        "test['Deck_Design_Type_Encoded'] = le.fit_transform(test['Deck_Design_Type'])\n",
        "test['Wearing_Surface_Encoded'] = le.fit_transform(test['Wearing_Surface'])\n",
        "test['Deck_Protection_Encoded'] = le.fit_transform(test['Deck_Protection'])"
      ],
      "execution_count": 15,
      "outputs": []
    },
    {
      "cell_type": "code",
      "metadata": {
        "id": "_sxZ56AaRLKA"
      },
      "source": [
        "X_test = test.drop(columns=['Deck_Condition','Main_Design_Type','Deck_Design_Type','Wearing_Surface','Deck_Protection']) \n"
      ],
      "execution_count": 16,
      "outputs": []
    },
    {
      "cell_type": "code",
      "metadata": {
        "id": "qAACRiVwRRP9"
      },
      "source": [
        "y_test = test['Deck_Condition']"
      ],
      "execution_count": 17,
      "outputs": []
    },
    {
      "cell_type": "code",
      "metadata": {
        "colab": {
          "base_uri": "https://localhost:8080/"
        },
        "id": "6jwhp_QKRUXu",
        "outputId": "77366e2a-46be-473f-ff7b-edac060c1c2f"
      },
      "source": [
        "X_test.shape"
      ],
      "execution_count": 18,
      "outputs": [
        {
          "output_type": "execute_result",
          "data": {
            "text/plain": [
              "(13970, 17)"
            ]
          },
          "metadata": {},
          "execution_count": 18
        }
      ]
    },
    {
      "cell_type": "code",
      "metadata": {
        "id": "znDPaZoyRWJt"
      },
      "source": [
        "test_pred = classifier_lgb.predict(X_test)"
      ],
      "execution_count": 19,
      "outputs": []
    },
    {
      "cell_type": "code",
      "metadata": {
        "id": "3UQjabf-RlRi"
      },
      "source": [
        "from sklearn.metrics import classification_report\n",
        "classification_report = classification_report(y_test,test_pred, digits=4)"
      ],
      "execution_count": 20,
      "outputs": []
    },
    {
      "cell_type": "code",
      "metadata": {
        "colab": {
          "base_uri": "https://localhost:8080/"
        },
        "id": "lYERvKmERr3t",
        "outputId": "12b6e3b9-b1a1-4f1f-d6d0-4792e62e6b83"
      },
      "source": [
        "print(classification_report)"
      ],
      "execution_count": 21,
      "outputs": [
        {
          "output_type": "stream",
          "name": "stdout",
          "text": [
            "              precision    recall  f1-score   support\n",
            "\n",
            "           6     0.5006    0.5061    0.5033      3861\n",
            "           7     0.5819    0.6014    0.5915      4453\n",
            "          45     0.5878    0.5768    0.5822      2746\n",
            "          89     0.7448    0.7089    0.7264      2910\n",
            "\n",
            "    accuracy                         0.5926     13970\n",
            "   macro avg     0.6038    0.5983    0.6009     13970\n",
            "weighted avg     0.5945    0.5926    0.5934     13970\n",
            "\n"
          ]
        }
      ]
    },
    {
      "cell_type": "code",
      "metadata": {
        "colab": {
          "base_uri": "https://localhost:8080/"
        },
        "id": "tX-JErzURtvc",
        "outputId": "a234b349-09d9-4136-ae5f-3956a7a28fcc"
      },
      "source": [
        "from xgboost import XGBClassifier\n",
        "\n",
        "from sklearn.metrics import classification_report\n",
        "classifier_xg = XGBClassifier()\n",
        "start = time.time()\n",
        "classifier_xg.fit(X, y)\n",
        "end = time.time()\n",
        "test_pred_xg = classifier_xg.predict(X_test)\n",
        "classification_report_xg = classification_report(y_test,test_pred_xg, digits=4)\n",
        "print(f\"Runtime of the program is {end - start}\")\n",
        "print(classification_report_xg)"
      ],
      "execution_count": 22,
      "outputs": [
        {
          "output_type": "stream",
          "name": "stdout",
          "text": [
            "Runtime of the program is 10.457679033279419\n",
            "              precision    recall  f1-score   support\n",
            "\n",
            "           6     0.4741    0.5175    0.4949      3861\n",
            "           7     0.5560    0.5706    0.5632      4453\n",
            "          45     0.5740    0.5200    0.5457      2746\n",
            "          89     0.7231    0.6704    0.6958      2910\n",
            "\n",
            "    accuracy                         0.5668     13970\n",
            "   macro avg     0.5818    0.5696    0.5749     13970\n",
            "weighted avg     0.5717    0.5668    0.5685     13970\n",
            "\n"
          ]
        }
      ]
    },
    {
      "cell_type": "code",
      "metadata": {
        "colab": {
          "base_uri": "https://localhost:8080/"
        },
        "id": "CIFbL12bSjRP",
        "outputId": "32f8463b-29ef-422c-da3c-ad2d35a3ea13"
      },
      "source": [
        "from sklearn.ensemble import RandomForestClassifier\n",
        "classifier_rf = RandomForestClassifier(n_estimators = 350, criterion = 'gini', max_features = 'auto', random_state = 42)\n",
        "start = time.time()\n",
        "classifier_rf.fit(X, y)\n",
        "end = time.time()\n",
        "test_pred_rf = classifier_rf.predict(X_test)\n",
        "classification_report_rf = classification_report(y_test,test_pred_rf, digits=4)\n",
        "print(f\"Runtime of the program is {end - start}\")\n",
        "print(classification_report_rf)"
      ],
      "execution_count": 23,
      "outputs": [
        {
          "output_type": "stream",
          "name": "stdout",
          "text": [
            "Runtime of the program is 33.764416456222534\n",
            "              precision    recall  f1-score   support\n",
            "\n",
            "           6     0.5511    0.5320    0.5414      3861\n",
            "           7     0.6098    0.6512    0.6298      4453\n",
            "          45     0.6255    0.6045    0.6148      2746\n",
            "          89     0.7614    0.7412    0.7512      2910\n",
            "\n",
            "    accuracy                         0.6278     13970\n",
            "   macro avg     0.6369    0.6322    0.6343     13970\n",
            "weighted avg     0.6282    0.6278    0.6277     13970\n",
            "\n"
          ]
        }
      ]
    },
    {
      "cell_type": "code",
      "metadata": {
        "colab": {
          "base_uri": "https://localhost:8080/"
        },
        "id": "jSCesGgJXP8N",
        "outputId": "88c157a3-fe70-4c8b-bdd2-9a8fda149ea5"
      },
      "source": [
        "from sklearn import svm\n",
        "classifier_svm = svm.SVC(decision_function_shape='ovo')\n",
        "start = time.time()\n",
        "classifier_svm.fit(X, y)\n",
        "end = time.time()\n",
        "test_pred_svm = classifier_svm.predict(X_test)\n",
        "classification_report_svm = classification_report(y_test,test_pred_svm, digits=4)\n",
        "print(f\"Runtime of the program is {end - start}\")\n",
        "print(classification_report_svm)"
      ],
      "execution_count": 24,
      "outputs": [
        {
          "output_type": "stream",
          "name": "stdout",
          "text": [
            "Runtime of the program is 148.868008852005\n",
            "              precision    recall  f1-score   support\n",
            "\n",
            "           6     0.3724    0.0865    0.1404      3861\n",
            "           7     0.3188    0.9349    0.4754      4453\n",
            "          45     0.4615    0.0022    0.0043      2746\n",
            "          89     0.0000    0.0000    0.0000      2910\n",
            "\n",
            "    accuracy                         0.3223     13970\n",
            "   macro avg     0.2882    0.2559    0.1550     13970\n",
            "weighted avg     0.2952    0.3223    0.1912     13970\n",
            "\n"
          ]
        },
        {
          "output_type": "stream",
          "name": "stderr",
          "text": [
            "/usr/local/lib/python3.7/dist-packages/sklearn/metrics/_classification.py:1272: UndefinedMetricWarning: Precision and F-score are ill-defined and being set to 0.0 in labels with no predicted samples. Use `zero_division` parameter to control this behavior.\n",
            "  _warn_prf(average, modifier, msg_start, len(result))\n"
          ]
        }
      ]
    },
    {
      "cell_type": "code",
      "metadata": {
        "id": "OQwr5LcuX0O5"
      },
      "source": [
        ""
      ],
      "execution_count": 24,
      "outputs": []
    }
  ]
}