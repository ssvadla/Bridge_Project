{
  "nbformat": 4,
  "nbformat_minor": 0,
  "metadata": {
    "colab": {
      "name": "Supervised_Light_XG_19.ipynb",
      "provenance": [],
      "collapsed_sections": [],
      "authorship_tag": "ABX9TyPq5AVKNZTsocWWvpt0Jhnr",
      "include_colab_link": true
    },
    "kernelspec": {
      "name": "python3",
      "display_name": "Python 3"
    },
    "language_info": {
      "name": "python"
    }
  },
  "cells": [
    {
      "cell_type": "markdown",
      "metadata": {
        "id": "view-in-github",
        "colab_type": "text"
      },
      "source": [
        "<a href=\"https://colab.research.google.com/github/ssvadla/Bridge_Project/blob/main/Supervised_Light_XG_19.ipynb\" target=\"_parent\"><img src=\"https://colab.research.google.com/assets/colab-badge.svg\" alt=\"Open In Colab\"/></a>"
      ]
    },
    {
      "cell_type": "code",
      "metadata": {
        "colab": {
          "base_uri": "https://localhost:8080/"
        },
        "id": "SA-WFO4jN_FT",
        "outputId": "43d61e29-fc11-4fe7-ead9-074d0eb4cfe2"
      },
      "source": [
        "import pandas as pd\n",
        "import time\n",
        "import numpy as np\n",
        "from google.colab import drive\n",
        "\n",
        "drive.mount('/content/drive')"
      ],
      "execution_count": 1,
      "outputs": [
        {
          "output_type": "stream",
          "name": "stdout",
          "text": [
            "Drive already mounted at /content/drive; to attempt to forcibly remount, call drive.mount(\"/content/drive\", force_remount=True).\n"
          ]
        }
      ]
    },
    {
      "cell_type": "code",
      "metadata": {
        "colab": {
          "base_uri": "https://localhost:8080/"
        },
        "id": "6ko57kYHOEP5",
        "outputId": "7ccd00b8-55f5-4f3e-849c-ca3ea65e7800"
      },
      "source": [
        "train = pd.read_csv('/content/drive/My Drive/Bridge_Project/Dataset_1/ConterminousUSPre5StatesKnownTrain.csv')"
      ],
      "execution_count": 2,
      "outputs": [
        {
          "output_type": "stream",
          "name": "stderr",
          "text": [
            "/usr/local/lib/python3.7/dist-packages/IPython/core/interactiveshell.py:2718: DtypeWarning: Columns (16) have mixed types.Specify dtype option on import or set low_memory=False.\n",
            "  interactivity=interactivity, compiler=compiler, result=result)\n"
          ]
        }
      ]
    },
    {
      "cell_type": "code",
      "metadata": {
        "colab": {
          "base_uri": "https://localhost:8080/"
        },
        "id": "2g-X-u_5OL0L",
        "outputId": "5d8d14f8-0d25-45ef-deaf-7fee9e481296"
      },
      "source": [
        "train.columns"
      ],
      "execution_count": 3,
      "outputs": [
        {
          "output_type": "execute_result",
          "data": {
            "text/plain": [
              "Index(['Unnamed: 0', 'Skew', 'Number_Spans', 'Length_Max_Span',\n",
              "       'Main_Design_Type', 'Deck_Design_Type', 'Wearing_Surface',\n",
              "       'Deck_Protection', 'ADT', 'ADTT', 'State', 'Structure_Number',\n",
              "       'Latitude', 'Longitude', 'Deck_Condition', 'Superstructure_Condition',\n",
              "       'Substructure_Condition', 'Days_MinLT_0F', 'Days_MaxGT_90F',\n",
              "       'Avg_Wind_Speed', 'Peak_Wind_Speed', 'Precipitation', 'Reconstructed',\n",
              "       'Age', 'Deck_Area'],\n",
              "      dtype='object')"
            ]
          },
          "metadata": {},
          "execution_count": 3
        }
      ]
    },
    {
      "cell_type": "code",
      "metadata": {
        "id": "36dwEyP2ONO3"
      },
      "source": [
        "#Excluded_columns = ['Unnamed: 0','State', 'Structure_Number', 'Latitude', 'Longitude', 'Superstructure_Condition', 'Substructure_Condition']\n",
        "Excluded_columns = ['Unnamed: 0','State', 'Structure_Number', 'Latitude', 'Longitude']"
      ],
      "execution_count": 4,
      "outputs": []
    },
    {
      "cell_type": "code",
      "metadata": {
        "id": "LFyr9XbZO7pV"
      },
      "source": [
        "train = train.drop(columns = Excluded_columns)"
      ],
      "execution_count": 5,
      "outputs": []
    },
    {
      "cell_type": "code",
      "metadata": {
        "colab": {
          "base_uri": "https://localhost:8080/"
        },
        "id": "z_rXnq0KPA9A",
        "outputId": "82900ef2-072d-43c8-f62f-4035e31bf28d"
      },
      "source": [
        "train.shape"
      ],
      "execution_count": 6,
      "outputs": [
        {
          "output_type": "execute_result",
          "data": {
            "text/plain": [
              "(41902, 20)"
            ]
          },
          "metadata": {},
          "execution_count": 6
        }
      ]
    },
    {
      "cell_type": "code",
      "metadata": {
        "id": "v-fjzZ_cQMHm"
      },
      "source": [
        "from sklearn import preprocessing\n",
        "le = preprocessing.LabelEncoder()\n",
        "train['Main_Design_Type_Encoded'] = le.fit_transform(train['Main_Design_Type'])\n",
        "train['Deck_Design_Type_Encoded'] = le.fit_transform(train['Deck_Design_Type'])\n",
        "train['Wearing_Surface_Encoded'] = le.fit_transform(train['Wearing_Surface'])\n",
        "train['Deck_Protection_Encoded'] = le.fit_transform(train['Deck_Protection'])\n"
      ],
      "execution_count": 7,
      "outputs": []
    },
    {
      "cell_type": "code",
      "metadata": {
        "colab": {
          "base_uri": "https://localhost:8080/"
        },
        "id": "dUXIIeiNa3za",
        "outputId": "bf1a8494-6f4e-43ce-d139-cf2814d3d829"
      },
      "source": [
        " for value in train['Substructure_Condition']:\n",
        "   #print(value)\n",
        "   if value == 'N':\n",
        "     print(\"Yes\")"
      ],
      "execution_count": 8,
      "outputs": [
        {
          "output_type": "stream",
          "name": "stdout",
          "text": [
            "Yes\n"
          ]
        }
      ]
    },
    {
      "cell_type": "code",
      "metadata": {
        "id": "12oTTKVybXn6"
      },
      "source": [
        "indexNames = train[ train['Substructure_Condition'] == 'N' ].index"
      ],
      "execution_count": 9,
      "outputs": []
    },
    {
      "cell_type": "code",
      "metadata": {
        "colab": {
          "base_uri": "https://localhost:8080/"
        },
        "id": "EL9TJCcib0ZT",
        "outputId": "bc32ef9a-cb64-47b4-d403-ea2d13f314c1"
      },
      "source": [
        "indexNames"
      ],
      "execution_count": 10,
      "outputs": [
        {
          "output_type": "execute_result",
          "data": {
            "text/plain": [
              "Int64Index([35702], dtype='int64')"
            ]
          },
          "metadata": {},
          "execution_count": 10
        }
      ]
    },
    {
      "cell_type": "code",
      "metadata": {
        "colab": {
          "base_uri": "https://localhost:8080/"
        },
        "id": "-_hm5MYSlPcX",
        "outputId": "f2999877-eccd-458c-f7ec-17ee38f49e2f"
      },
      "source": [
        "train.shape"
      ],
      "execution_count": 11,
      "outputs": [
        {
          "output_type": "execute_result",
          "data": {
            "text/plain": [
              "(41902, 24)"
            ]
          },
          "metadata": {},
          "execution_count": 11
        }
      ]
    },
    {
      "cell_type": "code",
      "metadata": {
        "id": "2iJBIeTSlMjH"
      },
      "source": [
        "train.drop(indexNames , inplace=True)"
      ],
      "execution_count": 12,
      "outputs": []
    },
    {
      "cell_type": "code",
      "metadata": {
        "colab": {
          "base_uri": "https://localhost:8080/"
        },
        "id": "wl9zD_RjlSDE",
        "outputId": "6b366f12-c157-42d4-d407-ec30f81dec0f"
      },
      "source": [
        "train.shape"
      ],
      "execution_count": 13,
      "outputs": [
        {
          "output_type": "execute_result",
          "data": {
            "text/plain": [
              "(41901, 24)"
            ]
          },
          "metadata": {},
          "execution_count": 13
        }
      ]
    },
    {
      "cell_type": "code",
      "metadata": {
        "id": "4HjlSJ5calmP"
      },
      "source": [
        "train['Substructure_Condition_typed']= pd.to_numeric(train['Substructure_Condition'])"
      ],
      "execution_count": 14,
      "outputs": []
    },
    {
      "cell_type": "code",
      "metadata": {
        "colab": {
          "base_uri": "https://localhost:8080/"
        },
        "id": "vsynVarhaC1T",
        "outputId": "b4401172-3f97-485c-caa1-3d739aa610b3"
      },
      "source": [
        "np.unique(train['Substructure_Condition_typed'].values)"
      ],
      "execution_count": 15,
      "outputs": [
        {
          "output_type": "execute_result",
          "data": {
            "text/plain": [
              "array([0, 1, 2, 3, 4, 5, 6, 7, 8, 9])"
            ]
          },
          "metadata": {},
          "execution_count": 15
        }
      ]
    },
    {
      "cell_type": "code",
      "metadata": {
        "id": "irpeYZM2lY1u"
      },
      "source": [
        "train['Substructure_Condition_Encoded'] = le.fit_transform(train['Substructure_Condition_typed'])"
      ],
      "execution_count": 16,
      "outputs": []
    },
    {
      "cell_type": "code",
      "metadata": {
        "id": "enYZo-ONPCqC"
      },
      "source": [
        "import lightgbm as lgb\n",
        "classifier_lgb = lgb.LGBMClassifier()"
      ],
      "execution_count": 17,
      "outputs": []
    },
    {
      "cell_type": "code",
      "metadata": {
        "id": "-4KWHctoQczx"
      },
      "source": [
        "X = train.drop(columns=['Deck_Condition','Main_Design_Type','Deck_Design_Type','Wearing_Surface','Deck_Protection','Substructure_Condition_typed','Substructure_Condition']) \n"
      ],
      "execution_count": 18,
      "outputs": []
    },
    {
      "cell_type": "code",
      "metadata": {
        "id": "DyfHOb3uQvEH"
      },
      "source": [
        "y = train['Deck_Condition']"
      ],
      "execution_count": 19,
      "outputs": []
    },
    {
      "cell_type": "code",
      "metadata": {
        "colab": {
          "base_uri": "https://localhost:8080/"
        },
        "id": "9_sVtbkNQ6qp",
        "outputId": "4ecbcfec-728f-49f1-f48e-aa6e30e1a156"
      },
      "source": [
        "X.shape"
      ],
      "execution_count": 20,
      "outputs": [
        {
          "output_type": "execute_result",
          "data": {
            "text/plain": [
              "(41901, 19)"
            ]
          },
          "metadata": {},
          "execution_count": 20
        }
      ]
    },
    {
      "cell_type": "code",
      "metadata": {
        "colab": {
          "base_uri": "https://localhost:8080/"
        },
        "id": "Z5B3wHrNQy4-",
        "outputId": "aae09fef-6030-4b62-dba2-aa18217c81d4"
      },
      "source": [
        "start = time.time()\n",
        "classifier_lgb.fit(X, y)\n",
        "end = time.time()\n",
        "print(f\"Runtime of the program is {end - start}\")"
      ],
      "execution_count": 21,
      "outputs": [
        {
          "output_type": "stream",
          "name": "stdout",
          "text": [
            "Runtime of the program is 3.0992355346679688\n"
          ]
        }
      ]
    },
    {
      "cell_type": "code",
      "metadata": {
        "id": "0vQC9TqGQ5OW"
      },
      "source": [
        "test = pd.read_csv('/content/drive/My Drive/Bridge_Project/Dataset_1/ConterminousUSPre5StatesKnownTest.csv')"
      ],
      "execution_count": 22,
      "outputs": []
    },
    {
      "cell_type": "code",
      "metadata": {
        "id": "CCGbvx_yRbJS"
      },
      "source": [
        "test = test.drop(columns = Excluded_columns)"
      ],
      "execution_count": 23,
      "outputs": []
    },
    {
      "cell_type": "code",
      "metadata": {
        "id": "snu51WwPRFni"
      },
      "source": [
        "test['Main_Design_Type_Encoded'] = le.fit_transform(test['Main_Design_Type'])\n",
        "test['Deck_Design_Type_Encoded'] = le.fit_transform(test['Deck_Design_Type'])\n",
        "test['Wearing_Surface_Encoded'] = le.fit_transform(test['Wearing_Surface'])\n",
        "test['Deck_Protection_Encoded'] = le.fit_transform(test['Deck_Protection'])"
      ],
      "execution_count": 24,
      "outputs": []
    },
    {
      "cell_type": "code",
      "metadata": {
        "id": "EJlgX8Jrl3o6"
      },
      "source": [
        "#train['Substructure_Condition_typed']= pd.to_numeric(train['Substructure_Condition'])\n",
        "test['Substructure_Condition_Encoded'] = le.fit_transform(test['Substructure_Condition'])"
      ],
      "execution_count": 25,
      "outputs": []
    },
    {
      "cell_type": "code",
      "metadata": {
        "id": "3QheV6n0mBZ7"
      },
      "source": [
        ""
      ],
      "execution_count": 25,
      "outputs": []
    },
    {
      "cell_type": "code",
      "metadata": {
        "id": "_sxZ56AaRLKA"
      },
      "source": [
        "X_test = test.drop(columns=['Deck_Condition','Main_Design_Type','Deck_Design_Type','Wearing_Surface','Deck_Protection','Substructure_Condition']) \n"
      ],
      "execution_count": 26,
      "outputs": []
    },
    {
      "cell_type": "code",
      "metadata": {
        "id": "qAACRiVwRRP9"
      },
      "source": [
        "y_test = test['Deck_Condition']"
      ],
      "execution_count": 27,
      "outputs": []
    },
    {
      "cell_type": "code",
      "metadata": {
        "colab": {
          "base_uri": "https://localhost:8080/"
        },
        "id": "zWuFl6jbnFCX",
        "outputId": "421e34dc-bd00-46f1-a031-8afb47610f25"
      },
      "source": [
        "np.unique(train['Deck_Condition'].values)"
      ],
      "execution_count": 28,
      "outputs": [
        {
          "output_type": "execute_result",
          "data": {
            "text/plain": [
              "array([ 6,  7, 45, 89])"
            ]
          },
          "metadata": {},
          "execution_count": 28
        }
      ]
    },
    {
      "cell_type": "code",
      "metadata": {
        "colab": {
          "base_uri": "https://localhost:8080/"
        },
        "id": "7arSh9q2m-7K",
        "outputId": "8ef2e501-9953-4f84-af9d-357a53ab8ee5"
      },
      "source": [
        "np.unique(test['Deck_Condition'].values)"
      ],
      "execution_count": 29,
      "outputs": [
        {
          "output_type": "execute_result",
          "data": {
            "text/plain": [
              "array([ 6,  7, 45, 89])"
            ]
          },
          "metadata": {},
          "execution_count": 29
        }
      ]
    },
    {
      "cell_type": "code",
      "metadata": {
        "colab": {
          "base_uri": "https://localhost:8080/"
        },
        "id": "6jwhp_QKRUXu",
        "outputId": "7aef5c8d-fbbe-4731-accb-5b06e3129c96"
      },
      "source": [
        "X_test.shape"
      ],
      "execution_count": 30,
      "outputs": [
        {
          "output_type": "execute_result",
          "data": {
            "text/plain": [
              "(13970, 19)"
            ]
          },
          "metadata": {},
          "execution_count": 30
        }
      ]
    },
    {
      "cell_type": "code",
      "metadata": {
        "id": "znDPaZoyRWJt"
      },
      "source": [
        "test_pred = classifier_lgb.predict(X_test)"
      ],
      "execution_count": 31,
      "outputs": []
    },
    {
      "cell_type": "code",
      "metadata": {
        "id": "3UQjabf-RlRi"
      },
      "source": [
        "from sklearn.metrics import classification_report\n",
        "classification_report = classification_report(y_test,test_pred, digits=4)"
      ],
      "execution_count": 32,
      "outputs": []
    },
    {
      "cell_type": "code",
      "metadata": {
        "colab": {
          "base_uri": "https://localhost:8080/"
        },
        "id": "lYERvKmERr3t",
        "outputId": "cabc2118-5f1b-4770-8d53-f1325efb3136"
      },
      "source": [
        "print(classification_report)"
      ],
      "execution_count": 33,
      "outputs": [
        {
          "output_type": "stream",
          "name": "stdout",
          "text": [
            "              precision    recall  f1-score   support\n",
            "\n",
            "           6     0.6480    0.6079    0.6273      3861\n",
            "           7     0.6802    0.7348    0.7065      4453\n",
            "          45     0.7186    0.7010    0.7097      2746\n",
            "          89     0.8178    0.8034    0.8105      2910\n",
            "\n",
            "    accuracy                         0.7074     13970\n",
            "   macro avg     0.7161    0.7118    0.7135     13970\n",
            "weighted avg     0.7075    0.7074    0.7069     13970\n",
            "\n"
          ]
        }
      ]
    },
    {
      "cell_type": "code",
      "metadata": {
        "colab": {
          "base_uri": "https://localhost:8080/"
        },
        "id": "tX-JErzURtvc",
        "outputId": "c852c69d-b80d-42f5-e8cf-01556f1ee780"
      },
      "source": [
        "from xgboost import XGBClassifier\n",
        "\n",
        "from sklearn.metrics import classification_report\n",
        "classifier_xg = XGBClassifier()\n",
        "start = time.time()\n",
        "classifier_xg.fit(X, y)\n",
        "end = time.time()\n",
        "test_pred_xg = classifier_xg.predict(X_test)\n",
        "classification_report_xg = classification_report(y_test,test_pred_xg, digits=4)\n",
        "print(f\"Runtime of the program is {end - start}\")\n",
        "print(classification_report_xg)"
      ],
      "execution_count": 34,
      "outputs": [
        {
          "output_type": "stream",
          "name": "stdout",
          "text": [
            "Runtime of the program is 12.650245666503906\n",
            "              precision    recall  f1-score   support\n",
            "\n",
            "           6     0.6463    0.5789    0.6107      3861\n",
            "           7     0.6522    0.7357    0.6914      4453\n",
            "          45     0.7080    0.6712    0.6891      2746\n",
            "          89     0.8053    0.7986    0.8019      2910\n",
            "\n",
            "    accuracy                         0.6928     13970\n",
            "   macro avg     0.7030    0.6961    0.6983     13970\n",
            "weighted avg     0.6934    0.6928    0.6917     13970\n",
            "\n"
          ]
        }
      ]
    },
    {
      "cell_type": "code",
      "metadata": {
        "colab": {
          "base_uri": "https://localhost:8080/"
        },
        "id": "CIFbL12bSjRP",
        "outputId": "e2f6a0d1-9577-450e-d978-491d97d66e03"
      },
      "source": [
        "from sklearn.ensemble import RandomForestClassifier\n",
        "classifier_rf = RandomForestClassifier(n_estimators = 350, criterion = 'gini', max_features = 'auto', random_state = 42)\n",
        "start = time.time()\n",
        "classifier_rf.fit(X, y)\n",
        "end = time.time()\n",
        "test_pred_rf = classifier_rf.predict(X_test)\n",
        "classification_report_rf = classification_report(y_test,test_pred_rf, digits=4)\n",
        "print(f\"Runtime of the program is {end - start}\")\n",
        "print(classification_report_rf)"
      ],
      "execution_count": 35,
      "outputs": [
        {
          "output_type": "stream",
          "name": "stdout",
          "text": [
            "Runtime of the program is 30.163610458374023\n",
            "              precision    recall  f1-score   support\n",
            "\n",
            "           6     0.6595    0.6291    0.6440      3861\n",
            "           7     0.6944    0.7411    0.7170      4453\n",
            "          45     0.7373    0.7163    0.7266      2746\n",
            "          89     0.8260    0.8137    0.8198      2910\n",
            "\n",
            "    accuracy                         0.7204     13970\n",
            "   macro avg     0.7293    0.7251    0.7268     13970\n",
            "weighted avg     0.7206    0.7204    0.7201     13970\n",
            "\n"
          ]
        }
      ]
    },
    {
      "cell_type": "code",
      "metadata": {
        "colab": {
          "base_uri": "https://localhost:8080/"
        },
        "id": "jSCesGgJXP8N",
        "outputId": "89ca4c70-6d89-4b9a-d9c3-ef3e42f63a91"
      },
      "source": [
        "from sklearn import svm\n",
        "classifier_svm = svm.SVC(decision_function_shape='ovo')\n",
        "start = time.time()\n",
        "classifier_svm.fit(X, y)\n",
        "end = time.time()\n",
        "test_pred_svm = classifier_svm.predict(X_test)\n",
        "classification_report_svm = classification_report(y_test,test_pred_svm, digits=4)\n",
        "print(f\"Runtime of the program is {end - start}\")\n",
        "print(classification_report_svm)"
      ],
      "execution_count": 36,
      "outputs": [
        {
          "output_type": "stream",
          "name": "stdout",
          "text": [
            "Runtime of the program is 147.14262795448303\n",
            "              precision    recall  f1-score   support\n",
            "\n",
            "           6     0.3712    0.0862    0.1400      3861\n",
            "           7     0.3187    0.9347    0.4753      4453\n",
            "          45     0.4615    0.0022    0.0043      2746\n",
            "          89     0.0000    0.0000    0.0000      2910\n",
            "\n",
            "    accuracy                         0.3222     13970\n",
            "   macro avg     0.2879    0.2558    0.1549     13970\n",
            "weighted avg     0.2949    0.3222    0.1910     13970\n",
            "\n"
          ]
        },
        {
          "output_type": "stream",
          "name": "stderr",
          "text": [
            "/usr/local/lib/python3.7/dist-packages/sklearn/metrics/_classification.py:1272: UndefinedMetricWarning: Precision and F-score are ill-defined and being set to 0.0 in labels with no predicted samples. Use `zero_division` parameter to control this behavior.\n",
            "  _warn_prf(average, modifier, msg_start, len(result))\n"
          ]
        }
      ]
    },
    {
      "cell_type": "code",
      "metadata": {
        "id": "OQwr5LcuX0O5"
      },
      "source": [
        ""
      ],
      "execution_count": 36,
      "outputs": []
    }
  ]
}