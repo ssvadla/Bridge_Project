{
  "nbformat": 4,
  "nbformat_minor": 0,
  "metadata": {
    "colab": {
      "name": "Supervised_Light_XG_14.ipynb",
      "provenance": [],
      "collapsed_sections": [],
      "authorship_tag": "ABX9TyPLfsSe/l0GwJuwVGjtvwiR",
      "include_colab_link": true
    },
    "kernelspec": {
      "name": "python3",
      "display_name": "Python 3"
    },
    "language_info": {
      "name": "python"
    }
  },
  "cells": [
    {
      "cell_type": "markdown",
      "metadata": {
        "id": "view-in-github",
        "colab_type": "text"
      },
      "source": [
        "<a href=\"https://colab.research.google.com/github/ssvadla/Bridge_Project/blob/main/Supervised_Light_XG_14.ipynb\" target=\"_parent\"><img src=\"https://colab.research.google.com/assets/colab-badge.svg\" alt=\"Open In Colab\"/></a>"
      ]
    },
    {
      "cell_type": "code",
      "metadata": {
        "colab": {
          "base_uri": "https://localhost:8080/"
        },
        "id": "SA-WFO4jN_FT",
        "outputId": "8dd3cf3e-74a7-4a0f-8152-436732cde7a9"
      },
      "source": [
        "import pandas as pd\n",
        "import time\n",
        "import numpy as np\n",
        "from google.colab import drive\n",
        "\n",
        "drive.mount('/content/drive')"
      ],
      "execution_count": 1,
      "outputs": [
        {
          "output_type": "stream",
          "name": "stdout",
          "text": [
            "Drive already mounted at /content/drive; to attempt to forcibly remount, call drive.mount(\"/content/drive\", force_remount=True).\n"
          ]
        }
      ]
    },
    {
      "cell_type": "code",
      "metadata": {
        "colab": {
          "base_uri": "https://localhost:8080/"
        },
        "id": "6ko57kYHOEP5",
        "outputId": "f14ba451-4332-40af-a308-a342cc1a3696"
      },
      "source": [
        "train = pd.read_csv('/content/drive/My Drive/Bridge_Project/Dataset_1/ConterminousUSPre5StatesKnownTrain.csv')"
      ],
      "execution_count": 2,
      "outputs": [
        {
          "output_type": "stream",
          "name": "stderr",
          "text": [
            "/usr/local/lib/python3.7/dist-packages/IPython/core/interactiveshell.py:2718: DtypeWarning: Columns (16) have mixed types.Specify dtype option on import or set low_memory=False.\n",
            "  interactivity=interactivity, compiler=compiler, result=result)\n"
          ]
        }
      ]
    },
    {
      "cell_type": "code",
      "metadata": {
        "colab": {
          "base_uri": "https://localhost:8080/"
        },
        "id": "2g-X-u_5OL0L",
        "outputId": "c4a79db6-18b9-43be-db80-aa5825b1f246"
      },
      "source": [
        "train.columns"
      ],
      "execution_count": 3,
      "outputs": [
        {
          "output_type": "execute_result",
          "data": {
            "text/plain": [
              "Index(['Unnamed: 0', 'Skew', 'Number_Spans', 'Length_Max_Span',\n",
              "       'Main_Design_Type', 'Deck_Design_Type', 'Wearing_Surface',\n",
              "       'Deck_Protection', 'ADT', 'ADTT', 'State', 'Structure_Number',\n",
              "       'Latitude', 'Longitude', 'Deck_Condition', 'Superstructure_Condition',\n",
              "       'Substructure_Condition', 'Days_MinLT_0F', 'Days_MaxGT_90F',\n",
              "       'Avg_Wind_Speed', 'Peak_Wind_Speed', 'Precipitation', 'Reconstructed',\n",
              "       'Age', 'Deck_Area'],\n",
              "      dtype='object')"
            ]
          },
          "metadata": {},
          "execution_count": 3
        }
      ]
    },
    {
      "cell_type": "code",
      "metadata": {
        "id": "36dwEyP2ONO3"
      },
      "source": [
        "#Excluded_columns = ['Unnamed: 0','State', 'Structure_Number', 'Latitude', 'Longitude', 'Superstructure_Condition', 'Substructure_Condition']\n",
        "#Excluded_columns = ['Unnamed: 0','State', 'Structure_Number', 'Latitude', 'Longitude']\n",
        "Excluded_columns = ['Unnamed: 0','State', 'Structure_Number', 'Latitude', 'Longitude','Days_MinLT_0F','Days_MaxGT_90F','Avg_Wind_Speed','Peak_Wind_Speed','Peak_Wind_Speed','Precipitation']"
      ],
      "execution_count": 4,
      "outputs": []
    },
    {
      "cell_type": "code",
      "metadata": {
        "id": "LFyr9XbZO7pV"
      },
      "source": [
        "train = train.drop(columns = Excluded_columns)"
      ],
      "execution_count": 5,
      "outputs": []
    },
    {
      "cell_type": "code",
      "metadata": {
        "colab": {
          "base_uri": "https://localhost:8080/"
        },
        "id": "fm9gTgD5tV_V",
        "outputId": "102bdc66-3db5-4aac-bc18-6aece5e7488f"
      },
      "source": [
        "train.columns"
      ],
      "execution_count": 6,
      "outputs": [
        {
          "output_type": "execute_result",
          "data": {
            "text/plain": [
              "Index(['Skew', 'Number_Spans', 'Length_Max_Span', 'Main_Design_Type',\n",
              "       'Deck_Design_Type', 'Wearing_Surface', 'Deck_Protection', 'ADT', 'ADTT',\n",
              "       'Deck_Condition', 'Superstructure_Condition', 'Substructure_Condition',\n",
              "       'Reconstructed', 'Age', 'Deck_Area'],\n",
              "      dtype='object')"
            ]
          },
          "metadata": {},
          "execution_count": 6
        }
      ]
    },
    {
      "cell_type": "code",
      "metadata": {
        "colab": {
          "base_uri": "https://localhost:8080/"
        },
        "id": "z_rXnq0KPA9A",
        "outputId": "cdca0c9e-ea50-43a1-c3cd-6e93ecdf5366"
      },
      "source": [
        "train.shape"
      ],
      "execution_count": 7,
      "outputs": [
        {
          "output_type": "execute_result",
          "data": {
            "text/plain": [
              "(41902, 15)"
            ]
          },
          "metadata": {},
          "execution_count": 7
        }
      ]
    },
    {
      "cell_type": "code",
      "metadata": {
        "id": "v-fjzZ_cQMHm"
      },
      "source": [
        "from sklearn import preprocessing\n",
        "le = preprocessing.LabelEncoder()\n",
        "train['Main_Design_Type_Encoded'] = le.fit_transform(train['Main_Design_Type'])\n",
        "train['Deck_Design_Type_Encoded'] = le.fit_transform(train['Deck_Design_Type'])\n",
        "train['Wearing_Surface_Encoded'] = le.fit_transform(train['Wearing_Surface'])\n",
        "train['Deck_Protection_Encoded'] = le.fit_transform(train['Deck_Protection'])\n"
      ],
      "execution_count": 8,
      "outputs": []
    },
    {
      "cell_type": "code",
      "metadata": {
        "colab": {
          "base_uri": "https://localhost:8080/"
        },
        "id": "dUXIIeiNa3za",
        "outputId": "92681443-a516-49f2-aa10-cfdc72f25183"
      },
      "source": [
        " for value in train['Substructure_Condition']:\n",
        "   #print(value)\n",
        "   if value == 'N':\n",
        "     print(\"Yes\")"
      ],
      "execution_count": 9,
      "outputs": [
        {
          "output_type": "stream",
          "name": "stdout",
          "text": [
            "Yes\n"
          ]
        }
      ]
    },
    {
      "cell_type": "code",
      "metadata": {
        "id": "12oTTKVybXn6"
      },
      "source": [
        "indexNames = train[ train['Substructure_Condition'] == 'N' ].index"
      ],
      "execution_count": 10,
      "outputs": []
    },
    {
      "cell_type": "code",
      "metadata": {
        "colab": {
          "base_uri": "https://localhost:8080/"
        },
        "id": "EL9TJCcib0ZT",
        "outputId": "fe1d0295-0ae8-4aa4-a8dd-ffaa9a2448a6"
      },
      "source": [
        "indexNames"
      ],
      "execution_count": 11,
      "outputs": [
        {
          "output_type": "execute_result",
          "data": {
            "text/plain": [
              "Int64Index([35702], dtype='int64')"
            ]
          },
          "metadata": {},
          "execution_count": 11
        }
      ]
    },
    {
      "cell_type": "code",
      "metadata": {
        "colab": {
          "base_uri": "https://localhost:8080/"
        },
        "id": "-_hm5MYSlPcX",
        "outputId": "58f02312-dc31-4e02-ece9-eddf4e25fb21"
      },
      "source": [
        "train.shape"
      ],
      "execution_count": 12,
      "outputs": [
        {
          "output_type": "execute_result",
          "data": {
            "text/plain": [
              "(41902, 19)"
            ]
          },
          "metadata": {},
          "execution_count": 12
        }
      ]
    },
    {
      "cell_type": "code",
      "metadata": {
        "id": "2iJBIeTSlMjH"
      },
      "source": [
        "train.drop(indexNames , inplace=True)"
      ],
      "execution_count": 13,
      "outputs": []
    },
    {
      "cell_type": "code",
      "metadata": {
        "colab": {
          "base_uri": "https://localhost:8080/"
        },
        "id": "wl9zD_RjlSDE",
        "outputId": "38748c36-eb2f-4e16-df64-6a0d4e1e10ea"
      },
      "source": [
        "train.shape"
      ],
      "execution_count": 14,
      "outputs": [
        {
          "output_type": "execute_result",
          "data": {
            "text/plain": [
              "(41901, 19)"
            ]
          },
          "metadata": {},
          "execution_count": 14
        }
      ]
    },
    {
      "cell_type": "code",
      "metadata": {
        "id": "4HjlSJ5calmP"
      },
      "source": [
        "train['Substructure_Condition_typed']= pd.to_numeric(train['Substructure_Condition'])"
      ],
      "execution_count": 15,
      "outputs": []
    },
    {
      "cell_type": "code",
      "metadata": {
        "colab": {
          "base_uri": "https://localhost:8080/"
        },
        "id": "vsynVarhaC1T",
        "outputId": "a86dfe8c-a252-4a2b-f924-0cecb4c0a107"
      },
      "source": [
        "np.unique(train['Substructure_Condition_typed'].values)"
      ],
      "execution_count": 16,
      "outputs": [
        {
          "output_type": "execute_result",
          "data": {
            "text/plain": [
              "array([0, 1, 2, 3, 4, 5, 6, 7, 8, 9])"
            ]
          },
          "metadata": {},
          "execution_count": 16
        }
      ]
    },
    {
      "cell_type": "code",
      "metadata": {
        "id": "irpeYZM2lY1u"
      },
      "source": [
        "train['Substructure_Condition_Encoded'] = le.fit_transform(train['Substructure_Condition_typed'])"
      ],
      "execution_count": 17,
      "outputs": []
    },
    {
      "cell_type": "code",
      "metadata": {
        "id": "enYZo-ONPCqC"
      },
      "source": [
        "import lightgbm as lgb\n",
        "classifier_lgb = lgb.LGBMClassifier()"
      ],
      "execution_count": 18,
      "outputs": []
    },
    {
      "cell_type": "code",
      "metadata": {
        "id": "-4KWHctoQczx"
      },
      "source": [
        "X = train.drop(columns=['Deck_Condition','Main_Design_Type','Deck_Design_Type','Wearing_Surface','Deck_Protection','Substructure_Condition_typed','Substructure_Condition']) \n"
      ],
      "execution_count": 19,
      "outputs": []
    },
    {
      "cell_type": "code",
      "metadata": {
        "id": "DyfHOb3uQvEH"
      },
      "source": [
        "y = train['Deck_Condition']"
      ],
      "execution_count": 20,
      "outputs": []
    },
    {
      "cell_type": "code",
      "metadata": {
        "colab": {
          "base_uri": "https://localhost:8080/"
        },
        "id": "9_sVtbkNQ6qp",
        "outputId": "59e9093d-129a-4ab9-df20-e1023c35be99"
      },
      "source": [
        "X.shape"
      ],
      "execution_count": 21,
      "outputs": [
        {
          "output_type": "execute_result",
          "data": {
            "text/plain": [
              "(41901, 14)"
            ]
          },
          "metadata": {},
          "execution_count": 21
        }
      ]
    },
    {
      "cell_type": "code",
      "metadata": {
        "colab": {
          "base_uri": "https://localhost:8080/"
        },
        "id": "MC64H7NJt6uK",
        "outputId": "0098ab7f-350a-4b35-c366-da615276e037"
      },
      "source": [
        "X.columns"
      ],
      "execution_count": 22,
      "outputs": [
        {
          "output_type": "execute_result",
          "data": {
            "text/plain": [
              "Index(['Skew', 'Number_Spans', 'Length_Max_Span', 'ADT', 'ADTT',\n",
              "       'Superstructure_Condition', 'Reconstructed', 'Age', 'Deck_Area',\n",
              "       'Main_Design_Type_Encoded', 'Deck_Design_Type_Encoded',\n",
              "       'Wearing_Surface_Encoded', 'Deck_Protection_Encoded',\n",
              "       'Substructure_Condition_Encoded'],\n",
              "      dtype='object')"
            ]
          },
          "metadata": {},
          "execution_count": 22
        }
      ]
    },
    {
      "cell_type": "code",
      "metadata": {
        "colab": {
          "base_uri": "https://localhost:8080/"
        },
        "id": "Z5B3wHrNQy4-",
        "outputId": "2fc301b4-cd13-46ff-eeca-7fb426b6021b"
      },
      "source": [
        "start = time.time()\n",
        "classifier_lgb.fit(X, y)\n",
        "end = time.time()\n",
        "print(f\"Runtime of the program is {end - start}\")"
      ],
      "execution_count": 23,
      "outputs": [
        {
          "output_type": "stream",
          "name": "stdout",
          "text": [
            "Runtime of the program is 2.586982488632202\n"
          ]
        }
      ]
    },
    {
      "cell_type": "code",
      "metadata": {
        "id": "0vQC9TqGQ5OW"
      },
      "source": [
        "test = pd.read_csv('/content/drive/My Drive/Bridge_Project/Dataset_1/ConterminousUSPre5StatesKnownTest.csv')"
      ],
      "execution_count": 24,
      "outputs": []
    },
    {
      "cell_type": "code",
      "metadata": {
        "id": "CCGbvx_yRbJS"
      },
      "source": [
        "test = test.drop(columns = Excluded_columns)"
      ],
      "execution_count": 25,
      "outputs": []
    },
    {
      "cell_type": "code",
      "metadata": {
        "id": "snu51WwPRFni"
      },
      "source": [
        "test['Main_Design_Type_Encoded'] = le.fit_transform(test['Main_Design_Type'])\n",
        "test['Deck_Design_Type_Encoded'] = le.fit_transform(test['Deck_Design_Type'])\n",
        "test['Wearing_Surface_Encoded'] = le.fit_transform(test['Wearing_Surface'])\n",
        "test['Deck_Protection_Encoded'] = le.fit_transform(test['Deck_Protection'])"
      ],
      "execution_count": 26,
      "outputs": []
    },
    {
      "cell_type": "code",
      "metadata": {
        "id": "EJlgX8Jrl3o6"
      },
      "source": [
        "#train['Substructure_Condition_typed']= pd.to_numeric(train['Substructure_Condition'])\n",
        "test['Substructure_Condition_Encoded'] = le.fit_transform(test['Substructure_Condition'])"
      ],
      "execution_count": 27,
      "outputs": []
    },
    {
      "cell_type": "code",
      "metadata": {
        "id": "3QheV6n0mBZ7"
      },
      "source": [
        ""
      ],
      "execution_count": 27,
      "outputs": []
    },
    {
      "cell_type": "code",
      "metadata": {
        "id": "_sxZ56AaRLKA"
      },
      "source": [
        "X_test = test.drop(columns=['Deck_Condition','Main_Design_Type','Deck_Design_Type','Wearing_Surface','Deck_Protection','Substructure_Condition']) \n"
      ],
      "execution_count": 28,
      "outputs": []
    },
    {
      "cell_type": "code",
      "metadata": {
        "id": "qAACRiVwRRP9"
      },
      "source": [
        "y_test = test['Deck_Condition']"
      ],
      "execution_count": 29,
      "outputs": []
    },
    {
      "cell_type": "code",
      "metadata": {
        "colab": {
          "base_uri": "https://localhost:8080/"
        },
        "id": "zWuFl6jbnFCX",
        "outputId": "21e3ed02-5deb-42ed-854c-91b35a40d175"
      },
      "source": [
        "np.unique(train['Deck_Condition'].values)"
      ],
      "execution_count": 30,
      "outputs": [
        {
          "output_type": "execute_result",
          "data": {
            "text/plain": [
              "array([ 6,  7, 45, 89])"
            ]
          },
          "metadata": {},
          "execution_count": 30
        }
      ]
    },
    {
      "cell_type": "code",
      "metadata": {
        "colab": {
          "base_uri": "https://localhost:8080/"
        },
        "id": "7arSh9q2m-7K",
        "outputId": "7a3fb6d4-c817-48c4-b86d-73855161777c"
      },
      "source": [
        "np.unique(test['Deck_Condition'].values)"
      ],
      "execution_count": 31,
      "outputs": [
        {
          "output_type": "execute_result",
          "data": {
            "text/plain": [
              "array([ 6,  7, 45, 89])"
            ]
          },
          "metadata": {},
          "execution_count": 31
        }
      ]
    },
    {
      "cell_type": "code",
      "metadata": {
        "colab": {
          "base_uri": "https://localhost:8080/"
        },
        "id": "6jwhp_QKRUXu",
        "outputId": "f9f0509e-d665-4a3c-fd93-aa7dc013188a"
      },
      "source": [
        "X_test.shape"
      ],
      "execution_count": 32,
      "outputs": [
        {
          "output_type": "execute_result",
          "data": {
            "text/plain": [
              "(13970, 14)"
            ]
          },
          "metadata": {},
          "execution_count": 32
        }
      ]
    },
    {
      "cell_type": "code",
      "metadata": {
        "id": "znDPaZoyRWJt"
      },
      "source": [
        "test_pred = classifier_lgb.predict(X_test)"
      ],
      "execution_count": 33,
      "outputs": []
    },
    {
      "cell_type": "code",
      "metadata": {
        "id": "3UQjabf-RlRi"
      },
      "source": [
        "from sklearn.metrics import classification_report\n",
        "classification_report = classification_report(y_test,test_pred, digits=4)"
      ],
      "execution_count": 34,
      "outputs": []
    },
    {
      "cell_type": "code",
      "metadata": {
        "colab": {
          "base_uri": "https://localhost:8080/"
        },
        "id": "lYERvKmERr3t",
        "outputId": "614e9a8f-2d99-40ea-a11f-fa2135f4f289"
      },
      "source": [
        "print(classification_report)"
      ],
      "execution_count": 35,
      "outputs": [
        {
          "output_type": "stream",
          "name": "stdout",
          "text": [
            "              precision    recall  f1-score   support\n",
            "\n",
            "           6     0.6428    0.6081    0.6250      3861\n",
            "           7     0.6754    0.7323    0.7027      4453\n",
            "          45     0.7205    0.6985    0.7093      2746\n",
            "          89     0.8161    0.7928    0.8043      2910\n",
            "\n",
            "    accuracy                         0.7039     13970\n",
            "   macro avg     0.7137    0.7079    0.7103     13970\n",
            "weighted avg     0.7046    0.7039    0.7037     13970\n",
            "\n"
          ]
        }
      ]
    },
    {
      "cell_type": "code",
      "metadata": {
        "colab": {
          "base_uri": "https://localhost:8080/"
        },
        "id": "tX-JErzURtvc",
        "outputId": "bba1a5b3-d279-4d3c-9be2-b65b78decd3a"
      },
      "source": [
        "from xgboost import XGBClassifier\n",
        "\n",
        "from sklearn.metrics import classification_report\n",
        "classifier_xg = XGBClassifier()\n",
        "start = time.time()\n",
        "classifier_xg.fit(X, y)\n",
        "end = time.time()\n",
        "test_pred_xg = classifier_xg.predict(X_test)\n",
        "classification_report_xg = classification_report(y_test,test_pred_xg, digits=4)\n",
        "print(f\"Runtime of the program is {end - start}\")\n",
        "print(classification_report_xg)"
      ],
      "execution_count": 36,
      "outputs": [
        {
          "output_type": "stream",
          "name": "stdout",
          "text": [
            "Runtime of the program is 9.667260646820068\n",
            "              precision    recall  f1-score   support\n",
            "\n",
            "           6     0.6436    0.5822    0.6114      3861\n",
            "           7     0.6501    0.7355    0.6901      4453\n",
            "          45     0.7153    0.6653    0.6894      2746\n",
            "          89     0.8042    0.7973    0.8007      2910\n",
            "\n",
            "    accuracy                         0.6922     13970\n",
            "   macro avg     0.7033    0.6951    0.6979     13970\n",
            "weighted avg     0.6932    0.6922    0.6913     13970\n",
            "\n"
          ]
        }
      ]
    },
    {
      "cell_type": "code",
      "metadata": {
        "colab": {
          "base_uri": "https://localhost:8080/"
        },
        "id": "CIFbL12bSjRP",
        "outputId": "af7b4c66-3089-4815-c334-be2753bb347c"
      },
      "source": [
        "from sklearn.ensemble import RandomForestClassifier\n",
        "classifier_rf = RandomForestClassifier(n_estimators = 350, criterion = 'gini', max_features = 'auto', random_state = 42)\n",
        "start = time.time()\n",
        "classifier_rf.fit(X, y)\n",
        "end = time.time()\n",
        "test_pred_rf = classifier_rf.predict(X_test)\n",
        "classification_report_rf = classification_report(y_test,test_pred_rf, digits=4)\n",
        "print(f\"Runtime of the program is {end - start}\")\n",
        "print(classification_report_rf)"
      ],
      "execution_count": 37,
      "outputs": [
        {
          "output_type": "stream",
          "name": "stdout",
          "text": [
            "Runtime of the program is 22.620065927505493\n",
            "              precision    recall  f1-score   support\n",
            "\n",
            "           6     0.6453    0.6211    0.6330      3861\n",
            "           7     0.6844    0.7319    0.7073      4453\n",
            "          45     0.7269    0.6988    0.7126      2746\n",
            "          89     0.8187    0.8024    0.8105      2910\n",
            "\n",
            "    accuracy                         0.7094     13970\n",
            "   macro avg     0.7188    0.7135    0.7158     13970\n",
            "weighted avg     0.7099    0.7094    0.7093     13970\n",
            "\n"
          ]
        }
      ]
    },
    {
      "cell_type": "code",
      "metadata": {
        "colab": {
          "base_uri": "https://localhost:8080/"
        },
        "id": "jSCesGgJXP8N",
        "outputId": "18a5d424-e847-4942-918e-789708eef9db"
      },
      "source": [
        "from sklearn import svm\n",
        "classifier_svm = svm.SVC(decision_function_shape='ovo')\n",
        "start = time.time()\n",
        "classifier_svm.fit(X, y)\n",
        "end = time.time()\n",
        "test_pred_svm = classifier_svm.predict(X_test)\n",
        "classification_report_svm = classification_report(y_test,test_pred_svm, digits=4)\n",
        "print(f\"Runtime of the program is {end - start}\")\n",
        "print(classification_report_svm)"
      ],
      "execution_count": 38,
      "outputs": [
        {
          "output_type": "stream",
          "name": "stdout",
          "text": [
            "Runtime of the program is 133.33832931518555\n",
            "              precision    recall  f1-score   support\n",
            "\n",
            "           6     0.3740    0.0873    0.1415      3861\n",
            "           7     0.3188    0.9347    0.4754      4453\n",
            "          45     0.4615    0.0022    0.0043      2746\n",
            "          89     0.0000    0.0000    0.0000      2910\n",
            "\n",
            "    accuracy                         0.3225     13970\n",
            "   macro avg     0.2886    0.2560    0.1553     13970\n",
            "weighted avg     0.2957    0.3225    0.1915     13970\n",
            "\n"
          ]
        },
        {
          "output_type": "stream",
          "name": "stderr",
          "text": [
            "/usr/local/lib/python3.7/dist-packages/sklearn/metrics/_classification.py:1272: UndefinedMetricWarning: Precision and F-score are ill-defined and being set to 0.0 in labels with no predicted samples. Use `zero_division` parameter to control this behavior.\n",
            "  _warn_prf(average, modifier, msg_start, len(result))\n"
          ]
        }
      ]
    },
    {
      "cell_type": "code",
      "metadata": {
        "id": "OQwr5LcuX0O5"
      },
      "source": [
        ""
      ],
      "execution_count": 38,
      "outputs": []
    }
  ]
}