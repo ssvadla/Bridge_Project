{
  "nbformat": 4,
  "nbformat_minor": 0,
  "metadata": {
    "colab": {
      "name": "Bridge_Project_Data_Analysis.ipynb",
      "provenance": [],
      "collapsed_sections": [],
      "authorship_tag": "ABX9TyNiYJGlsmnwsXEU2br6+zuN",
      "include_colab_link": true
    },
    "kernelspec": {
      "name": "python3",
      "display_name": "Python 3"
    },
    "language_info": {
      "name": "python"
    }
  },
  "cells": [
    {
      "cell_type": "markdown",
      "metadata": {
        "id": "view-in-github",
        "colab_type": "text"
      },
      "source": [
        "<a href=\"https://colab.research.google.com/github/ssvadla/Bridge_Project/blob/main/Bridge_Project_Data_Analysis.ipynb\" target=\"_parent\"><img src=\"https://colab.research.google.com/assets/colab-badge.svg\" alt=\"Open In Colab\"/></a>"
      ]
    },
    {
      "cell_type": "code",
      "metadata": {
        "id": "P349iITJv-KB"
      },
      "source": [
        "\n",
        "# import pandas as pd\n",
        "# from google.colab import drive\n",
        "\n",
        "# drive.mount('/content/drive')"
      ],
      "execution_count": 1,
      "outputs": []
    },
    {
      "cell_type": "code",
      "metadata": {
        "id": "7HCqnj5avsSB"
      },
      "source": [
        "# def read_shapefile(shp_path):\n",
        "# \t\"\"\"\n",
        "# \tRead a shapefile into a Pandas dataframe with a 'coords' column holding\n",
        "# \tthe geometry information. This uses the pyshp package\n",
        "# \t\"\"\"\n",
        "# \timport shapefile\n",
        "\n",
        "# \t#read file, parse out the records and shapes\n",
        "# \tsf = shapefile.Reader(shp_path)\n",
        "# \tfields = [x[0] for x in sf.fields][1:]\n",
        "# \trecords =[list(i) for i in sf.records()]\n",
        "# \tshps = [s.points for s in sf.shapes()]\n",
        "\n",
        "# \t#write into a dataframe\n",
        "# \tdf = pd.DataFrame(columns=fields, data=records)\n",
        "# \tdf = df.assign(coords=shps)\n",
        "\n",
        "# \treturn df"
      ],
      "execution_count": 2,
      "outputs": []
    },
    {
      "cell_type": "code",
      "metadata": {
        "id": "k-KnYmUav3Yo"
      },
      "source": [
        "# shp_path = '/content/drive/My Drive/Bridge_Project/Alabama/'"
      ],
      "execution_count": 3,
      "outputs": []
    },
    {
      "cell_type": "code",
      "metadata": {
        "id": "bSvQHlHZxVr7"
      },
      "source": [
        "# import shapefile\n",
        "# read_shapefile(shp_path)"
      ],
      "execution_count": 4,
      "outputs": []
    },
    {
      "cell_type": "code",
      "metadata": {
        "id": "jpnp9Uk70TZY"
      },
      "source": [
        "# !pip install shapefile"
      ],
      "execution_count": 5,
      "outputs": []
    },
    {
      "cell_type": "code",
      "metadata": {
        "id": "h-xybVGy9TR9"
      },
      "source": [
        "# shp_path = '/content/drive/My Drive/Bridge_Project/Alabama/'"
      ],
      "execution_count": 6,
      "outputs": []
    },
    {
      "cell_type": "code",
      "metadata": {
        "id": "svvzFdTW0cxk"
      },
      "source": [
        "# !pip install geopandas\n",
        "# import geopandas as gpd\n",
        "# df = gpd.read_file(shp_path)"
      ],
      "execution_count": 7,
      "outputs": []
    },
    {
      "cell_type": "code",
      "metadata": {
        "colab": {
          "base_uri": "https://localhost:8080/"
        },
        "id": "4e2FQOMmC70C",
        "outputId": "80630b55-e2f3-490f-de86-924aa7ff3a46"
      },
      "source": [
        "!pip install geopandas\n",
        "import geopandas as gpd\n",
        "import os\n",
        "import pandas as pd\n",
        "import numpy as np \n",
        "\n",
        "from google.colab import drive\n",
        "drive.mount('/content/drive')\n",
        "\n",
        "shape_files = []\n",
        "data_frames_list = []\n",
        "data_frames_shape_list = []\n",
        "data_frames_rows_list = []\n",
        "data_frames_cols_list = []\n",
        "state_name_dict_cols = { }\n",
        "root_path = '/content/drive/My Drive/Bridge_Project/Bridge_Data/'\n",
        "\n",
        "content_list = os.listdir(root_path)\n",
        "print(\"content_list = \",len(content_list))\n",
        "\n",
        "\n",
        "\n",
        "for i in content_list:\n",
        "  split = i.split(\".\")\n",
        "  if split[1] == 'shp' and len(split) == 2:\n",
        "    shape_files.append(i)\n",
        "\n",
        "shape_files.sort()\n",
        "print(\"shape_files = \",len(shape_files))\n",
        "\n",
        "for i in shape_files:\n",
        "  shp_file_path = root_path + i\n",
        "  print(shp_file_path)\n",
        "  df = gpd.read_file(shp_file_path)  \n",
        "  data_frames_list.append(df)\n",
        "  state_name_dict_cols[i] = [ df.shape[0], df.shape[1] ] #write to file\n",
        "  data_frames_shape_list.append(df.shape) #file\n",
        "  data_frames_rows_list.append(df.shape[0]) # file\n",
        "  data_frames_cols_list.append(df.shape[1]) #file\n",
        "\n",
        "if np.unique(data_frames_cols_list) != 138:\n",
        "  print(\"columns are not the same for all states\")\n",
        "  check_cols_same = 'columns are not the same for all states' \n",
        "else :\n",
        "  check_cols_same = 'olumns are same for all states'# file\n",
        "\n",
        "if sum(data_frames_rows_list) != 612388:\n",
        "  check_tot_rows = \"Total number of rows does not match\"\n",
        "  print(\"Total number of rows does not match\") \n",
        "else:\n",
        "  check_tot_rows = \"Total number of rows match to 612388\" #file\n",
        "\n"
      ],
      "execution_count": 8,
      "outputs": [
        {
          "output_type": "stream",
          "text": [
            "Requirement already satisfied: geopandas in /usr/local/lib/python3.7/dist-packages (0.9.0)\n",
            "Requirement already satisfied: shapely>=1.6 in /usr/local/lib/python3.7/dist-packages (from geopandas) (1.7.1)\n",
            "Requirement already satisfied: pyproj>=2.2.0 in /usr/local/lib/python3.7/dist-packages (from geopandas) (3.1.0)\n",
            "Requirement already satisfied: fiona>=1.8 in /usr/local/lib/python3.7/dist-packages (from geopandas) (1.8.20)\n",
            "Requirement already satisfied: pandas>=0.24.0 in /usr/local/lib/python3.7/dist-packages (from geopandas) (1.1.5)\n",
            "Requirement already satisfied: munch in /usr/local/lib/python3.7/dist-packages (from fiona>=1.8->geopandas) (2.5.0)\n",
            "Requirement already satisfied: cligj>=0.5 in /usr/local/lib/python3.7/dist-packages (from fiona>=1.8->geopandas) (0.7.2)\n",
            "Requirement already satisfied: setuptools in /usr/local/lib/python3.7/dist-packages (from fiona>=1.8->geopandas) (57.4.0)\n",
            "Requirement already satisfied: click>=4.0 in /usr/local/lib/python3.7/dist-packages (from fiona>=1.8->geopandas) (7.1.2)\n",
            "Requirement already satisfied: six>=1.7 in /usr/local/lib/python3.7/dist-packages (from fiona>=1.8->geopandas) (1.15.0)\n",
            "Requirement already satisfied: click-plugins>=1.0 in /usr/local/lib/python3.7/dist-packages (from fiona>=1.8->geopandas) (1.1.1)\n",
            "Requirement already satisfied: attrs>=17 in /usr/local/lib/python3.7/dist-packages (from fiona>=1.8->geopandas) (21.2.0)\n",
            "Requirement already satisfied: certifi in /usr/local/lib/python3.7/dist-packages (from fiona>=1.8->geopandas) (2021.5.30)\n",
            "Requirement already satisfied: python-dateutil>=2.7.3 in /usr/local/lib/python3.7/dist-packages (from pandas>=0.24.0->geopandas) (2.8.2)\n",
            "Requirement already satisfied: pytz>=2017.2 in /usr/local/lib/python3.7/dist-packages (from pandas>=0.24.0->geopandas) (2018.9)\n",
            "Requirement already satisfied: numpy>=1.15.4 in /usr/local/lib/python3.7/dist-packages (from pandas>=0.24.0->geopandas) (1.19.5)\n",
            "Drive already mounted at /content/drive; to attempt to forcibly remount, call drive.mount(\"/content/drive\", force_remount=True).\n",
            "content_list =  440\n",
            "shape_files =  49\n",
            "/content/drive/My Drive/Bridge_Project/Bridge_Data/Alabama.shp\n",
            "/content/drive/My Drive/Bridge_Project/Bridge_Data/Arizona.shp\n",
            "/content/drive/My Drive/Bridge_Project/Bridge_Data/Arkansas.shp\n",
            "/content/drive/My Drive/Bridge_Project/Bridge_Data/California.shp\n",
            "/content/drive/My Drive/Bridge_Project/Bridge_Data/Colorado.shp\n",
            "/content/drive/My Drive/Bridge_Project/Bridge_Data/Connecticut.shp\n",
            "/content/drive/My Drive/Bridge_Project/Bridge_Data/Delaware.shp\n",
            "/content/drive/My Drive/Bridge_Project/Bridge_Data/District_of_Columbia.shp\n",
            "/content/drive/My Drive/Bridge_Project/Bridge_Data/Florida.shp\n",
            "/content/drive/My Drive/Bridge_Project/Bridge_Data/Georgia.shp\n",
            "/content/drive/My Drive/Bridge_Project/Bridge_Data/Idaho.shp\n",
            "/content/drive/My Drive/Bridge_Project/Bridge_Data/Illinois.shp\n",
            "/content/drive/My Drive/Bridge_Project/Bridge_Data/Indiana.shp\n",
            "/content/drive/My Drive/Bridge_Project/Bridge_Data/Iowa.shp\n",
            "/content/drive/My Drive/Bridge_Project/Bridge_Data/Kansas.shp\n",
            "/content/drive/My Drive/Bridge_Project/Bridge_Data/Kentucky.shp\n",
            "/content/drive/My Drive/Bridge_Project/Bridge_Data/Louisiana.shp\n",
            "/content/drive/My Drive/Bridge_Project/Bridge_Data/Maine.shp\n",
            "/content/drive/My Drive/Bridge_Project/Bridge_Data/Maryland.shp\n",
            "/content/drive/My Drive/Bridge_Project/Bridge_Data/Massachusetts.shp\n",
            "/content/drive/My Drive/Bridge_Project/Bridge_Data/Michigan.shp\n",
            "/content/drive/My Drive/Bridge_Project/Bridge_Data/Minnesota.shp\n",
            "/content/drive/My Drive/Bridge_Project/Bridge_Data/Mississippi.shp\n",
            "/content/drive/My Drive/Bridge_Project/Bridge_Data/Missouri.shp\n",
            "/content/drive/My Drive/Bridge_Project/Bridge_Data/Montana.shp\n",
            "/content/drive/My Drive/Bridge_Project/Bridge_Data/Nebraska.shp\n",
            "/content/drive/My Drive/Bridge_Project/Bridge_Data/Nevada.shp\n",
            "/content/drive/My Drive/Bridge_Project/Bridge_Data/New_Hampshire.shp\n",
            "/content/drive/My Drive/Bridge_Project/Bridge_Data/New_Jersey.shp\n",
            "/content/drive/My Drive/Bridge_Project/Bridge_Data/New_Mexico.shp\n",
            "/content/drive/My Drive/Bridge_Project/Bridge_Data/New_York.shp\n",
            "/content/drive/My Drive/Bridge_Project/Bridge_Data/North_Carolina.shp\n",
            "/content/drive/My Drive/Bridge_Project/Bridge_Data/North_Dakota.shp\n",
            "/content/drive/My Drive/Bridge_Project/Bridge_Data/Ohio.shp\n",
            "/content/drive/My Drive/Bridge_Project/Bridge_Data/Oklahoma.shp\n",
            "/content/drive/My Drive/Bridge_Project/Bridge_Data/Oregon.shp\n",
            "/content/drive/My Drive/Bridge_Project/Bridge_Data/Pennsylvania.shp\n",
            "/content/drive/My Drive/Bridge_Project/Bridge_Data/Rhode_Island.shp\n",
            "/content/drive/My Drive/Bridge_Project/Bridge_Data/South_Carolina.shp\n",
            "/content/drive/My Drive/Bridge_Project/Bridge_Data/South_Dakota.shp\n",
            "/content/drive/My Drive/Bridge_Project/Bridge_Data/Tennessee.shp\n",
            "/content/drive/My Drive/Bridge_Project/Bridge_Data/Texas.shp\n",
            "/content/drive/My Drive/Bridge_Project/Bridge_Data/Utah.shp\n",
            "/content/drive/My Drive/Bridge_Project/Bridge_Data/Vermont.shp\n",
            "/content/drive/My Drive/Bridge_Project/Bridge_Data/Virginia.shp\n",
            "/content/drive/My Drive/Bridge_Project/Bridge_Data/Washington.shp\n",
            "/content/drive/My Drive/Bridge_Project/Bridge_Data/West_Virginia.shp\n",
            "/content/drive/My Drive/Bridge_Project/Bridge_Data/Wisconsin.shp\n",
            "/content/drive/My Drive/Bridge_Project/Bridge_Data/Wyoming.shp\n"
          ],
          "name": "stdout"
        }
      ]
    },
    {
      "cell_type": "code",
      "metadata": {
        "colab": {
          "base_uri": "https://localhost:8080/"
        },
        "id": "2-z9YIapHoPa",
        "outputId": "b65662d1-1246-4045-dcc1-3889554aa502"
      },
      "source": [
        "data_frames_rows_list"
      ],
      "execution_count": 9,
      "outputs": [
        {
          "output_type": "execute_result",
          "data": {
            "text/plain": [
              "[16117,\n",
              " 8424,\n",
              " 12914,\n",
              " 25730,\n",
              " 8809,\n",
              " 4252,\n",
              " 881,\n",
              " 240,\n",
              " 12586,\n",
              " 14963,\n",
              " 4513,\n",
              " 26848,\n",
              " 19327,\n",
              " 23981,\n",
              " 24940,\n",
              " 14419,\n",
              " 12850,\n",
              " 2472,\n",
              " 5111,\n",
              " 5229,\n",
              " 11269,\n",
              " 13470,\n",
              " 16869,\n",
              " 24538,\n",
              " 5250,\n",
              " 15345,\n",
              " 1999,\n",
              " 2514,\n",
              " 6788,\n",
              " 4019,\n",
              " 17552,\n",
              " 18723,\n",
              " 4268,\n",
              " 27072,\n",
              " 23152,\n",
              " 8187,\n",
              " 22962,\n",
              " 777,\n",
              " 9452,\n",
              " 5877,\n",
              " 20234,\n",
              " 54680,\n",
              " 3061,\n",
              " 2824,\n",
              " 13930,\n",
              " 8302,\n",
              " 7286,\n",
              " 14270,\n",
              " 3112]"
            ]
          },
          "metadata": {},
          "execution_count": 9
        }
      ]
    },
    {
      "cell_type": "code",
      "metadata": {
        "colab": {
          "base_uri": "https://localhost:8080/"
        },
        "id": "av7BwhfRIg8o",
        "outputId": "15c07547-675b-4412-e1e0-fa972784c62d"
      },
      "source": [
        "sum(data_frames_rows_list)"
      ],
      "execution_count": 10,
      "outputs": [
        {
          "output_type": "execute_result",
          "data": {
            "text/plain": [
              "612388"
            ]
          },
          "metadata": {},
          "execution_count": 10
        }
      ]
    },
    {
      "cell_type": "code",
      "metadata": {
        "colab": {
          "base_uri": "https://localhost:8080/"
        },
        "id": "-ZyvV2kfT25g",
        "outputId": "14728b27-4958-4a03-ff0d-0483c11c0140"
      },
      "source": [
        "22962 + 16117 + 8424"
      ],
      "execution_count": 11,
      "outputs": [
        {
          "output_type": "execute_result",
          "data": {
            "text/plain": [
              "47503"
            ]
          },
          "metadata": {},
          "execution_count": 11
        }
      ]
    },
    {
      "cell_type": "code",
      "metadata": {
        "colab": {
          "base_uri": "https://localhost:8080/"
        },
        "id": "M0W9x9aNCwED",
        "outputId": "2ee4650a-0fe2-43d4-e1f7-2ab861e4d55b"
      },
      "source": [
        "import numpy as np\n",
        "np.unique(data_frames_cols_list) \n"
      ],
      "execution_count": 12,
      "outputs": [
        {
          "output_type": "execute_result",
          "data": {
            "text/plain": [
              "array([138])"
            ]
          },
          "metadata": {},
          "execution_count": 12
        }
      ]
    },
    {
      "cell_type": "code",
      "metadata": {
        "id": "_Xx4iqzjFgW6"
      },
      "source": [
        "# city = 'Michigan.shp'\n",
        "# path = root_path+city\n",
        "# mach_df = gpd.read_file(path)\n"
      ],
      "execution_count": 13,
      "outputs": []
    },
    {
      "cell_type": "code",
      "metadata": {
        "id": "Eg1F31uvFlIu"
      },
      "source": [
        "# print(mach_df.columns)"
      ],
      "execution_count": 14,
      "outputs": []
    },
    {
      "cell_type": "code",
      "metadata": {
        "id": "yzOgw3pNGVCM"
      },
      "source": [
        "# city = 'New_Mexico.shp'\n",
        "# path = root_path+city\n",
        "# mach_df = gpd.read_file(path)\n"
      ],
      "execution_count": 15,
      "outputs": []
    },
    {
      "cell_type": "code",
      "metadata": {
        "id": "UU8om8lCGr_K"
      },
      "source": [
        "# mach_df.shape"
      ],
      "execution_count": 16,
      "outputs": []
    },
    {
      "cell_type": "code",
      "metadata": {
        "id": "RFU5KsoeEzhO"
      },
      "source": [
        "# for i in range(len(data_frames_cols_list)):\n",
        "#   if data_frames_cols_list[i] == 139:\n",
        "#     print(i)\n",
        "#     print(\"hello\")"
      ],
      "execution_count": 17,
      "outputs": []
    },
    {
      "cell_type": "code",
      "metadata": {
        "id": "CV32Ba5jdzxG"
      },
      "source": [
        ""
      ],
      "execution_count": 17,
      "outputs": []
    },
    {
      "cell_type": "code",
      "metadata": {
        "id": "ym65fdGnpTn1"
      },
      "source": [
        "#all_cols = ConterminousUS.columns"
      ],
      "execution_count": 18,
      "outputs": []
    },
    {
      "cell_type": "code",
      "metadata": {
        "id": "HQpdvBaGS4dV"
      },
      "source": [
        "Initial_Col_Name_list = ['YEAR_B', 'STRUCTUR_4', 'DECK_W', 'DEGRE', 'MAIN_', 'MAX_S', 'STRUCTUR_2', 'DECK_S', 'SURFA', 'DECK_P', 'ADT_0', 'PERCE', 'YEAR_R', 'Shape *', 'STATE', 'STRUCTURE_', 'lattd', 'lngtd', 'DECK_C', 'SUPER', 'SUBST', 'Frequency_', 'Max_Quake', 'DT00', 'DX32', 'DX70', 'DX90', 'AWND', 'WSF5', 'PRECIPITAT', 'TEMP_MAX', 'TEMP_MEAN', 'TEMP_MIN', 'FREQUENCY_','MAX_QUAKE'] #file"
      ],
      "execution_count": 19,
      "outputs": []
    },
    {
      "cell_type": "code",
      "metadata": {
        "colab": {
          "base_uri": "https://localhost:8080/"
        },
        "id": "NW1zODktr9DD",
        "outputId": "e0a20714-cf23-40f2-bb76-7cd1422a5ef7"
      },
      "source": [
        "len(Initial_Col_Name_list)"
      ],
      "execution_count": 20,
      "outputs": [
        {
          "output_type": "execute_result",
          "data": {
            "text/plain": [
              "35"
            ]
          },
          "metadata": {},
          "execution_count": 20
        }
      ]
    },
    {
      "cell_type": "code",
      "metadata": {
        "id": "3qbNtG85KaYs"
      },
      "source": [
        "# len(Final_Column_Name)"
      ],
      "execution_count": 21,
      "outputs": []
    },
    {
      "cell_type": "code",
      "metadata": {
        "id": "GTwDVI1TqlVu"
      },
      "source": [
        "# attributes = []\n",
        "# for att in all_cols:\n",
        "#   if att not in Initial_Col_Name_list:\n",
        "#     del ConterminousUS[att]\n",
        "#     #print(\"not same\")\n",
        "#   else:\n",
        "#     #print(\"same\")\n",
        "#     attributes.append(att)\n",
        "\n",
        "# print(ConterminousUS.shape)\n",
        "# #attributes to the file"
      ],
      "execution_count": 22,
      "outputs": []
    },
    {
      "cell_type": "code",
      "metadata": {
        "id": "Ea8XNdQhrOSn"
      },
      "source": [
        "# missing_attr = []\n",
        "# for i in Initial_Col_Name_list:\n",
        "#   if i not in all_cols:\n",
        "#     print(i)\n",
        "#     missing_attr.append(i)"
      ],
      "execution_count": 23,
      "outputs": []
    },
    {
      "cell_type": "code",
      "metadata": {
        "id": "YYmuwFyLsQGg"
      },
      "source": [
        "# for i in all_cols:\n",
        "#   if i == 'Max_Quake':\n",
        "#     print(\"der\")"
      ],
      "execution_count": 24,
      "outputs": []
    },
    {
      "cell_type": "code",
      "metadata": {
        "id": "gNByKgpys_A6"
      },
      "source": [
        "# all_cols.sort_values"
      ],
      "execution_count": 25,
      "outputs": []
    },
    {
      "cell_type": "code",
      "metadata": {
        "id": "YKHWMJp2UjoP"
      },
      "source": [
        "Final_Column_Name = ['Year_Built', 'Deck_Length', 'Deck_Width', 'Skew', 'Number_Spans', 'Length_Max_Span', 'Main_Design_Type', 'Deck_Design_Type', 'Wearing_Surface', 'Deck_Protection', 'ADT', 'ADTT', 'Year_Reconstructed', 'Shape *', 'State_Code', 'Structure_Number', 'Latitude', 'Longitude', 'Deck_Condition', 'Superstructure_Condition', 'Substructure_Condition', 'Freq_Shake_GT4', 'Max_Shake', 'Days_MinLT_0F', 'Days_MinLT_32F', 'Days_MaxGT_70F', 'Days_MaxGT_90F', 'Avg_Wind_Speed', 'Peak_Wind_Speed', 'Precipitation', 'Temp_Max', 'Temp_Mean', 'Temp_Min','Freq_Shake_GT4','Max_Shake']  #file"
      ],
      "execution_count": 26,
      "outputs": []
    },
    {
      "cell_type": "code",
      "metadata": {
        "colab": {
          "base_uri": "https://localhost:8080/"
        },
        "id": "kRgxYzIkWBWY",
        "outputId": "6e07d4b2-4785-47f9-fc91-ef64b571a426"
      },
      "source": [
        "len(Final_Column_Name)"
      ],
      "execution_count": 27,
      "outputs": [
        {
          "output_type": "execute_result",
          "data": {
            "text/plain": [
              "35"
            ]
          },
          "metadata": {},
          "execution_count": 27
        }
      ]
    },
    {
      "cell_type": "code",
      "metadata": {
        "id": "gxGA_afRXTdI"
      },
      "source": [
        "#creating a dictionary to rename the column names of each dataframe\n",
        "rename_cols = { } #file\n",
        "for idx in range(len(Initial_Col_Name_list)):\n",
        "  rename_cols[Initial_Col_Name_list[idx]] = Final_Column_Name[idx]\n"
      ],
      "execution_count": 28,
      "outputs": []
    },
    {
      "cell_type": "code",
      "metadata": {
        "id": "BUlwdTF2Oumy"
      },
      "source": [
        ""
      ],
      "execution_count": 28,
      "outputs": []
    },
    {
      "cell_type": "code",
      "metadata": {
        "id": "x1ReQ5pfY_BM"
      },
      "source": [
        "# rename_cols"
      ],
      "execution_count": 29,
      "outputs": []
    },
    {
      "cell_type": "code",
      "metadata": {
        "id": "raqMq73NcNce"
      },
      "source": [
        "# ConterminousUS.head()"
      ],
      "execution_count": 30,
      "outputs": []
    },
    {
      "cell_type": "code",
      "metadata": {
        "id": "3GE3dNwfKvN9"
      },
      "source": [
        "#Rename the columns of each dataframe \n",
        "for dataframe in data_frames_list:\n",
        "  dataframe.rename(columns=rename_cols, inplace=True)"
      ],
      "execution_count": 31,
      "outputs": []
    },
    {
      "cell_type": "code",
      "metadata": {
        "id": "DrqaV95VLFW4"
      },
      "source": [
        "#get all the columns names from all dataframes to check if they are correctly renamed\n",
        "column_list = []\n",
        "for frame in data_frames_list:\n",
        "  column_list.append(frame.columns)"
      ],
      "execution_count": 32,
      "outputs": []
    },
    {
      "cell_type": "code",
      "metadata": {
        "id": "1JcHCqqTMfa0"
      },
      "source": [
        "# type(column_list)"
      ],
      "execution_count": 33,
      "outputs": []
    },
    {
      "cell_type": "code",
      "metadata": {
        "colab": {
          "base_uri": "https://localhost:8080/"
        },
        "id": "DNzpr3x8LY4i",
        "outputId": "32c24f32-9a82-4070-a2f2-d978f36de210"
      },
      "source": [
        "#check if all dataframes have same column names as taken from the table final column name after renaming\n",
        "for j in range(len(column_list)-1):\n",
        "  if column_list[j].all() != column_list[j+1].all():\n",
        "    print(\"All the renamed columns are not same\")\n",
        "    attribute_check = \"All the renamed columns are not same\"\n",
        "  else: \n",
        "    print(\"All the renamed columns are same\")\n",
        "    attribute_check = \"All the renamed columns are same\"\n"
      ],
      "execution_count": 34,
      "outputs": [
        {
          "output_type": "stream",
          "text": [
            "All the renamed columns are same\n",
            "All the renamed columns are same\n",
            "All the renamed columns are same\n",
            "All the renamed columns are same\n",
            "All the renamed columns are same\n",
            "All the renamed columns are same\n",
            "All the renamed columns are same\n",
            "All the renamed columns are same\n",
            "All the renamed columns are same\n",
            "All the renamed columns are same\n",
            "All the renamed columns are same\n",
            "All the renamed columns are same\n",
            "All the renamed columns are same\n",
            "All the renamed columns are same\n",
            "All the renamed columns are same\n",
            "All the renamed columns are same\n",
            "All the renamed columns are same\n",
            "All the renamed columns are same\n",
            "All the renamed columns are same\n",
            "All the renamed columns are same\n",
            "All the renamed columns are same\n",
            "All the renamed columns are same\n",
            "All the renamed columns are same\n",
            "All the renamed columns are same\n",
            "All the renamed columns are same\n",
            "All the renamed columns are same\n",
            "All the renamed columns are same\n",
            "All the renamed columns are same\n",
            "All the renamed columns are same\n",
            "All the renamed columns are same\n",
            "All the renamed columns are same\n",
            "All the renamed columns are same\n",
            "All the renamed columns are same\n",
            "All the renamed columns are same\n",
            "All the renamed columns are same\n",
            "All the renamed columns are same\n",
            "All the renamed columns are same\n",
            "All the renamed columns are same\n",
            "All the renamed columns are same\n",
            "All the renamed columns are same\n",
            "All the renamed columns are same\n",
            "All the renamed columns are same\n",
            "All the renamed columns are same\n",
            "All the renamed columns are same\n",
            "All the renamed columns are same\n",
            "All the renamed columns are same\n",
            "All the renamed columns are same\n",
            "All the renamed columns are same\n"
          ],
          "name": "stdout"
        }
      ]
    },
    {
      "cell_type": "code",
      "metadata": {
        "id": "39Ph4Ik8OKx3"
      },
      "source": [
        "#concatenate all the dataframes into single dataframe\n",
        "ConterminousUS = pd.concat(data_frames_list)"
      ],
      "execution_count": 35,
      "outputs": []
    },
    {
      "cell_type": "code",
      "metadata": {
        "id": "BOe_x3rCSiRT"
      },
      "source": [
        "ConterminousUS_length = len(ConterminousUS) #file"
      ],
      "execution_count": 36,
      "outputs": []
    },
    {
      "cell_type": "code",
      "metadata": {
        "id": "9sNECODztJXz"
      },
      "source": [
        "#ConterminousUS.rename(columns=rename_cols, inplace=True)"
      ],
      "execution_count": 37,
      "outputs": []
    },
    {
      "cell_type": "code",
      "metadata": {
        "colab": {
          "base_uri": "https://localhost:8080/",
          "height": 514
        },
        "id": "gb_eW9yfb6XZ",
        "outputId": "0d437bb3-fc3f-4fee-c313-eaa296f7c610"
      },
      "source": [
        "ConterminousUS.head()"
      ],
      "execution_count": 38,
      "outputs": [
        {
          "output_type": "execute_result",
          "data": {
            "text/html": [
              "<div>\n",
              "<style scoped>\n",
              "    .dataframe tbody tr th:only-of-type {\n",
              "        vertical-align: middle;\n",
              "    }\n",
              "\n",
              "    .dataframe tbody tr th {\n",
              "        vertical-align: top;\n",
              "    }\n",
              "\n",
              "    .dataframe thead th {\n",
              "        text-align: right;\n",
              "    }\n",
              "</style>\n",
              "<table border=\"1\" class=\"dataframe\">\n",
              "  <thead>\n",
              "    <tr style=\"text-align: right;\">\n",
              "      <th></th>\n",
              "      <th>State_Code</th>\n",
              "      <th>Structure_Number</th>\n",
              "      <th>RECOR</th>\n",
              "      <th>ROUTE_P</th>\n",
              "      <th>SERVICE_L</th>\n",
              "      <th>ROUTE_N</th>\n",
              "      <th>DIREC</th>\n",
              "      <th>HIGHWAY_D</th>\n",
              "      <th>COUNT</th>\n",
              "      <th>PLACE</th>\n",
              "      <th>FEATU</th>\n",
              "      <th>CRITI</th>\n",
              "      <th>FACIL</th>\n",
              "      <th>LOCAT</th>\n",
              "      <th>MIN_V</th>\n",
              "      <th>KILOP</th>\n",
              "      <th>BASE_</th>\n",
              "      <th>LRS_I</th>\n",
              "      <th>SUBRO</th>\n",
              "      <th>LAT_0</th>\n",
              "      <th>LONG_</th>\n",
              "      <th>DETOU</th>\n",
              "      <th>TOLL_</th>\n",
              "      <th>MAINT</th>\n",
              "      <th>OWNER</th>\n",
              "      <th>FUNCT</th>\n",
              "      <th>Year_Built</th>\n",
              "      <th>TRAFFIC_LA</th>\n",
              "      <th>TRAFFIC__1</th>\n",
              "      <th>ADT</th>\n",
              "      <th>YEAR_A</th>\n",
              "      <th>DESIG</th>\n",
              "      <th>APPR_W</th>\n",
              "      <th>MEDIA</th>\n",
              "      <th>Skew</th>\n",
              "      <th>STRUCTUR_1</th>\n",
              "      <th>RAILI</th>\n",
              "      <th>TRANS</th>\n",
              "      <th>APPR_RAIL_</th>\n",
              "      <th>APPR_RAI_1</th>\n",
              "      <th>...</th>\n",
              "      <th>STRAH</th>\n",
              "      <th>PARAL</th>\n",
              "      <th>TRAFFIC_D</th>\n",
              "      <th>TEMP_</th>\n",
              "      <th>HIGHWAY_S</th>\n",
              "      <th>FEDER</th>\n",
              "      <th>Year_Reconstructed</th>\n",
              "      <th>Deck_Design_Type</th>\n",
              "      <th>Wearing_Surface</th>\n",
              "      <th>MEMBR</th>\n",
              "      <th>Deck_Protection</th>\n",
              "      <th>ADTT</th>\n",
              "      <th>NATIO</th>\n",
              "      <th>PIER_</th>\n",
              "      <th>BRIDGE_L</th>\n",
              "      <th>SCOUR</th>\n",
              "      <th>FUTUR</th>\n",
              "      <th>YEAR_OF_F</th>\n",
              "      <th>MIN_N</th>\n",
              "      <th>FED_A</th>\n",
              "      <th>SUBMI</th>\n",
              "      <th>BRIDGE_C</th>\n",
              "      <th>LOWES</th>\n",
              "      <th>DECK_A</th>\n",
              "      <th>Latitude</th>\n",
              "      <th>Longitude</th>\n",
              "      <th>Freq_Shake_GT4</th>\n",
              "      <th>Max_Shake</th>\n",
              "      <th>Days_MinLT_0F</th>\n",
              "      <th>Days_MinLT_32F</th>\n",
              "      <th>Days_MaxGT_70F</th>\n",
              "      <th>Days_MaxGT_90F</th>\n",
              "      <th>Avg_Wind_Speed</th>\n",
              "      <th>Peak_Wind_Speed</th>\n",
              "      <th>Precipitation</th>\n",
              "      <th>Temp_Max</th>\n",
              "      <th>Temp_Mean</th>\n",
              "      <th>Temp_Min</th>\n",
              "      <th>geometry</th>\n",
              "      <th>MAX_Quake</th>\n",
              "    </tr>\n",
              "  </thead>\n",
              "  <tbody>\n",
              "    <tr>\n",
              "      <th>0</th>\n",
              "      <td>01</td>\n",
              "      <td>00000000000S702</td>\n",
              "      <td>1.0</td>\n",
              "      <td>6.0</td>\n",
              "      <td>1.0</td>\n",
              "      <td>04007</td>\n",
              "      <td>0.0</td>\n",
              "      <td>09</td>\n",
              "      <td>053</td>\n",
              "      <td>00000</td>\n",
              "      <td>'PERDIDO CREEK'</td>\n",
              "      <td>0</td>\n",
              "      <td>'IRR BIA RTE 4007'</td>\n",
              "      <td>'11.4KM NW OF ATMORE  AL'</td>\n",
              "      <td>99.99</td>\n",
              "      <td>1.500</td>\n",
              "      <td>0.0</td>\n",
              "      <td>0000000000</td>\n",
              "      <td>0.0</td>\n",
              "      <td>31061094.0</td>\n",
              "      <td>87341348.0</td>\n",
              "      <td>3.0</td>\n",
              "      <td>3.0</td>\n",
              "      <td>62</td>\n",
              "      <td>62</td>\n",
              "      <td>09</td>\n",
              "      <td>1999.0</td>\n",
              "      <td>2.0</td>\n",
              "      <td>0.0</td>\n",
              "      <td>50.0</td>\n",
              "      <td>2019.0</td>\n",
              "      <td>5</td>\n",
              "      <td>9.7</td>\n",
              "      <td>0.0</td>\n",
              "      <td>30.0</td>\n",
              "      <td>0.0</td>\n",
              "      <td>1</td>\n",
              "      <td>1</td>\n",
              "      <td>1</td>\n",
              "      <td>1</td>\n",
              "      <td>...</td>\n",
              "      <td>0.0</td>\n",
              "      <td>N</td>\n",
              "      <td>2.0</td>\n",
              "      <td>0</td>\n",
              "      <td>0.0</td>\n",
              "      <td>1.0</td>\n",
              "      <td>0.0</td>\n",
              "      <td>2</td>\n",
              "      <td>6</td>\n",
              "      <td>0</td>\n",
              "      <td>1</td>\n",
              "      <td>1.0</td>\n",
              "      <td>0.0</td>\n",
              "      <td>0.0</td>\n",
              "      <td>Y</td>\n",
              "      <td>8</td>\n",
              "      <td>59.0</td>\n",
              "      <td>2039.0</td>\n",
              "      <td>0.0</td>\n",
              "      <td>Y</td>\n",
              "      <td>62</td>\n",
              "      <td>G</td>\n",
              "      <td>7.0</td>\n",
              "      <td>145.50</td>\n",
              "      <td>31.103039</td>\n",
              "      <td>-87.570411</td>\n",
              "      <td>0</td>\n",
              "      <td>0.0</td>\n",
              "      <td>0</td>\n",
              "      <td>0</td>\n",
              "      <td>288</td>\n",
              "      <td>98</td>\n",
              "      <td>7.2</td>\n",
              "      <td>74.9</td>\n",
              "      <td>64.3871</td>\n",
              "      <td>79.1591</td>\n",
              "      <td>69.1455</td>\n",
              "      <td>59.1323</td>\n",
              "      <td>POINT Z (-87.57041 31.10304 0.00000)</td>\n",
              "      <td>NaN</td>\n",
              "    </tr>\n",
              "    <tr>\n",
              "      <th>1</th>\n",
              "      <td>01</td>\n",
              "      <td>00000000000S703</td>\n",
              "      <td>1.0</td>\n",
              "      <td>6.0</td>\n",
              "      <td>1.0</td>\n",
              "      <td>04003</td>\n",
              "      <td>0.0</td>\n",
              "      <td>09</td>\n",
              "      <td>053</td>\n",
              "      <td>03004</td>\n",
              "      <td>'PERDIDO CREEK'</td>\n",
              "      <td>0</td>\n",
              "      <td>'IRR BIA RTE 4003'</td>\n",
              "      <td>'ON LYNN MCGEE ROAD'</td>\n",
              "      <td>99.99</td>\n",
              "      <td>1.100</td>\n",
              "      <td>0.0</td>\n",
              "      <td>0000000000</td>\n",
              "      <td>0.0</td>\n",
              "      <td>31062020.0</td>\n",
              "      <td>87340890.0</td>\n",
              "      <td>3.0</td>\n",
              "      <td>3.0</td>\n",
              "      <td>62</td>\n",
              "      <td>62</td>\n",
              "      <td>09</td>\n",
              "      <td>2002.0</td>\n",
              "      <td>2.0</td>\n",
              "      <td>0.0</td>\n",
              "      <td>159.0</td>\n",
              "      <td>2019.0</td>\n",
              "      <td>5</td>\n",
              "      <td>6.5</td>\n",
              "      <td>0.0</td>\n",
              "      <td>0.0</td>\n",
              "      <td>0.0</td>\n",
              "      <td>1</td>\n",
              "      <td>1</td>\n",
              "      <td>1</td>\n",
              "      <td>1</td>\n",
              "      <td>...</td>\n",
              "      <td>0.0</td>\n",
              "      <td>N</td>\n",
              "      <td>2.0</td>\n",
              "      <td>0</td>\n",
              "      <td>0.0</td>\n",
              "      <td>1.0</td>\n",
              "      <td>0.0</td>\n",
              "      <td>2</td>\n",
              "      <td>6</td>\n",
              "      <td>0</td>\n",
              "      <td>8</td>\n",
              "      <td>1.0</td>\n",
              "      <td>0.0</td>\n",
              "      <td>0.0</td>\n",
              "      <td>Y</td>\n",
              "      <td>8</td>\n",
              "      <td>200.0</td>\n",
              "      <td>2039.0</td>\n",
              "      <td>0.0</td>\n",
              "      <td>Y</td>\n",
              "      <td>62</td>\n",
              "      <td>G</td>\n",
              "      <td>7.0</td>\n",
              "      <td>133.28</td>\n",
              "      <td>31.105611</td>\n",
              "      <td>-87.569139</td>\n",
              "      <td>0</td>\n",
              "      <td>0.0</td>\n",
              "      <td>0</td>\n",
              "      <td>0</td>\n",
              "      <td>288</td>\n",
              "      <td>98</td>\n",
              "      <td>7.2</td>\n",
              "      <td>74.9</td>\n",
              "      <td>60.9316</td>\n",
              "      <td>79.3499</td>\n",
              "      <td>69.3045</td>\n",
              "      <td>59.2592</td>\n",
              "      <td>POINT Z (-87.56914 31.10561 0.00000)</td>\n",
              "      <td>NaN</td>\n",
              "    </tr>\n",
              "    <tr>\n",
              "      <th>2</th>\n",
              "      <td>01</td>\n",
              "      <td>000071</td>\n",
              "      <td>1.0</td>\n",
              "      <td>4.0</td>\n",
              "      <td>1.0</td>\n",
              "      <td>00000</td>\n",
              "      <td>0.0</td>\n",
              "      <td>07</td>\n",
              "      <td>061</td>\n",
              "      <td>00000</td>\n",
              "      <td>'DOUBLE BRIDGES CREEK'</td>\n",
              "      <td>0</td>\n",
              "      <td>'SPEARS HILL ROAD'</td>\n",
              "      <td>'4 MI NE OF SAMSON'</td>\n",
              "      <td>99.99</td>\n",
              "      <td>0.010</td>\n",
              "      <td>0.0</td>\n",
              "      <td>000CO00000</td>\n",
              "      <td>0.0</td>\n",
              "      <td>31084101.0</td>\n",
              "      <td>85591709.0</td>\n",
              "      <td>13.0</td>\n",
              "      <td>3.0</td>\n",
              "      <td>02</td>\n",
              "      <td>02</td>\n",
              "      <td>09</td>\n",
              "      <td>1913.0</td>\n",
              "      <td>1.0</td>\n",
              "      <td>0.0</td>\n",
              "      <td>45.0</td>\n",
              "      <td>2018.0</td>\n",
              "      <td>2</td>\n",
              "      <td>6.1</td>\n",
              "      <td>0.0</td>\n",
              "      <td>0.0</td>\n",
              "      <td>0.0</td>\n",
              "      <td>0</td>\n",
              "      <td>0</td>\n",
              "      <td>0</td>\n",
              "      <td>0</td>\n",
              "      <td>...</td>\n",
              "      <td>0.0</td>\n",
              "      <td>N</td>\n",
              "      <td>3.0</td>\n",
              "      <td>0</td>\n",
              "      <td>0.0</td>\n",
              "      <td>0.0</td>\n",
              "      <td>1992.0</td>\n",
              "      <td>8</td>\n",
              "      <td>7</td>\n",
              "      <td>0</td>\n",
              "      <td>0</td>\n",
              "      <td>0.0</td>\n",
              "      <td>0.0</td>\n",
              "      <td>0.0</td>\n",
              "      <td>Y</td>\n",
              "      <td>8</td>\n",
              "      <td>105.0</td>\n",
              "      <td>2038.0</td>\n",
              "      <td>0.0</td>\n",
              "      <td>N</td>\n",
              "      <td>01</td>\n",
              "      <td>F</td>\n",
              "      <td>5.0</td>\n",
              "      <td>122.00</td>\n",
              "      <td>31.144725</td>\n",
              "      <td>-85.988081</td>\n",
              "      <td>0</td>\n",
              "      <td>0.0</td>\n",
              "      <td>0</td>\n",
              "      <td>0</td>\n",
              "      <td>307</td>\n",
              "      <td>125</td>\n",
              "      <td>5.1</td>\n",
              "      <td>59.1</td>\n",
              "      <td>70.2148</td>\n",
              "      <td>78.8630</td>\n",
              "      <td>67.8229</td>\n",
              "      <td>56.7833</td>\n",
              "      <td>POINT Z (-85.98808 31.14473 0.00000)</td>\n",
              "      <td>NaN</td>\n",
              "    </tr>\n",
              "    <tr>\n",
              "      <th>3</th>\n",
              "      <td>01</td>\n",
              "      <td>000175</td>\n",
              "      <td>1.0</td>\n",
              "      <td>3.0</td>\n",
              "      <td>1.0</td>\n",
              "      <td>00087</td>\n",
              "      <td>0.0</td>\n",
              "      <td>07</td>\n",
              "      <td>031</td>\n",
              "      <td>00000</td>\n",
              "      <td>'BIG CREEK'</td>\n",
              "      <td>0</td>\n",
              "      <td>'SR  87 MP 38.735'</td>\n",
              "      <td>'5.2 MI.N.SR 189'</td>\n",
              "      <td>99.99</td>\n",
              "      <td>62.338</td>\n",
              "      <td>0.0</td>\n",
              "      <td>000AL00870</td>\n",
              "      <td>0.0</td>\n",
              "      <td>31291968.0</td>\n",
              "      <td>86031122.0</td>\n",
              "      <td>13.0</td>\n",
              "      <td>3.0</td>\n",
              "      <td>01</td>\n",
              "      <td>01</td>\n",
              "      <td>06</td>\n",
              "      <td>1921.0</td>\n",
              "      <td>2.0</td>\n",
              "      <td>0.0</td>\n",
              "      <td>2130.0</td>\n",
              "      <td>2013.0</td>\n",
              "      <td>2</td>\n",
              "      <td>9.8</td>\n",
              "      <td>0.0</td>\n",
              "      <td>0.0</td>\n",
              "      <td>0.0</td>\n",
              "      <td>0</td>\n",
              "      <td>0</td>\n",
              "      <td>0</td>\n",
              "      <td>1</td>\n",
              "      <td>...</td>\n",
              "      <td>0.0</td>\n",
              "      <td>N</td>\n",
              "      <td>2.0</td>\n",
              "      <td>0</td>\n",
              "      <td>0.0</td>\n",
              "      <td>0.0</td>\n",
              "      <td>1935.0</td>\n",
              "      <td>1</td>\n",
              "      <td>0</td>\n",
              "      <td>0</td>\n",
              "      <td>0</td>\n",
              "      <td>8.0</td>\n",
              "      <td>0.0</td>\n",
              "      <td>0.0</td>\n",
              "      <td>Y</td>\n",
              "      <td>5</td>\n",
              "      <td>3061.0</td>\n",
              "      <td>2033.0</td>\n",
              "      <td>0.0</td>\n",
              "      <td>N</td>\n",
              "      <td>01</td>\n",
              "      <td>F</td>\n",
              "      <td>5.0</td>\n",
              "      <td>312.00</td>\n",
              "      <td>31.488800</td>\n",
              "      <td>-86.053117</td>\n",
              "      <td>0</td>\n",
              "      <td>0.0</td>\n",
              "      <td>0</td>\n",
              "      <td>0</td>\n",
              "      <td>307</td>\n",
              "      <td>125</td>\n",
              "      <td>5.1</td>\n",
              "      <td>59.1</td>\n",
              "      <td>64.6249</td>\n",
              "      <td>78.9593</td>\n",
              "      <td>67.7732</td>\n",
              "      <td>56.5875</td>\n",
              "      <td>POINT Z (-86.05312 31.48880 0.00000)</td>\n",
              "      <td>NaN</td>\n",
              "    </tr>\n",
              "    <tr>\n",
              "      <th>4</th>\n",
              "      <td>01</td>\n",
              "      <td>000207</td>\n",
              "      <td>1.0</td>\n",
              "      <td>2.0</td>\n",
              "      <td>1.0</td>\n",
              "      <td>00231</td>\n",
              "      <td>0.0</td>\n",
              "      <td>07</td>\n",
              "      <td>069</td>\n",
              "      <td>21184</td>\n",
              "      <td>'CENTRAL OF GEORGIA R. R.'</td>\n",
              "      <td>0</td>\n",
              "      <td>'US 231 MP 15.643'</td>\n",
              "      <td>'0.2 MI. S. JCT. U.S. 84'</td>\n",
              "      <td>99.99</td>\n",
              "      <td>25.175</td>\n",
              "      <td>1.0</td>\n",
              "      <td>000AL00010</td>\n",
              "      <td>0.0</td>\n",
              "      <td>31132071.0</td>\n",
              "      <td>85233568.0</td>\n",
              "      <td>2.0</td>\n",
              "      <td>3.0</td>\n",
              "      <td>01</td>\n",
              "      <td>01</td>\n",
              "      <td>14</td>\n",
              "      <td>1923.0</td>\n",
              "      <td>3.0</td>\n",
              "      <td>0.0</td>\n",
              "      <td>14820.0</td>\n",
              "      <td>2013.0</td>\n",
              "      <td>2</td>\n",
              "      <td>16.8</td>\n",
              "      <td>0.0</td>\n",
              "      <td>0.0</td>\n",
              "      <td>0.0</td>\n",
              "      <td>0</td>\n",
              "      <td>0</td>\n",
              "      <td>0</td>\n",
              "      <td>0</td>\n",
              "      <td>...</td>\n",
              "      <td>0.0</td>\n",
              "      <td>N</td>\n",
              "      <td>2.0</td>\n",
              "      <td>0</td>\n",
              "      <td>1.0</td>\n",
              "      <td>0.0</td>\n",
              "      <td>0.0</td>\n",
              "      <td>1</td>\n",
              "      <td>6</td>\n",
              "      <td>0</td>\n",
              "      <td>0</td>\n",
              "      <td>3.0</td>\n",
              "      <td>1.0</td>\n",
              "      <td>0.0</td>\n",
              "      <td>Y</td>\n",
              "      <td>N</td>\n",
              "      <td>19188.0</td>\n",
              "      <td>2033.0</td>\n",
              "      <td>0.0</td>\n",
              "      <td>N</td>\n",
              "      <td>01</td>\n",
              "      <td>F</td>\n",
              "      <td>5.0</td>\n",
              "      <td>321.78</td>\n",
              "      <td>31.222419</td>\n",
              "      <td>-85.393244</td>\n",
              "      <td>0</td>\n",
              "      <td>0.0</td>\n",
              "      <td>0</td>\n",
              "      <td>0</td>\n",
              "      <td>297</td>\n",
              "      <td>96</td>\n",
              "      <td>7.2</td>\n",
              "      <td>64.0</td>\n",
              "      <td>62.4064</td>\n",
              "      <td>78.7996</td>\n",
              "      <td>68.4901</td>\n",
              "      <td>58.1810</td>\n",
              "      <td>POINT Z (-85.39324 31.22242 0.00000)</td>\n",
              "      <td>NaN</td>\n",
              "    </tr>\n",
              "  </tbody>\n",
              "</table>\n",
              "<p>5 rows × 139 columns</p>\n",
              "</div>"
            ],
            "text/plain": [
              "  State_Code Structure_Number  ...                              geometry  MAX_Quake\n",
              "0         01  00000000000S702  ...  POINT Z (-87.57041 31.10304 0.00000)        NaN\n",
              "1         01  00000000000S703  ...  POINT Z (-87.56914 31.10561 0.00000)        NaN\n",
              "2         01           000071  ...  POINT Z (-85.98808 31.14473 0.00000)        NaN\n",
              "3         01           000175  ...  POINT Z (-86.05312 31.48880 0.00000)        NaN\n",
              "4         01           000207  ...  POINT Z (-85.39324 31.22242 0.00000)        NaN\n",
              "\n",
              "[5 rows x 139 columns]"
            ]
          },
          "metadata": {},
          "execution_count": 38
        }
      ]
    },
    {
      "cell_type": "code",
      "metadata": {
        "id": "FNIDGgb4XgCM"
      },
      "source": [
        "# all_cols = ConterminousUS.columns\n",
        "# column_list_total = []\n",
        "# for frame in all_cols:\n",
        "#   column_list_total.append(frame.columns)\n",
        "\n",
        "# for j in range(len(all_cols)-1):\n",
        "#   if column_list_total[j].all() != column_list_total[j+1].all():\n",
        "#     print(\"Not equal\")\n"
      ],
      "execution_count": 39,
      "outputs": []
    },
    {
      "cell_type": "code",
      "metadata": {
        "id": "wQjg-c71S2sB"
      },
      "source": [
        "all_cols = ConterminousUS.columns"
      ],
      "execution_count": 40,
      "outputs": []
    },
    {
      "cell_type": "code",
      "metadata": {
        "colab": {
          "base_uri": "https://localhost:8080/"
        },
        "id": "RBCHPXU6S9DS",
        "outputId": "56594233-8eb0-4062-9f73-54a33acbb370"
      },
      "source": [
        "len(ConterminousUS.columns)"
      ],
      "execution_count": 41,
      "outputs": [
        {
          "output_type": "execute_result",
          "data": {
            "text/plain": [
              "139"
            ]
          },
          "metadata": {},
          "execution_count": 41
        }
      ]
    },
    {
      "cell_type": "code",
      "metadata": {
        "colab": {
          "base_uri": "https://localhost:8080/"
        },
        "id": "renepqsfb8Dq",
        "outputId": "e8f2abcd-d72e-4a28-a8d9-e77fd0ac27b9"
      },
      "source": [
        "attributes = []\n",
        "for att in all_cols:\n",
        "  if att not in Final_Column_Name:\n",
        "    del ConterminousUS[att]\n",
        "    #print(\"not same\")\n",
        "  else:\n",
        "    #print(\"same\")\n",
        "    attributes.append(att)\n",
        "\n",
        "print(ConterminousUS.shape)\n",
        "#attributes to the file"
      ],
      "execution_count": 42,
      "outputs": [
        {
          "output_type": "stream",
          "text": [
            "(612388, 32)\n"
          ],
          "name": "stdout"
        }
      ]
    },
    {
      "cell_type": "code",
      "metadata": {
        "colab": {
          "base_uri": "https://localhost:8080/"
        },
        "id": "pwv3Hiz7TBPO",
        "outputId": "f5ee44da-2529-4e7f-e52b-13989f802b4a"
      },
      "source": [
        "ConterminousUS.columns"
      ],
      "execution_count": 43,
      "outputs": [
        {
          "output_type": "execute_result",
          "data": {
            "text/plain": [
              "Index(['State_Code', 'Structure_Number', 'Year_Built', 'ADT', 'Skew',\n",
              "       'Main_Design_Type', 'Number_Spans', 'Length_Max_Span', 'Deck_Length',\n",
              "       'Deck_Width', 'Deck_Condition', 'Superstructure_Condition',\n",
              "       'Substructure_Condition', 'Year_Reconstructed', 'Deck_Design_Type',\n",
              "       'Wearing_Surface', 'Deck_Protection', 'ADTT', 'Latitude', 'Longitude',\n",
              "       'Freq_Shake_GT4', 'Max_Shake', 'Days_MinLT_0F', 'Days_MinLT_32F',\n",
              "       'Days_MaxGT_70F', 'Days_MaxGT_90F', 'Avg_Wind_Speed', 'Peak_Wind_Speed',\n",
              "       'Precipitation', 'Temp_Max', 'Temp_Mean', 'Temp_Min'],\n",
              "      dtype='object')"
            ]
          },
          "metadata": {},
          "execution_count": 43
        }
      ]
    },
    {
      "cell_type": "code",
      "metadata": {
        "id": "uMQxhWiilrps"
      },
      "source": [
        "# to check if all the renamed columns are from Final column name\n",
        "\n",
        "concat_col = ConterminousUS.columns\n",
        "\n",
        "for cols in concat_col:\n",
        "  if cols not in Final_Column_Name:\n",
        "    print(\"Not existing\", cols)"
      ],
      "execution_count": 44,
      "outputs": []
    },
    {
      "cell_type": "code",
      "metadata": {
        "id": "dGecGsK-l3XZ"
      },
      "source": [
        "statistics = ConterminousUS.describe() #file"
      ],
      "execution_count": 45,
      "outputs": []
    },
    {
      "cell_type": "code",
      "metadata": {
        "id": "eSjKgYm-qqHb"
      },
      "source": [
        "Null_exist = ConterminousUS.isnull()"
      ],
      "execution_count": 46,
      "outputs": []
    },
    {
      "cell_type": "code",
      "metadata": {
        "colab": {
          "base_uri": "https://localhost:8080/"
        },
        "id": "safiMpmhq512",
        "outputId": "8c9b3ad9-d8b7-46ba-c748-ccc5a6b5a59e"
      },
      "source": [
        "if Null_exist.any == 'True':\n",
        "  Null_exist = \"Null exist\"\n",
        "  print(\"True\")\n",
        "else : \n",
        "  Null_exist = \"Null does not exist\"\n",
        "  print(\"Null does not exist\") #file"
      ],
      "execution_count": 47,
      "outputs": [
        {
          "output_type": "stream",
          "text": [
            "Null does not exist\n"
          ],
          "name": "stdout"
        }
      ]
    },
    {
      "cell_type": "code",
      "metadata": {
        "id": "Vqy_y2DArMdd"
      },
      "source": [
        "with open(r'/content/drive/My Drive/Bridge_Project/Results/Result.txt', 'a') as writefile:\n",
        "        writefile.write(\"\\n\")\n",
        "        writefile.write(\" Bridge Project Results \")\n",
        "        writefile.write(\"\\n\")\n",
        "        writefile.write(\" state_name_dict_cols \")\n",
        "        writefile.write(\"\\n\")\n",
        "        writefile.write(str(state_name_dict_cols))\n",
        "        writefile.write(\"\\n\")\n",
        "        writefile.write(\" data_frames_rows_list = \")\n",
        "        writefile.write(str(data_frames_rows_list))\n",
        "        writefile.write(\"\\n\")\n",
        "        writefile.write(\"\\n\")\n",
        "        writefile.write(\" data_frames_cols_list \")\n",
        "        writefile.write(str(data_frames_cols_list))\n",
        "        writefile.write(\"\\n\")\n",
        "        writefile.write(\"\\n\")\n",
        "        writefile.write(\" check_cols_same\")\n",
        "        writefile.write(check_cols_same)\n",
        "        writefile.write(\"\\n\")\n",
        "        writefile.write(\"\\n\")\n",
        "        writefile.write(\" check_tot_rows  \")\n",
        "        writefile.write(\"\\n\")\n",
        "        writefile.write(\"\\n\")\n",
        "        writefile.write(check_tot_rows)\n",
        "        writefile.write(\"\\n\")\n",
        "        writefile.write(\"\\n\")\n",
        "        writefile.write(\" Initial_Col_Name_list = \")\n",
        "        writefile.write(\"\\n\")\n",
        "        writefile.write(str(Initial_Col_Name_list))\n",
        "        writefile.write(\"\\n\")\n",
        "        writefile.write(\" Final_Column_Name = \")\n",
        "        writefile.write(\"\\n\")\n",
        "        writefile.write(str(Final_Column_Name))\n",
        "        writefile.write(\"\\n\")\n",
        "        writefile.write(\"\\n\")\n",
        "        writefile.write(\" rename_cols \")\n",
        "        writefile.write(str(rename_cols))\n",
        "        writefile.write(\"\\n\")\n",
        "        writefile.write(\" attribute_check\")\n",
        "        writefile.write(str(attribute_check))\n",
        "        writefile.write(\"\\n\")\n",
        "        writefile.write(\" ConterminousUS_length = \")\n",
        "        writefile.write(\"\\n\")\n",
        "        writefile.write(str(ConterminousUS_length))\n",
        "        writefile.write(\"\\n\")\n",
        "        writefile.write(\" statistics = \")\n",
        "        writefile.write(\"\\n\")\n",
        "        writefile.write(str(statistics))\n",
        "        writefile.write(\"\\n\")\n",
        "        writefile.write(\" Null_exist = \")\n",
        "        writefile.write(\"\\n\")\n",
        "        writefile.write(Null_exist)\n",
        "        writefile.write(\"\\n\")"
      ],
      "execution_count": 48,
      "outputs": []
    }
  ]
}