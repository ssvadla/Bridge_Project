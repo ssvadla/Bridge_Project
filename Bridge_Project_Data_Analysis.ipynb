{
  "nbformat": 4,
  "nbformat_minor": 0,
  "metadata": {
    "colab": {
      "name": "Bridge_Project_Data_Analysis.ipynb",
      "provenance": [],
      "collapsed_sections": [],
      "authorship_tag": "ABX9TyMWlU27+iTZ8PwhhPpUotlm",
      "include_colab_link": true
    },
    "kernelspec": {
      "name": "python3",
      "display_name": "Python 3"
    },
    "language_info": {
      "name": "python"
    }
  },
  "cells": [
    {
      "cell_type": "markdown",
      "metadata": {
        "id": "view-in-github",
        "colab_type": "text"
      },
      "source": [
        "<a href=\"https://colab.research.google.com/github/ssvadla/Bridge_Project/blob/main/Bridge_Project_Data_Analysis.ipynb\" target=\"_parent\"><img src=\"https://colab.research.google.com/assets/colab-badge.svg\" alt=\"Open In Colab\"/></a>"
      ]
    },
    {
      "cell_type": "code",
      "metadata": {
        "colab": {
          "base_uri": "https://localhost:8080/"
        },
        "id": "P349iITJv-KB",
        "outputId": "2e8ce4e3-e452-4538-f6ab-4af642bd56a0"
      },
      "source": [
        "\n",
        "import pandas as pd\n",
        "from google.colab import drive\n",
        "\n",
        "drive.mount('/content/drive')"
      ],
      "execution_count": 3,
      "outputs": [
        {
          "output_type": "stream",
          "text": [
            "Drive already mounted at /content/drive; to attempt to forcibly remount, call drive.mount(\"/content/drive\", force_remount=True).\n"
          ],
          "name": "stdout"
        }
      ]
    },
    {
      "cell_type": "code",
      "metadata": {
        "id": "7HCqnj5avsSB"
      },
      "source": [
        "def read_shapefile(shp_path):\n",
        "\t\"\"\"\n",
        "\tRead a shapefile into a Pandas dataframe with a 'coords' column holding\n",
        "\tthe geometry information. This uses the pyshp package\n",
        "\t\"\"\"\n",
        "\timport shapefile\n",
        "\n",
        "\t#read file, parse out the records and shapes\n",
        "\tsf = shapefile.Reader(shp_path)\n",
        "\tfields = [x[0] for x in sf.fields][1:]\n",
        "\trecords =[list(i) for i in sf.records()]\n",
        "\tshps = [s.points for s in sf.shapes()]\n",
        "\n",
        "\t#write into a dataframe\n",
        "\tdf = pd.DataFrame(columns=fields, data=records)\n",
        "\tdf = df.assign(coords=shps)\n",
        "\n",
        "\treturn df"
      ],
      "execution_count": 4,
      "outputs": []
    },
    {
      "cell_type": "code",
      "metadata": {
        "id": "k-KnYmUav3Yo"
      },
      "source": [
        "shp_path = '/content/drive/My Drive/Bridge_Project/Alabama/'"
      ],
      "execution_count": 5,
      "outputs": []
    },
    {
      "cell_type": "code",
      "metadata": {
        "colab": {
          "base_uri": "https://localhost:8080/",
          "height": 321
        },
        "id": "bSvQHlHZxVr7",
        "outputId": "87c100dd-772d-4fe6-dcb5-7585906e0973"
      },
      "source": [
        "import shapefile\n",
        "read_shapefile(shp_path)"
      ],
      "execution_count": 7,
      "outputs": [
        {
          "output_type": "error",
          "ename": "ModuleNotFoundError",
          "evalue": "ignored",
          "traceback": [
            "\u001b[0;31m---------------------------------------------------------------------------\u001b[0m",
            "\u001b[0;31mModuleNotFoundError\u001b[0m                       Traceback (most recent call last)",
            "\u001b[0;32m<ipython-input-7-db6370aee4f7>\u001b[0m in \u001b[0;36m<module>\u001b[0;34m()\u001b[0m\n\u001b[0;32m----> 1\u001b[0;31m \u001b[0;32mimport\u001b[0m \u001b[0mshapefile\u001b[0m\u001b[0;34m\u001b[0m\u001b[0;34m\u001b[0m\u001b[0m\n\u001b[0m\u001b[1;32m      2\u001b[0m \u001b[0mread_shapefile\u001b[0m\u001b[0;34m(\u001b[0m\u001b[0mshp_path\u001b[0m\u001b[0;34m)\u001b[0m\u001b[0;34m\u001b[0m\u001b[0;34m\u001b[0m\u001b[0m\n",
            "\u001b[0;31mModuleNotFoundError\u001b[0m: No module named 'shapefile'",
            "",
            "\u001b[0;31m---------------------------------------------------------------------------\u001b[0;32m\nNOTE: If your import is failing due to a missing package, you can\nmanually install dependencies using either !pip or !apt.\n\nTo view examples of installing some common dependencies, click the\n\"Open Examples\" button below.\n\u001b[0;31m---------------------------------------------------------------------------\u001b[0m\n"
          ],
          "errorDetails": {
            "actions": [
              {
                "action": "open_url",
                "actionText": "Open Examples",
                "url": "/notebooks/snippets/importing_libraries.ipynb"
              }
            ]
          }
        }
      ]
    },
    {
      "cell_type": "code",
      "metadata": {
        "colab": {
          "base_uri": "https://localhost:8080/"
        },
        "id": "jpnp9Uk70TZY",
        "outputId": "b4cb0869-aeab-4bcd-ec28-6271e36dafbe"
      },
      "source": [
        "!pip install shapefile"
      ],
      "execution_count": 8,
      "outputs": [
        {
          "output_type": "stream",
          "text": [
            "\u001b[31mERROR: Could not find a version that satisfies the requirement shapefile (from versions: none)\u001b[0m\n",
            "\u001b[31mERROR: No matching distribution found for shapefile\u001b[0m\n"
          ],
          "name": "stdout"
        }
      ]
    },
    {
      "cell_type": "code",
      "metadata": {
        "id": "h-xybVGy9TR9"
      },
      "source": [
        "shp_path = '/content/drive/My Drive/Bridge_Project/Alabama/'"
      ],
      "execution_count": null,
      "outputs": []
    },
    {
      "cell_type": "code",
      "metadata": {
        "colab": {
          "base_uri": "https://localhost:8080/"
        },
        "id": "svvzFdTW0cxk",
        "outputId": "cb8db328-f8ef-4bc5-e878-975913b5e68a"
      },
      "source": [
        "!pip install geopandas\n",
        "import geopandas as gpd\n",
        "df = gpd.read_file(shp_path)"
      ],
      "execution_count": 10,
      "outputs": [
        {
          "output_type": "stream",
          "text": [
            "Collecting geopandas\n",
            "  Downloading geopandas-0.9.0-py2.py3-none-any.whl (994 kB)\n",
            "\u001b[K     |████████████████████████████████| 994 kB 4.2 MB/s \n",
            "\u001b[?25hCollecting fiona>=1.8\n",
            "  Downloading Fiona-1.8.20-cp37-cp37m-manylinux1_x86_64.whl (15.4 MB)\n",
            "\u001b[K     |████████████████████████████████| 15.4 MB 35 kB/s \n",
            "\u001b[?25hCollecting pyproj>=2.2.0\n",
            "  Downloading pyproj-3.1.0-cp37-cp37m-manylinux2010_x86_64.whl (6.6 MB)\n",
            "\u001b[K     |████████████████████████████████| 6.6 MB 19.0 MB/s \n",
            "\u001b[?25hRequirement already satisfied: pandas>=0.24.0 in /usr/local/lib/python3.7/dist-packages (from geopandas) (1.1.5)\n",
            "Requirement already satisfied: shapely>=1.6 in /usr/local/lib/python3.7/dist-packages (from geopandas) (1.7.1)\n",
            "Collecting munch\n",
            "  Downloading munch-2.5.0-py2.py3-none-any.whl (10 kB)\n",
            "Collecting cligj>=0.5\n",
            "  Downloading cligj-0.7.2-py3-none-any.whl (7.1 kB)\n",
            "Requirement already satisfied: attrs>=17 in /usr/local/lib/python3.7/dist-packages (from fiona>=1.8->geopandas) (21.2.0)\n",
            "Requirement already satisfied: six>=1.7 in /usr/local/lib/python3.7/dist-packages (from fiona>=1.8->geopandas) (1.15.0)\n",
            "Requirement already satisfied: setuptools in /usr/local/lib/python3.7/dist-packages (from fiona>=1.8->geopandas) (57.4.0)\n",
            "Collecting click-plugins>=1.0\n",
            "  Downloading click_plugins-1.1.1-py2.py3-none-any.whl (7.5 kB)\n",
            "Requirement already satisfied: certifi in /usr/local/lib/python3.7/dist-packages (from fiona>=1.8->geopandas) (2021.5.30)\n",
            "Requirement already satisfied: click>=4.0 in /usr/local/lib/python3.7/dist-packages (from fiona>=1.8->geopandas) (7.1.2)\n",
            "Requirement already satisfied: python-dateutil>=2.7.3 in /usr/local/lib/python3.7/dist-packages (from pandas>=0.24.0->geopandas) (2.8.2)\n",
            "Requirement already satisfied: numpy>=1.15.4 in /usr/local/lib/python3.7/dist-packages (from pandas>=0.24.0->geopandas) (1.19.5)\n",
            "Requirement already satisfied: pytz>=2017.2 in /usr/local/lib/python3.7/dist-packages (from pandas>=0.24.0->geopandas) (2018.9)\n",
            "Installing collected packages: munch, cligj, click-plugins, pyproj, fiona, geopandas\n",
            "Successfully installed click-plugins-1.1.1 cligj-0.7.2 fiona-1.8.20 geopandas-0.9.0 munch-2.5.0 pyproj-3.1.0\n"
          ],
          "name": "stdout"
        }
      ]
    },
    {
      "cell_type": "code",
      "metadata": {
        "id": "AgFfnBNY4AXS"
      },
      "source": [
        "df"
      ],
      "execution_count": null,
      "outputs": []
    },
    {
      "cell_type": "code",
      "metadata": {
        "colab": {
          "base_uri": "https://localhost:8080/"
        },
        "id": "F60oh5fV4mP2",
        "outputId": "5fa8c874-3921-408c-fa0f-d2d7ebb16c59"
      },
      "source": [
        "type(df)"
      ],
      "execution_count": 12,
      "outputs": [
        {
          "output_type": "execute_result",
          "data": {
            "text/plain": [
              "geopandas.geodataframe.GeoDataFrame"
            ]
          },
          "metadata": {},
          "execution_count": 12
        }
      ]
    },
    {
      "cell_type": "code",
      "metadata": {
        "colab": {
          "base_uri": "https://localhost:8080/"
        },
        "id": "fyplXzae4oX7",
        "outputId": "3f575f0e-039a-4157-9efa-520b865dafc7"
      },
      "source": [
        "df.columns"
      ],
      "execution_count": 13,
      "outputs": [
        {
          "output_type": "execute_result",
          "data": {
            "text/plain": [
              "Index(['STATE', 'STRUCTURE_', 'RECOR', 'ROUTE_P', 'SERVICE_L', 'ROUTE_N',\n",
              "       'DIREC', 'HIGHWAY_D', 'COUNT', 'PLACE',\n",
              "       ...\n",
              "       'DX32', 'DX70', 'DX90', 'AWND', 'WSF5', 'PRECIPITAT', 'TEMP_MAX',\n",
              "       'TEMP_MEAN', 'TEMP_MIN', 'geometry'],\n",
              "      dtype='object', length=138)"
            ]
          },
          "metadata": {},
          "execution_count": 13
        }
      ]
    },
    {
      "cell_type": "code",
      "metadata": {
        "colab": {
          "base_uri": "https://localhost:8080/"
        },
        "id": "6aLNcWwn4sQw",
        "outputId": "f74ee49a-ead7-4c32-ea29-ea6dba71ee4b"
      },
      "source": [
        "df.shape"
      ],
      "execution_count": 14,
      "outputs": [
        {
          "output_type": "execute_result",
          "data": {
            "text/plain": [
              "(16117, 138)"
            ]
          },
          "metadata": {},
          "execution_count": 14
        }
      ]
    },
    {
      "cell_type": "code",
      "metadata": {
        "id": "CmfYvUV6PfbG"
      },
      "source": [
        "shp_path = '/content/drive/My Drive/Bridge_Project/Bridge_Data/'"
      ],
      "execution_count": 14,
      "outputs": []
    },
    {
      "cell_type": "code",
      "metadata": {
        "id": "XVRBdcQC7-ZH"
      },
      "source": [
        "import os\n",
        "content_list = os.listdir(shp_path)"
      ],
      "execution_count": 15,
      "outputs": []
    },
    {
      "cell_type": "code",
      "metadata": {
        "colab": {
          "base_uri": "https://localhost:8080/"
        },
        "id": "PttojuCeP5Xz",
        "outputId": "684b64ea-e471-48f3-efd0-6c32d43e02d2"
      },
      "source": [
        "len(content_list)"
      ],
      "execution_count": 16,
      "outputs": [
        {
          "output_type": "execute_result",
          "data": {
            "text/plain": [
              "298"
            ]
          },
          "metadata": {},
          "execution_count": 16
        }
      ]
    },
    {
      "cell_type": "code",
      "metadata": {
        "id": "Llr_4IDPU6E1"
      },
      "source": [
        "content_list.sort()\n",
        "content_list"
      ],
      "execution_count": null,
      "outputs": []
    },
    {
      "cell_type": "code",
      "metadata": {
        "id": "EVZGqtfkQGeL"
      },
      "source": [
        "shape_files = []\n",
        "for i in content_list:\n",
        "  split = i.split(\".\")\n",
        "  if split[1] == 'shp' and len(split) == 2:\n",
        "    shape_files.append(i)"
      ],
      "execution_count": 17,
      "outputs": []
    },
    {
      "cell_type": "code",
      "metadata": {
        "colab": {
          "base_uri": "https://localhost:8080/"
        },
        "id": "9N4rXFg-QtLN",
        "outputId": "e14680dc-949f-4430-afeb-21c61154357a"
      },
      "source": [
        "len(shape_files)\n"
      ],
      "execution_count": 18,
      "outputs": [
        {
          "output_type": "execute_result",
          "data": {
            "text/plain": [
              "33"
            ]
          },
          "metadata": {},
          "execution_count": 18
        }
      ]
    },
    {
      "cell_type": "code",
      "metadata": {
        "colab": {
          "base_uri": "https://localhost:8080/"
        },
        "id": "DdyHLjBcQ2G0",
        "outputId": "9f544d8c-64f4-4e58-d079-ab02da4ba502"
      },
      "source": [
        "shape_files"
      ],
      "execution_count": 20,
      "outputs": [
        {
          "output_type": "execute_result",
          "data": {
            "text/plain": [
              "['Alabama.shp',\n",
              " 'Arizona.shp',\n",
              " 'Arkansas.shp',\n",
              " 'California.shp',\n",
              " 'Colorado.shp',\n",
              " 'Connecticut.shp',\n",
              " 'Delaware.shp',\n",
              " 'District_of_Columbia.shp',\n",
              " 'Florida.shp',\n",
              " 'Georgia.shp',\n",
              " 'Idaho.shp',\n",
              " 'Illinois.shp',\n",
              " 'Indiana.shp',\n",
              " 'Iowa.shp',\n",
              " 'Kansas.shp',\n",
              " 'Kentucky.shp',\n",
              " 'Louisiana.shp',\n",
              " 'Maine.shp',\n",
              " 'Maryland.shp',\n",
              " 'Massachusetts.shp',\n",
              " 'Michigan.shp',\n",
              " 'Minnesota.shp',\n",
              " 'Mississippi.shp',\n",
              " 'Missouri.shp',\n",
              " 'Montana.shp',\n",
              " 'Nebraska.shp',\n",
              " 'Nevada.shp',\n",
              " 'New_Hampshire.shp',\n",
              " 'New_Jersey.shp',\n",
              " 'New_Mexico.shp',\n",
              " 'New_York.shp',\n",
              " 'North_Carolina.shp',\n",
              " 'North_Dakota.shp']"
            ]
          },
          "metadata": {},
          "execution_count": 20
        }
      ]
    },
    {
      "cell_type": "code",
      "metadata": {
        "id": "fn5d-wpHQ9pt"
      },
      "source": [
        "shape_files.sort()"
      ],
      "execution_count": 19,
      "outputs": []
    },
    {
      "cell_type": "code",
      "metadata": {
        "id": "L8GQySVyRJqA"
      },
      "source": [
        "shape_files\n",
        "import os\n",
        "content_list = os.listdir(shp_path)"
      ],
      "execution_count": null,
      "outputs": []
    },
    {
      "cell_type": "code",
      "metadata": {
        "id": "fMlplZBaTTCd"
      },
      "source": [
        "import os\n",
        "content_list = os.listdir(shp_path)"
      ],
      "execution_count": null,
      "outputs": []
    },
    {
      "cell_type": "code",
      "metadata": {
        "id": "ByvtuwDuV4ZI"
      },
      "source": [
        ""
      ],
      "execution_count": null,
      "outputs": []
    },
    {
      "cell_type": "code",
      "metadata": {
        "colab": {
          "base_uri": "https://localhost:8080/",
          "height": 1000
        },
        "id": "4e2FQOMmC70C",
        "outputId": "bf84e8b7-8b82-4a51-d5d6-ce57ee4b3513"
      },
      "source": [
        "!pip install geopandas\n",
        "import geopandas as gpd\n",
        "import os\n",
        "import pandas as pd\n",
        "import numpy as np \n",
        "\n",
        "from google.colab import drive\n",
        "drive.mount('/content/drive')\n",
        "\n",
        "shape_files = []\n",
        "data_frames_list = []\n",
        "data_frames_shape_list = []\n",
        "data_frames_rows_list = []\n",
        "data_frames_cols_list = []\n",
        "state_name_dict_cols = { }\n",
        "root_path = '/content/drive/My Drive/Bridge_Project/Bridge_Data/'\n",
        "\n",
        "content_list = os.listdir(root_path)\n",
        "print(\"content_list = \",len(content_list))\n",
        "\n",
        "\n",
        "\n",
        "for i in content_list:\n",
        "  split = i.split(\".\")\n",
        "  if split[1] == 'shp' and len(split) == 2:\n",
        "    shape_files.append(i)\n",
        "\n",
        "shape_files.sort()\n",
        "print(\"shape_files = \",len(shape_files))\n",
        "\n",
        "for i in shape_files:\n",
        "  shp_file_path = root_path + i\n",
        "  print(shp_file_path)\n",
        "  df = gpd.read_file(shp_file_path)\n",
        "  data_frames_list.append(df)\n",
        "  state_name_dict_cols[i] = [ df.shape[0], df.shape[1] ] #write to file\n",
        "  data_frames_shape_list.append(df.shape)\n",
        "  data_frames_rows_list.append(df.shape[0])\n",
        "  data_frames_cols_list.append(df.shape[1])\n",
        "\n",
        "if np.unique(data_frames_cols_list) != 138:\n",
        "  print(\"columns are not the same for all states\")\n",
        "\n",
        "ConterminousUS = pd.concat(data_frames_list)\n",
        "\n"
      ],
      "execution_count": 4,
      "outputs": [
        {
          "output_type": "stream",
          "text": [
            "Requirement already satisfied: geopandas in /usr/local/lib/python3.7/dist-packages (0.9.0)\n",
            "Requirement already satisfied: pandas>=0.24.0 in /usr/local/lib/python3.7/dist-packages (from geopandas) (1.1.5)\n",
            "Requirement already satisfied: fiona>=1.8 in /usr/local/lib/python3.7/dist-packages (from geopandas) (1.8.20)\n",
            "Requirement already satisfied: pyproj>=2.2.0 in /usr/local/lib/python3.7/dist-packages (from geopandas) (3.1.0)\n",
            "Requirement already satisfied: shapely>=1.6 in /usr/local/lib/python3.7/dist-packages (from geopandas) (1.7.1)\n",
            "Requirement already satisfied: attrs>=17 in /usr/local/lib/python3.7/dist-packages (from fiona>=1.8->geopandas) (21.2.0)\n",
            "Requirement already satisfied: cligj>=0.5 in /usr/local/lib/python3.7/dist-packages (from fiona>=1.8->geopandas) (0.7.2)\n",
            "Requirement already satisfied: click>=4.0 in /usr/local/lib/python3.7/dist-packages (from fiona>=1.8->geopandas) (7.1.2)\n",
            "Requirement already satisfied: setuptools in /usr/local/lib/python3.7/dist-packages (from fiona>=1.8->geopandas) (57.4.0)\n",
            "Requirement already satisfied: munch in /usr/local/lib/python3.7/dist-packages (from fiona>=1.8->geopandas) (2.5.0)\n",
            "Requirement already satisfied: certifi in /usr/local/lib/python3.7/dist-packages (from fiona>=1.8->geopandas) (2021.5.30)\n",
            "Requirement already satisfied: click-plugins>=1.0 in /usr/local/lib/python3.7/dist-packages (from fiona>=1.8->geopandas) (1.1.1)\n",
            "Requirement already satisfied: six>=1.7 in /usr/local/lib/python3.7/dist-packages (from fiona>=1.8->geopandas) (1.15.0)\n",
            "Requirement already satisfied: python-dateutil>=2.7.3 in /usr/local/lib/python3.7/dist-packages (from pandas>=0.24.0->geopandas) (2.8.2)\n",
            "Requirement already satisfied: pytz>=2017.2 in /usr/local/lib/python3.7/dist-packages (from pandas>=0.24.0->geopandas) (2018.9)\n",
            "Requirement already satisfied: numpy>=1.15.4 in /usr/local/lib/python3.7/dist-packages (from pandas>=0.24.0->geopandas) (1.19.5)\n",
            "Mounted at /content/drive\n",
            "content_list =  440\n",
            "shape_files =  49\n",
            "/content/drive/My Drive/Bridge_Project/Bridge_Data/Alabama.shp\n",
            "/content/drive/My Drive/Bridge_Project/Bridge_Data/Arizona.shp\n",
            "/content/drive/My Drive/Bridge_Project/Bridge_Data/Arkansas.shp\n",
            "/content/drive/My Drive/Bridge_Project/Bridge_Data/California.shp\n",
            "/content/drive/My Drive/Bridge_Project/Bridge_Data/Colorado.shp\n",
            "/content/drive/My Drive/Bridge_Project/Bridge_Data/Connecticut.shp\n",
            "/content/drive/My Drive/Bridge_Project/Bridge_Data/Delaware.shp\n",
            "/content/drive/My Drive/Bridge_Project/Bridge_Data/District_of_Columbia.shp\n",
            "/content/drive/My Drive/Bridge_Project/Bridge_Data/Florida.shp\n",
            "/content/drive/My Drive/Bridge_Project/Bridge_Data/Georgia.shp\n",
            "/content/drive/My Drive/Bridge_Project/Bridge_Data/Idaho.shp\n",
            "/content/drive/My Drive/Bridge_Project/Bridge_Data/Illinois.shp\n",
            "/content/drive/My Drive/Bridge_Project/Bridge_Data/Indiana.shp\n",
            "/content/drive/My Drive/Bridge_Project/Bridge_Data/Iowa.shp\n",
            "/content/drive/My Drive/Bridge_Project/Bridge_Data/Kansas.shp\n",
            "/content/drive/My Drive/Bridge_Project/Bridge_Data/Kentucky.shp\n",
            "/content/drive/My Drive/Bridge_Project/Bridge_Data/Louisiana.shp\n",
            "/content/drive/My Drive/Bridge_Project/Bridge_Data/Maine.shp\n",
            "/content/drive/My Drive/Bridge_Project/Bridge_Data/Maryland.shp\n",
            "/content/drive/My Drive/Bridge_Project/Bridge_Data/Massachusetts.shp\n",
            "/content/drive/My Drive/Bridge_Project/Bridge_Data/Michigan.shp\n",
            "/content/drive/My Drive/Bridge_Project/Bridge_Data/Minnesota.shp\n",
            "/content/drive/My Drive/Bridge_Project/Bridge_Data/Mississippi.shp\n",
            "/content/drive/My Drive/Bridge_Project/Bridge_Data/Missouri.shp\n",
            "/content/drive/My Drive/Bridge_Project/Bridge_Data/Montana.shp\n",
            "/content/drive/My Drive/Bridge_Project/Bridge_Data/Nebraska.shp\n",
            "/content/drive/My Drive/Bridge_Project/Bridge_Data/Nevada.shp\n",
            "/content/drive/My Drive/Bridge_Project/Bridge_Data/New_Hampshire.shp\n",
            "/content/drive/My Drive/Bridge_Project/Bridge_Data/New_Jersey.shp\n",
            "/content/drive/My Drive/Bridge_Project/Bridge_Data/New_Mexico.shp\n",
            "/content/drive/My Drive/Bridge_Project/Bridge_Data/New_York.shp\n",
            "/content/drive/My Drive/Bridge_Project/Bridge_Data/North_Carolina.shp\n",
            "/content/drive/My Drive/Bridge_Project/Bridge_Data/North_Dakota.shp\n",
            "/content/drive/My Drive/Bridge_Project/Bridge_Data/Ohio.shp\n",
            "/content/drive/My Drive/Bridge_Project/Bridge_Data/Oklahoma.shp\n",
            "/content/drive/My Drive/Bridge_Project/Bridge_Data/Oregon.shp\n",
            "/content/drive/My Drive/Bridge_Project/Bridge_Data/Pennsylvania.shp\n",
            "/content/drive/My Drive/Bridge_Project/Bridge_Data/Rhode_Island.shp\n",
            "/content/drive/My Drive/Bridge_Project/Bridge_Data/South_Carolina.shp\n",
            "/content/drive/My Drive/Bridge_Project/Bridge_Data/South_Dakota.shp\n",
            "/content/drive/My Drive/Bridge_Project/Bridge_Data/Tennessee.shp\n",
            "/content/drive/My Drive/Bridge_Project/Bridge_Data/Texas.shp\n",
            "/content/drive/My Drive/Bridge_Project/Bridge_Data/Utah.shp\n",
            "/content/drive/My Drive/Bridge_Project/Bridge_Data/Vermont.shp\n",
            "/content/drive/My Drive/Bridge_Project/Bridge_Data/Virginia.shp\n",
            "/content/drive/My Drive/Bridge_Project/Bridge_Data/Washington.shp\n",
            "/content/drive/My Drive/Bridge_Project/Bridge_Data/West_Virginia.shp\n",
            "/content/drive/My Drive/Bridge_Project/Bridge_Data/Wisconsin.shp\n",
            "/content/drive/My Drive/Bridge_Project/Bridge_Data/Wyoming.shp\n"
          ],
          "name": "stdout"
        },
        {
          "output_type": "error",
          "ename": "ValueError",
          "evalue": "ignored",
          "traceback": [
            "\u001b[0;31m---------------------------------------------------------------------------\u001b[0m",
            "\u001b[0;31mValueError\u001b[0m                                Traceback (most recent call last)",
            "\u001b[0;32m<ipython-input-4-7d65f98c0b60>\u001b[0m in \u001b[0;36m<module>\u001b[0;34m()\u001b[0m\n\u001b[1;32m     39\u001b[0m   \u001b[0mdata_frames_cols_list\u001b[0m\u001b[0;34m.\u001b[0m\u001b[0mappend\u001b[0m\u001b[0;34m(\u001b[0m\u001b[0mdf\u001b[0m\u001b[0;34m.\u001b[0m\u001b[0mshape\u001b[0m\u001b[0;34m[\u001b[0m\u001b[0;36m1\u001b[0m\u001b[0;34m]\u001b[0m\u001b[0;34m)\u001b[0m\u001b[0;34m\u001b[0m\u001b[0;34m\u001b[0m\u001b[0m\n\u001b[1;32m     40\u001b[0m \u001b[0;34m\u001b[0m\u001b[0m\n\u001b[0;32m---> 41\u001b[0;31m \u001b[0;32mif\u001b[0m \u001b[0mnp\u001b[0m\u001b[0;34m.\u001b[0m\u001b[0munique\u001b[0m\u001b[0;34m(\u001b[0m\u001b[0mdata_frames_cols_list\u001b[0m\u001b[0;34m)\u001b[0m \u001b[0;34m!=\u001b[0m \u001b[0;36m138\u001b[0m\u001b[0;34m:\u001b[0m\u001b[0;34m\u001b[0m\u001b[0;34m\u001b[0m\u001b[0m\n\u001b[0m\u001b[1;32m     42\u001b[0m   \u001b[0mprint\u001b[0m\u001b[0;34m(\u001b[0m\u001b[0;34m\"columns are not the same for all states\"\u001b[0m\u001b[0;34m)\u001b[0m\u001b[0;34m\u001b[0m\u001b[0;34m\u001b[0m\u001b[0m\n\u001b[1;32m     43\u001b[0m \u001b[0;34m\u001b[0m\u001b[0m\n",
            "\u001b[0;31mValueError\u001b[0m: The truth value of an array with more than one element is ambiguous. Use a.any() or a.all()"
          ]
        }
      ]
    },
    {
      "cell_type": "code",
      "metadata": {
        "id": "2-z9YIapHoPa"
      },
      "source": [
        "data_frames_rows_list"
      ],
      "execution_count": null,
      "outputs": []
    },
    {
      "cell_type": "code",
      "metadata": {
        "colab": {
          "base_uri": "https://localhost:8080/"
        },
        "id": "av7BwhfRIg8o",
        "outputId": "79006a01-fe96-40e1-d467-9062237dbdf3"
      },
      "source": [
        "sum(data_frames_rows_list)"
      ],
      "execution_count": 23,
      "outputs": [
        {
          "output_type": "execute_result",
          "data": {
            "text/plain": [
              "612388"
            ]
          },
          "metadata": {},
          "execution_count": 23
        }
      ]
    },
    {
      "cell_type": "code",
      "metadata": {
        "colab": {
          "base_uri": "https://localhost:8080/"
        },
        "id": "M0W9x9aNCwED",
        "outputId": "2daca3be-85a9-4062-d83a-1f795dcd2162"
      },
      "source": [
        "import numpy as np\n",
        "np.unique(data_frames_cols_list) \n"
      ],
      "execution_count": 5,
      "outputs": [
        {
          "output_type": "execute_result",
          "data": {
            "text/plain": [
              "array([138, 139])"
            ]
          },
          "metadata": {},
          "execution_count": 5
        }
      ]
    },
    {
      "cell_type": "code",
      "metadata": {
        "id": "_Xx4iqzjFgW6"
      },
      "source": [
        "city = 'Michigan.shp'\n",
        "path = root_path+city\n",
        "mach_df = gpd.read_file(path)\n"
      ],
      "execution_count": 24,
      "outputs": []
    },
    {
      "cell_type": "code",
      "metadata": {
        "colab": {
          "base_uri": "https://localhost:8080/"
        },
        "id": "Eg1F31uvFlIu",
        "outputId": "87e77d07-9b85-4987-8cbf-b507f5e51dd1"
      },
      "source": [
        "print(mach_df.columns)"
      ],
      "execution_count": 26,
      "outputs": [
        {
          "output_type": "stream",
          "text": [
            "Index(['OBJECTID', 'STATE', 'STRUCTURE_', 'RECOR', 'ROUTE_P', 'SERVICE_L',\n",
            "       'ROUTE_N', 'DIREC', 'HIGHWAY_D', 'COUNT',\n",
            "       ...\n",
            "       'DX32', 'DX70', 'DX90', 'AWND', 'WSF5', 'PRECIPITAT', 'TEMP_MAX',\n",
            "       'TEMP_MEAN', 'TEMP_MIN', 'geometry'],\n",
            "      dtype='object', length=139)\n"
          ],
          "name": "stdout"
        }
      ]
    },
    {
      "cell_type": "code",
      "metadata": {
        "id": "yzOgw3pNGVCM"
      },
      "source": [
        "city = 'New_Mexico.shp'\n",
        "path = root_path+city\n",
        "mach_df = gpd.read_file(path)\n"
      ],
      "execution_count": 20,
      "outputs": []
    },
    {
      "cell_type": "code",
      "metadata": {
        "colab": {
          "base_uri": "https://localhost:8080/"
        },
        "id": "UU8om8lCGr_K",
        "outputId": "10f44823-fd37-4946-e41b-37f933e90f25"
      },
      "source": [
        "mach_df.shape"
      ],
      "execution_count": 21,
      "outputs": [
        {
          "output_type": "execute_result",
          "data": {
            "text/plain": [
              "(4019, 139)"
            ]
          },
          "metadata": {},
          "execution_count": 21
        }
      ]
    },
    {
      "cell_type": "code",
      "metadata": {
        "colab": {
          "base_uri": "https://localhost:8080/"
        },
        "id": "RFU5KsoeEzhO",
        "outputId": "9fade759-6338-4487-c07f-ee1a9d23fc98"
      },
      "source": [
        "for i in range(len(data_frames_cols_list)):\n",
        "  if data_frames_cols_list[i] == 139:\n",
        "    print(i)\n",
        "    print(\"hello\")"
      ],
      "execution_count": 8,
      "outputs": [
        {
          "output_type": "stream",
          "text": [
            "20\n",
            "hello\n",
            "29\n",
            "hello\n"
          ],
          "name": "stdout"
        }
      ]
    },
    {
      "cell_type": "code",
      "metadata": {
        "id": "CV32Ba5jdzxG"
      },
      "source": [
        "state_name_dict_cols"
      ],
      "execution_count": null,
      "outputs": []
    },
    {
      "cell_type": "code",
      "metadata": {
        "id": "ym65fdGnpTn1"
      },
      "source": [
        "all_cols = ConterminousUS.columns"
      ],
      "execution_count": 35,
      "outputs": []
    },
    {
      "cell_type": "code",
      "metadata": {
        "id": "HQpdvBaGS4dV"
      },
      "source": [
        "\n",
        "Initial_Col_Name_list = ['YEAR_B', 'STRUCTUR_4', 'DECK_W', 'DEGRE', 'MAIN_', 'MAX_S', 'STRUCTURE_2', 'DECK_S', 'SURFA', 'DECK_P', 'ADT_0', 'PERCE', 'YEAR_R', 'Shape *', 'STATE', 'STRUCTRE_', 'lattd', 'lngtd', 'DECK_C', 'SUPER', 'SUBST', 'Frequency_', 'Max_Quake', 'DT00', 'DX32', 'DX70', 'DX90', 'AWND', 'WSF5', 'PRECIPITAT', 'TEMP_MAX', 'TEMP_MEAN', 'TEMP_MIN']"
      ],
      "execution_count": 36,
      "outputs": []
    },
    {
      "cell_type": "code",
      "metadata": {
        "colab": {
          "base_uri": "https://localhost:8080/"
        },
        "id": "NW1zODktr9DD",
        "outputId": "e93573c7-b49b-4042-8345-37a4e890ebc5"
      },
      "source": [
        "len(Initial_Col_Name_list)"
      ],
      "execution_count": 37,
      "outputs": [
        {
          "output_type": "execute_result",
          "data": {
            "text/plain": [
              "33"
            ]
          },
          "metadata": {},
          "execution_count": 37
        }
      ]
    },
    {
      "cell_type": "code",
      "metadata": {
        "colab": {
          "base_uri": "https://localhost:8080/"
        },
        "id": "GTwDVI1TqlVu",
        "outputId": "3db7e9e3-1d03-4940-c25c-b2a8e1d7c372"
      },
      "source": [
        "attributes = []\n",
        "for att in all_cols:\n",
        "  if att not in Initial_Col_Name_list:\n",
        "    del ConterminousUS[att]\n",
        "    #print(\"not same\")\n",
        "  else:\n",
        "    #print(\"same\")\n",
        "    attributes.append(att)\n",
        "\n",
        "print(ConterminousUS.shape)\n",
        "#attributes to the file"
      ],
      "execution_count": 38,
      "outputs": [
        {
          "output_type": "stream",
          "text": [
            "(24541, 28)\n"
          ],
          "name": "stdout"
        }
      ]
    },
    {
      "cell_type": "code",
      "metadata": {
        "colab": {
          "base_uri": "https://localhost:8080/"
        },
        "id": "Ea8XNdQhrOSn",
        "outputId": "3d149ab2-1c88-477a-f053-94c178488437"
      },
      "source": [
        "missing_attr = []\n",
        "for i in Initial_Col_Name_list:\n",
        "  if i not in all_cols:\n",
        "    print(i)\n",
        "    missing_attr.append(i)"
      ],
      "execution_count": 39,
      "outputs": [
        {
          "output_type": "stream",
          "text": [
            "STRUCTURE_2\n",
            "Shape *\n",
            "STRUCTRE_\n",
            "Frequency_\n",
            "Max_Quake\n"
          ],
          "name": "stdout"
        }
      ]
    },
    {
      "cell_type": "code",
      "metadata": {
        "id": "YYmuwFyLsQGg"
      },
      "source": [
        "for i in all_cols:\n",
        "  if i == 'Max_Quake':\n",
        "    print(\"der\")"
      ],
      "execution_count": 95,
      "outputs": []
    },
    {
      "cell_type": "code",
      "metadata": {
        "id": "gNByKgpys_A6"
      },
      "source": [
        "all_cols.sort_values"
      ],
      "execution_count": null,
      "outputs": []
    },
    {
      "cell_type": "code",
      "metadata": {
        "id": "YKHWMJp2UjoP"
      },
      "source": [
        "Final_Column_Name = ['Year_Built', 'Deck_Length', 'Deck_Width', 'Skew', 'Number_Spans', 'Length_Max_Span', 'Main_Design_Type', 'Deck_Design_Type', 'Wearing_Surface', 'Deck_Protection', 'ADT', 'ADTT', 'Year_Reconstructed', 'Shape *', 'State_Code', 'Structure_Number', 'Latitude', 'Longitude', 'Deck_Condition', 'Superstructure_Condition', 'Substructure_Condition', 'Freq_Shake_GT4', 'Max_Shake', 'Days_MinLT_0F', 'Days_MinLT_32F', 'Days_MaxGT_70F', 'Days_MaxGT_90F', 'Avg_Wind_Speed', 'Peak_Wind_Speed', 'Precipitation', 'Temp_Max', 'Temp_Mean', 'Temp_Min'] "
      ],
      "execution_count": 40,
      "outputs": []
    },
    {
      "cell_type": "code",
      "metadata": {
        "colab": {
          "base_uri": "https://localhost:8080/"
        },
        "id": "kRgxYzIkWBWY",
        "outputId": "9413edd4-639b-41f1-d9f7-ccea5d38112a"
      },
      "source": [
        "len(Final_Column_Name)"
      ],
      "execution_count": 41,
      "outputs": [
        {
          "output_type": "execute_result",
          "data": {
            "text/plain": [
              "33"
            ]
          },
          "metadata": {},
          "execution_count": 41
        }
      ]
    },
    {
      "cell_type": "code",
      "metadata": {
        "id": "gxGA_afRXTdI"
      },
      "source": [
        "rename_cols = { }\n",
        "for idx in range(len(Initial_Col_Name_list)):\n",
        "  rename_cols[Initial_Col_Name_list[idx]] = Final_Column_Name[idx]\n"
      ],
      "execution_count": 42,
      "outputs": []
    },
    {
      "cell_type": "code",
      "metadata": {
        "id": "x1ReQ5pfY_BM"
      },
      "source": [
        "rename_cols"
      ],
      "execution_count": null,
      "outputs": []
    },
    {
      "cell_type": "code",
      "metadata": {
        "colab": {
          "base_uri": "https://localhost:8080/",
          "height": 225
        },
        "id": "raqMq73NcNce",
        "outputId": "57c2b090-4b20-4d80-e4cc-398bf6e58fe5"
      },
      "source": [
        "ConterminousUS.head()"
      ],
      "execution_count": 44,
      "outputs": [
        {
          "output_type": "execute_result",
          "data": {
            "text/html": [
              "<div>\n",
              "<style scoped>\n",
              "    .dataframe tbody tr th:only-of-type {\n",
              "        vertical-align: middle;\n",
              "    }\n",
              "\n",
              "    .dataframe tbody tr th {\n",
              "        vertical-align: top;\n",
              "    }\n",
              "\n",
              "    .dataframe thead th {\n",
              "        text-align: right;\n",
              "    }\n",
              "</style>\n",
              "<table border=\"1\" class=\"dataframe\">\n",
              "  <thead>\n",
              "    <tr style=\"text-align: right;\">\n",
              "      <th></th>\n",
              "      <th>STATE</th>\n",
              "      <th>YEAR_B</th>\n",
              "      <th>ADT_0</th>\n",
              "      <th>DEGRE</th>\n",
              "      <th>MAIN_</th>\n",
              "      <th>MAX_S</th>\n",
              "      <th>STRUCTUR_4</th>\n",
              "      <th>DECK_W</th>\n",
              "      <th>DECK_C</th>\n",
              "      <th>SUPER</th>\n",
              "      <th>SUBST</th>\n",
              "      <th>YEAR_R</th>\n",
              "      <th>DECK_S</th>\n",
              "      <th>SURFA</th>\n",
              "      <th>DECK_P</th>\n",
              "      <th>PERCE</th>\n",
              "      <th>lattd</th>\n",
              "      <th>lngtd</th>\n",
              "      <th>DT00</th>\n",
              "      <th>DX32</th>\n",
              "      <th>DX70</th>\n",
              "      <th>DX90</th>\n",
              "      <th>AWND</th>\n",
              "      <th>WSF5</th>\n",
              "      <th>PRECIPITAT</th>\n",
              "      <th>TEMP_MAX</th>\n",
              "      <th>TEMP_MEAN</th>\n",
              "      <th>TEMP_MIN</th>\n",
              "    </tr>\n",
              "  </thead>\n",
              "  <tbody>\n",
              "    <tr>\n",
              "      <th>0</th>\n",
              "      <td>01</td>\n",
              "      <td>1999.0</td>\n",
              "      <td>50.0</td>\n",
              "      <td>30.0</td>\n",
              "      <td>1.0</td>\n",
              "      <td>14.7</td>\n",
              "      <td>15.0</td>\n",
              "      <td>9.7</td>\n",
              "      <td>8</td>\n",
              "      <td>8</td>\n",
              "      <td>7</td>\n",
              "      <td>0.0</td>\n",
              "      <td>2</td>\n",
              "      <td>6</td>\n",
              "      <td>1</td>\n",
              "      <td>1.0</td>\n",
              "      <td>31.103039</td>\n",
              "      <td>-87.570411</td>\n",
              "      <td>0</td>\n",
              "      <td>0</td>\n",
              "      <td>288</td>\n",
              "      <td>98</td>\n",
              "      <td>7.2</td>\n",
              "      <td>74.9</td>\n",
              "      <td>64.3871</td>\n",
              "      <td>79.1591</td>\n",
              "      <td>69.1455</td>\n",
              "      <td>59.1323</td>\n",
              "    </tr>\n",
              "    <tr>\n",
              "      <th>1</th>\n",
              "      <td>01</td>\n",
              "      <td>2002.0</td>\n",
              "      <td>159.0</td>\n",
              "      <td>0.0</td>\n",
              "      <td>1.0</td>\n",
              "      <td>12.9</td>\n",
              "      <td>13.6</td>\n",
              "      <td>9.8</td>\n",
              "      <td>8</td>\n",
              "      <td>8</td>\n",
              "      <td>7</td>\n",
              "      <td>0.0</td>\n",
              "      <td>2</td>\n",
              "      <td>6</td>\n",
              "      <td>8</td>\n",
              "      <td>1.0</td>\n",
              "      <td>31.105611</td>\n",
              "      <td>-87.569139</td>\n",
              "      <td>0</td>\n",
              "      <td>0</td>\n",
              "      <td>288</td>\n",
              "      <td>98</td>\n",
              "      <td>7.2</td>\n",
              "      <td>74.9</td>\n",
              "      <td>60.9316</td>\n",
              "      <td>79.3499</td>\n",
              "      <td>69.3045</td>\n",
              "      <td>59.2592</td>\n",
              "    </tr>\n",
              "    <tr>\n",
              "      <th>2</th>\n",
              "      <td>01</td>\n",
              "      <td>1913.0</td>\n",
              "      <td>45.0</td>\n",
              "      <td>0.0</td>\n",
              "      <td>1.0</td>\n",
              "      <td>9.4</td>\n",
              "      <td>24.4</td>\n",
              "      <td>5.0</td>\n",
              "      <td>5</td>\n",
              "      <td>6</td>\n",
              "      <td>5</td>\n",
              "      <td>1992.0</td>\n",
              "      <td>8</td>\n",
              "      <td>7</td>\n",
              "      <td>0</td>\n",
              "      <td>0.0</td>\n",
              "      <td>31.144725</td>\n",
              "      <td>-85.988081</td>\n",
              "      <td>0</td>\n",
              "      <td>0</td>\n",
              "      <td>307</td>\n",
              "      <td>125</td>\n",
              "      <td>5.1</td>\n",
              "      <td>59.1</td>\n",
              "      <td>70.2148</td>\n",
              "      <td>78.8630</td>\n",
              "      <td>67.8229</td>\n",
              "      <td>56.7833</td>\n",
              "    </tr>\n",
              "    <tr>\n",
              "      <th>3</th>\n",
              "      <td>01</td>\n",
              "      <td>1921.0</td>\n",
              "      <td>2130.0</td>\n",
              "      <td>0.0</td>\n",
              "      <td>3.0</td>\n",
              "      <td>13.1</td>\n",
              "      <td>39.0</td>\n",
              "      <td>8.0</td>\n",
              "      <td>5</td>\n",
              "      <td>5</td>\n",
              "      <td>5</td>\n",
              "      <td>1935.0</td>\n",
              "      <td>1</td>\n",
              "      <td>0</td>\n",
              "      <td>0</td>\n",
              "      <td>8.0</td>\n",
              "      <td>31.488800</td>\n",
              "      <td>-86.053117</td>\n",
              "      <td>0</td>\n",
              "      <td>0</td>\n",
              "      <td>307</td>\n",
              "      <td>125</td>\n",
              "      <td>5.1</td>\n",
              "      <td>59.1</td>\n",
              "      <td>64.6249</td>\n",
              "      <td>78.9593</td>\n",
              "      <td>67.7732</td>\n",
              "      <td>56.5875</td>\n",
              "    </tr>\n",
              "    <tr>\n",
              "      <th>4</th>\n",
              "      <td>01</td>\n",
              "      <td>1923.0</td>\n",
              "      <td>14820.0</td>\n",
              "      <td>0.0</td>\n",
              "      <td>3.0</td>\n",
              "      <td>6.7</td>\n",
              "      <td>18.6</td>\n",
              "      <td>17.3</td>\n",
              "      <td>5</td>\n",
              "      <td>5</td>\n",
              "      <td>5</td>\n",
              "      <td>0.0</td>\n",
              "      <td>1</td>\n",
              "      <td>6</td>\n",
              "      <td>0</td>\n",
              "      <td>3.0</td>\n",
              "      <td>31.222419</td>\n",
              "      <td>-85.393244</td>\n",
              "      <td>0</td>\n",
              "      <td>0</td>\n",
              "      <td>297</td>\n",
              "      <td>96</td>\n",
              "      <td>7.2</td>\n",
              "      <td>64.0</td>\n",
              "      <td>62.4064</td>\n",
              "      <td>78.7996</td>\n",
              "      <td>68.4901</td>\n",
              "      <td>58.1810</td>\n",
              "    </tr>\n",
              "  </tbody>\n",
              "</table>\n",
              "</div>"
            ],
            "text/plain": [
              "  STATE  YEAR_B    ADT_0  DEGRE  ...  PRECIPITAT  TEMP_MAX  TEMP_MEAN  TEMP_MIN\n",
              "0    01  1999.0     50.0   30.0  ...     64.3871   79.1591    69.1455   59.1323\n",
              "1    01  2002.0    159.0    0.0  ...     60.9316   79.3499    69.3045   59.2592\n",
              "2    01  1913.0     45.0    0.0  ...     70.2148   78.8630    67.8229   56.7833\n",
              "3    01  1921.0   2130.0    0.0  ...     64.6249   78.9593    67.7732   56.5875\n",
              "4    01  1923.0  14820.0    0.0  ...     62.4064   78.7996    68.4901   58.1810\n",
              "\n",
              "[5 rows x 28 columns]"
            ]
          },
          "metadata": {},
          "execution_count": 44
        }
      ]
    },
    {
      "cell_type": "code",
      "metadata": {
        "id": "9sNECODztJXz"
      },
      "source": [
        "ConterminousUS.rename(columns=rename_cols, inplace=True)"
      ],
      "execution_count": 45,
      "outputs": []
    },
    {
      "cell_type": "code",
      "metadata": {
        "colab": {
          "base_uri": "https://localhost:8080/",
          "height": 225
        },
        "id": "gb_eW9yfb6XZ",
        "outputId": "02c1b7ea-6f3f-4bfd-eea7-69a438d7f19c"
      },
      "source": [
        "ConterminousUS.head()"
      ],
      "execution_count": 46,
      "outputs": [
        {
          "output_type": "execute_result",
          "data": {
            "text/html": [
              "<div>\n",
              "<style scoped>\n",
              "    .dataframe tbody tr th:only-of-type {\n",
              "        vertical-align: middle;\n",
              "    }\n",
              "\n",
              "    .dataframe tbody tr th {\n",
              "        vertical-align: top;\n",
              "    }\n",
              "\n",
              "    .dataframe thead th {\n",
              "        text-align: right;\n",
              "    }\n",
              "</style>\n",
              "<table border=\"1\" class=\"dataframe\">\n",
              "  <thead>\n",
              "    <tr style=\"text-align: right;\">\n",
              "      <th></th>\n",
              "      <th>State_Code</th>\n",
              "      <th>Year_Built</th>\n",
              "      <th>ADT</th>\n",
              "      <th>Skew</th>\n",
              "      <th>Number_Spans</th>\n",
              "      <th>Length_Max_Span</th>\n",
              "      <th>Deck_Length</th>\n",
              "      <th>Deck_Width</th>\n",
              "      <th>Deck_Condition</th>\n",
              "      <th>Superstructure_Condition</th>\n",
              "      <th>Substructure_Condition</th>\n",
              "      <th>Year_Reconstructed</th>\n",
              "      <th>Deck_Design_Type</th>\n",
              "      <th>Wearing_Surface</th>\n",
              "      <th>Deck_Protection</th>\n",
              "      <th>ADTT</th>\n",
              "      <th>Latitude</th>\n",
              "      <th>Longitude</th>\n",
              "      <th>Days_MinLT_0F</th>\n",
              "      <th>Days_MinLT_32F</th>\n",
              "      <th>Days_MaxGT_70F</th>\n",
              "      <th>Days_MaxGT_90F</th>\n",
              "      <th>Avg_Wind_Speed</th>\n",
              "      <th>Peak_Wind_Speed</th>\n",
              "      <th>Precipitation</th>\n",
              "      <th>Temp_Max</th>\n",
              "      <th>Temp_Mean</th>\n",
              "      <th>Temp_Min</th>\n",
              "    </tr>\n",
              "  </thead>\n",
              "  <tbody>\n",
              "    <tr>\n",
              "      <th>0</th>\n",
              "      <td>01</td>\n",
              "      <td>1999.0</td>\n",
              "      <td>50.0</td>\n",
              "      <td>30.0</td>\n",
              "      <td>1.0</td>\n",
              "      <td>14.7</td>\n",
              "      <td>15.0</td>\n",
              "      <td>9.7</td>\n",
              "      <td>8</td>\n",
              "      <td>8</td>\n",
              "      <td>7</td>\n",
              "      <td>0.0</td>\n",
              "      <td>2</td>\n",
              "      <td>6</td>\n",
              "      <td>1</td>\n",
              "      <td>1.0</td>\n",
              "      <td>31.103039</td>\n",
              "      <td>-87.570411</td>\n",
              "      <td>0</td>\n",
              "      <td>0</td>\n",
              "      <td>288</td>\n",
              "      <td>98</td>\n",
              "      <td>7.2</td>\n",
              "      <td>74.9</td>\n",
              "      <td>64.3871</td>\n",
              "      <td>79.1591</td>\n",
              "      <td>69.1455</td>\n",
              "      <td>59.1323</td>\n",
              "    </tr>\n",
              "    <tr>\n",
              "      <th>1</th>\n",
              "      <td>01</td>\n",
              "      <td>2002.0</td>\n",
              "      <td>159.0</td>\n",
              "      <td>0.0</td>\n",
              "      <td>1.0</td>\n",
              "      <td>12.9</td>\n",
              "      <td>13.6</td>\n",
              "      <td>9.8</td>\n",
              "      <td>8</td>\n",
              "      <td>8</td>\n",
              "      <td>7</td>\n",
              "      <td>0.0</td>\n",
              "      <td>2</td>\n",
              "      <td>6</td>\n",
              "      <td>8</td>\n",
              "      <td>1.0</td>\n",
              "      <td>31.105611</td>\n",
              "      <td>-87.569139</td>\n",
              "      <td>0</td>\n",
              "      <td>0</td>\n",
              "      <td>288</td>\n",
              "      <td>98</td>\n",
              "      <td>7.2</td>\n",
              "      <td>74.9</td>\n",
              "      <td>60.9316</td>\n",
              "      <td>79.3499</td>\n",
              "      <td>69.3045</td>\n",
              "      <td>59.2592</td>\n",
              "    </tr>\n",
              "    <tr>\n",
              "      <th>2</th>\n",
              "      <td>01</td>\n",
              "      <td>1913.0</td>\n",
              "      <td>45.0</td>\n",
              "      <td>0.0</td>\n",
              "      <td>1.0</td>\n",
              "      <td>9.4</td>\n",
              "      <td>24.4</td>\n",
              "      <td>5.0</td>\n",
              "      <td>5</td>\n",
              "      <td>6</td>\n",
              "      <td>5</td>\n",
              "      <td>1992.0</td>\n",
              "      <td>8</td>\n",
              "      <td>7</td>\n",
              "      <td>0</td>\n",
              "      <td>0.0</td>\n",
              "      <td>31.144725</td>\n",
              "      <td>-85.988081</td>\n",
              "      <td>0</td>\n",
              "      <td>0</td>\n",
              "      <td>307</td>\n",
              "      <td>125</td>\n",
              "      <td>5.1</td>\n",
              "      <td>59.1</td>\n",
              "      <td>70.2148</td>\n",
              "      <td>78.8630</td>\n",
              "      <td>67.8229</td>\n",
              "      <td>56.7833</td>\n",
              "    </tr>\n",
              "    <tr>\n",
              "      <th>3</th>\n",
              "      <td>01</td>\n",
              "      <td>1921.0</td>\n",
              "      <td>2130.0</td>\n",
              "      <td>0.0</td>\n",
              "      <td>3.0</td>\n",
              "      <td>13.1</td>\n",
              "      <td>39.0</td>\n",
              "      <td>8.0</td>\n",
              "      <td>5</td>\n",
              "      <td>5</td>\n",
              "      <td>5</td>\n",
              "      <td>1935.0</td>\n",
              "      <td>1</td>\n",
              "      <td>0</td>\n",
              "      <td>0</td>\n",
              "      <td>8.0</td>\n",
              "      <td>31.488800</td>\n",
              "      <td>-86.053117</td>\n",
              "      <td>0</td>\n",
              "      <td>0</td>\n",
              "      <td>307</td>\n",
              "      <td>125</td>\n",
              "      <td>5.1</td>\n",
              "      <td>59.1</td>\n",
              "      <td>64.6249</td>\n",
              "      <td>78.9593</td>\n",
              "      <td>67.7732</td>\n",
              "      <td>56.5875</td>\n",
              "    </tr>\n",
              "    <tr>\n",
              "      <th>4</th>\n",
              "      <td>01</td>\n",
              "      <td>1923.0</td>\n",
              "      <td>14820.0</td>\n",
              "      <td>0.0</td>\n",
              "      <td>3.0</td>\n",
              "      <td>6.7</td>\n",
              "      <td>18.6</td>\n",
              "      <td>17.3</td>\n",
              "      <td>5</td>\n",
              "      <td>5</td>\n",
              "      <td>5</td>\n",
              "      <td>0.0</td>\n",
              "      <td>1</td>\n",
              "      <td>6</td>\n",
              "      <td>0</td>\n",
              "      <td>3.0</td>\n",
              "      <td>31.222419</td>\n",
              "      <td>-85.393244</td>\n",
              "      <td>0</td>\n",
              "      <td>0</td>\n",
              "      <td>297</td>\n",
              "      <td>96</td>\n",
              "      <td>7.2</td>\n",
              "      <td>64.0</td>\n",
              "      <td>62.4064</td>\n",
              "      <td>78.7996</td>\n",
              "      <td>68.4901</td>\n",
              "      <td>58.1810</td>\n",
              "    </tr>\n",
              "  </tbody>\n",
              "</table>\n",
              "</div>"
            ],
            "text/plain": [
              "  State_Code  Year_Built      ADT  ...  Temp_Max  Temp_Mean  Temp_Min\n",
              "0         01      1999.0     50.0  ...   79.1591    69.1455   59.1323\n",
              "1         01      2002.0    159.0  ...   79.3499    69.3045   59.2592\n",
              "2         01      1913.0     45.0  ...   78.8630    67.8229   56.7833\n",
              "3         01      1921.0   2130.0  ...   78.9593    67.7732   56.5875\n",
              "4         01      1923.0  14820.0  ...   78.7996    68.4901   58.1810\n",
              "\n",
              "[5 rows x 28 columns]"
            ]
          },
          "metadata": {},
          "execution_count": 46
        }
      ]
    },
    {
      "cell_type": "code",
      "metadata": {
        "id": "renepqsfb8Dq"
      },
      "source": [
        ""
      ],
      "execution_count": null,
      "outputs": []
    }
  ]
}