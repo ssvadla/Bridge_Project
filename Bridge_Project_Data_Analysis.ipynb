{
  "nbformat": 4,
  "nbformat_minor": 0,
  "metadata": {
    "colab": {
      "name": "Bridge_Project_Data_Analysis.ipynb",
      "provenance": [],
      "collapsed_sections": [],
      "authorship_tag": "ABX9TyNns61Wxps4uhszZPtgmcIZ",
      "include_colab_link": true
    },
    "kernelspec": {
      "name": "python3",
      "display_name": "Python 3"
    },
    "language_info": {
      "name": "python"
    }
  },
  "cells": [
    {
      "cell_type": "markdown",
      "metadata": {
        "id": "view-in-github",
        "colab_type": "text"
      },
      "source": [
        "<a href=\"https://colab.research.google.com/github/ssvadla/Bridge_Project/blob/main/Bridge_Project_Data_Analysis.ipynb\" target=\"_parent\"><img src=\"https://colab.research.google.com/assets/colab-badge.svg\" alt=\"Open In Colab\"/></a>"
      ]
    },
    {
      "cell_type": "code",
      "metadata": {
        "colab": {
          "base_uri": "https://localhost:8080/"
        },
        "id": "P349iITJv-KB",
        "outputId": "2e8ce4e3-e452-4538-f6ab-4af642bd56a0"
      },
      "source": [
        "\n",
        "import pandas as pd\n",
        "from google.colab import drive\n",
        "\n",
        "drive.mount('/content/drive')"
      ],
      "execution_count": 3,
      "outputs": [
        {
          "output_type": "stream",
          "text": [
            "Drive already mounted at /content/drive; to attempt to forcibly remount, call drive.mount(\"/content/drive\", force_remount=True).\n"
          ],
          "name": "stdout"
        }
      ]
    },
    {
      "cell_type": "code",
      "metadata": {
        "id": "7HCqnj5avsSB"
      },
      "source": [
        "def read_shapefile(shp_path):\n",
        "\t\"\"\"\n",
        "\tRead a shapefile into a Pandas dataframe with a 'coords' column holding\n",
        "\tthe geometry information. This uses the pyshp package\n",
        "\t\"\"\"\n",
        "\timport shapefile\n",
        "\n",
        "\t#read file, parse out the records and shapes\n",
        "\tsf = shapefile.Reader(shp_path)\n",
        "\tfields = [x[0] for x in sf.fields][1:]\n",
        "\trecords =[list(i) for i in sf.records()]\n",
        "\tshps = [s.points for s in sf.shapes()]\n",
        "\n",
        "\t#write into a dataframe\n",
        "\tdf = pd.DataFrame(columns=fields, data=records)\n",
        "\tdf = df.assign(coords=shps)\n",
        "\n",
        "\treturn df"
      ],
      "execution_count": 4,
      "outputs": []
    },
    {
      "cell_type": "code",
      "metadata": {
        "id": "k-KnYmUav3Yo"
      },
      "source": [
        "shp_path = '/content/drive/My Drive/Bridge_Project/Alabama/'"
      ],
      "execution_count": 5,
      "outputs": []
    },
    {
      "cell_type": "code",
      "metadata": {
        "colab": {
          "base_uri": "https://localhost:8080/",
          "height": 321
        },
        "id": "bSvQHlHZxVr7",
        "outputId": "87c100dd-772d-4fe6-dcb5-7585906e0973"
      },
      "source": [
        "import shapefile\n",
        "read_shapefile(shp_path)"
      ],
      "execution_count": 7,
      "outputs": [
        {
          "output_type": "error",
          "ename": "ModuleNotFoundError",
          "evalue": "ignored",
          "traceback": [
            "\u001b[0;31m---------------------------------------------------------------------------\u001b[0m",
            "\u001b[0;31mModuleNotFoundError\u001b[0m                       Traceback (most recent call last)",
            "\u001b[0;32m<ipython-input-7-db6370aee4f7>\u001b[0m in \u001b[0;36m<module>\u001b[0;34m()\u001b[0m\n\u001b[0;32m----> 1\u001b[0;31m \u001b[0;32mimport\u001b[0m \u001b[0mshapefile\u001b[0m\u001b[0;34m\u001b[0m\u001b[0;34m\u001b[0m\u001b[0m\n\u001b[0m\u001b[1;32m      2\u001b[0m \u001b[0mread_shapefile\u001b[0m\u001b[0;34m(\u001b[0m\u001b[0mshp_path\u001b[0m\u001b[0;34m)\u001b[0m\u001b[0;34m\u001b[0m\u001b[0;34m\u001b[0m\u001b[0m\n",
            "\u001b[0;31mModuleNotFoundError\u001b[0m: No module named 'shapefile'",
            "",
            "\u001b[0;31m---------------------------------------------------------------------------\u001b[0;32m\nNOTE: If your import is failing due to a missing package, you can\nmanually install dependencies using either !pip or !apt.\n\nTo view examples of installing some common dependencies, click the\n\"Open Examples\" button below.\n\u001b[0;31m---------------------------------------------------------------------------\u001b[0m\n"
          ],
          "errorDetails": {
            "actions": [
              {
                "action": "open_url",
                "actionText": "Open Examples",
                "url": "/notebooks/snippets/importing_libraries.ipynb"
              }
            ]
          }
        }
      ]
    },
    {
      "cell_type": "code",
      "metadata": {
        "colab": {
          "base_uri": "https://localhost:8080/"
        },
        "id": "jpnp9Uk70TZY",
        "outputId": "b4cb0869-aeab-4bcd-ec28-6271e36dafbe"
      },
      "source": [
        "!pip install shapefile"
      ],
      "execution_count": 8,
      "outputs": [
        {
          "output_type": "stream",
          "text": [
            "\u001b[31mERROR: Could not find a version that satisfies the requirement shapefile (from versions: none)\u001b[0m\n",
            "\u001b[31mERROR: No matching distribution found for shapefile\u001b[0m\n"
          ],
          "name": "stdout"
        }
      ]
    },
    {
      "cell_type": "code",
      "metadata": {
        "id": "h-xybVGy9TR9"
      },
      "source": [
        "shp_path = '/content/drive/My Drive/Bridge_Project/Alabama/'"
      ],
      "execution_count": null,
      "outputs": []
    },
    {
      "cell_type": "code",
      "metadata": {
        "colab": {
          "base_uri": "https://localhost:8080/"
        },
        "id": "svvzFdTW0cxk",
        "outputId": "cb8db328-f8ef-4bc5-e878-975913b5e68a"
      },
      "source": [
        "!pip install geopandas\n",
        "import geopandas as gpd\n",
        "df = gpd.read_file(shp_path)"
      ],
      "execution_count": 10,
      "outputs": [
        {
          "output_type": "stream",
          "text": [
            "Collecting geopandas\n",
            "  Downloading geopandas-0.9.0-py2.py3-none-any.whl (994 kB)\n",
            "\u001b[K     |████████████████████████████████| 994 kB 4.2 MB/s \n",
            "\u001b[?25hCollecting fiona>=1.8\n",
            "  Downloading Fiona-1.8.20-cp37-cp37m-manylinux1_x86_64.whl (15.4 MB)\n",
            "\u001b[K     |████████████████████████████████| 15.4 MB 35 kB/s \n",
            "\u001b[?25hCollecting pyproj>=2.2.0\n",
            "  Downloading pyproj-3.1.0-cp37-cp37m-manylinux2010_x86_64.whl (6.6 MB)\n",
            "\u001b[K     |████████████████████████████████| 6.6 MB 19.0 MB/s \n",
            "\u001b[?25hRequirement already satisfied: pandas>=0.24.0 in /usr/local/lib/python3.7/dist-packages (from geopandas) (1.1.5)\n",
            "Requirement already satisfied: shapely>=1.6 in /usr/local/lib/python3.7/dist-packages (from geopandas) (1.7.1)\n",
            "Collecting munch\n",
            "  Downloading munch-2.5.0-py2.py3-none-any.whl (10 kB)\n",
            "Collecting cligj>=0.5\n",
            "  Downloading cligj-0.7.2-py3-none-any.whl (7.1 kB)\n",
            "Requirement already satisfied: attrs>=17 in /usr/local/lib/python3.7/dist-packages (from fiona>=1.8->geopandas) (21.2.0)\n",
            "Requirement already satisfied: six>=1.7 in /usr/local/lib/python3.7/dist-packages (from fiona>=1.8->geopandas) (1.15.0)\n",
            "Requirement already satisfied: setuptools in /usr/local/lib/python3.7/dist-packages (from fiona>=1.8->geopandas) (57.4.0)\n",
            "Collecting click-plugins>=1.0\n",
            "  Downloading click_plugins-1.1.1-py2.py3-none-any.whl (7.5 kB)\n",
            "Requirement already satisfied: certifi in /usr/local/lib/python3.7/dist-packages (from fiona>=1.8->geopandas) (2021.5.30)\n",
            "Requirement already satisfied: click>=4.0 in /usr/local/lib/python3.7/dist-packages (from fiona>=1.8->geopandas) (7.1.2)\n",
            "Requirement already satisfied: python-dateutil>=2.7.3 in /usr/local/lib/python3.7/dist-packages (from pandas>=0.24.0->geopandas) (2.8.2)\n",
            "Requirement already satisfied: numpy>=1.15.4 in /usr/local/lib/python3.7/dist-packages (from pandas>=0.24.0->geopandas) (1.19.5)\n",
            "Requirement already satisfied: pytz>=2017.2 in /usr/local/lib/python3.7/dist-packages (from pandas>=0.24.0->geopandas) (2018.9)\n",
            "Installing collected packages: munch, cligj, click-plugins, pyproj, fiona, geopandas\n",
            "Successfully installed click-plugins-1.1.1 cligj-0.7.2 fiona-1.8.20 geopandas-0.9.0 munch-2.5.0 pyproj-3.1.0\n"
          ],
          "name": "stdout"
        }
      ]
    },
    {
      "cell_type": "code",
      "metadata": {
        "id": "AgFfnBNY4AXS"
      },
      "source": [
        "df"
      ],
      "execution_count": null,
      "outputs": []
    },
    {
      "cell_type": "code",
      "metadata": {
        "colab": {
          "base_uri": "https://localhost:8080/"
        },
        "id": "F60oh5fV4mP2",
        "outputId": "5fa8c874-3921-408c-fa0f-d2d7ebb16c59"
      },
      "source": [
        "type(df)"
      ],
      "execution_count": 12,
      "outputs": [
        {
          "output_type": "execute_result",
          "data": {
            "text/plain": [
              "geopandas.geodataframe.GeoDataFrame"
            ]
          },
          "metadata": {},
          "execution_count": 12
        }
      ]
    },
    {
      "cell_type": "code",
      "metadata": {
        "colab": {
          "base_uri": "https://localhost:8080/"
        },
        "id": "fyplXzae4oX7",
        "outputId": "3f575f0e-039a-4157-9efa-520b865dafc7"
      },
      "source": [
        "df.columns"
      ],
      "execution_count": 13,
      "outputs": [
        {
          "output_type": "execute_result",
          "data": {
            "text/plain": [
              "Index(['STATE', 'STRUCTURE_', 'RECOR', 'ROUTE_P', 'SERVICE_L', 'ROUTE_N',\n",
              "       'DIREC', 'HIGHWAY_D', 'COUNT', 'PLACE',\n",
              "       ...\n",
              "       'DX32', 'DX70', 'DX90', 'AWND', 'WSF5', 'PRECIPITAT', 'TEMP_MAX',\n",
              "       'TEMP_MEAN', 'TEMP_MIN', 'geometry'],\n",
              "      dtype='object', length=138)"
            ]
          },
          "metadata": {},
          "execution_count": 13
        }
      ]
    },
    {
      "cell_type": "code",
      "metadata": {
        "colab": {
          "base_uri": "https://localhost:8080/"
        },
        "id": "6aLNcWwn4sQw",
        "outputId": "f74ee49a-ead7-4c32-ea29-ea6dba71ee4b"
      },
      "source": [
        "df.shape"
      ],
      "execution_count": 14,
      "outputs": [
        {
          "output_type": "execute_result",
          "data": {
            "text/plain": [
              "(16117, 138)"
            ]
          },
          "metadata": {},
          "execution_count": 14
        }
      ]
    },
    {
      "cell_type": "code",
      "metadata": {
        "id": "CmfYvUV6PfbG"
      },
      "source": [
        "shp_path = '/content/drive/My Drive/Bridge_Project/Bridge_Data/'"
      ],
      "execution_count": 14,
      "outputs": []
    },
    {
      "cell_type": "code",
      "metadata": {
        "id": "XVRBdcQC7-ZH"
      },
      "source": [
        "import os\n",
        "content_list = os.listdir(shp_path)"
      ],
      "execution_count": 15,
      "outputs": []
    },
    {
      "cell_type": "code",
      "metadata": {
        "colab": {
          "base_uri": "https://localhost:8080/"
        },
        "id": "PttojuCeP5Xz",
        "outputId": "684b64ea-e471-48f3-efd0-6c32d43e02d2"
      },
      "source": [
        "len(content_list)"
      ],
      "execution_count": 16,
      "outputs": [
        {
          "output_type": "execute_result",
          "data": {
            "text/plain": [
              "298"
            ]
          },
          "metadata": {},
          "execution_count": 16
        }
      ]
    },
    {
      "cell_type": "code",
      "metadata": {
        "colab": {
          "base_uri": "https://localhost:8080/"
        },
        "id": "Llr_4IDPU6E1",
        "outputId": "a50d4758-51c4-4b1c-aeb8-3e9c2c5aebae"
      },
      "source": [
        "content_list.sort()\n",
        "content_list"
      ],
      "execution_count": 23,
      "outputs": [
        {
          "output_type": "execute_result",
          "data": {
            "text/plain": [
              "['Alabama.cpg',\n",
              " 'Alabama.dbf',\n",
              " 'Alabama.prj',\n",
              " 'Alabama.sbn',\n",
              " 'Alabama.sbx',\n",
              " 'Alabama.shp',\n",
              " 'Alabama.shp.DESKTOP-34JUDDR.16248.892.sr.lock',\n",
              " 'Alabama.shp.xml',\n",
              " 'Alabama.shx',\n",
              " 'Arizona.cpg',\n",
              " 'Arizona.dbf',\n",
              " 'Arizona.prj',\n",
              " 'Arizona.sbn',\n",
              " 'Arizona.sbx',\n",
              " 'Arizona.shp',\n",
              " 'Arizona.shp.DESKTOP-34JUDDR.16248.892.sr.lock',\n",
              " 'Arizona.shp.xml',\n",
              " 'Arizona.shx',\n",
              " 'Arkansas.cpg',\n",
              " 'Arkansas.dbf',\n",
              " 'Arkansas.prj',\n",
              " 'Arkansas.sbn',\n",
              " 'Arkansas.sbx',\n",
              " 'Arkansas.shp',\n",
              " 'Arkansas.shp.DESKTOP-34JUDDR.16248.892.sr.lock',\n",
              " 'Arkansas.shp.xml',\n",
              " 'Arkansas.shx',\n",
              " 'California.cpg',\n",
              " 'California.dbf',\n",
              " 'California.prj',\n",
              " 'California.sbn',\n",
              " 'California.sbx',\n",
              " 'California.shp',\n",
              " 'California.shp.DESKTOP-34JUDDR.16248.892.sr.lock',\n",
              " 'California.shp.xml',\n",
              " 'California.shx',\n",
              " 'Colorado.cpg',\n",
              " 'Colorado.dbf',\n",
              " 'Colorado.prj',\n",
              " 'Colorado.sbn',\n",
              " 'Colorado.sbx',\n",
              " 'Colorado.shp',\n",
              " 'Colorado.shp.DESKTOP-34JUDDR.16248.892.sr.lock',\n",
              " 'Colorado.shp.xml',\n",
              " 'Colorado.shx',\n",
              " 'Connecticut.cpg',\n",
              " 'Connecticut.dbf',\n",
              " 'Connecticut.prj',\n",
              " 'Connecticut.sbn',\n",
              " 'Connecticut.sbx',\n",
              " 'Connecticut.shp',\n",
              " 'Connecticut.shp.DESKTOP-34JUDDR.16248.892.sr.lock',\n",
              " 'Connecticut.shp.xml',\n",
              " 'Connecticut.shx',\n",
              " 'Delaware.cpg',\n",
              " 'Delaware.dbf',\n",
              " 'Delaware.prj',\n",
              " 'Delaware.sbn',\n",
              " 'Delaware.sbx',\n",
              " 'Delaware.shp',\n",
              " 'Delaware.shp.DESKTOP-34JUDDR.16248.892.sr.lock',\n",
              " 'Delaware.shp.xml',\n",
              " 'Delaware.shx',\n",
              " 'District_of_Columbia.cpg',\n",
              " 'District_of_Columbia.dbf',\n",
              " 'District_of_Columbia.prj',\n",
              " 'District_of_Columbia.sbn',\n",
              " 'District_of_Columbia.sbx',\n",
              " 'District_of_Columbia.shp',\n",
              " 'District_of_Columbia.shp.DESKTOP-34JUDDR.16248.892.sr.lock',\n",
              " 'District_of_Columbia.shx',\n",
              " 'Florida.cpg',\n",
              " 'Florida.dbf',\n",
              " 'Florida.prj',\n",
              " 'Florida.sbn',\n",
              " 'Florida.sbx',\n",
              " 'Florida.shp',\n",
              " 'Florida.shp.DESKTOP-34JUDDR.16248.892.sr.lock',\n",
              " 'Florida.shp.xml',\n",
              " 'Florida.shx',\n",
              " 'Georgia.cpg',\n",
              " 'Georgia.dbf',\n",
              " 'Georgia.prj',\n",
              " 'Georgia.sbn',\n",
              " 'Georgia.sbx',\n",
              " 'Georgia.shp',\n",
              " 'Georgia.shp.DESKTOP-34JUDDR.16248.892.sr.lock',\n",
              " 'Georgia.shp.xml',\n",
              " 'Georgia.shx',\n",
              " 'Idaho.cpg',\n",
              " 'Idaho.dbf',\n",
              " 'Idaho.prj',\n",
              " 'Idaho.sbn',\n",
              " 'Idaho.sbx',\n",
              " 'Idaho.shp',\n",
              " 'Idaho.shp.DESKTOP-34JUDDR.16248.892.sr.lock',\n",
              " 'Idaho.shp.xml',\n",
              " 'Idaho.shx',\n",
              " 'Illinois.cpg',\n",
              " 'Illinois.dbf',\n",
              " 'Illinois.prj',\n",
              " 'Illinois.sbn',\n",
              " 'Illinois.sbx',\n",
              " 'Illinois.shp',\n",
              " 'Illinois.shp.DESKTOP-34JUDDR.16248.892.sr.lock',\n",
              " 'Illinois.shp.xml',\n",
              " 'Illinois.shx',\n",
              " 'Indiana.cpg',\n",
              " 'Indiana.dbf',\n",
              " 'Indiana.prj',\n",
              " 'Indiana.sbn',\n",
              " 'Indiana.sbx',\n",
              " 'Indiana.shp',\n",
              " 'Indiana.shp.DESKTOP-34JUDDR.16248.892.sr.lock',\n",
              " 'Indiana.shp.xml',\n",
              " 'Indiana.shx',\n",
              " 'Iowa.cpg',\n",
              " 'Iowa.dbf',\n",
              " 'Iowa.prj',\n",
              " 'Iowa.sbn',\n",
              " 'Iowa.sbx',\n",
              " 'Iowa.shp',\n",
              " 'Iowa.shp.DESKTOP-34JUDDR.16248.892.sr.lock',\n",
              " 'Iowa.shp.xml',\n",
              " 'Iowa.shx',\n",
              " 'Kansas.cpg',\n",
              " 'Kansas.dbf',\n",
              " 'Kansas.prj',\n",
              " 'Kansas.sbn',\n",
              " 'Kansas.sbx',\n",
              " 'Kansas.shp',\n",
              " 'Kansas.shp.DESKTOP-34JUDDR.16248.892.sr.lock',\n",
              " 'Kansas.shp.xml',\n",
              " 'Kansas.shx',\n",
              " 'Kentucky.cpg',\n",
              " 'Kentucky.dbf',\n",
              " 'Kentucky.prj',\n",
              " 'Kentucky.sbn',\n",
              " 'Kentucky.sbx',\n",
              " 'Kentucky.shp',\n",
              " 'Kentucky.shp.DESKTOP-34JUDDR.16248.892.sr.lock',\n",
              " 'Kentucky.shp.xml',\n",
              " 'Kentucky.shx',\n",
              " 'Louisiana.cpg',\n",
              " 'Louisiana.dbf',\n",
              " 'Louisiana.prj',\n",
              " 'Louisiana.sbn',\n",
              " 'Louisiana.sbx',\n",
              " 'Louisiana.shp',\n",
              " 'Louisiana.shp.DESKTOP-34JUDDR.16248.892.sr.lock',\n",
              " 'Louisiana.shp.xml',\n",
              " 'Louisiana.shx',\n",
              " 'Maine.cpg',\n",
              " 'Maine.dbf',\n",
              " 'Maine.prj',\n",
              " 'Maine.sbn',\n",
              " 'Maine.sbx',\n",
              " 'Maine.shp',\n",
              " 'Maine.shp.DESKTOP-34JUDDR.16248.892.sr.lock',\n",
              " 'Maine.shp.xml',\n",
              " 'Maine.shx',\n",
              " 'Maryland.cpg',\n",
              " 'Maryland.dbf',\n",
              " 'Maryland.prj',\n",
              " 'Maryland.sbn',\n",
              " 'Maryland.sbx',\n",
              " 'Maryland.shp',\n",
              " 'Maryland.shp.DESKTOP-34JUDDR.16248.892.sr.lock',\n",
              " 'Maryland.shp.xml',\n",
              " 'Maryland.shx',\n",
              " 'Massachusetts.cpg',\n",
              " 'Massachusetts.dbf',\n",
              " 'Massachusetts.prj',\n",
              " 'Massachusetts.sbn',\n",
              " 'Massachusetts.sbx',\n",
              " 'Massachusetts.shp',\n",
              " 'Massachusetts.shp.DESKTOP-34JUDDR.16248.892.sr.lock',\n",
              " 'Massachusetts.shp.xml',\n",
              " 'Massachusetts.shx',\n",
              " 'Michigan.cpg',\n",
              " 'Michigan.dbf',\n",
              " 'Michigan.prj',\n",
              " 'Michigan.sbn',\n",
              " 'Michigan.sbx',\n",
              " 'Michigan.shp',\n",
              " 'Michigan.shp.DESKTOP-34JUDDR.16248.892.sr.lock',\n",
              " 'Michigan.shp.xml',\n",
              " 'Michigan.shx',\n",
              " 'Minnesota.cpg',\n",
              " 'Minnesota.dbf',\n",
              " 'Minnesota.prj',\n",
              " 'Minnesota.sbn',\n",
              " 'Minnesota.sbx',\n",
              " 'Minnesota.shp',\n",
              " 'Minnesota.shp.DESKTOP-34JUDDR.16248.892.sr.lock',\n",
              " 'Minnesota.shp.xml',\n",
              " 'Minnesota.shx',\n",
              " 'Mississippi.cpg',\n",
              " 'Mississippi.dbf',\n",
              " 'Mississippi.prj',\n",
              " 'Mississippi.sbn',\n",
              " 'Mississippi.sbx',\n",
              " 'Mississippi.shp',\n",
              " 'Mississippi.shp.DESKTOP-34JUDDR.16248.892.sr.lock',\n",
              " 'Mississippi.shp.xml',\n",
              " 'Mississippi.shx',\n",
              " 'Missouri.cpg',\n",
              " 'Missouri.dbf',\n",
              " 'Missouri.prj',\n",
              " 'Missouri.sbn',\n",
              " 'Missouri.sbx',\n",
              " 'Missouri.shp',\n",
              " 'Missouri.shp.DESKTOP-34JUDDR.16248.892.sr.lock',\n",
              " 'Missouri.shp.xml',\n",
              " 'Missouri.shx',\n",
              " 'Montana.cpg',\n",
              " 'Montana.dbf',\n",
              " 'Montana.prj',\n",
              " 'Montana.sbn',\n",
              " 'Montana.sbx',\n",
              " 'Montana.shp',\n",
              " 'Montana.shp.DESKTOP-34JUDDR.16248.892.sr.lock',\n",
              " 'Montana.shp.xml',\n",
              " 'Montana.shx',\n",
              " 'Nebraska.cpg',\n",
              " 'Nebraska.dbf',\n",
              " 'Nebraska.prj',\n",
              " 'Nebraska.sbn',\n",
              " 'Nebraska.sbx',\n",
              " 'Nebraska.shp',\n",
              " 'Nebraska.shp.DESKTOP-34JUDDR.16248.892.sr.lock',\n",
              " 'Nebraska.shp.xml',\n",
              " 'Nebraska.shx',\n",
              " 'Nevada.cpg',\n",
              " 'Nevada.dbf',\n",
              " 'Nevada.prj',\n",
              " 'Nevada.sbn',\n",
              " 'Nevada.sbx',\n",
              " 'Nevada.shp',\n",
              " 'Nevada.shp.DESKTOP-34JUDDR.16248.892.sr.lock',\n",
              " 'Nevada.shp.xml',\n",
              " 'Nevada.shx',\n",
              " 'New_Hampshire.cpg',\n",
              " 'New_Hampshire.dbf',\n",
              " 'New_Hampshire.prj',\n",
              " 'New_Hampshire.sbn',\n",
              " 'New_Hampshire.sbx',\n",
              " 'New_Hampshire.shp',\n",
              " 'New_Hampshire.shp.DESKTOP-34JUDDR.16248.892.sr.lock',\n",
              " 'New_Hampshire.shp.xml',\n",
              " 'New_Hampshire.shx',\n",
              " 'New_Jersey.cpg',\n",
              " 'New_Jersey.dbf',\n",
              " 'New_Jersey.prj',\n",
              " 'New_Jersey.sbn',\n",
              " 'New_Jersey.sbx',\n",
              " 'New_Jersey.shp',\n",
              " 'New_Jersey.shp.DESKTOP-34JUDDR.16248.892.sr.lock',\n",
              " 'New_Jersey.shp.xml',\n",
              " 'New_Jersey.shx',\n",
              " 'New_Mexico.cpg',\n",
              " 'New_Mexico.dbf',\n",
              " 'New_Mexico.prj',\n",
              " 'New_Mexico.sbn',\n",
              " 'New_Mexico.sbx',\n",
              " 'New_Mexico.shp',\n",
              " 'New_Mexico.shp.DESKTOP-34JUDDR.16248.892.sr.lock',\n",
              " 'New_Mexico.shp.xml',\n",
              " 'New_Mexico.shx',\n",
              " 'New_York.cpg',\n",
              " 'New_York.dbf',\n",
              " 'New_York.prj',\n",
              " 'New_York.sbn',\n",
              " 'New_York.sbx',\n",
              " 'New_York.shp',\n",
              " 'New_York.shp.DESKTOP-34JUDDR.16248.892.sr.lock',\n",
              " 'New_York.shp.xml',\n",
              " 'New_York.shx',\n",
              " 'North_Carolina.cpg',\n",
              " 'North_Carolina.dbf',\n",
              " 'North_Carolina.prj',\n",
              " 'North_Carolina.sbn',\n",
              " 'North_Carolina.sbx',\n",
              " 'North_Carolina.shp',\n",
              " 'North_Carolina.shp.DESKTOP-34JUDDR.16248.892.sr.lock',\n",
              " 'North_Carolina.shp.xml',\n",
              " 'North_Carolina.shx',\n",
              " 'North_Dakota.cpg',\n",
              " 'North_Dakota.dbf',\n",
              " 'North_Dakota.prj',\n",
              " 'North_Dakota.sbn',\n",
              " 'North_Dakota.sbx',\n",
              " 'North_Dakota.shp',\n",
              " 'North_Dakota.shp.DESKTOP-34JUDDR.16248.892.sr.lock',\n",
              " 'North_Dakota.shp.xml',\n",
              " 'North_Dakota.shx',\n",
              " 'Ohio.cpg',\n",
              " 'Ohio.dbf']"
            ]
          },
          "metadata": {},
          "execution_count": 23
        }
      ]
    },
    {
      "cell_type": "code",
      "metadata": {
        "id": "EVZGqtfkQGeL"
      },
      "source": [
        "shape_files = []\n",
        "for i in content_list:\n",
        "  split = i.split(\".\")\n",
        "  if split[1] == 'shp' and len(split) == 2:\n",
        "    shape_files.append(i)"
      ],
      "execution_count": 17,
      "outputs": []
    },
    {
      "cell_type": "code",
      "metadata": {
        "colab": {
          "base_uri": "https://localhost:8080/"
        },
        "id": "9N4rXFg-QtLN",
        "outputId": "e14680dc-949f-4430-afeb-21c61154357a"
      },
      "source": [
        "len(shape_files)\n"
      ],
      "execution_count": 18,
      "outputs": [
        {
          "output_type": "execute_result",
          "data": {
            "text/plain": [
              "33"
            ]
          },
          "metadata": {},
          "execution_count": 18
        }
      ]
    },
    {
      "cell_type": "code",
      "metadata": {
        "colab": {
          "base_uri": "https://localhost:8080/"
        },
        "id": "DdyHLjBcQ2G0",
        "outputId": "9f544d8c-64f4-4e58-d079-ab02da4ba502"
      },
      "source": [
        "shape_files"
      ],
      "execution_count": 20,
      "outputs": [
        {
          "output_type": "execute_result",
          "data": {
            "text/plain": [
              "['Alabama.shp',\n",
              " 'Arizona.shp',\n",
              " 'Arkansas.shp',\n",
              " 'California.shp',\n",
              " 'Colorado.shp',\n",
              " 'Connecticut.shp',\n",
              " 'Delaware.shp',\n",
              " 'District_of_Columbia.shp',\n",
              " 'Florida.shp',\n",
              " 'Georgia.shp',\n",
              " 'Idaho.shp',\n",
              " 'Illinois.shp',\n",
              " 'Indiana.shp',\n",
              " 'Iowa.shp',\n",
              " 'Kansas.shp',\n",
              " 'Kentucky.shp',\n",
              " 'Louisiana.shp',\n",
              " 'Maine.shp',\n",
              " 'Maryland.shp',\n",
              " 'Massachusetts.shp',\n",
              " 'Michigan.shp',\n",
              " 'Minnesota.shp',\n",
              " 'Mississippi.shp',\n",
              " 'Missouri.shp',\n",
              " 'Montana.shp',\n",
              " 'Nebraska.shp',\n",
              " 'Nevada.shp',\n",
              " 'New_Hampshire.shp',\n",
              " 'New_Jersey.shp',\n",
              " 'New_Mexico.shp',\n",
              " 'New_York.shp',\n",
              " 'North_Carolina.shp',\n",
              " 'North_Dakota.shp']"
            ]
          },
          "metadata": {},
          "execution_count": 20
        }
      ]
    },
    {
      "cell_type": "code",
      "metadata": {
        "id": "fn5d-wpHQ9pt"
      },
      "source": [
        "shape_files.sort()"
      ],
      "execution_count": 19,
      "outputs": []
    },
    {
      "cell_type": "code",
      "metadata": {
        "id": "L8GQySVyRJqA"
      },
      "source": [
        "shape_files\n",
        "import os\n",
        "content_list = os.listdir(shp_path)"
      ],
      "execution_count": null,
      "outputs": []
    },
    {
      "cell_type": "code",
      "metadata": {
        "id": "fMlplZBaTTCd"
      },
      "source": [
        "import os\n",
        "content_list = os.listdir(shp_path)"
      ],
      "execution_count": null,
      "outputs": []
    },
    {
      "cell_type": "code",
      "metadata": {
        "id": "ByvtuwDuV4ZI"
      },
      "source": [
        ""
      ],
      "execution_count": null,
      "outputs": []
    },
    {
      "cell_type": "code",
      "metadata": {
        "colab": {
          "base_uri": "https://localhost:8080/"
        },
        "id": "4e2FQOMmC70C",
        "outputId": "ae3368e9-1448-4149-ab57-64f19678eb64"
      },
      "source": [
        "\n",
        "import geopandas as gpd\n",
        "import os\n",
        "import pandas as pd\n",
        "import numpy as np \n",
        "\n",
        "shape_files = []\n",
        "data_frames_list = []\n",
        "data_frames_shape_list = []\n",
        "data_frames_rows_list = []\n",
        "data_frames_cols_list = []\n",
        "root_path = '/content/drive/My Drive/Bridge_Project/Alabama/'\n",
        "\n",
        "content_list = os.listdir(root_path)\n",
        "print(\"content_list = \",len(content_list))\n",
        "\n",
        "\n",
        "\n",
        "for i in content_list:\n",
        "  split = i.split(\".\")\n",
        "  if split[1] == 'shp' and len(split) == 2:\n",
        "    shape_files.append(i)\n",
        "\n",
        "shape_files.sort()\n",
        "print(\"shape_files = \",len(shape_files))\n",
        "\n",
        "for i in shape_files:\n",
        "  shp_file_path = root_path + i\n",
        "  print(shp_file_path)\n",
        "  df = gpd.read_file(shp_file_path)\n",
        "  data_frames_list.append(df)\n",
        "  data_frames_shape_list.append(df.shape)\n",
        "  data_frames_rows_list.append(df.shape[0])\n",
        "  data_frames_cols_list.append(df.shape[1])\n",
        "\n",
        "if np.unique(data_frames_cols_list) != 138:\n",
        "  print(\"columns are not the same for all states\")\n",
        "\n",
        "ConterminousUS = pd.concat(data_frames_list)\n",
        "\n"
      ],
      "execution_count": 84,
      "outputs": [
        {
          "output_type": "stream",
          "text": [
            "content_list =  18\n",
            "shape_files =  2\n",
            "/content/drive/My Drive/Bridge_Project/Alabama/Alabama.shp\n",
            "/content/drive/My Drive/Bridge_Project/Alabama/Arizona.shp\n"
          ],
          "name": "stdout"
        }
      ]
    },
    {
      "cell_type": "code",
      "metadata": {
        "id": "ym65fdGnpTn1"
      },
      "source": [
        "all_cols = ConterminousUS.columns"
      ],
      "execution_count": 85,
      "outputs": []
    },
    {
      "cell_type": "code",
      "metadata": {
        "id": "HQpdvBaGS4dV"
      },
      "source": [
        "\n",
        "Initial_Col_Name_list = ['YEAR_B', 'STRUCTUR_4', 'DECK_W', 'DEGRE', 'MAIN_', 'MAX_S', 'STRUCTURE_2', 'DECK_S', 'SURFA', 'DECK_P', 'ADT_0', 'PERCE', 'YEAR_R', 'Shape *', 'STATE', 'STRUCTRE_', 'lattd', 'lngtd', 'DECK_C', 'SUPER', 'SUBST', 'Frequency_', 'Max_Quake', 'DT00', 'DX32', 'DX70', 'DX90', 'AWND', 'WSF5', 'PRECIPITAT', 'TEMP_MAX', 'TEMP_MEAN', 'TEMP_MIN']"
      ],
      "execution_count": 86,
      "outputs": []
    },
    {
      "cell_type": "code",
      "metadata": {
        "colab": {
          "base_uri": "https://localhost:8080/"
        },
        "id": "NW1zODktr9DD",
        "outputId": "478bbcd0-752b-4806-f74f-ff0ee76b8daa"
      },
      "source": [
        "len(Initial_Col_Name_list)"
      ],
      "execution_count": 87,
      "outputs": [
        {
          "output_type": "execute_result",
          "data": {
            "text/plain": [
              "33"
            ]
          },
          "metadata": {},
          "execution_count": 87
        }
      ]
    },
    {
      "cell_type": "code",
      "metadata": {
        "id": "GTwDVI1TqlVu"
      },
      "source": [
        "attributes = []\n",
        "for att in all_cols:\n",
        "  if att not in Initial_Col_Name_list:\n",
        "    del ConterminousUS[att]\n",
        "    #print(\"not same\")\n",
        "  else:\n",
        "    #print(\"same\")\n",
        "    attributes.append(att)\n",
        "\n",
        "print(ConterminousUS.shape)\n",
        "#attributes to the file"
      ],
      "execution_count": null,
      "outputs": []
    },
    {
      "cell_type": "code",
      "metadata": {
        "colab": {
          "base_uri": "https://localhost:8080/"
        },
        "id": "hSp_iR_muXZN",
        "outputId": "f8d07025-9ec1-4bb9-d39c-9e6c2e072294"
      },
      "source": [
        ""
      ],
      "execution_count": 92,
      "outputs": [
        {
          "output_type": "execute_result",
          "data": {
            "text/plain": [
              "105"
            ]
          },
          "metadata": {},
          "execution_count": 92
        }
      ]
    },
    {
      "cell_type": "code",
      "metadata": {
        "colab": {
          "base_uri": "https://localhost:8080/"
        },
        "id": "Ea8XNdQhrOSn",
        "outputId": "1e6565c6-08e0-417b-f9ed-8f6f8052d5ad"
      },
      "source": [
        "for i in Initial_Col_Name_list:\n",
        "  if i not in all_cols:\n",
        "    print(i)"
      ],
      "execution_count": 89,
      "outputs": [
        {
          "output_type": "stream",
          "text": [
            "STRUCTURE_2\n",
            "Shape *\n",
            "STRUCTRE_\n",
            "Frequency_\n",
            "Max_Quake\n"
          ],
          "name": "stdout"
        }
      ]
    },
    {
      "cell_type": "code",
      "metadata": {
        "id": "YYmuwFyLsQGg"
      },
      "source": [
        "for i in all_cols:\n",
        "  if i == 'Max_Quake':\n",
        "    print(\"der\")"
      ],
      "execution_count": 95,
      "outputs": []
    },
    {
      "cell_type": "code",
      "metadata": {
        "colab": {
          "base_uri": "https://localhost:8080/"
        },
        "id": "gNByKgpys_A6",
        "outputId": "179f4ede-14c8-4f9e-866d-adaf08b9ab9c"
      },
      "source": [
        "all_cols.sort_values"
      ],
      "execution_count": 90,
      "outputs": [
        {
          "output_type": "execute_result",
          "data": {
            "text/plain": [
              "<bound method Index.sort_values of Index(['STATE', 'STRUCTURE_', 'RECOR', 'ROUTE_P', 'SERVICE_L', 'ROUTE_N',\n",
              "       'DIREC', 'HIGHWAY_D', 'COUNT', 'PLACE',\n",
              "       ...\n",
              "       'DX32', 'DX70', 'DX90', 'AWND', 'WSF5', 'PRECIPITAT', 'TEMP_MAX',\n",
              "       'TEMP_MEAN', 'TEMP_MIN', 'geometry'],\n",
              "      dtype='object', length=138)>"
            ]
          },
          "metadata": {},
          "execution_count": 90
        }
      ]
    },
    {
      "cell_type": "code",
      "metadata": {
        "id": "9sNECODztJXz"
      },
      "source": [
        "df.rename(columns={'oldName1': 'newName1', 'oldName2': 'newName2'}, inplace=True)"
      ],
      "execution_count": null,
      "outputs": []
    }
  ]
}